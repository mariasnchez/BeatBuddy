{
  "cells": [
    {
      "cell_type": "markdown",
      "id": "47bae2e2-f31c-4877-9a48-e56fff8b41e7",
      "metadata": {
        "id": "47bae2e2-f31c-4877-9a48-e56fff8b41e7"
      },
      "source": [
        "# Reconocimiento de sentimientos por imagen"
      ]
    },
    {
      "cell_type": "markdown",
      "id": "5f0f1dc3-7fb7-4d73-995f-197f8b489186",
      "metadata": {
        "id": "5f0f1dc3-7fb7-4d73-995f-197f8b489186"
      },
      "source": [
        "## Preparación de los datos"
      ]
    },
    {
      "cell_type": "markdown",
      "id": "a1a8c14e-5d22-47c1-b3e5-d5924efe7339",
      "metadata": {
        "id": "a1a8c14e-5d22-47c1-b3e5-d5924efe7339"
      },
      "source": [
        "### Limpieza de datos"
      ]
    },
    {
      "cell_type": "markdown",
      "id": "ef6a20ba-15bb-4654-b22e-78d8aceae8d9",
      "metadata": {
        "id": "ef6a20ba-15bb-4654-b22e-78d8aceae8d9"
      },
      "source": [
        "Borramos la columna 'Usage' ya que no la necesitamos"
      ]
    },
    {
      "cell_type": "code",
      "execution_count": null,
      "id": "55340d58-a423-48f5-94c8-c35311442d85",
      "metadata": {
        "id": "55340d58-a423-48f5-94c8-c35311442d85",
        "outputId": "88c762c6-20b9-40db-ef8b-a2a3ad052625"
      },
      "outputs": [
        {
          "data": {
            "text/html": [
              "<div>\n",
              "<style scoped>\n",
              "    .dataframe tbody tr th:only-of-type {\n",
              "        vertical-align: middle;\n",
              "    }\n",
              "\n",
              "    .dataframe tbody tr th {\n",
              "        vertical-align: top;\n",
              "    }\n",
              "\n",
              "    .dataframe thead th {\n",
              "        text-align: right;\n",
              "    }\n",
              "</style>\n",
              "<table border=\"1\" class=\"dataframe\">\n",
              "  <thead>\n",
              "    <tr style=\"text-align: right;\">\n",
              "      <th></th>\n",
              "      <th>emotion</th>\n",
              "      <th>pixels</th>\n",
              "    </tr>\n",
              "  </thead>\n",
              "  <tbody>\n",
              "    <tr>\n",
              "      <th>0</th>\n",
              "      <td>0</td>\n",
              "      <td>70 80 82 72 58 58 60 63 54 58 60 48 89 115 121...</td>\n",
              "    </tr>\n",
              "    <tr>\n",
              "      <th>1</th>\n",
              "      <td>0</td>\n",
              "      <td>151 150 147 155 148 133 111 140 170 174 182 15...</td>\n",
              "    </tr>\n",
              "    <tr>\n",
              "      <th>2</th>\n",
              "      <td>2</td>\n",
              "      <td>231 212 156 164 174 138 161 173 182 200 106 38...</td>\n",
              "    </tr>\n",
              "    <tr>\n",
              "      <th>3</th>\n",
              "      <td>4</td>\n",
              "      <td>24 32 36 30 32 23 19 20 30 41 21 22 32 34 21 1...</td>\n",
              "    </tr>\n",
              "    <tr>\n",
              "      <th>4</th>\n",
              "      <td>6</td>\n",
              "      <td>4 0 0 0 0 0 0 0 0 0 0 0 3 15 23 28 48 50 58 84...</td>\n",
              "    </tr>\n",
              "    <tr>\n",
              "      <th>...</th>\n",
              "      <td>...</td>\n",
              "      <td>...</td>\n",
              "    </tr>\n",
              "    <tr>\n",
              "      <th>35882</th>\n",
              "      <td>6</td>\n",
              "      <td>50 36 17 22 23 29 33 39 34 37 37 37 39 43 48 5...</td>\n",
              "    </tr>\n",
              "    <tr>\n",
              "      <th>35883</th>\n",
              "      <td>3</td>\n",
              "      <td>178 174 172 173 181 188 191 194 196 199 200 20...</td>\n",
              "    </tr>\n",
              "    <tr>\n",
              "      <th>35884</th>\n",
              "      <td>0</td>\n",
              "      <td>17 17 16 23 28 22 19 17 25 26 20 24 31 19 27 9...</td>\n",
              "    </tr>\n",
              "    <tr>\n",
              "      <th>35885</th>\n",
              "      <td>3</td>\n",
              "      <td>30 28 28 29 31 30 42 68 79 81 77 67 67 71 63 6...</td>\n",
              "    </tr>\n",
              "    <tr>\n",
              "      <th>35886</th>\n",
              "      <td>2</td>\n",
              "      <td>19 13 14 12 13 16 21 33 50 57 71 84 97 108 122...</td>\n",
              "    </tr>\n",
              "  </tbody>\n",
              "</table>\n",
              "<p>35887 rows × 2 columns</p>\n",
              "</div>"
            ],
            "text/plain": [
              "       emotion                                             pixels\n",
              "0            0  70 80 82 72 58 58 60 63 54 58 60 48 89 115 121...\n",
              "1            0  151 150 147 155 148 133 111 140 170 174 182 15...\n",
              "2            2  231 212 156 164 174 138 161 173 182 200 106 38...\n",
              "3            4  24 32 36 30 32 23 19 20 30 41 21 22 32 34 21 1...\n",
              "4            6  4 0 0 0 0 0 0 0 0 0 0 0 3 15 23 28 48 50 58 84...\n",
              "...        ...                                                ...\n",
              "35882        6  50 36 17 22 23 29 33 39 34 37 37 37 39 43 48 5...\n",
              "35883        3  178 174 172 173 181 188 191 194 196 199 200 20...\n",
              "35884        0  17 17 16 23 28 22 19 17 25 26 20 24 31 19 27 9...\n",
              "35885        3  30 28 28 29 31 30 42 68 79 81 77 67 67 71 63 6...\n",
              "35886        2  19 13 14 12 13 16 21 33 50 57 71 84 97 108 122...\n",
              "\n",
              "[35887 rows x 2 columns]"
            ]
          },
          "execution_count": 28,
          "metadata": {},
          "output_type": "execute_result"
        }
      ],
      "source": [
        "facial = facial.drop(columns=['Usage'])\n",
        "facial"
      ]
    },
    {
      "cell_type": "markdown",
      "id": "d8eab3ba-38d3-45d1-8f95-00a779f5aad6",
      "metadata": {
        "id": "d8eab3ba-38d3-45d1-8f95-00a779f5aad6"
      },
      "source": [
        "Elegimos las emociones que queremos usar, en este caso **feliz**, **triste** y **neutral**."
      ]
    },
    {
      "cell_type": "code",
      "execution_count": null,
      "id": "0e738997-c5fa-4db3-892f-5a2747096540",
      "metadata": {
        "id": "0e738997-c5fa-4db3-892f-5a2747096540"
      },
      "outputs": [],
      "source": [
        "final_emotion = [3,4,6]"
      ]
    },
    {
      "cell_type": "code",
      "execution_count": null,
      "id": "1323d0ae-6a1d-45f6-b27d-604dd32429f2",
      "metadata": {
        "id": "1323d0ae-6a1d-45f6-b27d-604dd32429f2",
        "outputId": "8f71e933-ff65-447a-9cdc-b421cbdb6fc0"
      },
      "outputs": [
        {
          "data": {
            "text/plain": [
              "(21264, 2)"
            ]
          },
          "execution_count": 30,
          "metadata": {},
          "output_type": "execute_result"
        }
      ],
      "source": [
        "facial = facial[facial.emotion.isin(final_emotion)]\n",
        "facial.shape"
      ]
    },
    {
      "cell_type": "code",
      "execution_count": null,
      "id": "3e555906-cff4-4d55-aa9b-660333d70f6e",
      "metadata": {
        "id": "3e555906-cff4-4d55-aa9b-660333d70f6e"
      },
      "outputs": [],
      "source": [
        "mapeo = {3: 0, 4: 1, 6: 2}\n",
        "\n",
        "facial.loc[:, 'emotion'] = facial['emotion'].replace(mapeo)"
      ]
    },
    {
      "cell_type": "code",
      "execution_count": null,
      "id": "14336806-897c-4441-8888-81afdab54f7f",
      "metadata": {
        "id": "14336806-897c-4441-8888-81afdab54f7f",
        "outputId": "83894406-be39-489c-f524-bcae18572d55"
      },
      "outputs": [
        {
          "data": {
            "text/html": [
              "<div>\n",
              "<style scoped>\n",
              "    .dataframe tbody tr th:only-of-type {\n",
              "        vertical-align: middle;\n",
              "    }\n",
              "\n",
              "    .dataframe tbody tr th {\n",
              "        vertical-align: top;\n",
              "    }\n",
              "\n",
              "    .dataframe thead th {\n",
              "        text-align: right;\n",
              "    }\n",
              "</style>\n",
              "<table border=\"1\" class=\"dataframe\">\n",
              "  <thead>\n",
              "    <tr style=\"text-align: right;\">\n",
              "      <th></th>\n",
              "      <th>emotion</th>\n",
              "      <th>pixels</th>\n",
              "    </tr>\n",
              "  </thead>\n",
              "  <tbody>\n",
              "    <tr>\n",
              "      <th>3</th>\n",
              "      <td>1</td>\n",
              "      <td>24 32 36 30 32 23 19 20 30 41 21 22 32 34 21 1...</td>\n",
              "    </tr>\n",
              "    <tr>\n",
              "      <th>4</th>\n",
              "      <td>2</td>\n",
              "      <td>4 0 0 0 0 0 0 0 0 0 0 0 3 15 23 28 48 50 58 84...</td>\n",
              "    </tr>\n",
              "    <tr>\n",
              "      <th>6</th>\n",
              "      <td>1</td>\n",
              "      <td>20 17 19 21 25 38 42 42 46 54 56 62 63 66 82 1...</td>\n",
              "    </tr>\n",
              "    <tr>\n",
              "      <th>7</th>\n",
              "      <td>0</td>\n",
              "      <td>77 78 79 79 78 75 60 55 47 48 58 73 77 79 57 5...</td>\n",
              "    </tr>\n",
              "    <tr>\n",
              "      <th>8</th>\n",
              "      <td>0</td>\n",
              "      <td>85 84 90 121 101 102 133 153 153 169 177 189 1...</td>\n",
              "    </tr>\n",
              "    <tr>\n",
              "      <th>...</th>\n",
              "      <td>...</td>\n",
              "      <td>...</td>\n",
              "    </tr>\n",
              "    <tr>\n",
              "      <th>35877</th>\n",
              "      <td>2</td>\n",
              "      <td>139 143 145 154 159 168 176 181 190 191 195 19...</td>\n",
              "    </tr>\n",
              "    <tr>\n",
              "      <th>35878</th>\n",
              "      <td>0</td>\n",
              "      <td>0 39 81 80 104 97 51 64 68 46 41 67 53 68 70 5...</td>\n",
              "    </tr>\n",
              "    <tr>\n",
              "      <th>35882</th>\n",
              "      <td>2</td>\n",
              "      <td>50 36 17 22 23 29 33 39 34 37 37 37 39 43 48 5...</td>\n",
              "    </tr>\n",
              "    <tr>\n",
              "      <th>35883</th>\n",
              "      <td>0</td>\n",
              "      <td>178 174 172 173 181 188 191 194 196 199 200 20...</td>\n",
              "    </tr>\n",
              "    <tr>\n",
              "      <th>35885</th>\n",
              "      <td>0</td>\n",
              "      <td>30 28 28 29 31 30 42 68 79 81 77 67 67 71 63 6...</td>\n",
              "    </tr>\n",
              "  </tbody>\n",
              "</table>\n",
              "<p>21264 rows × 2 columns</p>\n",
              "</div>"
            ],
            "text/plain": [
              "       emotion                                             pixels\n",
              "3            1  24 32 36 30 32 23 19 20 30 41 21 22 32 34 21 1...\n",
              "4            2  4 0 0 0 0 0 0 0 0 0 0 0 3 15 23 28 48 50 58 84...\n",
              "6            1  20 17 19 21 25 38 42 42 46 54 56 62 63 66 82 1...\n",
              "7            0  77 78 79 79 78 75 60 55 47 48 58 73 77 79 57 5...\n",
              "8            0  85 84 90 121 101 102 133 153 153 169 177 189 1...\n",
              "...        ...                                                ...\n",
              "35877        2  139 143 145 154 159 168 176 181 190 191 195 19...\n",
              "35878        0  0 39 81 80 104 97 51 64 68 46 41 67 53 68 70 5...\n",
              "35882        2  50 36 17 22 23 29 33 39 34 37 37 37 39 43 48 5...\n",
              "35883        0  178 174 172 173 181 188 191 194 196 199 200 20...\n",
              "35885        0  30 28 28 29 31 30 42 68 79 81 77 67 67 71 63 6...\n",
              "\n",
              "[21264 rows x 2 columns]"
            ]
          },
          "execution_count": 32,
          "metadata": {},
          "output_type": "execute_result"
        }
      ],
      "source": [
        "facial"
      ]
    },
    {
      "cell_type": "code",
      "execution_count": null,
      "id": "fb114981-917d-4889-bfc5-e00d8e74deea",
      "metadata": {
        "id": "fb114981-917d-4889-bfc5-e00d8e74deea",
        "outputId": "62faa217-2042-46dc-fdb4-aa0709c27cb3"
      },
      "outputs": [
        {
          "data": {
            "text/plain": [
              "emotion\n",
              "0    8989\n",
              "2    6198\n",
              "1    6077\n",
              "Name: count, dtype: int64"
            ]
          },
          "execution_count": 33,
          "metadata": {},
          "output_type": "execute_result"
        }
      ],
      "source": [
        "facial['emotion'].value_counts()"
      ]
    },
    {
      "cell_type": "markdown",
      "id": "40a951d1-578b-4124-a4d8-01058b9b6976",
      "metadata": {
        "id": "40a951d1-578b-4124-a4d8-01058b9b6976"
      },
      "source": [
        "### Elimincación duplicados"
      ]
    },
    {
      "cell_type": "markdown",
      "id": "51a5a5a6-b176-4ae2-954b-13b1be083bba",
      "metadata": {
        "id": "51a5a5a6-b176-4ae2-954b-13b1be083bba"
      },
      "source": [
        "Vemos cuantas imágenes duplicadas hay"
      ]
    },
    {
      "cell_type": "code",
      "execution_count": null,
      "id": "d02422b8-5b09-4908-b3c8-8c09a1767ca1",
      "metadata": {
        "id": "d02422b8-5b09-4908-b3c8-8c09a1767ca1",
        "outputId": "8740f907-8498-4b2e-fc86-41a40259418f"
      },
      "outputs": [
        {
          "name": "stdout",
          "output_type": "stream",
          "text": [
            "Filas duplicadas en 'pixels':\n",
            "emotion    926\n",
            "pixels     926\n",
            "dtype: int64\n"
          ]
        }
      ],
      "source": [
        "duplicadas = facial[facial.duplicated(subset='pixels', keep=False)].count()\n",
        "print(\"Filas duplicadas en 'pixels':\")\n",
        "print(duplicadas)"
      ]
    },
    {
      "cell_type": "code",
      "execution_count": null,
      "id": "7e5e031e-fa56-413e-9db6-2154fa4229c1",
      "metadata": {
        "id": "7e5e031e-fa56-413e-9db6-2154fa4229c1",
        "outputId": "428e7640-18df-48a5-92b1-c80a46a94d84"
      },
      "outputs": [
        {
          "data": {
            "text/html": [
              "<div>\n",
              "<style scoped>\n",
              "    .dataframe tbody tr th:only-of-type {\n",
              "        vertical-align: middle;\n",
              "    }\n",
              "\n",
              "    .dataframe tbody tr th {\n",
              "        vertical-align: top;\n",
              "    }\n",
              "\n",
              "    .dataframe thead th {\n",
              "        text-align: right;\n",
              "    }\n",
              "</style>\n",
              "<table border=\"1\" class=\"dataframe\">\n",
              "  <thead>\n",
              "    <tr style=\"text-align: right;\">\n",
              "      <th></th>\n",
              "      <th>emotion</th>\n",
              "      <th>pixels</th>\n",
              "    </tr>\n",
              "  </thead>\n",
              "  <tbody>\n",
              "    <tr>\n",
              "      <th>3</th>\n",
              "      <td>1</td>\n",
              "      <td>24 32 36 30 32 23 19 20 30 41 21 22 32 34 21 1...</td>\n",
              "    </tr>\n",
              "    <tr>\n",
              "      <th>4</th>\n",
              "      <td>2</td>\n",
              "      <td>4 0 0 0 0 0 0 0 0 0 0 0 3 15 23 28 48 50 58 84...</td>\n",
              "    </tr>\n",
              "    <tr>\n",
              "      <th>6</th>\n",
              "      <td>1</td>\n",
              "      <td>20 17 19 21 25 38 42 42 46 54 56 62 63 66 82 1...</td>\n",
              "    </tr>\n",
              "    <tr>\n",
              "      <th>7</th>\n",
              "      <td>0</td>\n",
              "      <td>77 78 79 79 78 75 60 55 47 48 58 73 77 79 57 5...</td>\n",
              "    </tr>\n",
              "    <tr>\n",
              "      <th>8</th>\n",
              "      <td>0</td>\n",
              "      <td>85 84 90 121 101 102 133 153 153 169 177 189 1...</td>\n",
              "    </tr>\n",
              "    <tr>\n",
              "      <th>...</th>\n",
              "      <td>...</td>\n",
              "      <td>...</td>\n",
              "    </tr>\n",
              "    <tr>\n",
              "      <th>35877</th>\n",
              "      <td>2</td>\n",
              "      <td>139 143 145 154 159 168 176 181 190 191 195 19...</td>\n",
              "    </tr>\n",
              "    <tr>\n",
              "      <th>35878</th>\n",
              "      <td>0</td>\n",
              "      <td>0 39 81 80 104 97 51 64 68 46 41 67 53 68 70 5...</td>\n",
              "    </tr>\n",
              "    <tr>\n",
              "      <th>35882</th>\n",
              "      <td>2</td>\n",
              "      <td>50 36 17 22 23 29 33 39 34 37 37 37 39 43 48 5...</td>\n",
              "    </tr>\n",
              "    <tr>\n",
              "      <th>35883</th>\n",
              "      <td>0</td>\n",
              "      <td>178 174 172 173 181 188 191 194 196 199 200 20...</td>\n",
              "    </tr>\n",
              "    <tr>\n",
              "      <th>35885</th>\n",
              "      <td>0</td>\n",
              "      <td>30 28 28 29 31 30 42 68 79 81 77 67 67 71 63 6...</td>\n",
              "    </tr>\n",
              "  </tbody>\n",
              "</table>\n",
              "<p>20785 rows × 2 columns</p>\n",
              "</div>"
            ],
            "text/plain": [
              "       emotion                                             pixels\n",
              "3            1  24 32 36 30 32 23 19 20 30 41 21 22 32 34 21 1...\n",
              "4            2  4 0 0 0 0 0 0 0 0 0 0 0 3 15 23 28 48 50 58 84...\n",
              "6            1  20 17 19 21 25 38 42 42 46 54 56 62 63 66 82 1...\n",
              "7            0  77 78 79 79 78 75 60 55 47 48 58 73 77 79 57 5...\n",
              "8            0  85 84 90 121 101 102 133 153 153 169 177 189 1...\n",
              "...        ...                                                ...\n",
              "35877        2  139 143 145 154 159 168 176 181 190 191 195 19...\n",
              "35878        0  0 39 81 80 104 97 51 64 68 46 41 67 53 68 70 5...\n",
              "35882        2  50 36 17 22 23 29 33 39 34 37 37 37 39 43 48 5...\n",
              "35883        0  178 174 172 173 181 188 191 194 196 199 200 20...\n",
              "35885        0  30 28 28 29 31 30 42 68 79 81 77 67 67 71 63 6...\n",
              "\n",
              "[20785 rows x 2 columns]"
            ]
          },
          "execution_count": 35,
          "metadata": {},
          "output_type": "execute_result"
        }
      ],
      "source": [
        "facial = facial.drop_duplicates(subset=['pixels'], keep='first')\n",
        "facial"
      ]
    },
    {
      "cell_type": "code",
      "execution_count": null,
      "id": "14061627-dafd-4f23-b19e-fcb6bdc27032",
      "metadata": {
        "id": "14061627-dafd-4f23-b19e-fcb6bdc27032",
        "outputId": "2cecf244-76a9-46a4-cd02-32814d7117a1"
      },
      "outputs": [
        {
          "data": {
            "image/png": "[encoded data removed]",
            "text/plain": [
              "<Figure size 640x480 with 1 Axes>"
            ]
          },
          "metadata": {},
          "output_type": "display_data"
        }
      ],
      "source": [
        "sns.countplot(x='emotion', data=facial)\n",
        "plt.title('Distribución de emociones después de tratamiento')\n",
        "plt.xlabel('(0: feliz, 1: triste, 2: neutral)')\n",
        "plt.show()"
      ]
    },
    {
      "cell_type": "markdown",
      "id": "e084bbe3-65f6-4ba6-b875-ab7d6cf501ab",
      "metadata": {
        "id": "e084bbe3-65f6-4ba6-b875-ab7d6cf501ab"
      },
      "source": [
        "### Transformar datos"
      ]
    },
    {
      "cell_type": "markdown",
      "id": "7eed6d54-e3b0-4f68-b766-64f55dee06fc",
      "metadata": {
        "id": "7eed6d54-e3b0-4f68-b766-64f55dee06fc"
      },
      "source": [
        "Definimos las funciones para transformar las emociones y las imágenes en array"
      ]
    },
    {
      "cell_type": "code",
      "execution_count": null,
      "id": "9c4bd97d-f77b-4cac-b28e-959e1e318f5a",
      "metadata": {
        "id": "9c4bd97d-f77b-4cac-b28e-959e1e318f5a"
      },
      "outputs": [],
      "source": [
        "def transform(n):\n",
        "    arr = [0] * 3\n",
        "    if n == 0:\n",
        "        arr[0] = 1\n",
        "    else:\n",
        "        arr[n] = 1\n",
        "    return np.array(arr)"
      ]
    },
    {
      "cell_type": "code",
      "execution_count": null,
      "id": "3510ce2f-015d-4fa7-aeaf-9885268735af",
      "metadata": {
        "id": "3510ce2f-015d-4fa7-aeaf-9885268735af"
      },
      "outputs": [],
      "source": [
        "def procImg(s):\n",
        "    s=np.array([int(i) for i in s.split()]).reshape(48,48,1)\n",
        "    return s"
      ]
    },
    {
      "cell_type": "markdown",
      "id": "e322e694-5660-4b30-946c-78efdf0816b3",
      "metadata": {
        "id": "e322e694-5660-4b30-946c-78efdf0816b3"
      },
      "source": [
        "### Separamos la **y** y la **X**"
      ]
    },
    {
      "cell_type": "code",
      "execution_count": null,
      "id": "9b0e874f-74bd-46f0-91f9-e1acf65474d5",
      "metadata": {
        "id": "9b0e874f-74bd-46f0-91f9-e1acf65474d5"
      },
      "outputs": [],
      "source": [
        "y = facial.iloc[:, 0].values\n",
        "y = np.array([transform(i) for i in y])"
      ]
    },
    {
      "cell_type": "code",
      "execution_count": null,
      "id": "a95d68ea-61f8-4450-a05c-d783e44eec8c",
      "metadata": {
        "id": "a95d68ea-61f8-4450-a05c-d783e44eec8c"
      },
      "outputs": [],
      "source": [
        "X=np.array([procImg(i) for i in facial.iloc[:,1].values])"
      ]
    },
    {
      "cell_type": "code",
      "execution_count": null,
      "id": "90768fde-1a3f-4eb4-8cda-af5ba19632a9",
      "metadata": {
        "id": "90768fde-1a3f-4eb4-8cda-af5ba19632a9",
        "outputId": "80947be4-53f2-458e-9b07-ed8d914f5b0c"
      },
      "outputs": [
        {
          "data": {
            "image/png": "[encoded data removed]",
            "text/plain": [
              "<Figure size 640x480 with 1 Axes>"
            ]
          },
          "metadata": {},
          "output_type": "display_data"
        }
      ],
      "source": [
        "plt.imshow(X[1], cmap=\"gray\")\n",
        "plt.show()"
      ]
    },
    {
      "cell_type": "markdown",
      "id": "f7e23d8d-21d6-4d90-b4fd-b43201ef996f",
      "metadata": {
        "id": "f7e23d8d-21d6-4d90-b4fd-b43201ef996f"
      },
      "source": [
        "Imagen en la posición 1"
      ]
    },
    {
      "cell_type": "markdown",
      "id": "aca060f5-a26c-4aef-bc29-24d1a8b86fe6",
      "metadata": {
        "id": "aca060f5-a26c-4aef-bc29-24d1a8b86fe6"
      },
      "source": [
        "### Redimensionar imágenes"
      ]
    },
    {
      "cell_type": "code",
      "execution_count": null,
      "id": "25826b74-d864-46ee-a48f-03c4b2c8ea65",
      "metadata": {
        "id": "25826b74-d864-46ee-a48f-03c4b2c8ea65"
      },
      "outputs": [],
      "source": [
        "n=X.shape[0]\n",
        "frac=int(n*0.8)\n",
        "y.reshape((n,3,1))\n",
        "x_train,x_test=X[:frac],X[frac:]\n",
        "y_train,y_test=y[:frac],y[frac:]"
      ]
    },
    {
      "cell_type": "markdown",
      "id": "176ac291-223f-4bba-91b5-f68d3221fd5c",
      "metadata": {
        "id": "176ac291-223f-4bba-91b5-f68d3221fd5c"
      },
      "source": [
        "### Etiquetado imágenes"
      ]
    },
    {
      "cell_type": "code",
      "execution_count": null,
      "id": "d285475a-d64f-475b-a70f-2100d9efbc78",
      "metadata": {
        "id": "d285475a-d64f-475b-a70f-2100d9efbc78"
      },
      "outputs": [],
      "source": [
        "def emocion1(n):\n",
        "    if n == 0:\n",
        "        emocion1 = 'happiness'\n",
        "    elif n == 1:\n",
        "        emocion1 = 'sadness'\n",
        "    elif n == 2:\n",
        "        emocion1 = 'neutral'\n",
        "    return emocion1"
      ]
    }
  ],
  "metadata": {
    "kernelspec": {
      "display_name": "Python 3 (ipykernel)",
      "language": "python",
      "name": "python3"
    },
    "language_info": {
      "codemirror_mode": {
        "name": "ipython",
        "version": 3
      },
      "file_extension": ".py",
      "mimetype": "text/x-python",
      "name": "python",
      "nbconvert_exporter": "python",
      "pygments_lexer": "ipython3",
      "version": "3.9.18"
    },
    "colab": {
      "provenance": []
    }
  },
  "nbformat": 4,
  "nbformat_minor": 5
}