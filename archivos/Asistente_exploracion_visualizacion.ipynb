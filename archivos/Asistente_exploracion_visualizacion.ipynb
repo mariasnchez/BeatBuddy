{
  "cells": [
    {
      "cell_type": "markdown",
      "metadata": {
        "cell_id": "c0ed4924837840c3bc727030f9170ac9",
        "deepnote_cell_type": "markdown",
        "id": "WcF1npFMaGNI"
      },
      "source": [
        "# Asistente musical\n",
        "## Exploración y visualización de datos\n",
        "### Extracción de Datos con Spotipy"
      ]
    },
    {
      "cell_type": "markdown",
      "metadata": {
        "cell_id": "54be819600f643a08fc13f32b6ed543f",
        "deepnote_cell_type": "markdown",
        "id": "1aEG7AmraGNJ"
      },
      "source": [
        "Instalamos los paquetes"
      ]
    },
    {
      "cell_type": "code",
      "execution_count": null,
      "metadata": {
        "cell_id": "c923df70c21949b488d5439ed4c98466",
        "deepnote_cell_type": "code",
        "deepnote_to_be_reexecuted": false,
        "execution_millis": 3605,
        "execution_start": 1708275129983,
        "id": "tZOpG19_aGNJ",
        "outputId": "f44afa97-5739-403f-d104-09486e96af64",
        "source_hash": null
      },
      "outputs": [
        {
          "name": "stdout",
          "output_type": "stream",
          "text": [
            "Collecting spotipy\n",
            "  Downloading spotipy-2.23.0-py3-none-any.whl (29 kB)\n",
            "Collecting redis>=3.5.3 (from spotipy)\n",
            "  Downloading redis-5.0.1-py3-none-any.whl (250 kB)\n",
            "\u001b[2K     \u001b[90m━━━━━━━━━━━━━━━━━━━━━━━━━━━━━━━━━━━━━━\u001b[0m \u001b[32m250.3/250.3 kB\u001b[0m \u001b[31m32.1 MB/s\u001b[0m eta \u001b[36m0:00:00\u001b[0m\n",
            "\u001b[?25hRequirement already satisfied: requests>=2.25.0 in /shared-libs/python3.11/py/lib/python3.11/site-packages (from spotipy) (2.31.0)\n",
            "Requirement already satisfied: six>=1.15.0 in /shared-libs/python3.11/py-core/lib/python3.11/site-packages (from spotipy) (1.16.0)\n",
            "Requirement already satisfied: urllib3>=1.26.0 in /shared-libs/python3.11/py/lib/python3.11/site-packages (from spotipy) (1.26.18)\n",
            "Requirement already satisfied: charset-normalizer<4,>=2 in /shared-libs/python3.11/py/lib/python3.11/site-packages (from requests>=2.25.0->spotipy) (3.3.0)\n",
            "Requirement already satisfied: idna<4,>=2.5 in /shared-libs/python3.11/py-core/lib/python3.11/site-packages (from requests>=2.25.0->spotipy) (3.4)\n",
            "Requirement already satisfied: certifi>=2017.4.17 in /shared-libs/python3.11/py/lib/python3.11/site-packages (from requests>=2.25.0->spotipy) (2023.7.22)\n",
            "Installing collected packages: redis, spotipy\n",
            "Successfully installed redis-5.0.1 spotipy-2.23.0\n",
            "\n",
            "\u001b[1m[\u001b[0m\u001b[34;49mnotice\u001b[0m\u001b[1;39;49m]\u001b[0m\u001b[39;49m A new release of pip is available: \u001b[0m\u001b[31;49m23.1.2\u001b[0m\u001b[39;49m -> \u001b[0m\u001b[32;49m24.0\u001b[0m\n",
            "\u001b[1m[\u001b[0m\u001b[34;49mnotice\u001b[0m\u001b[1;39;49m]\u001b[0m\u001b[39;49m To update, run: \u001b[0m\u001b[32;49mpip install --upgrade pip\u001b[0m\n"
          ]
        }
      ],
      "source": [
        "!pip install spotipy\n",
        "import spotipy\n",
        "from spotipy.oauth2 import SpotifyClientCredentials\n",
        "import json"
      ]
    },
    {
      "cell_type": "code",
      "execution_count": null,
      "metadata": {
        "cell_id": "bcd22acc9e954583903e68d4876c32fa",
        "deepnote_cell_type": "code",
        "deepnote_to_be_reexecuted": false,
        "execution_millis": 421,
        "execution_start": 1708275133599,
        "id": "7M_Q1R9vaGNK",
        "source_hash": null
      },
      "outputs": [],
      "source": [
        "import pandas as pd\n",
        "import numpy as np"
      ]
    },
    {
      "cell_type": "code",
      "execution_count": null,
      "metadata": {
        "cell_id": "4ec7d8442fb74d29ab9c6b326dba9f0c",
        "deepnote_cell_type": "code",
        "deepnote_to_be_reexecuted": false,
        "execution_millis": 384,
        "execution_start": 1708275133637,
        "id": "ojatkiBGaGNL",
        "outputId": "3d7965c3-8269-44e7-803f-493946f700e4",
        "source_hash": null
      },
      "outputs": [
        {
          "data": {
            "application/vnd.deepnote.dataframe.v3+json": {
              "column_count": 21,
              "columns": [
                {
                  "dtype": "int64",
                  "name": "Unnamed: 0",
                  "stats": {
                    "histogram": [
                      {
                        "bin_end": 112,
                        "bin_start": 0,
                        "count": 112
                      },
                      {
                        "bin_end": 224,
                        "bin_start": 112,
                        "count": 112
                      },
                      {
                        "bin_end": 336,
                        "bin_start": 224,
                        "count": 112
                      },
                      {
                        "bin_end": 448,
                        "bin_start": 336,
                        "count": 112
                      },
                      {
                        "bin_end": 560,
                        "bin_start": 448,
                        "count": 112
                      },
                      {
                        "bin_end": 672,
                        "bin_start": 560,
                        "count": 112
                      },
                      {
                        "bin_end": 784,
                        "bin_start": 672,
                        "count": 112
                      },
                      {
                        "bin_end": 896,
                        "bin_start": 784,
                        "count": 112
                      },
                      {
                        "bin_end": 1008,
                        "bin_start": 896,
                        "count": 112
                      },
                      {
                        "bin_end": 1120,
                        "bin_start": 1008,
                        "count": 113
                      }
                    ],
                    "max": "1120",
                    "min": "0",
                    "nan_count": 0,
                    "unique_count": 1121
                  }
                },
                {
                  "dtype": "float64",
                  "name": "danceability",
                  "stats": {
                    "histogram": [
                      {
                        "bin_end": 0.2529,
                        "bin_start": 0.175,
                        "count": 15
                      },
                      {
                        "bin_end": 0.3308,
                        "bin_start": 0.2529,
                        "count": 34
                      },
                      {
                        "bin_end": 0.40869999999999995,
                        "bin_start": 0.3308,
                        "count": 84
                      },
                      {
                        "bin_end": 0.4866,
                        "bin_start": 0.40869999999999995,
                        "count": 115
                      },
                      {
                        "bin_end": 0.5645,
                        "bin_start": 0.4866,
                        "count": 189
                      },
                      {
                        "bin_end": 0.6424,
                        "bin_start": 0.5645,
                        "count": 209
                      },
                      {
                        "bin_end": 0.7202999999999999,
                        "bin_start": 0.6424,
                        "count": 230
                      },
                      {
                        "bin_end": 0.7982,
                        "bin_start": 0.7202999999999999,
                        "count": 151
                      },
                      {
                        "bin_end": 0.8760999999999999,
                        "bin_start": 0.7982,
                        "count": 78
                      },
                      {
                        "bin_end": 0.954,
                        "bin_start": 0.8760999999999999,
                        "count": 16
                      }
                    ],
                    "max": "0.954",
                    "min": "0.175",
                    "nan_count": 0,
                    "unique_count": 491
                  }
                },
                {
                  "dtype": "float64",
                  "name": "energy",
                  "stats": {
                    "histogram": [
                      {
                        "bin_end": 0.12022,
                        "bin_start": 0.0228,
                        "count": 35
                      },
                      {
                        "bin_end": 0.21764,
                        "bin_start": 0.12022,
                        "count": 95
                      },
                      {
                        "bin_end": 0.31505999999999995,
                        "bin_start": 0.21764,
                        "count": 99
                      },
                      {
                        "bin_end": 0.41247999999999996,
                        "bin_start": 0.31505999999999995,
                        "count": 128
                      },
                      {
                        "bin_end": 0.5099,
                        "bin_start": 0.41247999999999996,
                        "count": 113
                      },
                      {
                        "bin_end": 0.60732,
                        "bin_start": 0.5099,
                        "count": 89
                      },
                      {
                        "bin_end": 0.70474,
                        "bin_start": 0.60732,
                        "count": 107
                      },
                      {
                        "bin_end": 0.80216,
                        "bin_start": 0.70474,
                        "count": 125
                      },
                      {
                        "bin_end": 0.8995799999999999,
                        "bin_start": 0.80216,
                        "count": 177
                      },
                      {
                        "bin_end": 0.997,
                        "bin_start": 0.8995799999999999,
                        "count": 153
                      }
                    ],
                    "max": "0.997",
                    "min": "0.0228",
                    "nan_count": 0,
                    "unique_count": 604
                  }
                },
                {
                  "dtype": "int64",
                  "name": "key",
                  "stats": {
                    "histogram": [
                      {
                        "bin_end": 1.1,
                        "bin_start": 0,
                        "count": 256
                      },
                      {
                        "bin_end": 2.2,
                        "bin_start": 1.1,
                        "count": 109
                      },
                      {
                        "bin_end": 3.3000000000000003,
                        "bin_start": 2.2,
                        "count": 46
                      },
                      {
                        "bin_end": 4.4,
                        "bin_start": 3.3000000000000003,
                        "count": 76
                      },
                      {
                        "bin_end": 5.5,
                        "bin_start": 4.4,
                        "count": 99
                      },
                      {
                        "bin_end": 6.6000000000000005,
                        "bin_start": 5.5,
                        "count": 95
                      },
                      {
                        "bin_end": 7.700000000000001,
                        "bin_start": 6.6000000000000005,
                        "count": 113
                      },
                      {
                        "bin_end": 8.8,
                        "bin_start": 7.700000000000001,
                        "count": 80
                      },
                      {
                        "bin_end": 9.9,
                        "bin_start": 8.8,
                        "count": 97
                      },
                      {
                        "bin_end": 11,
                        "bin_start": 9.9,
                        "count": 150
                      }
                    ],
                    "max": "11",
                    "min": "0",
                    "nan_count": 0,
                    "unique_count": 12
                  }
                },
                {
                  "dtype": "float64",
                  "name": "loudness",
                  "stats": {
                    "histogram": [
                      {
                        "bin_end": -24.39,
                        "bin_start": -27.043,
                        "count": 2
                      },
                      {
                        "bin_end": -21.737000000000002,
                        "bin_start": -24.39,
                        "count": 8
                      },
                      {
                        "bin_end": -19.084,
                        "bin_start": -21.737000000000002,
                        "count": 3
                      },
                      {
                        "bin_end": -16.431,
                        "bin_start": -19.084,
                        "count": 19
                      },
                      {
                        "bin_end": -13.778000000000002,
                        "bin_start": -16.431,
                        "count": 44
                      },
                      {
                        "bin_end": -11.125000000000002,
                        "bin_start": -13.778000000000002,
                        "count": 108
                      },
                      {
                        "bin_end": -8.472000000000001,
                        "bin_start": -11.125000000000002,
                        "count": 201
                      },
                      {
                        "bin_end": -5.819000000000003,
                        "bin_start": -8.472000000000001,
                        "count": 299
                      },
                      {
                        "bin_end": -3.166000000000004,
                        "bin_start": -5.819000000000003,
                        "count": 372
                      },
                      {
                        "bin_end": -0.513,
                        "bin_start": -3.166000000000004,
                        "count": 65
                      }
                    ],
                    "max": "-0.513",
                    "min": "-27.043",
                    "nan_count": 0,
                    "unique_count": 994
                  }
                },
                {
                  "dtype": "int64",
                  "name": "mode",
                  "stats": {
                    "histogram": [
                      {
                        "bin_end": 0.1,
                        "bin_start": 0,
                        "count": 368
                      },
                      {
                        "bin_end": 0.2,
                        "bin_start": 0.1,
                        "count": 0
                      },
                      {
                        "bin_end": 0.30000000000000004,
                        "bin_start": 0.2,
                        "count": 0
                      },
                      {
                        "bin_end": 0.4,
                        "bin_start": 0.30000000000000004,
                        "count": 0
                      },
                      {
                        "bin_end": 0.5,
                        "bin_start": 0.4,
                        "count": 0
                      },
                      {
                        "bin_end": 0.6000000000000001,
                        "bin_start": 0.5,
                        "count": 0
                      },
                      {
                        "bin_end": 0.7000000000000001,
                        "bin_start": 0.6000000000000001,
                        "count": 0
                      },
                      {
                        "bin_end": 0.8,
                        "bin_start": 0.7000000000000001,
                        "count": 0
                      },
                      {
                        "bin_end": 0.9,
                        "bin_start": 0.8,
                        "count": 0
                      },
                      {
                        "bin_end": 1,
                        "bin_start": 0.9,
                        "count": 753
                      }
                    ],
                    "max": "1",
                    "min": "0",
                    "nan_count": 0,
                    "unique_count": 2
                  }
                },
                {
                  "dtype": "float64",
                  "name": "speechiness",
                  "stats": {
                    "histogram": [
                      {
                        "bin_end": 0.08169,
                        "bin_start": 0.0241,
                        "count": 865
                      },
                      {
                        "bin_end": 0.13928,
                        "bin_start": 0.08169,
                        "count": 123
                      },
                      {
                        "bin_end": 0.19687,
                        "bin_start": 0.13928,
                        "count": 54
                      },
                      {
                        "bin_end": 0.25445999999999996,
                        "bin_start": 0.19687,
                        "count": 25
                      },
                      {
                        "bin_end": 0.31205,
                        "bin_start": 0.25445999999999996,
                        "count": 20
                      },
                      {
                        "bin_end": 0.36963999999999997,
                        "bin_start": 0.31205,
                        "count": 17
                      },
                      {
                        "bin_end": 0.42723,
                        "bin_start": 0.36963999999999997,
                        "count": 9
                      },
                      {
                        "bin_end": 0.48482,
                        "bin_start": 0.42723,
                        "count": 3
                      },
                      {
                        "bin_end": 0.54241,
                        "bin_start": 0.48482,
                        "count": 3
                      },
                      {
                        "bin_end": 0.6,
                        "bin_start": 0.54241,
                        "count": 2
                      }
                    ],
                    "max": "0.6",
                    "min": "0.0241",
                    "nan_count": 0,
                    "unique_count": 546
                  }
                },
                {
                  "dtype": "float64",
                  "name": "acousticness",
                  "stats": {
                    "histogram": [
                      {
                        "bin_end": 0.0990017,
                        "bin_start": 0.000113,
                        "count": 386
                      },
                      {
                        "bin_end": 0.1978904,
                        "bin_start": 0.0990017,
                        "count": 104
                      },
                      {
                        "bin_end": 0.29677909999999996,
                        "bin_start": 0.1978904,
                        "count": 71
                      },
                      {
                        "bin_end": 0.39566779999999996,
                        "bin_start": 0.29677909999999996,
                        "count": 61
                      },
                      {
                        "bin_end": 0.49455649999999995,
                        "bin_start": 0.39566779999999996,
                        "count": 48
                      },
                      {
                        "bin_end": 0.5934452,
                        "bin_start": 0.49455649999999995,
                        "count": 57
                      },
                      {
                        "bin_end": 0.6923339,
                        "bin_start": 0.5934452,
                        "count": 58
                      },
                      {
                        "bin_end": 0.7912226,
                        "bin_start": 0.6923339,
                        "count": 78
                      },
                      {
                        "bin_end": 0.8901113,
                        "bin_start": 0.7912226,
                        "count": 121
                      },
                      {
                        "bin_end": 0.989,
                        "bin_start": 0.8901113,
                        "count": 137
                      }
                    ],
                    "max": "0.989",
                    "min": "0.000113",
                    "nan_count": 0,
                    "unique_count": 780
                  }
                },
                {
                  "dtype": "float64",
                  "name": "instrumentalness",
                  "stats": {
                    "histogram": [
                      {
                        "bin_end": 0.097,
                        "bin_start": 0,
                        "count": 985
                      },
                      {
                        "bin_end": 0.194,
                        "bin_start": 0.097,
                        "count": 36
                      },
                      {
                        "bin_end": 0.29100000000000004,
                        "bin_start": 0.194,
                        "count": 17
                      },
                      {
                        "bin_end": 0.388,
                        "bin_start": 0.29100000000000004,
                        "count": 9
                      },
                      {
                        "bin_end": 0.485,
                        "bin_start": 0.388,
                        "count": 12
                      },
                      {
                        "bin_end": 0.5820000000000001,
                        "bin_start": 0.485,
                        "count": 12
                      },
                      {
                        "bin_end": 0.679,
                        "bin_start": 0.5820000000000001,
                        "count": 11
                      },
                      {
                        "bin_end": 0.776,
                        "bin_start": 0.679,
                        "count": 17
                      },
                      {
                        "bin_end": 0.873,
                        "bin_start": 0.776,
                        "count": 11
                      },
                      {
                        "bin_end": 0.97,
                        "bin_start": 0.873,
                        "count": 11
                      }
                    ],
                    "max": "0.97",
                    "min": "0.0",
                    "nan_count": 0,
                    "unique_count": 577
                  }
                },
                {
                  "dtype": "float64",
                  "name": "liveness",
                  "stats": {
                    "histogram": [
                      {
                        "bin_end": 0.1161,
                        "bin_start": 0.02,
                        "count": 539
                      },
                      {
                        "bin_end": 0.21219999999999997,
                        "bin_start": 0.1161,
                        "count": 303
                      },
                      {
                        "bin_end": 0.3083,
                        "bin_start": 0.21219999999999997,
                        "count": 102
                      },
                      {
                        "bin_end": 0.4044,
                        "bin_start": 0.3083,
                        "count": 102
                      },
                      {
                        "bin_end": 0.5005,
                        "bin_start": 0.4044,
                        "count": 28
                      },
                      {
                        "bin_end": 0.5966,
                        "bin_start": 0.5005,
                        "count": 10
                      },
                      {
                        "bin_end": 0.6927,
                        "bin_start": 0.5966,
                        "count": 12
                      },
                      {
                        "bin_end": 0.7888,
                        "bin_start": 0.6927,
                        "count": 14
                      },
                      {
                        "bin_end": 0.8848999999999999,
                        "bin_start": 0.7888,
                        "count": 6
                      },
                      {
                        "bin_end": 0.981,
                        "bin_start": 0.8848999999999999,
                        "count": 5
                      }
                    ],
                    "max": "0.981",
                    "min": "0.02",
                    "nan_count": 0,
                    "unique_count": 503
                  }
                },
                {
                  "dtype": "float64",
                  "name": "valence",
                  "stats": {
                    "histogram": [
                      {
                        "bin_end": 0.12642,
                        "bin_start": 0.0318,
                        "count": 93
                      },
                      {
                        "bin_end": 0.22104,
                        "bin_start": 0.12642,
                        "count": 160
                      },
                      {
                        "bin_end": 0.31566,
                        "bin_start": 0.22104,
                        "count": 146
                      },
                      {
                        "bin_end": 0.41028,
                        "bin_start": 0.31566,
                        "count": 173
                      },
                      {
                        "bin_end": 0.5049,
                        "bin_start": 0.41028,
                        "count": 121
                      },
                      {
                        "bin_end": 0.59952,
                        "bin_start": 0.5049,
                        "count": 113
                      },
                      {
                        "bin_end": 0.69414,
                        "bin_start": 0.59952,
                        "count": 92
                      },
                      {
                        "bin_end": 0.78876,
                        "bin_start": 0.69414,
                        "count": 99
                      },
                      {
                        "bin_end": 0.88338,
                        "bin_start": 0.78876,
                        "count": 70
                      },
                      {
                        "bin_end": 0.978,
                        "bin_start": 0.88338,
                        "count": 54
                      }
                    ],
                    "max": "0.978",
                    "min": "0.0318",
                    "nan_count": 0,
                    "unique_count": 635
                  }
                },
                {
                  "dtype": "float64",
                  "name": "tempo",
                  "stats": {
                    "histogram": [
                      {
                        "bin_end": 61.791799999999995,
                        "bin_start": 45.306,
                        "count": 2
                      },
                      {
                        "bin_end": 78.2776,
                        "bin_start": 61.791799999999995,
                        "count": 62
                      },
                      {
                        "bin_end": 94.7634,
                        "bin_start": 78.2776,
                        "count": 160
                      },
                      {
                        "bin_end": 111.2492,
                        "bin_start": 94.7634,
                        "count": 207
                      },
                      {
                        "bin_end": 127.735,
                        "bin_start": 111.2492,
                        "count": 253
                      },
                      {
                        "bin_end": 144.2208,
                        "bin_start": 127.735,
                        "count": 192
                      },
                      {
                        "bin_end": 160.7066,
                        "bin_start": 144.2208,
                        "count": 153
                      },
                      {
                        "bin_end": 177.19240000000002,
                        "bin_start": 160.7066,
                        "count": 61
                      },
                      {
                        "bin_end": 193.6782,
                        "bin_start": 177.19240000000002,
                        "count": 22
                      },
                      {
                        "bin_end": 210.164,
                        "bin_start": 193.6782,
                        "count": 9
                      }
                    ],
                    "max": "210.164",
                    "min": "45.306",
                    "nan_count": 0,
                    "unique_count": 1017
                  }
                },
                {
                  "dtype": "object",
                  "name": "type",
                  "stats": {
                    "categories": [
                      {
                        "count": 1121,
                        "name": "audio_features"
                      }
                    ],
                    "nan_count": 0,
                    "unique_count": 1
                  }
                },
                {
                  "dtype": "object",
                  "name": "id",
                  "stats": {
                    "categories": [
                      {
                        "count": 3,
                        "name": "3BKD1PwArikchz2Zrlp1qi"
                      },
                      {
                        "count": 2,
                        "name": "4xqrdfXkTW4T0RauPLv3WA"
                      },
                      {
                        "count": 1116,
                        "name": "1050 others"
                      }
                    ],
                    "nan_count": 0,
                    "unique_count": 1052
                  }
                },
                {
                  "dtype": "object",
                  "name": "uri",
                  "stats": {
                    "categories": [
                      {
                        "count": 3,
                        "name": "spotify:track:3BKD1PwArikchz2Zrlp1qi"
                      },
                      {
                        "count": 2,
                        "name": "spotify:track:4xqrdfXkTW4T0RauPLv3WA"
                      },
                      {
                        "count": 1116,
                        "name": "1050 others"
                      }
                    ],
                    "nan_count": 0,
                    "unique_count": 1052
                  }
                },
                {
                  "dtype": "object",
                  "name": "track_href",
                  "stats": {
                    "categories": [
                      {
                        "count": 3,
                        "name": "https://api.spotify.com/v1/tracks/3BKD1PwArikchz2Zrlp1qi"
                      },
                      {
                        "count": 2,
                        "name": "https://api.spotify.com/v1/tracks/4xqrdfXkTW4T0RauPLv3WA"
                      },
                      {
                        "count": 1116,
                        "name": "1050 others"
                      }
                    ],
                    "nan_count": 0,
                    "unique_count": 1052
                  }
                },
                {
                  "dtype": "object",
                  "name": "analysis_url",
                  "stats": {
                    "categories": [
                      {
                        "count": 3,
                        "name": "https://api.spotify.com/v1/audio-analysis/3BKD1PwArikchz2Zrlp1qi"
                      },
                      {
                        "count": 2,
                        "name": "https://api.spotify.com/v1/audio-analysis/4xqrdfXkTW4T0RauPLv3WA"
                      },
                      {
                        "count": 1116,
                        "name": "1050 others"
                      }
                    ],
                    "nan_count": 0,
                    "unique_count": 1052
                  }
                },
                {
                  "dtype": "int64",
                  "name": "duration_ms",
                  "stats": {
                    "histogram": [
                      {
                        "bin_end": 114930.1,
                        "bin_start": 75227,
                        "count": 14
                      },
                      {
                        "bin_end": 154633.2,
                        "bin_start": 114930.1,
                        "count": 130
                      },
                      {
                        "bin_end": 194336.3,
                        "bin_start": 154633.2,
                        "count": 351
                      },
                      {
                        "bin_end": 234039.4,
                        "bin_start": 194336.3,
                        "count": 333
                      },
                      {
                        "bin_end": 273742.5,
                        "bin_start": 234039.4,
                        "count": 201
                      },
                      {
                        "bin_end": 313445.6,
                        "bin_start": 273742.5,
                        "count": 66
                      },
                      {
                        "bin_end": 353148.7,
                        "bin_start": 313445.6,
                        "count": 17
                      },
                      {
                        "bin_end": 392851.8,
                        "bin_start": 353148.7,
                        "count": 5
                      },
                      {
                        "bin_end": 432554.89999999997,
                        "bin_start": 392851.8,
                        "count": 3
                      },
                      {
                        "bin_end": 472258,
                        "bin_start": 432554.89999999997,
                        "count": 1
                      }
                    ],
                    "max": "472258",
                    "min": "75227",
                    "nan_count": 0,
                    "unique_count": 1030
                  }
                },
                {
                  "dtype": "int64",
                  "name": "time_signature",
                  "stats": {
                    "histogram": [
                      {
                        "bin_end": 1.4,
                        "bin_start": 1,
                        "count": 6
                      },
                      {
                        "bin_end": 1.8,
                        "bin_start": 1.4,
                        "count": 0
                      },
                      {
                        "bin_end": 2.2,
                        "bin_start": 1.8,
                        "count": 0
                      },
                      {
                        "bin_end": 2.6,
                        "bin_start": 2.2,
                        "count": 0
                      },
                      {
                        "bin_end": 3,
                        "bin_start": 2.6,
                        "count": 0
                      },
                      {
                        "bin_end": 3.4000000000000004,
                        "bin_start": 3,
                        "count": 97
                      },
                      {
                        "bin_end": 3.8000000000000003,
                        "bin_start": 3.4000000000000004,
                        "count": 0
                      },
                      {
                        "bin_end": 4.2,
                        "bin_start": 3.8000000000000003,
                        "count": 1004
                      },
                      {
                        "bin_end": 4.6,
                        "bin_start": 4.2,
                        "count": 0
                      },
                      {
                        "bin_end": 5,
                        "bin_start": 4.6,
                        "count": 14
                      }
                    ],
                    "max": "5",
                    "min": "1",
                    "nan_count": 0,
                    "unique_count": 4
                  }
                },
                {
                  "dtype": "object",
                  "name": "release_date",
                  "stats": {
                    "categories": [
                      {
                        "count": 12,
                        "name": "2024-01-26"
                      },
                      {
                        "count": 9,
                        "name": "2023-04-21"
                      },
                      {
                        "count": 1100,
                        "name": "684 others"
                      }
                    ],
                    "nan_count": 0,
                    "unique_count": 686
                  }
                },
                {
                  "dtype": "object",
                  "name": "mood",
                  "stats": {
                    "categories": [
                      {
                        "count": 300,
                        "name": "relax"
                      },
                      {
                        "count": 283,
                        "name": "happiness"
                      },
                      {
                        "count": 538,
                        "name": "2 others"
                      }
                    ],
                    "nan_count": 0,
                    "unique_count": 4
                  }
                },
                {
                  "dtype": "int64",
                  "name": "_deepnote_index_column"
                }
              ],
              "row_count": 1121,
              "rows": [
                {
                  "Unnamed: 0": 0,
                  "_deepnote_index_column": 0,
                  "acousticness": 0.584,
                  "analysis_url": "https://api.spotify.com/v1/audio-analysis/4xqrdfXkTW4T0RauPLv3WA",
                  "danceability": 0.357,
                  "duration_ms": 198040,
                  "energy": 0.425,
                  "id": "4xqrdfXkTW4T0RauPLv3WA",
                  "instrumentalness": 0,
                  "key": 5,
                  "liveness": 0.322,
                  "loudness": -7.301,
                  "mode": 1,
                  "mood": "sad",
                  "release_date": "2020-03-20",
                  "speechiness": 0.0333,
                  "tempo": 102.078,
                  "time_signature": 3,
                  "track_href": "https://api.spotify.com/v1/tracks/4xqrdfXkTW4T0RauPLv3WA",
                  "type": "audio_features",
                  "uri": "spotify:track:4xqrdfXkTW4T0RauPLv3WA",
                  "valence": 0.27
                },
                {
                  "Unnamed: 0": 1,
                  "_deepnote_index_column": 1,
                  "acousticness": 0.731,
                  "analysis_url": "https://api.spotify.com/v1/audio-analysis/75JFxkI2RXiU7L9VXzMkle",
                  "danceability": 0.557,
                  "duration_ms": 309600,
                  "energy": 0.442,
                  "id": "75JFxkI2RXiU7L9VXzMkle",
                  "instrumentalness": 0.0000146,
                  "key": 5,
                  "liveness": 0.11,
                  "loudness": -7.224,
                  "mode": 1,
                  "mood": "sad",
                  "release_date": "2002-08-08",
                  "speechiness": 0.0243,
                  "tempo": 146.277,
                  "time_signature": 4,
                  "track_href": "https://api.spotify.com/v1/tracks/75JFxkI2RXiU7L9VXzMkle",
                  "type": "audio_features",
                  "uri": "spotify:track:75JFxkI2RXiU7L9VXzMkle",
                  "valence": 0.213
                },
                {
                  "Unnamed: 0": 2,
                  "_deepnote_index_column": 2,
                  "acousticness": 0.74,
                  "analysis_url": "https://api.spotify.com/v1/audio-analysis/2qxmye6gAegTMjLKEBoR3d",
                  "danceability": 0.652,
                  "duration_ms": 169354,
                  "energy": 0.557,
                  "id": "2qxmye6gAegTMjLKEBoR3d",
                  "instrumentalness": 0,
                  "key": 1,
                  "liveness": 0.124,
                  "loudness": -5.714,
                  "mode": 0,
                  "mood": "sad",
                  "release_date": "2018-11-16",
                  "speechiness": 0.0318,
                  "tempo": 150.073,
                  "time_signature": 4,
                  "track_href": "https://api.spotify.com/v1/tracks/2qxmye6gAegTMjLKEBoR3d",
                  "type": "audio_features",
                  "uri": "spotify:track:2qxmye6gAegTMjLKEBoR3d",
                  "valence": 0.483
                },
                {
                  "Unnamed: 0": 3,
                  "_deepnote_index_column": 3,
                  "acousticness": 0.64,
                  "analysis_url": "https://api.spotify.com/v1/audio-analysis/1mXVgsBdtIVeCLJnSnmtdV",
                  "danceability": 0.681,
                  "duration_ms": 201000,
                  "energy": 0.372,
                  "id": "1mXVgsBdtIVeCLJnSnmtdV",
                  "instrumentalness": 0,
                  "key": 5,
                  "liveness": 0.169,
                  "loudness": -8.237,
                  "mode": 1,
                  "mood": "sad",
                  "release_date": "2017-11-03",
                  "speechiness": 0.0432,
                  "tempo": 91.873,
                  "time_signature": 4,
                  "track_href": "https://api.spotify.com/v1/tracks/1mXVgsBdtIVeCLJnSnmtdV",
                  "type": "audio_features",
                  "uri": "spotify:track:1mXVgsBdtIVeCLJnSnmtdV",
                  "valence": 0.476
                },
                {
                  "Unnamed: 0": 4,
                  "_deepnote_index_column": 4,
                  "acousticness": 0.978,
                  "analysis_url": "https://api.spotify.com/v1/audio-analysis/43zdsphuZLzwA9k4DJhU0I",
                  "danceability": 0.367,
                  "duration_ms": 196077,
                  "energy": 0.111,
                  "id": "43zdsphuZLzwA9k4DJhU0I",
                  "instrumentalness": 0.0000397,
                  "key": 4,
                  "liveness": 0.0897,
                  "loudness": -14.084,
                  "mode": 1,
                  "mood": "sad",
                  "release_date": "2019-03-29",
                  "speechiness": 0.0972,
                  "tempo": 82.642,
                  "time_signature": 4,
                  "track_href": "https://api.spotify.com/v1/tracks/43zdsphuZLzwA9k4DJhU0I",
                  "type": "audio_features",
                  "uri": "spotify:track:43zdsphuZLzwA9k4DJhU0I",
                  "valence": 0.198
                },
                {
                  "Unnamed: 0": 5,
                  "_deepnote_index_column": 5,
                  "acousticness": 0.695,
                  "analysis_url": "https://api.spotify.com/v1/audio-analysis/3JvKfv6T31zO0ini8iNItO",
                  "danceability": 0.445,
                  "duration_ms": 244360,
                  "energy": 0.537,
                  "id": "3JvKfv6T31zO0ini8iNItO",
                  "instrumentalness": 0.0000165,
                  "key": 4,
                  "liveness": 0.0944,
                  "loudness": -8.532,
                  "mode": 0,
                  "mood": "sad",
                  "release_date": "2013-06-24",
                  "speechiness": 0.04,
                  "tempo": 122.769,
                  "time_signature": 4,
                  "track_href": "https://api.spotify.com/v1/tracks/3JvKfv6T31zO0ini8iNItO",
                  "type": "audio_features",
                  "uri": "spotify:track:3JvKfv6T31zO0ini8iNItO",
                  "valence": 0.131
                },
                {
                  "Unnamed: 0": 6,
                  "_deepnote_index_column": 6,
                  "acousticness": 0.866,
                  "analysis_url": "https://api.spotify.com/v1/audio-analysis/5JCoSi02qi3jJeHdZXMmR8",
                  "danceability": 0.369,
                  "duration_ms": 152667,
                  "energy": 0.272,
                  "id": "5JCoSi02qi3jJeHdZXMmR8",
                  "instrumentalness": 0,
                  "key": 9,
                  "liveness": 0.147,
                  "loudness": -10.497,
                  "mode": 1,
                  "mood": "sad",
                  "release_date": "2021-05-21",
                  "speechiness": 0.0364,
                  "tempo": 172.929,
                  "time_signature": 4,
                  "track_href": "https://api.spotify.com/v1/tracks/5JCoSi02qi3jJeHdZXMmR8",
                  "type": "audio_features",
                  "uri": "spotify:track:5JCoSi02qi3jJeHdZXMmR8",
                  "valence": 0.218
                },
                {
                  "Unnamed: 0": 7,
                  "_deepnote_index_column": 7,
                  "acousticness": 0.827,
                  "analysis_url": "https://api.spotify.com/v1/audio-analysis/2HafqoJbgXdtjwCOvNEF14",
                  "danceability": 0.537,
                  "duration_ms": 184061,
                  "energy": 0.421,
                  "id": "2HafqoJbgXdtjwCOvNEF14",
                  "instrumentalness": 0,
                  "key": 5,
                  "liveness": 0.138,
                  "loudness": -8.72,
                  "mode": 1,
                  "mood": "sad",
                  "release_date": "2022-09-23",
                  "speechiness": 0.0285,
                  "tempo": 98.224,
                  "time_signature": 4,
                  "track_href": "https://api.spotify.com/v1/tracks/2HafqoJbgXdtjwCOvNEF14",
                  "type": "audio_features",
                  "uri": "spotify:track:2HafqoJbgXdtjwCOvNEF14",
                  "valence": 0.524
                },
                {
                  "Unnamed: 0": 8,
                  "_deepnote_index_column": 8,
                  "acousticness": 0.607,
                  "analysis_url": "https://api.spotify.com/v1/audio-analysis/1HNkqx9Ahdgi1Ixy2xkKkL",
                  "danceability": 0.614,
                  "duration_ms": 258987,
                  "energy": 0.379,
                  "id": "1HNkqx9Ahdgi1Ixy2xkKkL",
                  "instrumentalness": 0.000464,
                  "key": 4,
                  "liveness": 0.0986,
                  "loudness": -10.48,
                  "mode": 1,
                  "mood": "sad",
                  "release_date": "2014-06-21",
                  "speechiness": 0.0476,
                  "tempo": 107.989,
                  "time_signature": 4,
                  "track_href": "https://api.spotify.com/v1/tracks/1HNkqx9Ahdgi1Ixy2xkKkL",
                  "type": "audio_features",
                  "uri": "spotify:track:1HNkqx9Ahdgi1Ixy2xkKkL",
                  "valence": 0.201
                },
                {
                  "Unnamed: 0": 9,
                  "_deepnote_index_column": 9,
                  "acousticness": 0.392,
                  "analysis_url": "https://api.spotify.com/v1/audio-analysis/2oKjjRzItVu8JZScrpzFTx",
                  "danceability": 0.278,
                  "duration_ms": 253760,
                  "energy": 0.572,
                  "id": "2oKjjRzItVu8JZScrpzFTx",
                  "instrumentalness": 0,
                  "key": 7,
                  "liveness": 0.063,
                  "loudness": -8.295,
                  "mode": 1,
                  "mood": "sad",
                  "release_date": "2017-09-08",
                  "speechiness": 0.0407,
                  "tempo": 95.351,
                  "time_signature": 3,
                  "track_href": "https://api.spotify.com/v1/tracks/2oKjjRzItVu8JZScrpzFTx",
                  "type": "audio_features",
                  "uri": "spotify:track:2oKjjRzItVu8JZScrpzFTx",
                  "valence": 0.311
                }
              ]
            },
            "text/html": [
              "<div>\n",
              "<style scoped>\n",
              "    .dataframe tbody tr th:only-of-type {\n",
              "        vertical-align: middle;\n",
              "    }\n",
              "\n",
              "    .dataframe tbody tr th {\n",
              "        vertical-align: top;\n",
              "    }\n",
              "\n",
              "    .dataframe thead th {\n",
              "        text-align: right;\n",
              "    }\n",
              "</style>\n",
              "<table border=\"1\" class=\"dataframe\">\n",
              "  <thead>\n",
              "    <tr style=\"text-align: right;\">\n",
              "      <th></th>\n",
              "      <th>Unnamed: 0</th>\n",
              "      <th>danceability</th>\n",
              "      <th>energy</th>\n",
              "      <th>key</th>\n",
              "      <th>loudness</th>\n",
              "      <th>mode</th>\n",
              "      <th>speechiness</th>\n",
              "      <th>acousticness</th>\n",
              "      <th>instrumentalness</th>\n",
              "      <th>liveness</th>\n",
              "      <th>...</th>\n",
              "      <th>tempo</th>\n",
              "      <th>type</th>\n",
              "      <th>id</th>\n",
              "      <th>uri</th>\n",
              "      <th>track_href</th>\n",
              "      <th>analysis_url</th>\n",
              "      <th>duration_ms</th>\n",
              "      <th>time_signature</th>\n",
              "      <th>release_date</th>\n",
              "      <th>mood</th>\n",
              "    </tr>\n",
              "  </thead>\n",
              "  <tbody>\n",
              "    <tr>\n",
              "      <th>0</th>\n",
              "      <td>0</td>\n",
              "      <td>0.357</td>\n",
              "      <td>0.425</td>\n",
              "      <td>5</td>\n",
              "      <td>-7.301</td>\n",
              "      <td>1</td>\n",
              "      <td>0.0333</td>\n",
              "      <td>0.5840</td>\n",
              "      <td>0.000000</td>\n",
              "      <td>0.3220</td>\n",
              "      <td>...</td>\n",
              "      <td>102.078</td>\n",
              "      <td>audio_features</td>\n",
              "      <td>4xqrdfXkTW4T0RauPLv3WA</td>\n",
              "      <td>spotify:track:4xqrdfXkTW4T0RauPLv3WA</td>\n",
              "      <td>https://api.spotify.com/v1/tracks/4xqrdfXkTW4T...</td>\n",
              "      <td>https://api.spotify.com/v1/audio-analysis/4xqr...</td>\n",
              "      <td>198040</td>\n",
              "      <td>3</td>\n",
              "      <td>2020-03-20</td>\n",
              "      <td>sad</td>\n",
              "    </tr>\n",
              "    <tr>\n",
              "      <th>1</th>\n",
              "      <td>1</td>\n",
              "      <td>0.557</td>\n",
              "      <td>0.442</td>\n",
              "      <td>5</td>\n",
              "      <td>-7.224</td>\n",
              "      <td>1</td>\n",
              "      <td>0.0243</td>\n",
              "      <td>0.7310</td>\n",
              "      <td>0.000015</td>\n",
              "      <td>0.1100</td>\n",
              "      <td>...</td>\n",
              "      <td>146.277</td>\n",
              "      <td>audio_features</td>\n",
              "      <td>75JFxkI2RXiU7L9VXzMkle</td>\n",
              "      <td>spotify:track:75JFxkI2RXiU7L9VXzMkle</td>\n",
              "      <td>https://api.spotify.com/v1/tracks/75JFxkI2RXiU...</td>\n",
              "      <td>https://api.spotify.com/v1/audio-analysis/75JF...</td>\n",
              "      <td>309600</td>\n",
              "      <td>4</td>\n",
              "      <td>2002-08-08</td>\n",
              "      <td>sad</td>\n",
              "    </tr>\n",
              "    <tr>\n",
              "      <th>2</th>\n",
              "      <td>2</td>\n",
              "      <td>0.652</td>\n",
              "      <td>0.557</td>\n",
              "      <td>1</td>\n",
              "      <td>-5.714</td>\n",
              "      <td>0</td>\n",
              "      <td>0.0318</td>\n",
              "      <td>0.7400</td>\n",
              "      <td>0.000000</td>\n",
              "      <td>0.1240</td>\n",
              "      <td>...</td>\n",
              "      <td>150.073</td>\n",
              "      <td>audio_features</td>\n",
              "      <td>2qxmye6gAegTMjLKEBoR3d</td>\n",
              "      <td>spotify:track:2qxmye6gAegTMjLKEBoR3d</td>\n",
              "      <td>https://api.spotify.com/v1/tracks/2qxmye6gAegT...</td>\n",
              "      <td>https://api.spotify.com/v1/audio-analysis/2qxm...</td>\n",
              "      <td>169354</td>\n",
              "      <td>4</td>\n",
              "      <td>2018-11-16</td>\n",
              "      <td>sad</td>\n",
              "    </tr>\n",
              "    <tr>\n",
              "      <th>3</th>\n",
              "      <td>3</td>\n",
              "      <td>0.681</td>\n",
              "      <td>0.372</td>\n",
              "      <td>5</td>\n",
              "      <td>-8.237</td>\n",
              "      <td>1</td>\n",
              "      <td>0.0432</td>\n",
              "      <td>0.6400</td>\n",
              "      <td>0.000000</td>\n",
              "      <td>0.1690</td>\n",
              "      <td>...</td>\n",
              "      <td>91.873</td>\n",
              "      <td>audio_features</td>\n",
              "      <td>1mXVgsBdtIVeCLJnSnmtdV</td>\n",
              "      <td>spotify:track:1mXVgsBdtIVeCLJnSnmtdV</td>\n",
              "      <td>https://api.spotify.com/v1/tracks/1mXVgsBdtIVe...</td>\n",
              "      <td>https://api.spotify.com/v1/audio-analysis/1mXV...</td>\n",
              "      <td>201000</td>\n",
              "      <td>4</td>\n",
              "      <td>2017-11-03</td>\n",
              "      <td>sad</td>\n",
              "    </tr>\n",
              "    <tr>\n",
              "      <th>4</th>\n",
              "      <td>4</td>\n",
              "      <td>0.367</td>\n",
              "      <td>0.111</td>\n",
              "      <td>4</td>\n",
              "      <td>-14.084</td>\n",
              "      <td>1</td>\n",
              "      <td>0.0972</td>\n",
              "      <td>0.9780</td>\n",
              "      <td>0.000040</td>\n",
              "      <td>0.0897</td>\n",
              "      <td>...</td>\n",
              "      <td>82.642</td>\n",
              "      <td>audio_features</td>\n",
              "      <td>43zdsphuZLzwA9k4DJhU0I</td>\n",
              "      <td>spotify:track:43zdsphuZLzwA9k4DJhU0I</td>\n",
              "      <td>https://api.spotify.com/v1/tracks/43zdsphuZLzw...</td>\n",
              "      <td>https://api.spotify.com/v1/audio-analysis/43zd...</td>\n",
              "      <td>196077</td>\n",
              "      <td>4</td>\n",
              "      <td>2019-03-29</td>\n",
              "      <td>sad</td>\n",
              "    </tr>\n",
              "    <tr>\n",
              "      <th>...</th>\n",
              "      <td>...</td>\n",
              "      <td>...</td>\n",
              "      <td>...</td>\n",
              "      <td>...</td>\n",
              "      <td>...</td>\n",
              "      <td>...</td>\n",
              "      <td>...</td>\n",
              "      <td>...</td>\n",
              "      <td>...</td>\n",
              "      <td>...</td>\n",
              "      <td>...</td>\n",
              "      <td>...</td>\n",
              "      <td>...</td>\n",
              "      <td>...</td>\n",
              "      <td>...</td>\n",
              "      <td>...</td>\n",
              "      <td>...</td>\n",
              "      <td>...</td>\n",
              "      <td>...</td>\n",
              "      <td>...</td>\n",
              "      <td>...</td>\n",
              "    </tr>\n",
              "    <tr>\n",
              "      <th>1116</th>\n",
              "      <td>1116</td>\n",
              "      <td>0.716</td>\n",
              "      <td>0.748</td>\n",
              "      <td>8</td>\n",
              "      <td>-6.060</td>\n",
              "      <td>1</td>\n",
              "      <td>0.0356</td>\n",
              "      <td>0.2350</td>\n",
              "      <td>0.849000</td>\n",
              "      <td>0.1140</td>\n",
              "      <td>...</td>\n",
              "      <td>119.918</td>\n",
              "      <td>audio_features</td>\n",
              "      <td>01kfSdF9zfcDLri5sSWEoL</td>\n",
              "      <td>spotify:track:01kfSdF9zfcDLri5sSWEoL</td>\n",
              "      <td>https://api.spotify.com/v1/tracks/01kfSdF9zfcD...</td>\n",
              "      <td>https://api.spotify.com/v1/audio-analysis/01kf...</td>\n",
              "      <td>169245</td>\n",
              "      <td>4</td>\n",
              "      <td>2022-03-18</td>\n",
              "      <td>energizer</td>\n",
              "    </tr>\n",
              "    <tr>\n",
              "      <th>1117</th>\n",
              "      <td>1117</td>\n",
              "      <td>0.778</td>\n",
              "      <td>0.786</td>\n",
              "      <td>3</td>\n",
              "      <td>-4.440</td>\n",
              "      <td>0</td>\n",
              "      <td>0.1150</td>\n",
              "      <td>0.0189</td>\n",
              "      <td>0.000047</td>\n",
              "      <td>0.0678</td>\n",
              "      <td>...</td>\n",
              "      <td>128.007</td>\n",
              "      <td>audio_features</td>\n",
              "      <td>7FvXYkiDWiLgXA9JHUf7Ni</td>\n",
              "      <td>spotify:track:7FvXYkiDWiLgXA9JHUf7Ni</td>\n",
              "      <td>https://api.spotify.com/v1/tracks/7FvXYkiDWiLg...</td>\n",
              "      <td>https://api.spotify.com/v1/audio-analysis/7FvX...</td>\n",
              "      <td>126562</td>\n",
              "      <td>4</td>\n",
              "      <td>2023-03-31</td>\n",
              "      <td>energizer</td>\n",
              "    </tr>\n",
              "    <tr>\n",
              "      <th>1118</th>\n",
              "      <td>1118</td>\n",
              "      <td>0.848</td>\n",
              "      <td>0.821</td>\n",
              "      <td>2</td>\n",
              "      <td>-5.408</td>\n",
              "      <td>0</td>\n",
              "      <td>0.0527</td>\n",
              "      <td>0.0169</td>\n",
              "      <td>0.000403</td>\n",
              "      <td>0.0962</td>\n",
              "      <td>...</td>\n",
              "      <td>125.051</td>\n",
              "      <td>audio_features</td>\n",
              "      <td>6GomT970rCOkKAyyrwJeZi</td>\n",
              "      <td>spotify:track:6GomT970rCOkKAyyrwJeZi</td>\n",
              "      <td>https://api.spotify.com/v1/tracks/6GomT970rCOk...</td>\n",
              "      <td>https://api.spotify.com/v1/audio-analysis/6Gom...</td>\n",
              "      <td>157445</td>\n",
              "      <td>4</td>\n",
              "      <td>2021-10-29</td>\n",
              "      <td>energizer</td>\n",
              "    </tr>\n",
              "    <tr>\n",
              "      <th>1119</th>\n",
              "      <td>1119</td>\n",
              "      <td>0.653</td>\n",
              "      <td>0.973</td>\n",
              "      <td>11</td>\n",
              "      <td>-3.894</td>\n",
              "      <td>1</td>\n",
              "      <td>0.0414</td>\n",
              "      <td>0.0338</td>\n",
              "      <td>0.006860</td>\n",
              "      <td>0.2990</td>\n",
              "      <td>...</td>\n",
              "      <td>128.024</td>\n",
              "      <td>audio_features</td>\n",
              "      <td>7wy8gxfen0STJ2jQMYQBAA</td>\n",
              "      <td>spotify:track:7wy8gxfen0STJ2jQMYQBAA</td>\n",
              "      <td>https://api.spotify.com/v1/tracks/7wy8gxfen0ST...</td>\n",
              "      <td>https://api.spotify.com/v1/audio-analysis/7wy8...</td>\n",
              "      <td>157573</td>\n",
              "      <td>4</td>\n",
              "      <td>2023-03-24</td>\n",
              "      <td>energizer</td>\n",
              "    </tr>\n",
              "    <tr>\n",
              "      <th>1120</th>\n",
              "      <td>1120</td>\n",
              "      <td>0.686</td>\n",
              "      <td>0.892</td>\n",
              "      <td>10</td>\n",
              "      <td>-3.186</td>\n",
              "      <td>0</td>\n",
              "      <td>0.0498</td>\n",
              "      <td>0.0577</td>\n",
              "      <td>0.000007</td>\n",
              "      <td>0.0838</td>\n",
              "      <td>...</td>\n",
              "      <td>126.030</td>\n",
              "      <td>audio_features</td>\n",
              "      <td>2LxdNADWier3MKTei8FbOY</td>\n",
              "      <td>spotify:track:2LxdNADWier3MKTei8FbOY</td>\n",
              "      <td>https://api.spotify.com/v1/tracks/2LxdNADWier3...</td>\n",
              "      <td>https://api.spotify.com/v1/audio-analysis/2Lxd...</td>\n",
              "      <td>157206</td>\n",
              "      <td>4</td>\n",
              "      <td>2022-05-06</td>\n",
              "      <td>energizer</td>\n",
              "    </tr>\n",
              "  </tbody>\n",
              "</table>\n",
              "<p>1121 rows × 21 columns</p>\n",
              "</div>"
            ],
            "text/plain": [
              "      Unnamed: 0  danceability  energy  key  loudness  mode  speechiness  \\\n",
              "0              0         0.357   0.425    5    -7.301     1       0.0333   \n",
              "1              1         0.557   0.442    5    -7.224     1       0.0243   \n",
              "2              2         0.652   0.557    1    -5.714     0       0.0318   \n",
              "3              3         0.681   0.372    5    -8.237     1       0.0432   \n",
              "4              4         0.367   0.111    4   -14.084     1       0.0972   \n",
              "...          ...           ...     ...  ...       ...   ...          ...   \n",
              "1116        1116         0.716   0.748    8    -6.060     1       0.0356   \n",
              "1117        1117         0.778   0.786    3    -4.440     0       0.1150   \n",
              "1118        1118         0.848   0.821    2    -5.408     0       0.0527   \n",
              "1119        1119         0.653   0.973   11    -3.894     1       0.0414   \n",
              "1120        1120         0.686   0.892   10    -3.186     0       0.0498   \n",
              "\n",
              "      acousticness  instrumentalness  liveness  ...    tempo            type  \\\n",
              "0           0.5840          0.000000    0.3220  ...  102.078  audio_features   \n",
              "1           0.7310          0.000015    0.1100  ...  146.277  audio_features   \n",
              "2           0.7400          0.000000    0.1240  ...  150.073  audio_features   \n",
              "3           0.6400          0.000000    0.1690  ...   91.873  audio_features   \n",
              "4           0.9780          0.000040    0.0897  ...   82.642  audio_features   \n",
              "...            ...               ...       ...  ...      ...             ...   \n",
              "1116        0.2350          0.849000    0.1140  ...  119.918  audio_features   \n",
              "1117        0.0189          0.000047    0.0678  ...  128.007  audio_features   \n",
              "1118        0.0169          0.000403    0.0962  ...  125.051  audio_features   \n",
              "1119        0.0338          0.006860    0.2990  ...  128.024  audio_features   \n",
              "1120        0.0577          0.000007    0.0838  ...  126.030  audio_features   \n",
              "\n",
              "                          id                                   uri  \\\n",
              "0     4xqrdfXkTW4T0RauPLv3WA  spotify:track:4xqrdfXkTW4T0RauPLv3WA   \n",
              "1     75JFxkI2RXiU7L9VXzMkle  spotify:track:75JFxkI2RXiU7L9VXzMkle   \n",
              "2     2qxmye6gAegTMjLKEBoR3d  spotify:track:2qxmye6gAegTMjLKEBoR3d   \n",
              "3     1mXVgsBdtIVeCLJnSnmtdV  spotify:track:1mXVgsBdtIVeCLJnSnmtdV   \n",
              "4     43zdsphuZLzwA9k4DJhU0I  spotify:track:43zdsphuZLzwA9k4DJhU0I   \n",
              "...                      ...                                   ...   \n",
              "1116  01kfSdF9zfcDLri5sSWEoL  spotify:track:01kfSdF9zfcDLri5sSWEoL   \n",
              "1117  7FvXYkiDWiLgXA9JHUf7Ni  spotify:track:7FvXYkiDWiLgXA9JHUf7Ni   \n",
              "1118  6GomT970rCOkKAyyrwJeZi  spotify:track:6GomT970rCOkKAyyrwJeZi   \n",
              "1119  7wy8gxfen0STJ2jQMYQBAA  spotify:track:7wy8gxfen0STJ2jQMYQBAA   \n",
              "1120  2LxdNADWier3MKTei8FbOY  spotify:track:2LxdNADWier3MKTei8FbOY   \n",
              "\n",
              "                                             track_href  \\\n",
              "0     https://api.spotify.com/v1/tracks/4xqrdfXkTW4T...   \n",
              "1     https://api.spotify.com/v1/tracks/75JFxkI2RXiU...   \n",
              "2     https://api.spotify.com/v1/tracks/2qxmye6gAegT...   \n",
              "3     https://api.spotify.com/v1/tracks/1mXVgsBdtIVe...   \n",
              "4     https://api.spotify.com/v1/tracks/43zdsphuZLzw...   \n",
              "...                                                 ...   \n",
              "1116  https://api.spotify.com/v1/tracks/01kfSdF9zfcD...   \n",
              "1117  https://api.spotify.com/v1/tracks/7FvXYkiDWiLg...   \n",
              "1118  https://api.spotify.com/v1/tracks/6GomT970rCOk...   \n",
              "1119  https://api.spotify.com/v1/tracks/7wy8gxfen0ST...   \n",
              "1120  https://api.spotify.com/v1/tracks/2LxdNADWier3...   \n",
              "\n",
              "                                           analysis_url duration_ms  \\\n",
              "0     https://api.spotify.com/v1/audio-analysis/4xqr...      198040   \n",
              "1     https://api.spotify.com/v1/audio-analysis/75JF...      309600   \n",
              "2     https://api.spotify.com/v1/audio-analysis/2qxm...      169354   \n",
              "3     https://api.spotify.com/v1/audio-analysis/1mXV...      201000   \n",
              "4     https://api.spotify.com/v1/audio-analysis/43zd...      196077   \n",
              "...                                                 ...         ...   \n",
              "1116  https://api.spotify.com/v1/audio-analysis/01kf...      169245   \n",
              "1117  https://api.spotify.com/v1/audio-analysis/7FvX...      126562   \n",
              "1118  https://api.spotify.com/v1/audio-analysis/6Gom...      157445   \n",
              "1119  https://api.spotify.com/v1/audio-analysis/7wy8...      157573   \n",
              "1120  https://api.spotify.com/v1/audio-analysis/2Lxd...      157206   \n",
              "\n",
              "      time_signature  release_date       mood  \n",
              "0                  3    2020-03-20        sad  \n",
              "1                  4    2002-08-08        sad  \n",
              "2                  4    2018-11-16        sad  \n",
              "3                  4    2017-11-03        sad  \n",
              "4                  4    2019-03-29        sad  \n",
              "...              ...           ...        ...  \n",
              "1116               4    2022-03-18  energizer  \n",
              "1117               4    2023-03-31  energizer  \n",
              "1118               4    2021-10-29  energizer  \n",
              "1119               4    2023-03-24  energizer  \n",
              "1120               4    2022-05-06  energizer  \n",
              "\n",
              "[1121 rows x 21 columns]"
            ]
          },
          "execution_count": 3,
          "metadata": {},
          "output_type": "execute_result"
        }
      ],
      "source": [
        "data = pd.read_csv('/work/trainingSongs_date_update.csv')\n",
        "data"
      ]
    },
    {
      "cell_type": "markdown",
      "metadata": {
        "cell_id": "14177da360214e759958dfd701e5bdd7",
        "deepnote_cell_type": "text-cell-h3",
        "formattedRanges": [],
        "id": "rKiIn4mqaGNL"
      },
      "source": [
        "### Gestión de nulos"
      ]
    },
    {
      "cell_type": "code",
      "execution_count": null,
      "metadata": {
        "cell_id": "a8c932825bf345b48940f2a398e873e0",
        "deepnote_cell_type": "code",
        "deepnote_to_be_reexecuted": false,
        "execution_millis": 516,
        "execution_start": 1708275133862,
        "id": "gPcI_srmaGNL",
        "outputId": "5ceef75f-de65-4c08-fadb-d8024c0ba3e8",
        "source_hash": null
      },
      "outputs": [
        {
          "data": {
            "text/plain": [
              "Unnamed: 0          False\n",
              "danceability        False\n",
              "energy              False\n",
              "key                 False\n",
              "loudness            False\n",
              "mode                False\n",
              "speechiness         False\n",
              "acousticness        False\n",
              "instrumentalness    False\n",
              "liveness            False\n",
              "valence             False\n",
              "tempo               False\n",
              "type                False\n",
              "id                  False\n",
              "uri                 False\n",
              "track_href          False\n",
              "analysis_url        False\n",
              "duration_ms         False\n",
              "time_signature      False\n",
              "release_date        False\n",
              "mood                False\n",
              "dtype: bool"
            ]
          },
          "execution_count": 4,
          "metadata": {},
          "output_type": "execute_result"
        }
      ],
      "source": [
        "# Comprobamos si hay valores nulos en el dataFrame\n",
        "data.isnull().any()"
      ]
    },
    {
      "cell_type": "markdown",
      "metadata": {
        "cell_id": "4a82a1c98b1a41508ba43336fd52d886",
        "deepnote_cell_type": "markdown",
        "id": "qTQTtkbQaGNL"
      },
      "source": [
        "**No hay valores nulos** en el DataFrame por lo tanto continuamos con la visualización de valores duplicados."
      ]
    },
    {
      "cell_type": "markdown",
      "metadata": {
        "cell_id": "53b1a7f914d44e39b70f334a58124584",
        "deepnote_cell_type": "text-cell-h3",
        "formattedRanges": [],
        "id": "zOYrkQhYaGNM"
      },
      "source": [
        "### Visualización de datos duplicados"
      ]
    },
    {
      "cell_type": "markdown",
      "metadata": {
        "cell_id": "578c7886029b431e8cef902e01cb7b2c",
        "deepnote_cell_type": "markdown",
        "id": "PV9m8Y91aGNM"
      },
      "source": [
        "**Mostramos** las columnas **duplicadas**\n",
        "\n"
      ]
    },
    {
      "cell_type": "code",
      "execution_count": null,
      "metadata": {
        "cell_id": "276e82a7f8ac4797967204597a6f56e2",
        "deepnote_cell_type": "code",
        "deepnote_to_be_reexecuted": false,
        "execution_millis": 505,
        "execution_start": 1708275133873,
        "id": "w74nyk2maGNM",
        "outputId": "819dcba3-a1f8-4f3f-fa79-5f718f017380",
        "source_hash": null
      },
      "outputs": [
        {
          "name": "stdout",
          "output_type": "stream",
          "text": [
            "Filas duplicadas en 'id':\n",
            "Unnamed: 0          137\n",
            "danceability        137\n",
            "energy              137\n",
            "key                 137\n",
            "loudness            137\n",
            "mode                137\n",
            "speechiness         137\n",
            "acousticness        137\n",
            "instrumentalness    137\n",
            "liveness            137\n",
            "valence             137\n",
            "tempo               137\n",
            "type                137\n",
            "id                  137\n",
            "uri                 137\n",
            "track_href          137\n",
            "analysis_url        137\n",
            "duration_ms         137\n",
            "time_signature      137\n",
            "release_date        137\n",
            "mood                137\n",
            "dtype: int64\n"
          ]
        }
      ],
      "source": [
        "# Filas duplicadas\n",
        "filas_duplicadas_id = data[data.duplicated(subset='id', keep=False)].count()\n",
        "print(\"Filas duplicadas en 'id':\")\n",
        "print(filas_duplicadas_id)"
      ]
    },
    {
      "cell_type": "markdown",
      "metadata": {
        "cell_id": "c77aa84c5f0f41d78c2e6658f0134a68",
        "deepnote_cell_type": "text-cell-h3",
        "formattedRanges": [],
        "id": "CH5ktFpOaGNM"
      },
      "source": [
        "### Visualización de las Correlaciones entre las distintas columnas (previo al tratamiento de datos)"
      ]
    },
    {
      "cell_type": "markdown",
      "metadata": {
        "cell_id": "35e670468a0a4347bb76afd3ca8189b2",
        "deepnote_cell_type": "markdown",
        "id": "Rxiy2tGxaGNM"
      },
      "source": [
        "Vamos a observar en una **tabla** las correlaciones entre los valores de las columnas antes de ser tratadas."
      ]
    },
    {
      "cell_type": "code",
      "execution_count": null,
      "metadata": {
        "cell_id": "632dfea1c61c4a5da9e6d5efb3cbd5b4",
        "deepnote_cell_type": "code",
        "deepnote_to_be_reexecuted": false,
        "execution_millis": 439,
        "execution_start": 1708275133939,
        "id": "O6h1249qaGNN",
        "outputId": "0539da2c-84bf-4da5-edbe-52adb4ec95fd",
        "source_hash": null
      },
      "outputs": [
        {
          "data": {
            "application/vnd.deepnote.dataframe.v3+json": {
              "column_count": 14,
              "columns": [
                {
                  "dtype": "float64",
                  "name": "Unnamed: 0",
                  "stats": {
                    "histogram": [
                      {
                        "bin_end": -0.20789892623566184,
                        "bin_start": -0.34210991803962426,
                        "count": 2
                      },
                      {
                        "bin_end": -0.07368793443169941,
                        "bin_start": -0.20789892623566184,
                        "count": 1
                      },
                      {
                        "bin_end": 0.06052305737226299,
                        "bin_start": -0.07368793443169941,
                        "count": 2
                      },
                      {
                        "bin_end": 0.19473404917622544,
                        "bin_start": 0.06052305737226299,
                        "count": 5
                      },
                      {
                        "bin_end": 0.3289450409801879,
                        "bin_start": 0.19473404917622544,
                        "count": 2
                      },
                      {
                        "bin_end": 0.46315603278415024,
                        "bin_start": 0.3289450409801879,
                        "count": 1
                      },
                      {
                        "bin_end": 0.5973670245881126,
                        "bin_start": 0.46315603278415024,
                        "count": 0
                      },
                      {
                        "bin_end": 0.7315780163920751,
                        "bin_start": 0.5973670245881126,
                        "count": 0
                      },
                      {
                        "bin_end": 0.8657890081960375,
                        "bin_start": 0.7315780163920751,
                        "count": 0
                      },
                      {
                        "bin_end": 1,
                        "bin_start": 0.8657890081960375,
                        "count": 1
                      }
                    ],
                    "max": "1.0",
                    "min": "-0.34210991803962426",
                    "nan_count": 0,
                    "unique_count": 14
                  }
                },
                {
                  "dtype": "float64",
                  "name": "danceability",
                  "stats": {
                    "histogram": [
                      {
                        "bin_end": -0.17409712673964928,
                        "bin_start": -0.30455236304405475,
                        "count": 3
                      },
                      {
                        "bin_end": -0.0436418904352438,
                        "bin_start": -0.17409712673964928,
                        "count": 2
                      },
                      {
                        "bin_end": 0.08681334586916167,
                        "bin_start": -0.0436418904352438,
                        "count": 3
                      },
                      {
                        "bin_end": 0.21726858217356715,
                        "bin_start": 0.08681334586916167,
                        "count": 2
                      },
                      {
                        "bin_end": 0.3477238184779726,
                        "bin_start": 0.21726858217356715,
                        "count": 2
                      },
                      {
                        "bin_end": 0.4781790547823781,
                        "bin_start": 0.3477238184779726,
                        "count": 0
                      },
                      {
                        "bin_end": 0.6086342910867836,
                        "bin_start": 0.4781790547823781,
                        "count": 1
                      },
                      {
                        "bin_end": 0.739089527391189,
                        "bin_start": 0.6086342910867836,
                        "count": 0
                      },
                      {
                        "bin_end": 0.8695447636955944,
                        "bin_start": 0.739089527391189,
                        "count": 0
                      },
                      {
                        "bin_end": 1,
                        "bin_start": 0.8695447636955944,
                        "count": 1
                      }
                    ],
                    "max": "1.0",
                    "min": "-0.30455236304405475",
                    "nan_count": 0,
                    "unique_count": 14
                  }
                },
                {
                  "dtype": "float64",
                  "name": "energy",
                  "stats": {
                    "histogram": [
                      {
                        "bin_end": -0.6436498749007877,
                        "bin_start": -0.8262776387786531,
                        "count": 1
                      },
                      {
                        "bin_end": -0.46102211102292245,
                        "bin_start": -0.6436498749007877,
                        "count": 0
                      },
                      {
                        "bin_end": -0.27839434714505706,
                        "bin_start": -0.46102211102292245,
                        "count": 0
                      },
                      {
                        "bin_end": -0.09576658326719178,
                        "bin_start": -0.27839434714505706,
                        "count": 2
                      },
                      {
                        "bin_end": 0.0868611806106735,
                        "bin_start": -0.09576658326719178,
                        "count": 2
                      },
                      {
                        "bin_end": 0.269488944488539,
                        "bin_start": 0.0868611806106735,
                        "count": 5
                      },
                      {
                        "bin_end": 0.4521167083664043,
                        "bin_start": 0.269488944488539,
                        "count": 2
                      },
                      {
                        "bin_end": 0.6347444722442696,
                        "bin_start": 0.4521167083664043,
                        "count": 0
                      },
                      {
                        "bin_end": 0.8173722361221348,
                        "bin_start": 0.6347444722442696,
                        "count": 1
                      },
                      {
                        "bin_end": 1,
                        "bin_start": 0.8173722361221348,
                        "count": 1
                      }
                    ],
                    "max": "1.0",
                    "min": "-0.8262776387786531",
                    "nan_count": 0,
                    "unique_count": 14
                  }
                },
                {
                  "dtype": "float64",
                  "name": "key",
                  "stats": {
                    "histogram": [
                      {
                        "bin_end": -0.004405031382222049,
                        "bin_start": -0.11600559042469115,
                        "count": 4
                      },
                      {
                        "bin_end": 0.10719552766024705,
                        "bin_start": -0.004405031382222049,
                        "count": 9
                      },
                      {
                        "bin_end": 0.2187960867027161,
                        "bin_start": 0.10719552766024705,
                        "count": 0
                      },
                      {
                        "bin_end": 0.33039664574518524,
                        "bin_start": 0.2187960867027161,
                        "count": 0
                      },
                      {
                        "bin_end": 0.44199720478765436,
                        "bin_start": 0.33039664574518524,
                        "count": 0
                      },
                      {
                        "bin_end": 0.5535977638301234,
                        "bin_start": 0.44199720478765436,
                        "count": 0
                      },
                      {
                        "bin_end": 0.6651983228725925,
                        "bin_start": 0.5535977638301234,
                        "count": 0
                      },
                      {
                        "bin_end": 0.7767988819150616,
                        "bin_start": 0.6651983228725925,
                        "count": 0
                      },
                      {
                        "bin_end": 0.8883994409575308,
                        "bin_start": 0.7767988819150616,
                        "count": 0
                      },
                      {
                        "bin_end": 1,
                        "bin_start": 0.8883994409575308,
                        "count": 1
                      }
                    ],
                    "max": "1.0",
                    "min": "-0.11600559042469115",
                    "nan_count": 0,
                    "unique_count": 14
                  }
                },
                {
                  "dtype": "float64",
                  "name": "loudness",
                  "stats": {
                    "histogram": [
                      {
                        "bin_end": -0.5071211443478421,
                        "bin_start": -0.6745790492753801,
                        "count": 1
                      },
                      {
                        "bin_end": -0.3396632394203041,
                        "bin_start": -0.5071211443478421,
                        "count": 0
                      },
                      {
                        "bin_end": -0.17220533449276598,
                        "bin_start": -0.3396632394203041,
                        "count": 0
                      },
                      {
                        "bin_end": -0.004747429565228001,
                        "bin_start": -0.17220533449276598,
                        "count": 3
                      },
                      {
                        "bin_end": 0.16271047536230998,
                        "bin_start": -0.004747429565228001,
                        "count": 1
                      },
                      {
                        "bin_end": 0.3301683802898482,
                        "bin_start": 0.16271047536230998,
                        "count": 7
                      },
                      {
                        "bin_end": 0.49762628521738617,
                        "bin_start": 0.3301683802898482,
                        "count": 0
                      },
                      {
                        "bin_end": 0.6650841901449241,
                        "bin_start": 0.49762628521738617,
                        "count": 0
                      },
                      {
                        "bin_end": 0.8325420950724621,
                        "bin_start": 0.6650841901449241,
                        "count": 1
                      },
                      {
                        "bin_end": 1,
                        "bin_start": 0.8325420950724621,
                        "count": 1
                      }
                    ],
                    "max": "1.0",
                    "min": "-0.6745790492753801",
                    "nan_count": 0,
                    "unique_count": 14
                  }
                },
                {
                  "dtype": "float64",
                  "name": "mode",
                  "stats": {
                    "histogram": [
                      {
                        "bin_end": -0.07279211473379828,
                        "bin_start": -0.1919912385931092,
                        "count": 7
                      },
                      {
                        "bin_end": 0.046407009125512655,
                        "bin_start": -0.07279211473379828,
                        "count": 4
                      },
                      {
                        "bin_end": 0.1656061329848236,
                        "bin_start": 0.046407009125512655,
                        "count": 1
                      },
                      {
                        "bin_end": 0.2848052568441345,
                        "bin_start": 0.1656061329848236,
                        "count": 1
                      },
                      {
                        "bin_end": 0.40400438070344546,
                        "bin_start": 0.2848052568441345,
                        "count": 0
                      },
                      {
                        "bin_end": 0.5232035045627564,
                        "bin_start": 0.40400438070344546,
                        "count": 0
                      },
                      {
                        "bin_end": 0.6424026284220673,
                        "bin_start": 0.5232035045627564,
                        "count": 0
                      },
                      {
                        "bin_end": 0.7616017522813783,
                        "bin_start": 0.6424026284220673,
                        "count": 0
                      },
                      {
                        "bin_end": 0.8808008761406892,
                        "bin_start": 0.7616017522813783,
                        "count": 0
                      },
                      {
                        "bin_end": 1,
                        "bin_start": 0.8808008761406892,
                        "count": 1
                      }
                    ],
                    "max": "1.0",
                    "min": "-0.1919912385931092",
                    "nan_count": 0,
                    "unique_count": 14
                  }
                },
                {
                  "dtype": "float64",
                  "name": "speechiness",
                  "stats": {
                    "histogram": [
                      {
                        "bin_end": -0.10964046395394313,
                        "bin_start": -0.2329338488377146,
                        "count": 1
                      },
                      {
                        "bin_end": 0.013652920929828338,
                        "bin_start": -0.10964046395394313,
                        "count": 4
                      },
                      {
                        "bin_end": 0.13694630581359982,
                        "bin_start": 0.013652920929828338,
                        "count": 4
                      },
                      {
                        "bin_end": 0.2602396906973713,
                        "bin_start": 0.13694630581359982,
                        "count": 4
                      },
                      {
                        "bin_end": 0.3835330755811427,
                        "bin_start": 0.2602396906973713,
                        "count": 0
                      },
                      {
                        "bin_end": 0.5068264604649142,
                        "bin_start": 0.3835330755811427,
                        "count": 0
                      },
                      {
                        "bin_end": 0.6301198453486856,
                        "bin_start": 0.5068264604649142,
                        "count": 0
                      },
                      {
                        "bin_end": 0.7534132302324571,
                        "bin_start": 0.6301198453486856,
                        "count": 0
                      },
                      {
                        "bin_end": 0.8767066151162286,
                        "bin_start": 0.7534132302324571,
                        "count": 0
                      },
                      {
                        "bin_end": 1,
                        "bin_start": 0.8767066151162286,
                        "count": 1
                      }
                    ],
                    "max": "1.0",
                    "min": "-0.2329338488377146",
                    "nan_count": 0,
                    "unique_count": 14
                  }
                },
                {
                  "dtype": "float64",
                  "name": "acousticness",
                  "stats": {
                    "histogram": [
                      {
                        "bin_end": -0.6436498749007877,
                        "bin_start": -0.8262776387786531,
                        "count": 2
                      },
                      {
                        "bin_end": -0.46102211102292245,
                        "bin_start": -0.6436498749007877,
                        "count": 0
                      },
                      {
                        "bin_end": -0.27839434714505706,
                        "bin_start": -0.46102211102292245,
                        "count": 3
                      },
                      {
                        "bin_end": -0.09576658326719178,
                        "bin_start": -0.27839434714505706,
                        "count": 4
                      },
                      {
                        "bin_end": 0.0868611806106735,
                        "bin_start": -0.09576658326719178,
                        "count": 2
                      },
                      {
                        "bin_end": 0.269488944488539,
                        "bin_start": 0.0868611806106735,
                        "count": 2
                      },
                      {
                        "bin_end": 0.4521167083664043,
                        "bin_start": 0.269488944488539,
                        "count": 0
                      },
                      {
                        "bin_end": 0.6347444722442696,
                        "bin_start": 0.4521167083664043,
                        "count": 0
                      },
                      {
                        "bin_end": 0.8173722361221348,
                        "bin_start": 0.6347444722442696,
                        "count": 0
                      },
                      {
                        "bin_end": 1,
                        "bin_start": 0.8173722361221348,
                        "count": 1
                      }
                    ],
                    "max": "1.0",
                    "min": "-0.8262776387786531",
                    "nan_count": 0,
                    "unique_count": 14
                  }
                },
                {
                  "dtype": "float64",
                  "name": "instrumentalness",
                  "stats": {
                    "histogram": [
                      {
                        "bin_end": -0.029539180769541568,
                        "bin_start": -0.14393242307726842,
                        "count": 6
                      },
                      {
                        "bin_end": 0.08485406153818528,
                        "bin_start": -0.029539180769541568,
                        "count": 6
                      },
                      {
                        "bin_end": 0.19924730384591213,
                        "bin_start": 0.08485406153818528,
                        "count": 1
                      },
                      {
                        "bin_end": 0.313640546153639,
                        "bin_start": 0.19924730384591213,
                        "count": 0
                      },
                      {
                        "bin_end": 0.42803378846136586,
                        "bin_start": 0.313640546153639,
                        "count": 0
                      },
                      {
                        "bin_end": 0.5424270307690927,
                        "bin_start": 0.42803378846136586,
                        "count": 0
                      },
                      {
                        "bin_end": 0.6568202730768196,
                        "bin_start": 0.5424270307690927,
                        "count": 0
                      },
                      {
                        "bin_end": 0.7712135153845464,
                        "bin_start": 0.6568202730768196,
                        "count": 0
                      },
                      {
                        "bin_end": 0.8856067576922734,
                        "bin_start": 0.7712135153845464,
                        "count": 0
                      },
                      {
                        "bin_end": 1,
                        "bin_start": 0.8856067576922734,
                        "count": 1
                      }
                    ],
                    "max": "1.0",
                    "min": "-0.14393242307726842",
                    "nan_count": 0,
                    "unique_count": 14
                  }
                },
                {
                  "dtype": "float64",
                  "name": "liveness",
                  "stats": {
                    "histogram": [
                      {
                        "bin_end": -0.040928718225506255,
                        "bin_start": -0.15658746469500695,
                        "count": 3
                      },
                      {
                        "bin_end": 0.07473002824399444,
                        "bin_start": -0.040928718225506255,
                        "count": 5
                      },
                      {
                        "bin_end": 0.19038877471349513,
                        "bin_start": 0.07473002824399444,
                        "count": 2
                      },
                      {
                        "bin_end": 0.30604752118299583,
                        "bin_start": 0.19038877471349513,
                        "count": 3
                      },
                      {
                        "bin_end": 0.4217062676524965,
                        "bin_start": 0.30604752118299583,
                        "count": 0
                      },
                      {
                        "bin_end": 0.5373650141219972,
                        "bin_start": 0.4217062676524965,
                        "count": 0
                      },
                      {
                        "bin_end": 0.6530237605914979,
                        "bin_start": 0.5373650141219972,
                        "count": 0
                      },
                      {
                        "bin_end": 0.7686825070609986,
                        "bin_start": 0.6530237605914979,
                        "count": 0
                      },
                      {
                        "bin_end": 0.8843412535304993,
                        "bin_start": 0.7686825070609986,
                        "count": 0
                      },
                      {
                        "bin_end": 1,
                        "bin_start": 0.8843412535304993,
                        "count": 1
                      }
                    ],
                    "max": "1.0",
                    "min": "-0.15658746469500695",
                    "nan_count": 0,
                    "unique_count": 14
                  }
                },
                {
                  "dtype": "float64",
                  "name": "valence",
                  "stats": {
                    "histogram": [
                      {
                        "bin_end": -0.15733793503278687,
                        "bin_start": -0.28593103892531874,
                        "count": 1
                      },
                      {
                        "bin_end": -0.028744831140255,
                        "bin_start": -0.15733793503278687,
                        "count": 3
                      },
                      {
                        "bin_end": 0.09984827275227687,
                        "bin_start": -0.028744831140255,
                        "count": 5
                      },
                      {
                        "bin_end": 0.22844137664480874,
                        "bin_start": 0.09984827275227687,
                        "count": 1
                      },
                      {
                        "bin_end": 0.3570344805373406,
                        "bin_start": 0.22844137664480874,
                        "count": 2
                      },
                      {
                        "bin_end": 0.48562758442987247,
                        "bin_start": 0.3570344805373406,
                        "count": 0
                      },
                      {
                        "bin_end": 0.6142206883224044,
                        "bin_start": 0.48562758442987247,
                        "count": 1
                      },
                      {
                        "bin_end": 0.7428137922149363,
                        "bin_start": 0.6142206883224044,
                        "count": 0
                      },
                      {
                        "bin_end": 0.8714068961074681,
                        "bin_start": 0.7428137922149363,
                        "count": 0
                      },
                      {
                        "bin_end": 1,
                        "bin_start": 0.8714068961074681,
                        "count": 1
                      }
                    ],
                    "max": "1.0",
                    "min": "-0.28593103892531874",
                    "nan_count": 0,
                    "unique_count": 14
                  }
                },
                {
                  "dtype": "float64",
                  "name": "tempo",
                  "stats": {
                    "histogram": [
                      {
                        "bin_end": -0.09025018863747634,
                        "bin_start": -0.21138909848608484,
                        "count": 2
                      },
                      {
                        "bin_end": 0.030888721211132147,
                        "bin_start": -0.09025018863747634,
                        "count": 5
                      },
                      {
                        "bin_end": 0.15202763105974065,
                        "bin_start": 0.030888721211132147,
                        "count": 3
                      },
                      {
                        "bin_end": 0.27316654090834913,
                        "bin_start": 0.15202763105974065,
                        "count": 3
                      },
                      {
                        "bin_end": 0.3943054507569576,
                        "bin_start": 0.27316654090834913,
                        "count": 0
                      },
                      {
                        "bin_end": 0.5154443606055661,
                        "bin_start": 0.3943054507569576,
                        "count": 0
                      },
                      {
                        "bin_end": 0.6365832704541745,
                        "bin_start": 0.5154443606055661,
                        "count": 0
                      },
                      {
                        "bin_end": 0.7577221803027832,
                        "bin_start": 0.6365832704541745,
                        "count": 0
                      },
                      {
                        "bin_end": 0.8788610901513916,
                        "bin_start": 0.7577221803027832,
                        "count": 0
                      },
                      {
                        "bin_end": 1,
                        "bin_start": 0.8788610901513916,
                        "count": 1
                      }
                    ],
                    "max": "1.0",
                    "min": "-0.21138909848608484",
                    "nan_count": 0,
                    "unique_count": 14
                  }
                },
                {
                  "dtype": "float64",
                  "name": "duration_ms",
                  "stats": {
                    "histogram": [
                      {
                        "bin_end": -0.122998411470261,
                        "bin_start": -0.24777601274473443,
                        "count": 5
                      },
                      {
                        "bin_end": 0.0017791898042124332,
                        "bin_start": -0.122998411470261,
                        "count": 6
                      },
                      {
                        "bin_end": 0.12655679107868584,
                        "bin_start": 0.0017791898042124332,
                        "count": 1
                      },
                      {
                        "bin_end": 0.2513343923531593,
                        "bin_start": 0.12655679107868584,
                        "count": 1
                      },
                      {
                        "bin_end": 0.37611199362763276,
                        "bin_start": 0.2513343923531593,
                        "count": 0
                      },
                      {
                        "bin_end": 0.5008895949021062,
                        "bin_start": 0.37611199362763276,
                        "count": 0
                      },
                      {
                        "bin_end": 0.6256671961765796,
                        "bin_start": 0.5008895949021062,
                        "count": 0
                      },
                      {
                        "bin_end": 0.7504447974510531,
                        "bin_start": 0.6256671961765796,
                        "count": 0
                      },
                      {
                        "bin_end": 0.8752223987255265,
                        "bin_start": 0.7504447974510531,
                        "count": 0
                      },
                      {
                        "bin_end": 1,
                        "bin_start": 0.8752223987255265,
                        "count": 1
                      }
                    ],
                    "max": "1.0",
                    "min": "-0.24777601274473443",
                    "nan_count": 0,
                    "unique_count": 14
                  }
                },
                {
                  "dtype": "float64",
                  "name": "time_signature",
                  "stats": {
                    "histogram": [
                      {
                        "bin_end": -0.04509023901562574,
                        "bin_start": -0.1612113766840286,
                        "count": 4
                      },
                      {
                        "bin_end": 0.07103089865277712,
                        "bin_start": -0.04509023901562574,
                        "count": 3
                      },
                      {
                        "bin_end": 0.18715203632117997,
                        "bin_start": 0.07103089865277712,
                        "count": 5
                      },
                      {
                        "bin_end": 0.30327317398958287,
                        "bin_start": 0.18715203632117997,
                        "count": 1
                      },
                      {
                        "bin_end": 0.4193943116579857,
                        "bin_start": 0.30327317398958287,
                        "count": 0
                      },
                      {
                        "bin_end": 0.5355154493263885,
                        "bin_start": 0.4193943116579857,
                        "count": 0
                      },
                      {
                        "bin_end": 0.6516365869947914,
                        "bin_start": 0.5355154493263885,
                        "count": 0
                      },
                      {
                        "bin_end": 0.7677577246631943,
                        "bin_start": 0.6516365869947914,
                        "count": 0
                      },
                      {
                        "bin_end": 0.8838788623315972,
                        "bin_start": 0.7677577246631943,
                        "count": 0
                      },
                      {
                        "bin_end": 1,
                        "bin_start": 0.8838788623315972,
                        "count": 1
                      }
                    ],
                    "max": "1.0",
                    "min": "-0.1612113766840286",
                    "nan_count": 0,
                    "unique_count": 14
                  }
                },
                {
                  "dtype": "object",
                  "name": "_deepnote_index_column"
                }
              ],
              "row_count": 14,
              "rows": [
                {
                  "Unnamed: 0": 1,
                  "_deepnote_index_column": "Unnamed: 0",
                  "acousticness": -0.34210991803962426,
                  "danceability": 0.12824035235430084,
                  "duration_ms": -0.21464075599562943,
                  "energy": 0.383977532978294,
                  "instrumentalness": 0.17191650549659848,
                  "key": 0.05845849324037416,
                  "liveness": 0.19851840715734476,
                  "loudness": 0.30022305406679817,
                  "mode": -0.1243249751079111,
                  "speechiness": 0.15722630312548674,
                  "tempo": 0.16549411173785472,
                  "time_signature": 0.12452000721500082,
                  "valence": 0.019789123173761358
                },
                {
                  "Unnamed: 0": 0.12824035235430084,
                  "_deepnote_index_column": "danceability",
                  "acousticness": -0.30455236304405475,
                  "danceability": 1,
                  "duration_ms": -0.24777601274473443,
                  "energy": 0.2617486603656613,
                  "instrumentalness": 0.07761405350922437,
                  "key": 0.04286919816826348,
                  "liveness": -0.06868965320623666,
                  "loudness": 0.2097544734766611,
                  "mode": -0.07488089711010885,
                  "speechiness": 0.08097426407881428,
                  "tempo": -0.1763503110297377,
                  "time_signature": 0.22346964525060675,
                  "valence": 0.5176012860792235
                },
                {
                  "Unnamed: 0": 0.383977532978294,
                  "_deepnote_index_column": "energy",
                  "acousticness": -0.8262776387786531,
                  "danceability": 0.2617486603656613,
                  "duration_ms": -0.17013462464527165,
                  "energy": 1,
                  "instrumentalness": 0.062336874680705145,
                  "key": 0.057753917193408916,
                  "liveness": 0.2661452057898127,
                  "loudness": 0.8087574111551084,
                  "mode": -0.1919912385931092,
                  "speechiness": 0.2549157157375546,
                  "tempo": 0.2615447108918914,
                  "time_signature": 0.16941743124167022,
                  "valence": 0.3561590847591201
                },
                {
                  "Unnamed: 0": 0.05845849324037416,
                  "_deepnote_index_column": "key",
                  "acousticness": -0.04390719161173256,
                  "danceability": 0.04286919816826348,
                  "duration_ms": -0.07926725988278586,
                  "energy": 0.057753917193408916,
                  "instrumentalness": 0.02731465487984777,
                  "key": 1,
                  "liveness": 0.0032442608710846915,
                  "loudness": 0.046892469546600694,
                  "mode": -0.11600559042469115,
                  "speechiness": -0.013424167354446966,
                  "tempo": 0.007714990268718349,
                  "time_signature": 0.00565992690581471,
                  "valence": 0.019750693272589076
                },
                {
                  "Unnamed: 0": 0.30022305406679817,
                  "_deepnote_index_column": "loudness",
                  "acousticness": -0.6745790492753801,
                  "danceability": 0.2097544734766611,
                  "duration_ms": -0.1320206121310638,
                  "energy": 0.8087574111551084,
                  "instrumentalness": -0.14393242307726842,
                  "key": 0.046892469546600694,
                  "liveness": 0.19409329149761637,
                  "loudness": 1,
                  "mode": -0.1512796059184834,
                  "speechiness": 0.17965926907603336,
                  "tempo": 0.23594330808717293,
                  "time_signature": 0.16776321397868976,
                  "valence": 0.2928463818393476
                },
                {
                  "Unnamed: 0": -0.1243249751079111,
                  "_deepnote_index_column": "mode",
                  "acousticness": 0.1773326666658964,
                  "danceability": -0.07488089711010885,
                  "duration_ms": 0.09180007904277339,
                  "energy": -0.1919912385931092,
                  "instrumentalness": -0.04420393209749155,
                  "key": -0.11600559042469115,
                  "liveness": -0.10672631848515378,
                  "loudness": -0.1512796059184834,
                  "mode": 1,
                  "speechiness": -0.07258788191130634,
                  "tempo": -0.06341898654068176,
                  "time_signature": -0.09279489572817651,
                  "valence": 0.011476654025638586
                },
                {
                  "Unnamed: 0": 0.15722630312548674,
                  "_deepnote_index_column": "speechiness",
                  "acousticness": -0.2329338488377146,
                  "danceability": 0.08097426407881428,
                  "duration_ms": -0.1016181417583783,
                  "energy": 0.2549157157375546,
                  "instrumentalness": -0.046340371519990174,
                  "key": -0.013424167354446966,
                  "liveness": 0.18375144674625205,
                  "loudness": 0.17965926907603336,
                  "mode": -0.07258788191130634,
                  "speechiness": 1,
                  "tempo": 0.11787480913491019,
                  "time_signature": 0.08967688457204975,
                  "valence": 0.05878826285539916
                },
                {
                  "Unnamed: 0": -0.34210991803962426,
                  "_deepnote_index_column": "acousticness",
                  "acousticness": 1,
                  "danceability": -0.30455236304405475,
                  "duration_ms": 0.16152549349376286,
                  "energy": -0.8262776387786531,
                  "instrumentalness": -0.06408202743073563,
                  "key": -0.04390719161173256,
                  "liveness": -0.15658746469500695,
                  "loudness": -0.6745790492753801,
                  "mode": 0.1773326666658964,
                  "speechiness": -0.2329338488377146,
                  "tempo": -0.21138909848608484,
                  "time_signature": -0.1612113766840286,
                  "valence": -0.28593103892531874
                },
                {
                  "Unnamed: 0": 0.17191650549659848,
                  "_deepnote_index_column": "instrumentalness",
                  "acousticness": -0.06408202743073563,
                  "danceability": 0.07761405350922437,
                  "duration_ms": -0.08214309858011673,
                  "energy": 0.062336874680705145,
                  "instrumentalness": 1,
                  "key": 0.02731465487984777,
                  "liveness": -0.026378726158143306,
                  "loudness": -0.14393242307726842,
                  "mode": -0.04420393209749155,
                  "speechiness": -0.046340371519990174,
                  "tempo": 0.030912961322576274,
                  "time_signature": -0.010197585002066755,
                  "valence": -0.08856009663935127
                },
                {
                  "Unnamed: 0": 0.19851840715734476,
                  "_deepnote_index_column": "liveness",
                  "acousticness": -0.15658746469500695,
                  "danceability": -0.06868965320623666,
                  "duration_ms": -0.018481455137673214,
                  "energy": 0.2661452057898127,
                  "instrumentalness": -0.026378726158143306,
                  "key": 0.0032442608710846915,
                  "liveness": 1,
                  "loudness": 0.19409329149761637,
                  "mode": -0.10672631848515378,
                  "speechiness": 0.18375144674625205,
                  "tempo": 0.10363148015355264,
                  "time_signature": 0.025491504124978342,
                  "valence": -0.00943910803860893
                }
              ]
            },
            "text/html": [
              "<div>\n",
              "<style scoped>\n",
              "    .dataframe tbody tr th:only-of-type {\n",
              "        vertical-align: middle;\n",
              "    }\n",
              "\n",
              "    .dataframe tbody tr th {\n",
              "        vertical-align: top;\n",
              "    }\n",
              "\n",
              "    .dataframe thead th {\n",
              "        text-align: right;\n",
              "    }\n",
              "</style>\n",
              "<table border=\"1\" class=\"dataframe\">\n",
              "  <thead>\n",
              "    <tr style=\"text-align: right;\">\n",
              "      <th></th>\n",
              "      <th>Unnamed: 0</th>\n",
              "      <th>danceability</th>\n",
              "      <th>energy</th>\n",
              "      <th>key</th>\n",
              "      <th>loudness</th>\n",
              "      <th>mode</th>\n",
              "      <th>speechiness</th>\n",
              "      <th>acousticness</th>\n",
              "      <th>instrumentalness</th>\n",
              "      <th>liveness</th>\n",
              "      <th>valence</th>\n",
              "      <th>tempo</th>\n",
              "      <th>duration_ms</th>\n",
              "      <th>time_signature</th>\n",
              "    </tr>\n",
              "  </thead>\n",
              "  <tbody>\n",
              "    <tr>\n",
              "      <th>Unnamed: 0</th>\n",
              "      <td>1.000000</td>\n",
              "      <td>0.128240</td>\n",
              "      <td>0.383978</td>\n",
              "      <td>0.058458</td>\n",
              "      <td>0.300223</td>\n",
              "      <td>-0.124325</td>\n",
              "      <td>0.157226</td>\n",
              "      <td>-0.342110</td>\n",
              "      <td>0.171917</td>\n",
              "      <td>0.198518</td>\n",
              "      <td>0.019789</td>\n",
              "      <td>0.165494</td>\n",
              "      <td>-0.214641</td>\n",
              "      <td>0.124520</td>\n",
              "    </tr>\n",
              "    <tr>\n",
              "      <th>danceability</th>\n",
              "      <td>0.128240</td>\n",
              "      <td>1.000000</td>\n",
              "      <td>0.261749</td>\n",
              "      <td>0.042869</td>\n",
              "      <td>0.209754</td>\n",
              "      <td>-0.074881</td>\n",
              "      <td>0.080974</td>\n",
              "      <td>-0.304552</td>\n",
              "      <td>0.077614</td>\n",
              "      <td>-0.068690</td>\n",
              "      <td>0.517601</td>\n",
              "      <td>-0.176350</td>\n",
              "      <td>-0.247776</td>\n",
              "      <td>0.223470</td>\n",
              "    </tr>\n",
              "    <tr>\n",
              "      <th>energy</th>\n",
              "      <td>0.383978</td>\n",
              "      <td>0.261749</td>\n",
              "      <td>1.000000</td>\n",
              "      <td>0.057754</td>\n",
              "      <td>0.808757</td>\n",
              "      <td>-0.191991</td>\n",
              "      <td>0.254916</td>\n",
              "      <td>-0.826278</td>\n",
              "      <td>0.062337</td>\n",
              "      <td>0.266145</td>\n",
              "      <td>0.356159</td>\n",
              "      <td>0.261545</td>\n",
              "      <td>-0.170135</td>\n",
              "      <td>0.169417</td>\n",
              "    </tr>\n",
              "    <tr>\n",
              "      <th>key</th>\n",
              "      <td>0.058458</td>\n",
              "      <td>0.042869</td>\n",
              "      <td>0.057754</td>\n",
              "      <td>1.000000</td>\n",
              "      <td>0.046892</td>\n",
              "      <td>-0.116006</td>\n",
              "      <td>-0.013424</td>\n",
              "      <td>-0.043907</td>\n",
              "      <td>0.027315</td>\n",
              "      <td>0.003244</td>\n",
              "      <td>0.019751</td>\n",
              "      <td>0.007715</td>\n",
              "      <td>-0.079267</td>\n",
              "      <td>0.005660</td>\n",
              "    </tr>\n",
              "    <tr>\n",
              "      <th>loudness</th>\n",
              "      <td>0.300223</td>\n",
              "      <td>0.209754</td>\n",
              "      <td>0.808757</td>\n",
              "      <td>0.046892</td>\n",
              "      <td>1.000000</td>\n",
              "      <td>-0.151280</td>\n",
              "      <td>0.179659</td>\n",
              "      <td>-0.674579</td>\n",
              "      <td>-0.143932</td>\n",
              "      <td>0.194093</td>\n",
              "      <td>0.292846</td>\n",
              "      <td>0.235943</td>\n",
              "      <td>-0.132021</td>\n",
              "      <td>0.167763</td>\n",
              "    </tr>\n",
              "    <tr>\n",
              "      <th>mode</th>\n",
              "      <td>-0.124325</td>\n",
              "      <td>-0.074881</td>\n",
              "      <td>-0.191991</td>\n",
              "      <td>-0.116006</td>\n",
              "      <td>-0.151280</td>\n",
              "      <td>1.000000</td>\n",
              "      <td>-0.072588</td>\n",
              "      <td>0.177333</td>\n",
              "      <td>-0.044204</td>\n",
              "      <td>-0.106726</td>\n",
              "      <td>0.011477</td>\n",
              "      <td>-0.063419</td>\n",
              "      <td>0.091800</td>\n",
              "      <td>-0.092795</td>\n",
              "    </tr>\n",
              "    <tr>\n",
              "      <th>speechiness</th>\n",
              "      <td>0.157226</td>\n",
              "      <td>0.080974</td>\n",
              "      <td>0.254916</td>\n",
              "      <td>-0.013424</td>\n",
              "      <td>0.179659</td>\n",
              "      <td>-0.072588</td>\n",
              "      <td>1.000000</td>\n",
              "      <td>-0.232934</td>\n",
              "      <td>-0.046340</td>\n",
              "      <td>0.183751</td>\n",
              "      <td>0.058788</td>\n",
              "      <td>0.117875</td>\n",
              "      <td>-0.101618</td>\n",
              "      <td>0.089677</td>\n",
              "    </tr>\n",
              "    <tr>\n",
              "      <th>acousticness</th>\n",
              "      <td>-0.342110</td>\n",
              "      <td>-0.304552</td>\n",
              "      <td>-0.826278</td>\n",
              "      <td>-0.043907</td>\n",
              "      <td>-0.674579</td>\n",
              "      <td>0.177333</td>\n",
              "      <td>-0.232934</td>\n",
              "      <td>1.000000</td>\n",
              "      <td>-0.064082</td>\n",
              "      <td>-0.156587</td>\n",
              "      <td>-0.285931</td>\n",
              "      <td>-0.211389</td>\n",
              "      <td>0.161525</td>\n",
              "      <td>-0.161211</td>\n",
              "    </tr>\n",
              "    <tr>\n",
              "      <th>instrumentalness</th>\n",
              "      <td>0.171917</td>\n",
              "      <td>0.077614</td>\n",
              "      <td>0.062337</td>\n",
              "      <td>0.027315</td>\n",
              "      <td>-0.143932</td>\n",
              "      <td>-0.044204</td>\n",
              "      <td>-0.046340</td>\n",
              "      <td>-0.064082</td>\n",
              "      <td>1.000000</td>\n",
              "      <td>-0.026379</td>\n",
              "      <td>-0.088560</td>\n",
              "      <td>0.030913</td>\n",
              "      <td>-0.082143</td>\n",
              "      <td>-0.010198</td>\n",
              "    </tr>\n",
              "    <tr>\n",
              "      <th>liveness</th>\n",
              "      <td>0.198518</td>\n",
              "      <td>-0.068690</td>\n",
              "      <td>0.266145</td>\n",
              "      <td>0.003244</td>\n",
              "      <td>0.194093</td>\n",
              "      <td>-0.106726</td>\n",
              "      <td>0.183751</td>\n",
              "      <td>-0.156587</td>\n",
              "      <td>-0.026379</td>\n",
              "      <td>1.000000</td>\n",
              "      <td>-0.009439</td>\n",
              "      <td>0.103631</td>\n",
              "      <td>-0.018481</td>\n",
              "      <td>0.025492</td>\n",
              "    </tr>\n",
              "    <tr>\n",
              "      <th>valence</th>\n",
              "      <td>0.019789</td>\n",
              "      <td>0.517601</td>\n",
              "      <td>0.356159</td>\n",
              "      <td>0.019751</td>\n",
              "      <td>0.292846</td>\n",
              "      <td>0.011477</td>\n",
              "      <td>0.058788</td>\n",
              "      <td>-0.285931</td>\n",
              "      <td>-0.088560</td>\n",
              "      <td>-0.009439</td>\n",
              "      <td>1.000000</td>\n",
              "      <td>-0.058014</td>\n",
              "      <td>-0.154110</td>\n",
              "      <td>0.126879</td>\n",
              "    </tr>\n",
              "    <tr>\n",
              "      <th>tempo</th>\n",
              "      <td>0.165494</td>\n",
              "      <td>-0.176350</td>\n",
              "      <td>0.261545</td>\n",
              "      <td>0.007715</td>\n",
              "      <td>0.235943</td>\n",
              "      <td>-0.063419</td>\n",
              "      <td>0.117875</td>\n",
              "      <td>-0.211389</td>\n",
              "      <td>0.030913</td>\n",
              "      <td>0.103631</td>\n",
              "      <td>-0.058014</td>\n",
              "      <td>1.000000</td>\n",
              "      <td>-0.007539</td>\n",
              "      <td>-0.059317</td>\n",
              "    </tr>\n",
              "    <tr>\n",
              "      <th>duration_ms</th>\n",
              "      <td>-0.214641</td>\n",
              "      <td>-0.247776</td>\n",
              "      <td>-0.170135</td>\n",
              "      <td>-0.079267</td>\n",
              "      <td>-0.132021</td>\n",
              "      <td>0.091800</td>\n",
              "      <td>-0.101618</td>\n",
              "      <td>0.161525</td>\n",
              "      <td>-0.082143</td>\n",
              "      <td>-0.018481</td>\n",
              "      <td>-0.154110</td>\n",
              "      <td>-0.007539</td>\n",
              "      <td>1.000000</td>\n",
              "      <td>-0.062748</td>\n",
              "    </tr>\n",
              "    <tr>\n",
              "      <th>time_signature</th>\n",
              "      <td>0.124520</td>\n",
              "      <td>0.223470</td>\n",
              "      <td>0.169417</td>\n",
              "      <td>0.005660</td>\n",
              "      <td>0.167763</td>\n",
              "      <td>-0.092795</td>\n",
              "      <td>0.089677</td>\n",
              "      <td>-0.161211</td>\n",
              "      <td>-0.010198</td>\n",
              "      <td>0.025492</td>\n",
              "      <td>0.126879</td>\n",
              "      <td>-0.059317</td>\n",
              "      <td>-0.062748</td>\n",
              "      <td>1.000000</td>\n",
              "    </tr>\n",
              "  </tbody>\n",
              "</table>\n",
              "</div>"
            ],
            "text/plain": [
              "                  Unnamed: 0  danceability    energy       key  loudness  \\\n",
              "Unnamed: 0          1.000000      0.128240  0.383978  0.058458  0.300223   \n",
              "danceability        0.128240      1.000000  0.261749  0.042869  0.209754   \n",
              "energy              0.383978      0.261749  1.000000  0.057754  0.808757   \n",
              "key                 0.058458      0.042869  0.057754  1.000000  0.046892   \n",
              "loudness            0.300223      0.209754  0.808757  0.046892  1.000000   \n",
              "mode               -0.124325     -0.074881 -0.191991 -0.116006 -0.151280   \n",
              "speechiness         0.157226      0.080974  0.254916 -0.013424  0.179659   \n",
              "acousticness       -0.342110     -0.304552 -0.826278 -0.043907 -0.674579   \n",
              "instrumentalness    0.171917      0.077614  0.062337  0.027315 -0.143932   \n",
              "liveness            0.198518     -0.068690  0.266145  0.003244  0.194093   \n",
              "valence             0.019789      0.517601  0.356159  0.019751  0.292846   \n",
              "tempo               0.165494     -0.176350  0.261545  0.007715  0.235943   \n",
              "duration_ms        -0.214641     -0.247776 -0.170135 -0.079267 -0.132021   \n",
              "time_signature      0.124520      0.223470  0.169417  0.005660  0.167763   \n",
              "\n",
              "                      mode  speechiness  acousticness  instrumentalness  \\\n",
              "Unnamed: 0       -0.124325     0.157226     -0.342110          0.171917   \n",
              "danceability     -0.074881     0.080974     -0.304552          0.077614   \n",
              "energy           -0.191991     0.254916     -0.826278          0.062337   \n",
              "key              -0.116006    -0.013424     -0.043907          0.027315   \n",
              "loudness         -0.151280     0.179659     -0.674579         -0.143932   \n",
              "mode              1.000000    -0.072588      0.177333         -0.044204   \n",
              "speechiness      -0.072588     1.000000     -0.232934         -0.046340   \n",
              "acousticness      0.177333    -0.232934      1.000000         -0.064082   \n",
              "instrumentalness -0.044204    -0.046340     -0.064082          1.000000   \n",
              "liveness         -0.106726     0.183751     -0.156587         -0.026379   \n",
              "valence           0.011477     0.058788     -0.285931         -0.088560   \n",
              "tempo            -0.063419     0.117875     -0.211389          0.030913   \n",
              "duration_ms       0.091800    -0.101618      0.161525         -0.082143   \n",
              "time_signature   -0.092795     0.089677     -0.161211         -0.010198   \n",
              "\n",
              "                  liveness   valence     tempo  duration_ms  time_signature  \n",
              "Unnamed: 0        0.198518  0.019789  0.165494    -0.214641        0.124520  \n",
              "danceability     -0.068690  0.517601 -0.176350    -0.247776        0.223470  \n",
              "energy            0.266145  0.356159  0.261545    -0.170135        0.169417  \n",
              "key               0.003244  0.019751  0.007715    -0.079267        0.005660  \n",
              "loudness          0.194093  0.292846  0.235943    -0.132021        0.167763  \n",
              "mode             -0.106726  0.011477 -0.063419     0.091800       -0.092795  \n",
              "speechiness       0.183751  0.058788  0.117875    -0.101618        0.089677  \n",
              "acousticness     -0.156587 -0.285931 -0.211389     0.161525       -0.161211  \n",
              "instrumentalness -0.026379 -0.088560  0.030913    -0.082143       -0.010198  \n",
              "liveness          1.000000 -0.009439  0.103631    -0.018481        0.025492  \n",
              "valence          -0.009439  1.000000 -0.058014    -0.154110        0.126879  \n",
              "tempo             0.103631 -0.058014  1.000000    -0.007539       -0.059317  \n",
              "duration_ms      -0.018481 -0.154110 -0.007539     1.000000       -0.062748  \n",
              "time_signature    0.025492  0.126879 -0.059317    -0.062748        1.000000  "
            ]
          },
          "execution_count": 8,
          "metadata": {},
          "output_type": "execute_result"
        }
      ],
      "source": [
        "corr_data = data.corr()\n",
        "corr_data"
      ]
    },
    {
      "cell_type": "markdown",
      "metadata": {
        "cell_id": "08cffee25bb0447aae89d05070f5c064",
        "deepnote_cell_type": "markdown",
        "id": "ATyZTAIzaGNN"
      },
      "source": [
        "Visualizamos los datos en una **matriz de correlación gráfica** que nos será **más sencillo**."
      ]
    },
    {
      "cell_type": "code",
      "execution_count": null,
      "metadata": {
        "cell_id": "881b653bbca644f7b8999a0d3651fc6c",
        "deepnote_cell_type": "code",
        "deepnote_to_be_reexecuted": false,
        "execution_millis": 1749,
        "execution_start": 1708275133989,
        "id": "TjkoNLx6aGNN",
        "outputId": "d579c067-4b26-477f-8214-cd7ae92df876",
        "source_hash": null
      },
      "outputs": [
        {
          "data": {
            "image/png": "[encoded data removed]",
            "text/plain": [
              "<Figure size 1200x800 with 2 Axes>"
            ]
          },
          "metadata": {
            "image/png": {
              "height": 788,
              "width": 894
            }
          },
          "output_type": "display_data"
        }
      ],
      "source": [
        "import seaborn as sns\n",
        "import matplotlib.pyplot as plt\n",
        "\n",
        "# Máscara para pasar los datos a valores de 0 a 1\n",
        "mask = np.triu(np.ones_like(corr_data, dtype=bool), k=1)\n",
        "\n",
        "# Paleta de colores\n",
        "cmap = sns.diverging_palette(100, 7, s=75, l=40, n=5, center=\"light\", as_cmap=True)\n",
        "\n",
        "#Gráfica\n",
        "plt.figure(figsize=(12,8))\n",
        "sns.heatmap(corr_data, mask=mask, center=0, annot=True, fmt='.2f', square=True, cmap=cmap)\n",
        "plt.title('Matriz de correlación')\n",
        "plt.show()"
      ]
    },
    {
      "cell_type": "markdown",
      "metadata": {
        "cell_id": "83b1f534bf294f0896ad7d7543883539",
        "deepnote_cell_type": "markdown",
        "id": "WG_L6TLBaGNN"
      },
      "source": [
        "Podemos sacar los siguientes datos que pueden ser interesantes a la hora de sacar **conclusiones** para el entrenamiento del modelo.\n",
        "\n",
        "Destacamos la correlación que existe entre las columnas:\n",
        "\n",
        "- **loudness + energy** (81%): Con estos valores tenemos claro que existe **mucha complicidad** con los valores, cuando una canción tiene un **mayor volumen** existe **mayor posibilidad** de que esa canción se considere **enérgica**, éste dato es **fundamental** puesto que elegirá cuando una **canción es enérgica o** por lo contrario, es más **relajada**.\n",
        "\n",
        "- **acousticness + energy** (-83%): Existe una correlación **fuerte negativa del 83%** entre `acousticness` y `energy`. Esto indica que, en general, cuando la **probabilidad** de que una canción sea **acústica** **aumenta**, la **intensidad y actividad** percibida de la **canción (energy)** tiende a **disminuir**. Resumiendo, hay una **tendencia** de que las **canciones más acústicas** tiendan a ser **menos energéticas**, y viceversa.\n",
        "\n",
        "- **acousticness + loudness** (-67%): Sucede algo parecido a la anterior pues la probabilidad de que una canción sea **acústica** y al mismo tiempo tuviera **mucho volumen** es muy baja. Podemos decir que las canciones **más acústicas** tienen menor **volumen**.\n",
        "\n",
        "- **valence + danceability** (53%): Como podemos ver, hay cierta complicidad en éstos valores, podemos decir que una canción más bailable, por lo general tendrá letras más positivas, éstos datos serán más interesantes a la hora de entrenando el modelo para decidir cuando una canción es feliz o triste."
      ]
    }
  ],
  "metadata": {
    "colab": {
      "provenance": []
    },
    "deepnote_execution_queue": [],
    "deepnote_notebook_id": "38c3ca54bc97471bb388e489d5d637be",
    "deepnote_persisted_session": {
      "createdAt": "2024-02-18T17:17:34.094Z"
    },
    "language_info": {
      "name": "python"
    }
  },
  "nbformat": 4,
  "nbformat_minor": 0
}
