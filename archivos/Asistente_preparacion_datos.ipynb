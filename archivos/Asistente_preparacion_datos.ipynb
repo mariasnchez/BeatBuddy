{
  "cells": [
    {
      "cell_type": "markdown",
      "metadata": {
        "cell_id": "c0ed4924837840c3bc727030f9170ac9",
        "deepnote_cell_type": "markdown",
        "id": "WcF1npFMaGNI"
      },
      "source": [
        "# Asistente musical\n",
        "## Preparación de los datos\n",
        "### Extracción de Datos con Spotipy"
      ]
    },
    {
      "cell_type": "markdown",
      "metadata": {
        "cell_id": "54be819600f643a08fc13f32b6ed543f",
        "deepnote_cell_type": "markdown",
        "id": "1aEG7AmraGNJ"
      },
      "source": [
        "Instalamos los paquetes"
      ]
    },
    {
      "cell_type": "code",
      "execution_count": null,
      "metadata": {
        "cell_id": "c923df70c21949b488d5439ed4c98466",
        "deepnote_cell_type": "code",
        "deepnote_to_be_reexecuted": false,
        "execution_millis": 3605,
        "execution_start": 1708275129983,
        "id": "tZOpG19_aGNJ",
        "outputId": "f44afa97-5739-403f-d104-09486e96af64",
        "source_hash": null
      },
      "outputs": [
        {
          "name": "stdout",
          "output_type": "stream",
          "text": [
            "Collecting spotipy\n",
            "  Downloading spotipy-2.23.0-py3-none-any.whl (29 kB)\n",
            "Collecting redis>=3.5.3 (from spotipy)\n",
            "  Downloading redis-5.0.1-py3-none-any.whl (250 kB)\n",
            "\u001b[2K     \u001b[90m━━━━━━━━━━━━━━━━━━━━━━━━━━━━━━━━━━━━━━\u001b[0m \u001b[32m250.3/250.3 kB\u001b[0m \u001b[31m32.1 MB/s\u001b[0m eta \u001b[36m0:00:00\u001b[0m\n",
            "\u001b[?25hRequirement already satisfied: requests>=2.25.0 in /shared-libs/python3.11/py/lib/python3.11/site-packages (from spotipy) (2.31.0)\n",
            "Requirement already satisfied: six>=1.15.0 in /shared-libs/python3.11/py-core/lib/python3.11/site-packages (from spotipy) (1.16.0)\n",
            "Requirement already satisfied: urllib3>=1.26.0 in /shared-libs/python3.11/py/lib/python3.11/site-packages (from spotipy) (1.26.18)\n",
            "Requirement already satisfied: charset-normalizer<4,>=2 in /shared-libs/python3.11/py/lib/python3.11/site-packages (from requests>=2.25.0->spotipy) (3.3.0)\n",
            "Requirement already satisfied: idna<4,>=2.5 in /shared-libs/python3.11/py-core/lib/python3.11/site-packages (from requests>=2.25.0->spotipy) (3.4)\n",
            "Requirement already satisfied: certifi>=2017.4.17 in /shared-libs/python3.11/py/lib/python3.11/site-packages (from requests>=2.25.0->spotipy) (2023.7.22)\n",
            "Installing collected packages: redis, spotipy\n",
            "Successfully installed redis-5.0.1 spotipy-2.23.0\n",
            "\n",
            "\u001b[1m[\u001b[0m\u001b[34;49mnotice\u001b[0m\u001b[1;39;49m]\u001b[0m\u001b[39;49m A new release of pip is available: \u001b[0m\u001b[31;49m23.1.2\u001b[0m\u001b[39;49m -> \u001b[0m\u001b[32;49m24.0\u001b[0m\n",
            "\u001b[1m[\u001b[0m\u001b[34;49mnotice\u001b[0m\u001b[1;39;49m]\u001b[0m\u001b[39;49m To update, run: \u001b[0m\u001b[32;49mpip install --upgrade pip\u001b[0m\n"
          ]
        }
      ],
      "source": [
        "!pip install spotipy\n",
        "import spotipy\n",
        "from spotipy.oauth2 import SpotifyClientCredentials\n",
        "import json"
      ]
    },
    {
      "cell_type": "code",
      "execution_count": null,
      "metadata": {
        "cell_id": "bcd22acc9e954583903e68d4876c32fa",
        "deepnote_cell_type": "code",
        "deepnote_to_be_reexecuted": false,
        "execution_millis": 421,
        "execution_start": 1708275133599,
        "id": "7M_Q1R9vaGNK",
        "source_hash": null
      },
      "outputs": [],
      "source": [
        "import pandas as pd\n",
        "import numpy as np"
      ]
    },
    {
      "cell_type": "markdown",
      "metadata": {
        "id": "gMqognSEbeV7"
      },
      "source": [
        "Cargamos los datos"
      ]
    },
    {
      "cell_type": "code",
      "execution_count": null,
      "metadata": {
        "cell_id": "4ec7d8442fb74d29ab9c6b326dba9f0c",
        "deepnote_cell_type": "code",
        "deepnote_to_be_reexecuted": false,
        "execution_millis": 384,
        "execution_start": 1708275133637,
        "id": "ojatkiBGaGNL",
        "outputId": "3d7965c3-8269-44e7-803f-493946f700e4",
        "source_hash": null
      },
      "outputs": [
        {
          "data": {
            "application/vnd.deepnote.dataframe.v3+json": {
              "column_count": 21,
              "columns": [
                {
                  "dtype": "int64",
                  "name": "Unnamed: 0",
                  "stats": {
                    "histogram": [
                      {
                        "bin_end": 112,
                        "bin_start": 0,
                        "count": 112
                      },
                      {
                        "bin_end": 224,
                        "bin_start": 112,
                        "count": 112
                      },
                      {
                        "bin_end": 336,
                        "bin_start": 224,
                        "count": 112
                      },
                      {
                        "bin_end": 448,
                        "bin_start": 336,
                        "count": 112
                      },
                      {
                        "bin_end": 560,
                        "bin_start": 448,
                        "count": 112
                      },
                      {
                        "bin_end": 672,
                        "bin_start": 560,
                        "count": 112
                      },
                      {
                        "bin_end": 784,
                        "bin_start": 672,
                        "count": 112
                      },
                      {
                        "bin_end": 896,
                        "bin_start": 784,
                        "count": 112
                      },
                      {
                        "bin_end": 1008,
                        "bin_start": 896,
                        "count": 112
                      },
                      {
                        "bin_end": 1120,
                        "bin_start": 1008,
                        "count": 113
                      }
                    ],
                    "max": "1120",
                    "min": "0",
                    "nan_count": 0,
                    "unique_count": 1121
                  }
                },
                {
                  "dtype": "float64",
                  "name": "danceability",
                  "stats": {
                    "histogram": [
                      {
                        "bin_end": 0.2529,
                        "bin_start": 0.175,
                        "count": 15
                      },
                      {
                        "bin_end": 0.3308,
                        "bin_start": 0.2529,
                        "count": 34
                      },
                      {
                        "bin_end": 0.40869999999999995,
                        "bin_start": 0.3308,
                        "count": 84
                      },
                      {
                        "bin_end": 0.4866,
                        "bin_start": 0.40869999999999995,
                        "count": 115
                      },
                      {
                        "bin_end": 0.5645,
                        "bin_start": 0.4866,
                        "count": 189
                      },
                      {
                        "bin_end": 0.6424,
                        "bin_start": 0.5645,
                        "count": 209
                      },
                      {
                        "bin_end": 0.7202999999999999,
                        "bin_start": 0.6424,
                        "count": 230
                      },
                      {
                        "bin_end": 0.7982,
                        "bin_start": 0.7202999999999999,
                        "count": 151
                      },
                      {
                        "bin_end": 0.8760999999999999,
                        "bin_start": 0.7982,
                        "count": 78
                      },
                      {
                        "bin_end": 0.954,
                        "bin_start": 0.8760999999999999,
                        "count": 16
                      }
                    ],
                    "max": "0.954",
                    "min": "0.175",
                    "nan_count": 0,
                    "unique_count": 491
                  }
                },
                {
                  "dtype": "float64",
                  "name": "energy",
                  "stats": {
                    "histogram": [
                      {
                        "bin_end": 0.12022,
                        "bin_start": 0.0228,
                        "count": 35
                      },
                      {
                        "bin_end": 0.21764,
                        "bin_start": 0.12022,
                        "count": 95
                      },
                      {
                        "bin_end": 0.31505999999999995,
                        "bin_start": 0.21764,
                        "count": 99
                      },
                      {
                        "bin_end": 0.41247999999999996,
                        "bin_start": 0.31505999999999995,
                        "count": 128
                      },
                      {
                        "bin_end": 0.5099,
                        "bin_start": 0.41247999999999996,
                        "count": 113
                      },
                      {
                        "bin_end": 0.60732,
                        "bin_start": 0.5099,
                        "count": 89
                      },
                      {
                        "bin_end": 0.70474,
                        "bin_start": 0.60732,
                        "count": 107
                      },
                      {
                        "bin_end": 0.80216,
                        "bin_start": 0.70474,
                        "count": 125
                      },
                      {
                        "bin_end": 0.8995799999999999,
                        "bin_start": 0.80216,
                        "count": 177
                      },
                      {
                        "bin_end": 0.997,
                        "bin_start": 0.8995799999999999,
                        "count": 153
                      }
                    ],
                    "max": "0.997",
                    "min": "0.0228",
                    "nan_count": 0,
                    "unique_count": 604
                  }
                },
                {
                  "dtype": "int64",
                  "name": "key",
                  "stats": {
                    "histogram": [
                      {
                        "bin_end": 1.1,
                        "bin_start": 0,
                        "count": 256
                      },
                      {
                        "bin_end": 2.2,
                        "bin_start": 1.1,
                        "count": 109
                      },
                      {
                        "bin_end": 3.3000000000000003,
                        "bin_start": 2.2,
                        "count": 46
                      },
                      {
                        "bin_end": 4.4,
                        "bin_start": 3.3000000000000003,
                        "count": 76
                      },
                      {
                        "bin_end": 5.5,
                        "bin_start": 4.4,
                        "count": 99
                      },
                      {
                        "bin_end": 6.6000000000000005,
                        "bin_start": 5.5,
                        "count": 95
                      },
                      {
                        "bin_end": 7.700000000000001,
                        "bin_start": 6.6000000000000005,
                        "count": 113
                      },
                      {
                        "bin_end": 8.8,
                        "bin_start": 7.700000000000001,
                        "count": 80
                      },
                      {
                        "bin_end": 9.9,
                        "bin_start": 8.8,
                        "count": 97
                      },
                      {
                        "bin_end": 11,
                        "bin_start": 9.9,
                        "count": 150
                      }
                    ],
                    "max": "11",
                    "min": "0",
                    "nan_count": 0,
                    "unique_count": 12
                  }
                },
                {
                  "dtype": "float64",
                  "name": "loudness",
                  "stats": {
                    "histogram": [
                      {
                        "bin_end": -24.39,
                        "bin_start": -27.043,
                        "count": 2
                      },
                      {
                        "bin_end": -21.737000000000002,
                        "bin_start": -24.39,
                        "count": 8
                      },
                      {
                        "bin_end": -19.084,
                        "bin_start": -21.737000000000002,
                        "count": 3
                      },
                      {
                        "bin_end": -16.431,
                        "bin_start": -19.084,
                        "count": 19
                      },
                      {
                        "bin_end": -13.778000000000002,
                        "bin_start": -16.431,
                        "count": 44
                      },
                      {
                        "bin_end": -11.125000000000002,
                        "bin_start": -13.778000000000002,
                        "count": 108
                      },
                      {
                        "bin_end": -8.472000000000001,
                        "bin_start": -11.125000000000002,
                        "count": 201
                      },
                      {
                        "bin_end": -5.819000000000003,
                        "bin_start": -8.472000000000001,
                        "count": 299
                      },
                      {
                        "bin_end": -3.166000000000004,
                        "bin_start": -5.819000000000003,
                        "count": 372
                      },
                      {
                        "bin_end": -0.513,
                        "bin_start": -3.166000000000004,
                        "count": 65
                      }
                    ],
                    "max": "-0.513",
                    "min": "-27.043",
                    "nan_count": 0,
                    "unique_count": 994
                  }
                },
                {
                  "dtype": "int64",
                  "name": "mode",
                  "stats": {
                    "histogram": [
                      {
                        "bin_end": 0.1,
                        "bin_start": 0,
                        "count": 368
                      },
                      {
                        "bin_end": 0.2,
                        "bin_start": 0.1,
                        "count": 0
                      },
                      {
                        "bin_end": 0.30000000000000004,
                        "bin_start": 0.2,
                        "count": 0
                      },
                      {
                        "bin_end": 0.4,
                        "bin_start": 0.30000000000000004,
                        "count": 0
                      },
                      {
                        "bin_end": 0.5,
                        "bin_start": 0.4,
                        "count": 0
                      },
                      {
                        "bin_end": 0.6000000000000001,
                        "bin_start": 0.5,
                        "count": 0
                      },
                      {
                        "bin_end": 0.7000000000000001,
                        "bin_start": 0.6000000000000001,
                        "count": 0
                      },
                      {
                        "bin_end": 0.8,
                        "bin_start": 0.7000000000000001,
                        "count": 0
                      },
                      {
                        "bin_end": 0.9,
                        "bin_start": 0.8,
                        "count": 0
                      },
                      {
                        "bin_end": 1,
                        "bin_start": 0.9,
                        "count": 753
                      }
                    ],
                    "max": "1",
                    "min": "0",
                    "nan_count": 0,
                    "unique_count": 2
                  }
                },
                {
                  "dtype": "float64",
                  "name": "speechiness",
                  "stats": {
                    "histogram": [
                      {
                        "bin_end": 0.08169,
                        "bin_start": 0.0241,
                        "count": 865
                      },
                      {
                        "bin_end": 0.13928,
                        "bin_start": 0.08169,
                        "count": 123
                      },
                      {
                        "bin_end": 0.19687,
                        "bin_start": 0.13928,
                        "count": 54
                      },
                      {
                        "bin_end": 0.25445999999999996,
                        "bin_start": 0.19687,
                        "count": 25
                      },
                      {
                        "bin_end": 0.31205,
                        "bin_start": 0.25445999999999996,
                        "count": 20
                      },
                      {
                        "bin_end": 0.36963999999999997,
                        "bin_start": 0.31205,
                        "count": 17
                      },
                      {
                        "bin_end": 0.42723,
                        "bin_start": 0.36963999999999997,
                        "count": 9
                      },
                      {
                        "bin_end": 0.48482,
                        "bin_start": 0.42723,
                        "count": 3
                      },
                      {
                        "bin_end": 0.54241,
                        "bin_start": 0.48482,
                        "count": 3
                      },
                      {
                        "bin_end": 0.6,
                        "bin_start": 0.54241,
                        "count": 2
                      }
                    ],
                    "max": "0.6",
                    "min": "0.0241",
                    "nan_count": 0,
                    "unique_count": 546
                  }
                },
                {
                  "dtype": "float64",
                  "name": "acousticness",
                  "stats": {
                    "histogram": [
                      {
                        "bin_end": 0.0990017,
                        "bin_start": 0.000113,
                        "count": 386
                      },
                      {
                        "bin_end": 0.1978904,
                        "bin_start": 0.0990017,
                        "count": 104
                      },
                      {
                        "bin_end": 0.29677909999999996,
                        "bin_start": 0.1978904,
                        "count": 71
                      },
                      {
                        "bin_end": 0.39566779999999996,
                        "bin_start": 0.29677909999999996,
                        "count": 61
                      },
                      {
                        "bin_end": 0.49455649999999995,
                        "bin_start": 0.39566779999999996,
                        "count": 48
                      },
                      {
                        "bin_end": 0.5934452,
                        "bin_start": 0.49455649999999995,
                        "count": 57
                      },
                      {
                        "bin_end": 0.6923339,
                        "bin_start": 0.5934452,
                        "count": 58
                      },
                      {
                        "bin_end": 0.7912226,
                        "bin_start": 0.6923339,
                        "count": 78
                      },
                      {
                        "bin_end": 0.8901113,
                        "bin_start": 0.7912226,
                        "count": 121
                      },
                      {
                        "bin_end": 0.989,
                        "bin_start": 0.8901113,
                        "count": 137
                      }
                    ],
                    "max": "0.989",
                    "min": "0.000113",
                    "nan_count": 0,
                    "unique_count": 780
                  }
                },
                {
                  "dtype": "float64",
                  "name": "instrumentalness",
                  "stats": {
                    "histogram": [
                      {
                        "bin_end": 0.097,
                        "bin_start": 0,
                        "count": 985
                      },
                      {
                        "bin_end": 0.194,
                        "bin_start": 0.097,
                        "count": 36
                      },
                      {
                        "bin_end": 0.29100000000000004,
                        "bin_start": 0.194,
                        "count": 17
                      },
                      {
                        "bin_end": 0.388,
                        "bin_start": 0.29100000000000004,
                        "count": 9
                      },
                      {
                        "bin_end": 0.485,
                        "bin_start": 0.388,
                        "count": 12
                      },
                      {
                        "bin_end": 0.5820000000000001,
                        "bin_start": 0.485,
                        "count": 12
                      },
                      {
                        "bin_end": 0.679,
                        "bin_start": 0.5820000000000001,
                        "count": 11
                      },
                      {
                        "bin_end": 0.776,
                        "bin_start": 0.679,
                        "count": 17
                      },
                      {
                        "bin_end": 0.873,
                        "bin_start": 0.776,
                        "count": 11
                      },
                      {
                        "bin_end": 0.97,
                        "bin_start": 0.873,
                        "count": 11
                      }
                    ],
                    "max": "0.97",
                    "min": "0.0",
                    "nan_count": 0,
                    "unique_count": 577
                  }
                },
                {
                  "dtype": "float64",
                  "name": "liveness",
                  "stats": {
                    "histogram": [
                      {
                        "bin_end": 0.1161,
                        "bin_start": 0.02,
                        "count": 539
                      },
                      {
                        "bin_end": 0.21219999999999997,
                        "bin_start": 0.1161,
                        "count": 303
                      },
                      {
                        "bin_end": 0.3083,
                        "bin_start": 0.21219999999999997,
                        "count": 102
                      },
                      {
                        "bin_end": 0.4044,
                        "bin_start": 0.3083,
                        "count": 102
                      },
                      {
                        "bin_end": 0.5005,
                        "bin_start": 0.4044,
                        "count": 28
                      },
                      {
                        "bin_end": 0.5966,
                        "bin_start": 0.5005,
                        "count": 10
                      },
                      {
                        "bin_end": 0.6927,
                        "bin_start": 0.5966,
                        "count": 12
                      },
                      {
                        "bin_end": 0.7888,
                        "bin_start": 0.6927,
                        "count": 14
                      },
                      {
                        "bin_end": 0.8848999999999999,
                        "bin_start": 0.7888,
                        "count": 6
                      },
                      {
                        "bin_end": 0.981,
                        "bin_start": 0.8848999999999999,
                        "count": 5
                      }
                    ],
                    "max": "0.981",
                    "min": "0.02",
                    "nan_count": 0,
                    "unique_count": 503
                  }
                },
                {
                  "dtype": "float64",
                  "name": "valence",
                  "stats": {
                    "histogram": [
                      {
                        "bin_end": 0.12642,
                        "bin_start": 0.0318,
                        "count": 93
                      },
                      {
                        "bin_end": 0.22104,
                        "bin_start": 0.12642,
                        "count": 160
                      },
                      {
                        "bin_end": 0.31566,
                        "bin_start": 0.22104,
                        "count": 146
                      },
                      {
                        "bin_end": 0.41028,
                        "bin_start": 0.31566,
                        "count": 173
                      },
                      {
                        "bin_end": 0.5049,
                        "bin_start": 0.41028,
                        "count": 121
                      },
                      {
                        "bin_end": 0.59952,
                        "bin_start": 0.5049,
                        "count": 113
                      },
                      {
                        "bin_end": 0.69414,
                        "bin_start": 0.59952,
                        "count": 92
                      },
                      {
                        "bin_end": 0.78876,
                        "bin_start": 0.69414,
                        "count": 99
                      },
                      {
                        "bin_end": 0.88338,
                        "bin_start": 0.78876,
                        "count": 70
                      },
                      {
                        "bin_end": 0.978,
                        "bin_start": 0.88338,
                        "count": 54
                      }
                    ],
                    "max": "0.978",
                    "min": "0.0318",
                    "nan_count": 0,
                    "unique_count": 635
                  }
                },
                {
                  "dtype": "float64",
                  "name": "tempo",
                  "stats": {
                    "histogram": [
                      {
                        "bin_end": 61.791799999999995,
                        "bin_start": 45.306,
                        "count": 2
                      },
                      {
                        "bin_end": 78.2776,
                        "bin_start": 61.791799999999995,
                        "count": 62
                      },
                      {
                        "bin_end": 94.7634,
                        "bin_start": 78.2776,
                        "count": 160
                      },
                      {
                        "bin_end": 111.2492,
                        "bin_start": 94.7634,
                        "count": 207
                      },
                      {
                        "bin_end": 127.735,
                        "bin_start": 111.2492,
                        "count": 253
                      },
                      {
                        "bin_end": 144.2208,
                        "bin_start": 127.735,
                        "count": 192
                      },
                      {
                        "bin_end": 160.7066,
                        "bin_start": 144.2208,
                        "count": 153
                      },
                      {
                        "bin_end": 177.19240000000002,
                        "bin_start": 160.7066,
                        "count": 61
                      },
                      {
                        "bin_end": 193.6782,
                        "bin_start": 177.19240000000002,
                        "count": 22
                      },
                      {
                        "bin_end": 210.164,
                        "bin_start": 193.6782,
                        "count": 9
                      }
                    ],
                    "max": "210.164",
                    "min": "45.306",
                    "nan_count": 0,
                    "unique_count": 1017
                  }
                },
                {
                  "dtype": "object",
                  "name": "type",
                  "stats": {
                    "categories": [
                      {
                        "count": 1121,
                        "name": "audio_features"
                      }
                    ],
                    "nan_count": 0,
                    "unique_count": 1
                  }
                },
                {
                  "dtype": "object",
                  "name": "id",
                  "stats": {
                    "categories": [
                      {
                        "count": 3,
                        "name": "3BKD1PwArikchz2Zrlp1qi"
                      },
                      {
                        "count": 2,
                        "name": "4xqrdfXkTW4T0RauPLv3WA"
                      },
                      {
                        "count": 1116,
                        "name": "1050 others"
                      }
                    ],
                    "nan_count": 0,
                    "unique_count": 1052
                  }
                },
                {
                  "dtype": "object",
                  "name": "uri",
                  "stats": {
                    "categories": [
                      {
                        "count": 3,
                        "name": "spotify:track:3BKD1PwArikchz2Zrlp1qi"
                      },
                      {
                        "count": 2,
                        "name": "spotify:track:4xqrdfXkTW4T0RauPLv3WA"
                      },
                      {
                        "count": 1116,
                        "name": "1050 others"
                      }
                    ],
                    "nan_count": 0,
                    "unique_count": 1052
                  }
                },
                {
                  "dtype": "object",
                  "name": "track_href",
                  "stats": {
                    "categories": [
                      {
                        "count": 3,
                        "name": "https://api.spotify.com/v1/tracks/3BKD1PwArikchz2Zrlp1qi"
                      },
                      {
                        "count": 2,
                        "name": "https://api.spotify.com/v1/tracks/4xqrdfXkTW4T0RauPLv3WA"
                      },
                      {
                        "count": 1116,
                        "name": "1050 others"
                      }
                    ],
                    "nan_count": 0,
                    "unique_count": 1052
                  }
                },
                {
                  "dtype": "object",
                  "name": "analysis_url",
                  "stats": {
                    "categories": [
                      {
                        "count": 3,
                        "name": "https://api.spotify.com/v1/audio-analysis/3BKD1PwArikchz2Zrlp1qi"
                      },
                      {
                        "count": 2,
                        "name": "https://api.spotify.com/v1/audio-analysis/4xqrdfXkTW4T0RauPLv3WA"
                      },
                      {
                        "count": 1116,
                        "name": "1050 others"
                      }
                    ],
                    "nan_count": 0,
                    "unique_count": 1052
                  }
                },
                {
                  "dtype": "int64",
                  "name": "duration_ms",
                  "stats": {
                    "histogram": [
                      {
                        "bin_end": 114930.1,
                        "bin_start": 75227,
                        "count": 14
                      },
                      {
                        "bin_end": 154633.2,
                        "bin_start": 114930.1,
                        "count": 130
                      },
                      {
                        "bin_end": 194336.3,
                        "bin_start": 154633.2,
                        "count": 351
                      },
                      {
                        "bin_end": 234039.4,
                        "bin_start": 194336.3,
                        "count": 333
                      },
                      {
                        "bin_end": 273742.5,
                        "bin_start": 234039.4,
                        "count": 201
                      },
                      {
                        "bin_end": 313445.6,
                        "bin_start": 273742.5,
                        "count": 66
                      },
                      {
                        "bin_end": 353148.7,
                        "bin_start": 313445.6,
                        "count": 17
                      },
                      {
                        "bin_end": 392851.8,
                        "bin_start": 353148.7,
                        "count": 5
                      },
                      {
                        "bin_end": 432554.89999999997,
                        "bin_start": 392851.8,
                        "count": 3
                      },
                      {
                        "bin_end": 472258,
                        "bin_start": 432554.89999999997,
                        "count": 1
                      }
                    ],
                    "max": "472258",
                    "min": "75227",
                    "nan_count": 0,
                    "unique_count": 1030
                  }
                },
                {
                  "dtype": "int64",
                  "name": "time_signature",
                  "stats": {
                    "histogram": [
                      {
                        "bin_end": 1.4,
                        "bin_start": 1,
                        "count": 6
                      },
                      {
                        "bin_end": 1.8,
                        "bin_start": 1.4,
                        "count": 0
                      },
                      {
                        "bin_end": 2.2,
                        "bin_start": 1.8,
                        "count": 0
                      },
                      {
                        "bin_end": 2.6,
                        "bin_start": 2.2,
                        "count": 0
                      },
                      {
                        "bin_end": 3,
                        "bin_start": 2.6,
                        "count": 0
                      },
                      {
                        "bin_end": 3.4000000000000004,
                        "bin_start": 3,
                        "count": 97
                      },
                      {
                        "bin_end": 3.8000000000000003,
                        "bin_start": 3.4000000000000004,
                        "count": 0
                      },
                      {
                        "bin_end": 4.2,
                        "bin_start": 3.8000000000000003,
                        "count": 1004
                      },
                      {
                        "bin_end": 4.6,
                        "bin_start": 4.2,
                        "count": 0
                      },
                      {
                        "bin_end": 5,
                        "bin_start": 4.6,
                        "count": 14
                      }
                    ],
                    "max": "5",
                    "min": "1",
                    "nan_count": 0,
                    "unique_count": 4
                  }
                },
                {
                  "dtype": "object",
                  "name": "release_date",
                  "stats": {
                    "categories": [
                      {
                        "count": 12,
                        "name": "2024-01-26"
                      },
                      {
                        "count": 9,
                        "name": "2023-04-21"
                      },
                      {
                        "count": 1100,
                        "name": "684 others"
                      }
                    ],
                    "nan_count": 0,
                    "unique_count": 686
                  }
                },
                {
                  "dtype": "object",
                  "name": "mood",
                  "stats": {
                    "categories": [
                      {
                        "count": 300,
                        "name": "relax"
                      },
                      {
                        "count": 283,
                        "name": "happiness"
                      },
                      {
                        "count": 538,
                        "name": "2 others"
                      }
                    ],
                    "nan_count": 0,
                    "unique_count": 4
                  }
                },
                {
                  "dtype": "int64",
                  "name": "_deepnote_index_column"
                }
              ],
              "row_count": 1121,
              "rows": [
                {
                  "Unnamed: 0": 0,
                  "_deepnote_index_column": 0,
                  "acousticness": 0.584,
                  "analysis_url": "https://api.spotify.com/v1/audio-analysis/4xqrdfXkTW4T0RauPLv3WA",
                  "danceability": 0.357,
                  "duration_ms": 198040,
                  "energy": 0.425,
                  "id": "4xqrdfXkTW4T0RauPLv3WA",
                  "instrumentalness": 0,
                  "key": 5,
                  "liveness": 0.322,
                  "loudness": -7.301,
                  "mode": 1,
                  "mood": "sad",
                  "release_date": "2020-03-20",
                  "speechiness": 0.0333,
                  "tempo": 102.078,
                  "time_signature": 3,
                  "track_href": "https://api.spotify.com/v1/tracks/4xqrdfXkTW4T0RauPLv3WA",
                  "type": "audio_features",
                  "uri": "spotify:track:4xqrdfXkTW4T0RauPLv3WA",
                  "valence": 0.27
                },
                {
                  "Unnamed: 0": 1,
                  "_deepnote_index_column": 1,
                  "acousticness": 0.731,
                  "analysis_url": "https://api.spotify.com/v1/audio-analysis/75JFxkI2RXiU7L9VXzMkle",
                  "danceability": 0.557,
                  "duration_ms": 309600,
                  "energy": 0.442,
                  "id": "75JFxkI2RXiU7L9VXzMkle",
                  "instrumentalness": 0.0000146,
                  "key": 5,
                  "liveness": 0.11,
                  "loudness": -7.224,
                  "mode": 1,
                  "mood": "sad",
                  "release_date": "2002-08-08",
                  "speechiness": 0.0243,
                  "tempo": 146.277,
                  "time_signature": 4,
                  "track_href": "https://api.spotify.com/v1/tracks/75JFxkI2RXiU7L9VXzMkle",
                  "type": "audio_features",
                  "uri": "spotify:track:75JFxkI2RXiU7L9VXzMkle",
                  "valence": 0.213
                },
                {
                  "Unnamed: 0": 2,
                  "_deepnote_index_column": 2,
                  "acousticness": 0.74,
                  "analysis_url": "https://api.spotify.com/v1/audio-analysis/2qxmye6gAegTMjLKEBoR3d",
                  "danceability": 0.652,
                  "duration_ms": 169354,
                  "energy": 0.557,
                  "id": "2qxmye6gAegTMjLKEBoR3d",
                  "instrumentalness": 0,
                  "key": 1,
                  "liveness": 0.124,
                  "loudness": -5.714,
                  "mode": 0,
                  "mood": "sad",
                  "release_date": "2018-11-16",
                  "speechiness": 0.0318,
                  "tempo": 150.073,
                  "time_signature": 4,
                  "track_href": "https://api.spotify.com/v1/tracks/2qxmye6gAegTMjLKEBoR3d",
                  "type": "audio_features",
                  "uri": "spotify:track:2qxmye6gAegTMjLKEBoR3d",
                  "valence": 0.483
                },
                {
                  "Unnamed: 0": 3,
                  "_deepnote_index_column": 3,
                  "acousticness": 0.64,
                  "analysis_url": "https://api.spotify.com/v1/audio-analysis/1mXVgsBdtIVeCLJnSnmtdV",
                  "danceability": 0.681,
                  "duration_ms": 201000,
                  "energy": 0.372,
                  "id": "1mXVgsBdtIVeCLJnSnmtdV",
                  "instrumentalness": 0,
                  "key": 5,
                  "liveness": 0.169,
                  "loudness": -8.237,
                  "mode": 1,
                  "mood": "sad",
                  "release_date": "2017-11-03",
                  "speechiness": 0.0432,
                  "tempo": 91.873,
                  "time_signature": 4,
                  "track_href": "https://api.spotify.com/v1/tracks/1mXVgsBdtIVeCLJnSnmtdV",
                  "type": "audio_features",
                  "uri": "spotify:track:1mXVgsBdtIVeCLJnSnmtdV",
                  "valence": 0.476
                },
                {
                  "Unnamed: 0": 4,
                  "_deepnote_index_column": 4,
                  "acousticness": 0.978,
                  "analysis_url": "https://api.spotify.com/v1/audio-analysis/43zdsphuZLzwA9k4DJhU0I",
                  "danceability": 0.367,
                  "duration_ms": 196077,
                  "energy": 0.111,
                  "id": "43zdsphuZLzwA9k4DJhU0I",
                  "instrumentalness": 0.0000397,
                  "key": 4,
                  "liveness": 0.0897,
                  "loudness": -14.084,
                  "mode": 1,
                  "mood": "sad",
                  "release_date": "2019-03-29",
                  "speechiness": 0.0972,
                  "tempo": 82.642,
                  "time_signature": 4,
                  "track_href": "https://api.spotify.com/v1/tracks/43zdsphuZLzwA9k4DJhU0I",
                  "type": "audio_features",
                  "uri": "spotify:track:43zdsphuZLzwA9k4DJhU0I",
                  "valence": 0.198
                },
                {
                  "Unnamed: 0": 5,
                  "_deepnote_index_column": 5,
                  "acousticness": 0.695,
                  "analysis_url": "https://api.spotify.com/v1/audio-analysis/3JvKfv6T31zO0ini8iNItO",
                  "danceability": 0.445,
                  "duration_ms": 244360,
                  "energy": 0.537,
                  "id": "3JvKfv6T31zO0ini8iNItO",
                  "instrumentalness": 0.0000165,
                  "key": 4,
                  "liveness": 0.0944,
                  "loudness": -8.532,
                  "mode": 0,
                  "mood": "sad",
                  "release_date": "2013-06-24",
                  "speechiness": 0.04,
                  "tempo": 122.769,
                  "time_signature": 4,
                  "track_href": "https://api.spotify.com/v1/tracks/3JvKfv6T31zO0ini8iNItO",
                  "type": "audio_features",
                  "uri": "spotify:track:3JvKfv6T31zO0ini8iNItO",
                  "valence": 0.131
                },
                {
                  "Unnamed: 0": 6,
                  "_deepnote_index_column": 6,
                  "acousticness": 0.866,
                  "analysis_url": "https://api.spotify.com/v1/audio-analysis/5JCoSi02qi3jJeHdZXMmR8",
                  "danceability": 0.369,
                  "duration_ms": 152667,
                  "energy": 0.272,
                  "id": "5JCoSi02qi3jJeHdZXMmR8",
                  "instrumentalness": 0,
                  "key": 9,
                  "liveness": 0.147,
                  "loudness": -10.497,
                  "mode": 1,
                  "mood": "sad",
                  "release_date": "2021-05-21",
                  "speechiness": 0.0364,
                  "tempo": 172.929,
                  "time_signature": 4,
                  "track_href": "https://api.spotify.com/v1/tracks/5JCoSi02qi3jJeHdZXMmR8",
                  "type": "audio_features",
                  "uri": "spotify:track:5JCoSi02qi3jJeHdZXMmR8",
                  "valence": 0.218
                },
                {
                  "Unnamed: 0": 7,
                  "_deepnote_index_column": 7,
                  "acousticness": 0.827,
                  "analysis_url": "https://api.spotify.com/v1/audio-analysis/2HafqoJbgXdtjwCOvNEF14",
                  "danceability": 0.537,
                  "duration_ms": 184061,
                  "energy": 0.421,
                  "id": "2HafqoJbgXdtjwCOvNEF14",
                  "instrumentalness": 0,
                  "key": 5,
                  "liveness": 0.138,
                  "loudness": -8.72,
                  "mode": 1,
                  "mood": "sad",
                  "release_date": "2022-09-23",
                  "speechiness": 0.0285,
                  "tempo": 98.224,
                  "time_signature": 4,
                  "track_href": "https://api.spotify.com/v1/tracks/2HafqoJbgXdtjwCOvNEF14",
                  "type": "audio_features",
                  "uri": "spotify:track:2HafqoJbgXdtjwCOvNEF14",
                  "valence": 0.524
                },
                {
                  "Unnamed: 0": 8,
                  "_deepnote_index_column": 8,
                  "acousticness": 0.607,
                  "analysis_url": "https://api.spotify.com/v1/audio-analysis/1HNkqx9Ahdgi1Ixy2xkKkL",
                  "danceability": 0.614,
                  "duration_ms": 258987,
                  "energy": 0.379,
                  "id": "1HNkqx9Ahdgi1Ixy2xkKkL",
                  "instrumentalness": 0.000464,
                  "key": 4,
                  "liveness": 0.0986,
                  "loudness": -10.48,
                  "mode": 1,
                  "mood": "sad",
                  "release_date": "2014-06-21",
                  "speechiness": 0.0476,
                  "tempo": 107.989,
                  "time_signature": 4,
                  "track_href": "https://api.spotify.com/v1/tracks/1HNkqx9Ahdgi1Ixy2xkKkL",
                  "type": "audio_features",
                  "uri": "spotify:track:1HNkqx9Ahdgi1Ixy2xkKkL",
                  "valence": 0.201
                },
                {
                  "Unnamed: 0": 9,
                  "_deepnote_index_column": 9,
                  "acousticness": 0.392,
                  "analysis_url": "https://api.spotify.com/v1/audio-analysis/2oKjjRzItVu8JZScrpzFTx",
                  "danceability": 0.278,
                  "duration_ms": 253760,
                  "energy": 0.572,
                  "id": "2oKjjRzItVu8JZScrpzFTx",
                  "instrumentalness": 0,
                  "key": 7,
                  "liveness": 0.063,
                  "loudness": -8.295,
                  "mode": 1,
                  "mood": "sad",
                  "release_date": "2017-09-08",
                  "speechiness": 0.0407,
                  "tempo": 95.351,
                  "time_signature": 3,
                  "track_href": "https://api.spotify.com/v1/tracks/2oKjjRzItVu8JZScrpzFTx",
                  "type": "audio_features",
                  "uri": "spotify:track:2oKjjRzItVu8JZScrpzFTx",
                  "valence": 0.311
                }
              ]
            },
            "text/html": [
              "<div>\n",
              "<style scoped>\n",
              "    .dataframe tbody tr th:only-of-type {\n",
              "        vertical-align: middle;\n",
              "    }\n",
              "\n",
              "    .dataframe tbody tr th {\n",
              "        vertical-align: top;\n",
              "    }\n",
              "\n",
              "    .dataframe thead th {\n",
              "        text-align: right;\n",
              "    }\n",
              "</style>\n",
              "<table border=\"1\" class=\"dataframe\">\n",
              "  <thead>\n",
              "    <tr style=\"text-align: right;\">\n",
              "      <th></th>\n",
              "      <th>Unnamed: 0</th>\n",
              "      <th>danceability</th>\n",
              "      <th>energy</th>\n",
              "      <th>key</th>\n",
              "      <th>loudness</th>\n",
              "      <th>mode</th>\n",
              "      <th>speechiness</th>\n",
              "      <th>acousticness</th>\n",
              "      <th>instrumentalness</th>\n",
              "      <th>liveness</th>\n",
              "      <th>...</th>\n",
              "      <th>tempo</th>\n",
              "      <th>type</th>\n",
              "      <th>id</th>\n",
              "      <th>uri</th>\n",
              "      <th>track_href</th>\n",
              "      <th>analysis_url</th>\n",
              "      <th>duration_ms</th>\n",
              "      <th>time_signature</th>\n",
              "      <th>release_date</th>\n",
              "      <th>mood</th>\n",
              "    </tr>\n",
              "  </thead>\n",
              "  <tbody>\n",
              "    <tr>\n",
              "      <th>0</th>\n",
              "      <td>0</td>\n",
              "      <td>0.357</td>\n",
              "      <td>0.425</td>\n",
              "      <td>5</td>\n",
              "      <td>-7.301</td>\n",
              "      <td>1</td>\n",
              "      <td>0.0333</td>\n",
              "      <td>0.5840</td>\n",
              "      <td>0.000000</td>\n",
              "      <td>0.3220</td>\n",
              "      <td>...</td>\n",
              "      <td>102.078</td>\n",
              "      <td>audio_features</td>\n",
              "      <td>4xqrdfXkTW4T0RauPLv3WA</td>\n",
              "      <td>spotify:track:4xqrdfXkTW4T0RauPLv3WA</td>\n",
              "      <td>https://api.spotify.com/v1/tracks/4xqrdfXkTW4T...</td>\n",
              "      <td>https://api.spotify.com/v1/audio-analysis/4xqr...</td>\n",
              "      <td>198040</td>\n",
              "      <td>3</td>\n",
              "      <td>2020-03-20</td>\n",
              "      <td>sad</td>\n",
              "    </tr>\n",
              "    <tr>\n",
              "      <th>1</th>\n",
              "      <td>1</td>\n",
              "      <td>0.557</td>\n",
              "      <td>0.442</td>\n",
              "      <td>5</td>\n",
              "      <td>-7.224</td>\n",
              "      <td>1</td>\n",
              "      <td>0.0243</td>\n",
              "      <td>0.7310</td>\n",
              "      <td>0.000015</td>\n",
              "      <td>0.1100</td>\n",
              "      <td>...</td>\n",
              "      <td>146.277</td>\n",
              "      <td>audio_features</td>\n",
              "      <td>75JFxkI2RXiU7L9VXzMkle</td>\n",
              "      <td>spotify:track:75JFxkI2RXiU7L9VXzMkle</td>\n",
              "      <td>https://api.spotify.com/v1/tracks/75JFxkI2RXiU...</td>\n",
              "      <td>https://api.spotify.com/v1/audio-analysis/75JF...</td>\n",
              "      <td>309600</td>\n",
              "      <td>4</td>\n",
              "      <td>2002-08-08</td>\n",
              "      <td>sad</td>\n",
              "    </tr>\n",
              "    <tr>\n",
              "      <th>2</th>\n",
              "      <td>2</td>\n",
              "      <td>0.652</td>\n",
              "      <td>0.557</td>\n",
              "      <td>1</td>\n",
              "      <td>-5.714</td>\n",
              "      <td>0</td>\n",
              "      <td>0.0318</td>\n",
              "      <td>0.7400</td>\n",
              "      <td>0.000000</td>\n",
              "      <td>0.1240</td>\n",
              "      <td>...</td>\n",
              "      <td>150.073</td>\n",
              "      <td>audio_features</td>\n",
              "      <td>2qxmye6gAegTMjLKEBoR3d</td>\n",
              "      <td>spotify:track:2qxmye6gAegTMjLKEBoR3d</td>\n",
              "      <td>https://api.spotify.com/v1/tracks/2qxmye6gAegT...</td>\n",
              "      <td>https://api.spotify.com/v1/audio-analysis/2qxm...</td>\n",
              "      <td>169354</td>\n",
              "      <td>4</td>\n",
              "      <td>2018-11-16</td>\n",
              "      <td>sad</td>\n",
              "    </tr>\n",
              "    <tr>\n",
              "      <th>3</th>\n",
              "      <td>3</td>\n",
              "      <td>0.681</td>\n",
              "      <td>0.372</td>\n",
              "      <td>5</td>\n",
              "      <td>-8.237</td>\n",
              "      <td>1</td>\n",
              "      <td>0.0432</td>\n",
              "      <td>0.6400</td>\n",
              "      <td>0.000000</td>\n",
              "      <td>0.1690</td>\n",
              "      <td>...</td>\n",
              "      <td>91.873</td>\n",
              "      <td>audio_features</td>\n",
              "      <td>1mXVgsBdtIVeCLJnSnmtdV</td>\n",
              "      <td>spotify:track:1mXVgsBdtIVeCLJnSnmtdV</td>\n",
              "      <td>https://api.spotify.com/v1/tracks/1mXVgsBdtIVe...</td>\n",
              "      <td>https://api.spotify.com/v1/audio-analysis/1mXV...</td>\n",
              "      <td>201000</td>\n",
              "      <td>4</td>\n",
              "      <td>2017-11-03</td>\n",
              "      <td>sad</td>\n",
              "    </tr>\n",
              "    <tr>\n",
              "      <th>4</th>\n",
              "      <td>4</td>\n",
              "      <td>0.367</td>\n",
              "      <td>0.111</td>\n",
              "      <td>4</td>\n",
              "      <td>-14.084</td>\n",
              "      <td>1</td>\n",
              "      <td>0.0972</td>\n",
              "      <td>0.9780</td>\n",
              "      <td>0.000040</td>\n",
              "      <td>0.0897</td>\n",
              "      <td>...</td>\n",
              "      <td>82.642</td>\n",
              "      <td>audio_features</td>\n",
              "      <td>43zdsphuZLzwA9k4DJhU0I</td>\n",
              "      <td>spotify:track:43zdsphuZLzwA9k4DJhU0I</td>\n",
              "      <td>https://api.spotify.com/v1/tracks/43zdsphuZLzw...</td>\n",
              "      <td>https://api.spotify.com/v1/audio-analysis/43zd...</td>\n",
              "      <td>196077</td>\n",
              "      <td>4</td>\n",
              "      <td>2019-03-29</td>\n",
              "      <td>sad</td>\n",
              "    </tr>\n",
              "    <tr>\n",
              "      <th>...</th>\n",
              "      <td>...</td>\n",
              "      <td>...</td>\n",
              "      <td>...</td>\n",
              "      <td>...</td>\n",
              "      <td>...</td>\n",
              "      <td>...</td>\n",
              "      <td>...</td>\n",
              "      <td>...</td>\n",
              "      <td>...</td>\n",
              "      <td>...</td>\n",
              "      <td>...</td>\n",
              "      <td>...</td>\n",
              "      <td>...</td>\n",
              "      <td>...</td>\n",
              "      <td>...</td>\n",
              "      <td>...</td>\n",
              "      <td>...</td>\n",
              "      <td>...</td>\n",
              "      <td>...</td>\n",
              "      <td>...</td>\n",
              "      <td>...</td>\n",
              "    </tr>\n",
              "    <tr>\n",
              "      <th>1116</th>\n",
              "      <td>1116</td>\n",
              "      <td>0.716</td>\n",
              "      <td>0.748</td>\n",
              "      <td>8</td>\n",
              "      <td>-6.060</td>\n",
              "      <td>1</td>\n",
              "      <td>0.0356</td>\n",
              "      <td>0.2350</td>\n",
              "      <td>0.849000</td>\n",
              "      <td>0.1140</td>\n",
              "      <td>...</td>\n",
              "      <td>119.918</td>\n",
              "      <td>audio_features</td>\n",
              "      <td>01kfSdF9zfcDLri5sSWEoL</td>\n",
              "      <td>spotify:track:01kfSdF9zfcDLri5sSWEoL</td>\n",
              "      <td>https://api.spotify.com/v1/tracks/01kfSdF9zfcD...</td>\n",
              "      <td>https://api.spotify.com/v1/audio-analysis/01kf...</td>\n",
              "      <td>169245</td>\n",
              "      <td>4</td>\n",
              "      <td>2022-03-18</td>\n",
              "      <td>energizer</td>\n",
              "    </tr>\n",
              "    <tr>\n",
              "      <th>1117</th>\n",
              "      <td>1117</td>\n",
              "      <td>0.778</td>\n",
              "      <td>0.786</td>\n",
              "      <td>3</td>\n",
              "      <td>-4.440</td>\n",
              "      <td>0</td>\n",
              "      <td>0.1150</td>\n",
              "      <td>0.0189</td>\n",
              "      <td>0.000047</td>\n",
              "      <td>0.0678</td>\n",
              "      <td>...</td>\n",
              "      <td>128.007</td>\n",
              "      <td>audio_features</td>\n",
              "      <td>7FvXYkiDWiLgXA9JHUf7Ni</td>\n",
              "      <td>spotify:track:7FvXYkiDWiLgXA9JHUf7Ni</td>\n",
              "      <td>https://api.spotify.com/v1/tracks/7FvXYkiDWiLg...</td>\n",
              "      <td>https://api.spotify.com/v1/audio-analysis/7FvX...</td>\n",
              "      <td>126562</td>\n",
              "      <td>4</td>\n",
              "      <td>2023-03-31</td>\n",
              "      <td>energizer</td>\n",
              "    </tr>\n",
              "    <tr>\n",
              "      <th>1118</th>\n",
              "      <td>1118</td>\n",
              "      <td>0.848</td>\n",
              "      <td>0.821</td>\n",
              "      <td>2</td>\n",
              "      <td>-5.408</td>\n",
              "      <td>0</td>\n",
              "      <td>0.0527</td>\n",
              "      <td>0.0169</td>\n",
              "      <td>0.000403</td>\n",
              "      <td>0.0962</td>\n",
              "      <td>...</td>\n",
              "      <td>125.051</td>\n",
              "      <td>audio_features</td>\n",
              "      <td>6GomT970rCOkKAyyrwJeZi</td>\n",
              "      <td>spotify:track:6GomT970rCOkKAyyrwJeZi</td>\n",
              "      <td>https://api.spotify.com/v1/tracks/6GomT970rCOk...</td>\n",
              "      <td>https://api.spotify.com/v1/audio-analysis/6Gom...</td>\n",
              "      <td>157445</td>\n",
              "      <td>4</td>\n",
              "      <td>2021-10-29</td>\n",
              "      <td>energizer</td>\n",
              "    </tr>\n",
              "    <tr>\n",
              "      <th>1119</th>\n",
              "      <td>1119</td>\n",
              "      <td>0.653</td>\n",
              "      <td>0.973</td>\n",
              "      <td>11</td>\n",
              "      <td>-3.894</td>\n",
              "      <td>1</td>\n",
              "      <td>0.0414</td>\n",
              "      <td>0.0338</td>\n",
              "      <td>0.006860</td>\n",
              "      <td>0.2990</td>\n",
              "      <td>...</td>\n",
              "      <td>128.024</td>\n",
              "      <td>audio_features</td>\n",
              "      <td>7wy8gxfen0STJ2jQMYQBAA</td>\n",
              "      <td>spotify:track:7wy8gxfen0STJ2jQMYQBAA</td>\n",
              "      <td>https://api.spotify.com/v1/tracks/7wy8gxfen0ST...</td>\n",
              "      <td>https://api.spotify.com/v1/audio-analysis/7wy8...</td>\n",
              "      <td>157573</td>\n",
              "      <td>4</td>\n",
              "      <td>2023-03-24</td>\n",
              "      <td>energizer</td>\n",
              "    </tr>\n",
              "    <tr>\n",
              "      <th>1120</th>\n",
              "      <td>1120</td>\n",
              "      <td>0.686</td>\n",
              "      <td>0.892</td>\n",
              "      <td>10</td>\n",
              "      <td>-3.186</td>\n",
              "      <td>0</td>\n",
              "      <td>0.0498</td>\n",
              "      <td>0.0577</td>\n",
              "      <td>0.000007</td>\n",
              "      <td>0.0838</td>\n",
              "      <td>...</td>\n",
              "      <td>126.030</td>\n",
              "      <td>audio_features</td>\n",
              "      <td>2LxdNADWier3MKTei8FbOY</td>\n",
              "      <td>spotify:track:2LxdNADWier3MKTei8FbOY</td>\n",
              "      <td>https://api.spotify.com/v1/tracks/2LxdNADWier3...</td>\n",
              "      <td>https://api.spotify.com/v1/audio-analysis/2Lxd...</td>\n",
              "      <td>157206</td>\n",
              "      <td>4</td>\n",
              "      <td>2022-05-06</td>\n",
              "      <td>energizer</td>\n",
              "    </tr>\n",
              "  </tbody>\n",
              "</table>\n",
              "<p>1121 rows × 21 columns</p>\n",
              "</div>"
            ],
            "text/plain": [
              "      Unnamed: 0  danceability  energy  key  loudness  mode  speechiness  \\\n",
              "0              0         0.357   0.425    5    -7.301     1       0.0333   \n",
              "1              1         0.557   0.442    5    -7.224     1       0.0243   \n",
              "2              2         0.652   0.557    1    -5.714     0       0.0318   \n",
              "3              3         0.681   0.372    5    -8.237     1       0.0432   \n",
              "4              4         0.367   0.111    4   -14.084     1       0.0972   \n",
              "...          ...           ...     ...  ...       ...   ...          ...   \n",
              "1116        1116         0.716   0.748    8    -6.060     1       0.0356   \n",
              "1117        1117         0.778   0.786    3    -4.440     0       0.1150   \n",
              "1118        1118         0.848   0.821    2    -5.408     0       0.0527   \n",
              "1119        1119         0.653   0.973   11    -3.894     1       0.0414   \n",
              "1120        1120         0.686   0.892   10    -3.186     0       0.0498   \n",
              "\n",
              "      acousticness  instrumentalness  liveness  ...    tempo            type  \\\n",
              "0           0.5840          0.000000    0.3220  ...  102.078  audio_features   \n",
              "1           0.7310          0.000015    0.1100  ...  146.277  audio_features   \n",
              "2           0.7400          0.000000    0.1240  ...  150.073  audio_features   \n",
              "3           0.6400          0.000000    0.1690  ...   91.873  audio_features   \n",
              "4           0.9780          0.000040    0.0897  ...   82.642  audio_features   \n",
              "...            ...               ...       ...  ...      ...             ...   \n",
              "1116        0.2350          0.849000    0.1140  ...  119.918  audio_features   \n",
              "1117        0.0189          0.000047    0.0678  ...  128.007  audio_features   \n",
              "1118        0.0169          0.000403    0.0962  ...  125.051  audio_features   \n",
              "1119        0.0338          0.006860    0.2990  ...  128.024  audio_features   \n",
              "1120        0.0577          0.000007    0.0838  ...  126.030  audio_features   \n",
              "\n",
              "                          id                                   uri  \\\n",
              "0     4xqrdfXkTW4T0RauPLv3WA  spotify:track:4xqrdfXkTW4T0RauPLv3WA   \n",
              "1     75JFxkI2RXiU7L9VXzMkle  spotify:track:75JFxkI2RXiU7L9VXzMkle   \n",
              "2     2qxmye6gAegTMjLKEBoR3d  spotify:track:2qxmye6gAegTMjLKEBoR3d   \n",
              "3     1mXVgsBdtIVeCLJnSnmtdV  spotify:track:1mXVgsBdtIVeCLJnSnmtdV   \n",
              "4     43zdsphuZLzwA9k4DJhU0I  spotify:track:43zdsphuZLzwA9k4DJhU0I   \n",
              "...                      ...                                   ...   \n",
              "1116  01kfSdF9zfcDLri5sSWEoL  spotify:track:01kfSdF9zfcDLri5sSWEoL   \n",
              "1117  7FvXYkiDWiLgXA9JHUf7Ni  spotify:track:7FvXYkiDWiLgXA9JHUf7Ni   \n",
              "1118  6GomT970rCOkKAyyrwJeZi  spotify:track:6GomT970rCOkKAyyrwJeZi   \n",
              "1119  7wy8gxfen0STJ2jQMYQBAA  spotify:track:7wy8gxfen0STJ2jQMYQBAA   \n",
              "1120  2LxdNADWier3MKTei8FbOY  spotify:track:2LxdNADWier3MKTei8FbOY   \n",
              "\n",
              "                                             track_href  \\\n",
              "0     https://api.spotify.com/v1/tracks/4xqrdfXkTW4T...   \n",
              "1     https://api.spotify.com/v1/tracks/75JFxkI2RXiU...   \n",
              "2     https://api.spotify.com/v1/tracks/2qxmye6gAegT...   \n",
              "3     https://api.spotify.com/v1/tracks/1mXVgsBdtIVe...   \n",
              "4     https://api.spotify.com/v1/tracks/43zdsphuZLzw...   \n",
              "...                                                 ...   \n",
              "1116  https://api.spotify.com/v1/tracks/01kfSdF9zfcD...   \n",
              "1117  https://api.spotify.com/v1/tracks/7FvXYkiDWiLg...   \n",
              "1118  https://api.spotify.com/v1/tracks/6GomT970rCOk...   \n",
              "1119  https://api.spotify.com/v1/tracks/7wy8gxfen0ST...   \n",
              "1120  https://api.spotify.com/v1/tracks/2LxdNADWier3...   \n",
              "\n",
              "                                           analysis_url duration_ms  \\\n",
              "0     https://api.spotify.com/v1/audio-analysis/4xqr...      198040   \n",
              "1     https://api.spotify.com/v1/audio-analysis/75JF...      309600   \n",
              "2     https://api.spotify.com/v1/audio-analysis/2qxm...      169354   \n",
              "3     https://api.spotify.com/v1/audio-analysis/1mXV...      201000   \n",
              "4     https://api.spotify.com/v1/audio-analysis/43zd...      196077   \n",
              "...                                                 ...         ...   \n",
              "1116  https://api.spotify.com/v1/audio-analysis/01kf...      169245   \n",
              "1117  https://api.spotify.com/v1/audio-analysis/7FvX...      126562   \n",
              "1118  https://api.spotify.com/v1/audio-analysis/6Gom...      157445   \n",
              "1119  https://api.spotify.com/v1/audio-analysis/7wy8...      157573   \n",
              "1120  https://api.spotify.com/v1/audio-analysis/2Lxd...      157206   \n",
              "\n",
              "      time_signature  release_date       mood  \n",
              "0                  3    2020-03-20        sad  \n",
              "1                  4    2002-08-08        sad  \n",
              "2                  4    2018-11-16        sad  \n",
              "3                  4    2017-11-03        sad  \n",
              "4                  4    2019-03-29        sad  \n",
              "...              ...           ...        ...  \n",
              "1116               4    2022-03-18  energizer  \n",
              "1117               4    2023-03-31  energizer  \n",
              "1118               4    2021-10-29  energizer  \n",
              "1119               4    2023-03-24  energizer  \n",
              "1120               4    2022-05-06  energizer  \n",
              "\n",
              "[1121 rows x 21 columns]"
            ]
          },
          "execution_count": 3,
          "metadata": {},
          "output_type": "execute_result"
        }
      ],
      "source": [
        "data = pd.read_csv('/work/trainingSongs_date_update.csv')\n",
        "data"
      ]
    },
    {
      "cell_type": "markdown",
      "metadata": {
        "cell_id": "53b1a7f914d44e39b70f334a58124584",
        "deepnote_cell_type": "text-cell-h3",
        "formattedRanges": [],
        "id": "zOYrkQhYaGNM"
      },
      "source": [
        "### Eliminación de datos duplicados"
      ]
    },
    {
      "cell_type": "markdown",
      "metadata": {
        "cell_id": "578c7886029b431e8cef902e01cb7b2c",
        "deepnote_cell_type": "markdown",
        "id": "PV9m8Y91aGNM"
      },
      "source": [
        "**Mostramos** las columnas **duplicadas**\n",
        "\n"
      ]
    },
    {
      "cell_type": "markdown",
      "metadata": {
        "cell_id": "d30d689a2f514011bdcb6d00e0445d4b",
        "deepnote_cell_type": "markdown",
        "id": "0qint8GRaGNM"
      },
      "source": [
        "**Eliminamos** las 137 filas duplicadas quedándonos con la primera aparición de ellos y mostramos las restantes."
      ]
    },
    {
      "cell_type": "code",
      "execution_count": null,
      "metadata": {
        "cell_id": "8848ac7740994b47acd2363ffcbf7bca",
        "deepnote_cell_type": "code",
        "deepnote_to_be_reexecuted": false,
        "execution_millis": 495,
        "execution_start": 1708275133883,
        "id": "bJBw6RwxaGNM",
        "source_hash": null
      },
      "outputs": [],
      "source": [
        "data = data.drop_duplicates(subset=\"id\",keep=\"first\")"
      ]
    },
    {
      "cell_type": "code",
      "execution_count": null,
      "metadata": {
        "cell_id": "c6512d0b55a94301b0b53cce7ed68a56",
        "deepnote_cell_type": "code",
        "deepnote_table_loading": false,
        "deepnote_table_state": {
          "filters": [],
          "pageIndex": 0,
          "pageSize": 10,
          "sortBy": [
            {
              "id": "mood",
              "type": "asc"
            }
          ]
        },
        "deepnote_to_be_reexecuted": false,
        "execution_millis": 488,
        "execution_start": 1708275133890,
        "id": "JiIC94AFaGNM",
        "outputId": "08c26c63-2dfd-47dd-ce61-c35e687b7cac",
        "source_hash": null
      },
      "outputs": [
        {
          "data": {
            "application/vnd.deepnote.dataframe.v3+json": {
              "column_count": 21,
              "columns": [
                {
                  "dtype": "int64",
                  "name": "Unnamed: 0",
                  "stats": {
                    "histogram": [
                      {
                        "bin_end": 112,
                        "bin_start": 0,
                        "count": 110
                      },
                      {
                        "bin_end": 224,
                        "bin_start": 112,
                        "count": 105
                      },
                      {
                        "bin_end": 336,
                        "bin_start": 224,
                        "count": 107
                      },
                      {
                        "bin_end": 448,
                        "bin_start": 336,
                        "count": 112
                      },
                      {
                        "bin_end": 560,
                        "bin_start": 448,
                        "count": 98
                      },
                      {
                        "bin_end": 672,
                        "bin_start": 560,
                        "count": 105
                      },
                      {
                        "bin_end": 784,
                        "bin_start": 672,
                        "count": 93
                      },
                      {
                        "bin_end": 896,
                        "bin_start": 784,
                        "count": 106
                      },
                      {
                        "bin_end": 1008,
                        "bin_start": 896,
                        "count": 112
                      },
                      {
                        "bin_end": 1120,
                        "bin_start": 1008,
                        "count": 104
                      }
                    ],
                    "max": "1120",
                    "min": "0",
                    "nan_count": 0,
                    "unique_count": 1052
                  }
                },
                {
                  "dtype": "float64",
                  "name": "danceability",
                  "stats": {
                    "histogram": [
                      {
                        "bin_end": 0.2529,
                        "bin_start": 0.175,
                        "count": 15
                      },
                      {
                        "bin_end": 0.3308,
                        "bin_start": 0.2529,
                        "count": 28
                      },
                      {
                        "bin_end": 0.40869999999999995,
                        "bin_start": 0.3308,
                        "count": 77
                      },
                      {
                        "bin_end": 0.4866,
                        "bin_start": 0.40869999999999995,
                        "count": 109
                      },
                      {
                        "bin_end": 0.5645,
                        "bin_start": 0.4866,
                        "count": 177
                      },
                      {
                        "bin_end": 0.6424,
                        "bin_start": 0.5645,
                        "count": 201
                      },
                      {
                        "bin_end": 0.7202999999999999,
                        "bin_start": 0.6424,
                        "count": 213
                      },
                      {
                        "bin_end": 0.7982,
                        "bin_start": 0.7202999999999999,
                        "count": 142
                      },
                      {
                        "bin_end": 0.8760999999999999,
                        "bin_start": 0.7982,
                        "count": 74
                      },
                      {
                        "bin_end": 0.954,
                        "bin_start": 0.8760999999999999,
                        "count": 16
                      }
                    ],
                    "max": "0.954",
                    "min": "0.175",
                    "nan_count": 0,
                    "unique_count": 491
                  }
                },
                {
                  "dtype": "float64",
                  "name": "energy",
                  "stats": {
                    "histogram": [
                      {
                        "bin_end": 0.12022,
                        "bin_start": 0.0228,
                        "count": 31
                      },
                      {
                        "bin_end": 0.21764,
                        "bin_start": 0.12022,
                        "count": 80
                      },
                      {
                        "bin_end": 0.31505999999999995,
                        "bin_start": 0.21764,
                        "count": 97
                      },
                      {
                        "bin_end": 0.41247999999999996,
                        "bin_start": 0.31505999999999995,
                        "count": 118
                      },
                      {
                        "bin_end": 0.5099,
                        "bin_start": 0.41247999999999996,
                        "count": 104
                      },
                      {
                        "bin_end": 0.60732,
                        "bin_start": 0.5099,
                        "count": 87
                      },
                      {
                        "bin_end": 0.70474,
                        "bin_start": 0.60732,
                        "count": 104
                      },
                      {
                        "bin_end": 0.80216,
                        "bin_start": 0.70474,
                        "count": 121
                      },
                      {
                        "bin_end": 0.8995799999999999,
                        "bin_start": 0.80216,
                        "count": 167
                      },
                      {
                        "bin_end": 0.997,
                        "bin_start": 0.8995799999999999,
                        "count": 143
                      }
                    ],
                    "max": "0.997",
                    "min": "0.0228",
                    "nan_count": 0,
                    "unique_count": 604
                  }
                },
                {
                  "dtype": "int64",
                  "name": "key",
                  "stats": {
                    "histogram": [
                      {
                        "bin_end": 1.1,
                        "bin_start": 0,
                        "count": 239
                      },
                      {
                        "bin_end": 2.2,
                        "bin_start": 1.1,
                        "count": 99
                      },
                      {
                        "bin_end": 3.3000000000000003,
                        "bin_start": 2.2,
                        "count": 43
                      },
                      {
                        "bin_end": 4.4,
                        "bin_start": 3.3000000000000003,
                        "count": 73
                      },
                      {
                        "bin_end": 5.5,
                        "bin_start": 4.4,
                        "count": 96
                      },
                      {
                        "bin_end": 6.6000000000000005,
                        "bin_start": 5.5,
                        "count": 89
                      },
                      {
                        "bin_end": 7.700000000000001,
                        "bin_start": 6.6000000000000005,
                        "count": 102
                      },
                      {
                        "bin_end": 8.8,
                        "bin_start": 7.700000000000001,
                        "count": 75
                      },
                      {
                        "bin_end": 9.9,
                        "bin_start": 8.8,
                        "count": 90
                      },
                      {
                        "bin_end": 11,
                        "bin_start": 9.9,
                        "count": 146
                      }
                    ],
                    "max": "11",
                    "min": "0",
                    "nan_count": 0,
                    "unique_count": 12
                  }
                },
                {
                  "dtype": "float64",
                  "name": "loudness",
                  "stats": {
                    "histogram": [
                      {
                        "bin_end": -24.39,
                        "bin_start": -27.043,
                        "count": 2
                      },
                      {
                        "bin_end": -21.737000000000002,
                        "bin_start": -24.39,
                        "count": 7
                      },
                      {
                        "bin_end": -19.084,
                        "bin_start": -21.737000000000002,
                        "count": 3
                      },
                      {
                        "bin_end": -16.431,
                        "bin_start": -19.084,
                        "count": 18
                      },
                      {
                        "bin_end": -13.778000000000002,
                        "bin_start": -16.431,
                        "count": 39
                      },
                      {
                        "bin_end": -11.125000000000002,
                        "bin_start": -13.778000000000002,
                        "count": 99
                      },
                      {
                        "bin_end": -8.472000000000001,
                        "bin_start": -11.125000000000002,
                        "count": 187
                      },
                      {
                        "bin_end": -5.819000000000003,
                        "bin_start": -8.472000000000001,
                        "count": 282
                      },
                      {
                        "bin_end": -3.166000000000004,
                        "bin_start": -5.819000000000003,
                        "count": 350
                      },
                      {
                        "bin_end": -0.513,
                        "bin_start": -3.166000000000004,
                        "count": 65
                      }
                    ],
                    "max": "-0.513",
                    "min": "-27.043",
                    "nan_count": 0,
                    "unique_count": 994
                  }
                },
                {
                  "dtype": "int64",
                  "name": "mode",
                  "stats": {
                    "histogram": [
                      {
                        "bin_end": 0.1,
                        "bin_start": 0,
                        "count": 349
                      },
                      {
                        "bin_end": 0.2,
                        "bin_start": 0.1,
                        "count": 0
                      },
                      {
                        "bin_end": 0.30000000000000004,
                        "bin_start": 0.2,
                        "count": 0
                      },
                      {
                        "bin_end": 0.4,
                        "bin_start": 0.30000000000000004,
                        "count": 0
                      },
                      {
                        "bin_end": 0.5,
                        "bin_start": 0.4,
                        "count": 0
                      },
                      {
                        "bin_end": 0.6000000000000001,
                        "bin_start": 0.5,
                        "count": 0
                      },
                      {
                        "bin_end": 0.7000000000000001,
                        "bin_start": 0.6000000000000001,
                        "count": 0
                      },
                      {
                        "bin_end": 0.8,
                        "bin_start": 0.7000000000000001,
                        "count": 0
                      },
                      {
                        "bin_end": 0.9,
                        "bin_start": 0.8,
                        "count": 0
                      },
                      {
                        "bin_end": 1,
                        "bin_start": 0.9,
                        "count": 703
                      }
                    ],
                    "max": "1",
                    "min": "0",
                    "nan_count": 0,
                    "unique_count": 2
                  }
                },
                {
                  "dtype": "float64",
                  "name": "speechiness",
                  "stats": {
                    "histogram": [
                      {
                        "bin_end": 0.08169,
                        "bin_start": 0.0241,
                        "count": 807
                      },
                      {
                        "bin_end": 0.13928,
                        "bin_start": 0.08169,
                        "count": 116
                      },
                      {
                        "bin_end": 0.19687,
                        "bin_start": 0.13928,
                        "count": 53
                      },
                      {
                        "bin_end": 0.25445999999999996,
                        "bin_start": 0.19687,
                        "count": 25
                      },
                      {
                        "bin_end": 0.31205,
                        "bin_start": 0.25445999999999996,
                        "count": 18
                      },
                      {
                        "bin_end": 0.36963999999999997,
                        "bin_start": 0.31205,
                        "count": 17
                      },
                      {
                        "bin_end": 0.42723,
                        "bin_start": 0.36963999999999997,
                        "count": 9
                      },
                      {
                        "bin_end": 0.48482,
                        "bin_start": 0.42723,
                        "count": 3
                      },
                      {
                        "bin_end": 0.54241,
                        "bin_start": 0.48482,
                        "count": 2
                      },
                      {
                        "bin_end": 0.6,
                        "bin_start": 0.54241,
                        "count": 2
                      }
                    ],
                    "max": "0.6",
                    "min": "0.0241",
                    "nan_count": 0,
                    "unique_count": 546
                  }
                },
                {
                  "dtype": "float64",
                  "name": "acousticness",
                  "stats": {
                    "histogram": [
                      {
                        "bin_end": 0.0990017,
                        "bin_start": 0.000113,
                        "count": 371
                      },
                      {
                        "bin_end": 0.1978904,
                        "bin_start": 0.0990017,
                        "count": 101
                      },
                      {
                        "bin_end": 0.29677909999999996,
                        "bin_start": 0.1978904,
                        "count": 65
                      },
                      {
                        "bin_end": 0.39566779999999996,
                        "bin_start": 0.29677909999999996,
                        "count": 57
                      },
                      {
                        "bin_end": 0.49455649999999995,
                        "bin_start": 0.39566779999999996,
                        "count": 43
                      },
                      {
                        "bin_end": 0.5934452,
                        "bin_start": 0.49455649999999995,
                        "count": 53
                      },
                      {
                        "bin_end": 0.6923339,
                        "bin_start": 0.5934452,
                        "count": 56
                      },
                      {
                        "bin_end": 0.7912226,
                        "bin_start": 0.6923339,
                        "count": 74
                      },
                      {
                        "bin_end": 0.8901113,
                        "bin_start": 0.7912226,
                        "count": 113
                      },
                      {
                        "bin_end": 0.989,
                        "bin_start": 0.8901113,
                        "count": 119
                      }
                    ],
                    "max": "0.989",
                    "min": "0.000113",
                    "nan_count": 0,
                    "unique_count": 780
                  }
                },
                {
                  "dtype": "float64",
                  "name": "instrumentalness",
                  "stats": {
                    "histogram": [
                      {
                        "bin_end": 0.097,
                        "bin_start": 0,
                        "count": 923
                      },
                      {
                        "bin_end": 0.194,
                        "bin_start": 0.097,
                        "count": 33
                      },
                      {
                        "bin_end": 0.29100000000000004,
                        "bin_start": 0.194,
                        "count": 15
                      },
                      {
                        "bin_end": 0.388,
                        "bin_start": 0.29100000000000004,
                        "count": 8
                      },
                      {
                        "bin_end": 0.485,
                        "bin_start": 0.388,
                        "count": 12
                      },
                      {
                        "bin_end": 0.5820000000000001,
                        "bin_start": 0.485,
                        "count": 11
                      },
                      {
                        "bin_end": 0.679,
                        "bin_start": 0.5820000000000001,
                        "count": 11
                      },
                      {
                        "bin_end": 0.776,
                        "bin_start": 0.679,
                        "count": 17
                      },
                      {
                        "bin_end": 0.873,
                        "bin_start": 0.776,
                        "count": 11
                      },
                      {
                        "bin_end": 0.97,
                        "bin_start": 0.873,
                        "count": 11
                      }
                    ],
                    "max": "0.97",
                    "min": "0.0",
                    "nan_count": 0,
                    "unique_count": 577
                  }
                },
                {
                  "dtype": "float64",
                  "name": "liveness",
                  "stats": {
                    "histogram": [
                      {
                        "bin_end": 0.1161,
                        "bin_start": 0.02,
                        "count": 502
                      },
                      {
                        "bin_end": 0.21219999999999997,
                        "bin_start": 0.1161,
                        "count": 288
                      },
                      {
                        "bin_end": 0.3083,
                        "bin_start": 0.21219999999999997,
                        "count": 97
                      },
                      {
                        "bin_end": 0.4044,
                        "bin_start": 0.3083,
                        "count": 96
                      },
                      {
                        "bin_end": 0.5005,
                        "bin_start": 0.4044,
                        "count": 26
                      },
                      {
                        "bin_end": 0.5966,
                        "bin_start": 0.5005,
                        "count": 8
                      },
                      {
                        "bin_end": 0.6927,
                        "bin_start": 0.5966,
                        "count": 11
                      },
                      {
                        "bin_end": 0.7888,
                        "bin_start": 0.6927,
                        "count": 13
                      },
                      {
                        "bin_end": 0.8848999999999999,
                        "bin_start": 0.7888,
                        "count": 6
                      },
                      {
                        "bin_end": 0.981,
                        "bin_start": 0.8848999999999999,
                        "count": 5
                      }
                    ],
                    "max": "0.981",
                    "min": "0.02",
                    "nan_count": 0,
                    "unique_count": 503
                  }
                },
                {
                  "dtype": "float64",
                  "name": "valence",
                  "stats": {
                    "histogram": [
                      {
                        "bin_end": 0.12642,
                        "bin_start": 0.0318,
                        "count": 84
                      },
                      {
                        "bin_end": 0.22104,
                        "bin_start": 0.12642,
                        "count": 146
                      },
                      {
                        "bin_end": 0.31566,
                        "bin_start": 0.22104,
                        "count": 134
                      },
                      {
                        "bin_end": 0.41028,
                        "bin_start": 0.31566,
                        "count": 165
                      },
                      {
                        "bin_end": 0.5049,
                        "bin_start": 0.41028,
                        "count": 116
                      },
                      {
                        "bin_end": 0.59952,
                        "bin_start": 0.5049,
                        "count": 111
                      },
                      {
                        "bin_end": 0.69414,
                        "bin_start": 0.59952,
                        "count": 85
                      },
                      {
                        "bin_end": 0.78876,
                        "bin_start": 0.69414,
                        "count": 95
                      },
                      {
                        "bin_end": 0.88338,
                        "bin_start": 0.78876,
                        "count": 65
                      },
                      {
                        "bin_end": 0.978,
                        "bin_start": 0.88338,
                        "count": 51
                      }
                    ],
                    "max": "0.978",
                    "min": "0.0318",
                    "nan_count": 0,
                    "unique_count": 635
                  }
                },
                {
                  "dtype": "float64",
                  "name": "tempo",
                  "stats": {
                    "histogram": [
                      {
                        "bin_end": 61.791799999999995,
                        "bin_start": 45.306,
                        "count": 2
                      },
                      {
                        "bin_end": 78.2776,
                        "bin_start": 61.791799999999995,
                        "count": 51
                      },
                      {
                        "bin_end": 94.7634,
                        "bin_start": 78.2776,
                        "count": 147
                      },
                      {
                        "bin_end": 111.2492,
                        "bin_start": 94.7634,
                        "count": 192
                      },
                      {
                        "bin_end": 127.735,
                        "bin_start": 111.2492,
                        "count": 239
                      },
                      {
                        "bin_end": 144.2208,
                        "bin_start": 127.735,
                        "count": 185
                      },
                      {
                        "bin_end": 160.7066,
                        "bin_start": 144.2208,
                        "count": 148
                      },
                      {
                        "bin_end": 177.19240000000002,
                        "bin_start": 160.7066,
                        "count": 57
                      },
                      {
                        "bin_end": 193.6782,
                        "bin_start": 177.19240000000002,
                        "count": 22
                      },
                      {
                        "bin_end": 210.164,
                        "bin_start": 193.6782,
                        "count": 9
                      }
                    ],
                    "max": "210.164",
                    "min": "45.306",
                    "nan_count": 0,
                    "unique_count": 1017
                  }
                },
                {
                  "dtype": "object",
                  "name": "type",
                  "stats": {
                    "categories": [
                      {
                        "count": 1052,
                        "name": "audio_features"
                      }
                    ],
                    "nan_count": 0,
                    "unique_count": 1
                  }
                },
                {
                  "dtype": "object",
                  "name": "id",
                  "stats": {
                    "categories": [
                      {
                        "count": 1,
                        "name": "2LxdNADWier3MKTei8FbOY"
                      },
                      {
                        "count": 1,
                        "name": "1WbQ96o7shECYjvEsRhvUV"
                      },
                      {
                        "count": 1050,
                        "name": "1050 others"
                      }
                    ],
                    "nan_count": 0,
                    "unique_count": 1052
                  }
                },
                {
                  "dtype": "object",
                  "name": "uri",
                  "stats": {
                    "categories": [
                      {
                        "count": 1,
                        "name": "spotify:track:2LxdNADWier3MKTei8FbOY"
                      },
                      {
                        "count": 1,
                        "name": "spotify:track:1WbQ96o7shECYjvEsRhvUV"
                      },
                      {
                        "count": 1050,
                        "name": "1050 others"
                      }
                    ],
                    "nan_count": 0,
                    "unique_count": 1052
                  }
                },
                {
                  "dtype": "object",
                  "name": "track_href",
                  "stats": {
                    "categories": [
                      {
                        "count": 1,
                        "name": "https://api.spotify.com/v1/tracks/2LxdNADWier3MKTei8FbOY"
                      },
                      {
                        "count": 1,
                        "name": "https://api.spotify.com/v1/tracks/1WbQ96o7shECYjvEsRhvUV"
                      },
                      {
                        "count": 1050,
                        "name": "1050 others"
                      }
                    ],
                    "nan_count": 0,
                    "unique_count": 1052
                  }
                },
                {
                  "dtype": "object",
                  "name": "analysis_url",
                  "stats": {
                    "categories": [
                      {
                        "count": 1,
                        "name": "https://api.spotify.com/v1/audio-analysis/2LxdNADWier3MKTei8FbOY"
                      },
                      {
                        "count": 1,
                        "name": "https://api.spotify.com/v1/audio-analysis/1WbQ96o7shECYjvEsRhvUV"
                      },
                      {
                        "count": 1050,
                        "name": "1050 others"
                      }
                    ],
                    "nan_count": 0,
                    "unique_count": 1052
                  }
                },
                {
                  "dtype": "int64",
                  "name": "duration_ms",
                  "stats": {
                    "histogram": [
                      {
                        "bin_end": 114930.1,
                        "bin_start": 75227,
                        "count": 13
                      },
                      {
                        "bin_end": 154633.2,
                        "bin_start": 114930.1,
                        "count": 121
                      },
                      {
                        "bin_end": 194336.3,
                        "bin_start": 154633.2,
                        "count": 335
                      },
                      {
                        "bin_end": 234039.4,
                        "bin_start": 194336.3,
                        "count": 305
                      },
                      {
                        "bin_end": 273742.5,
                        "bin_start": 234039.4,
                        "count": 188
                      },
                      {
                        "bin_end": 313445.6,
                        "bin_start": 273742.5,
                        "count": 65
                      },
                      {
                        "bin_end": 353148.7,
                        "bin_start": 313445.6,
                        "count": 17
                      },
                      {
                        "bin_end": 392851.8,
                        "bin_start": 353148.7,
                        "count": 5
                      },
                      {
                        "bin_end": 432554.89999999997,
                        "bin_start": 392851.8,
                        "count": 2
                      },
                      {
                        "bin_end": 472258,
                        "bin_start": 432554.89999999997,
                        "count": 1
                      }
                    ],
                    "max": "472258",
                    "min": "75227",
                    "nan_count": 0,
                    "unique_count": 1030
                  }
                },
                {
                  "dtype": "int64",
                  "name": "time_signature",
                  "stats": {
                    "histogram": [
                      {
                        "bin_end": 1.4,
                        "bin_start": 1,
                        "count": 6
                      },
                      {
                        "bin_end": 1.8,
                        "bin_start": 1.4,
                        "count": 0
                      },
                      {
                        "bin_end": 2.2,
                        "bin_start": 1.8,
                        "count": 0
                      },
                      {
                        "bin_end": 2.6,
                        "bin_start": 2.2,
                        "count": 0
                      },
                      {
                        "bin_end": 3,
                        "bin_start": 2.6,
                        "count": 0
                      },
                      {
                        "bin_end": 3.4000000000000004,
                        "bin_start": 3,
                        "count": 87
                      },
                      {
                        "bin_end": 3.8000000000000003,
                        "bin_start": 3.4000000000000004,
                        "count": 0
                      },
                      {
                        "bin_end": 4.2,
                        "bin_start": 3.8000000000000003,
                        "count": 945
                      },
                      {
                        "bin_end": 4.6,
                        "bin_start": 4.2,
                        "count": 0
                      },
                      {
                        "bin_end": 5,
                        "bin_start": 4.6,
                        "count": 14
                      }
                    ],
                    "max": "5",
                    "min": "1",
                    "nan_count": 0,
                    "unique_count": 4
                  }
                },
                {
                  "dtype": "object",
                  "name": "release_date",
                  "stats": {
                    "categories": [
                      {
                        "count": 12,
                        "name": "2024-01-26"
                      },
                      {
                        "count": 9,
                        "name": "2023-04-21"
                      },
                      {
                        "count": 1031,
                        "name": "684 others"
                      }
                    ],
                    "nan_count": 0,
                    "unique_count": 686
                  }
                },
                {
                  "dtype": "object",
                  "name": "mood",
                  "stats": {
                    "categories": [
                      {
                        "count": 270,
                        "name": "relax"
                      },
                      {
                        "count": 269,
                        "name": "happiness"
                      },
                      {
                        "count": 513,
                        "name": "2 others"
                      }
                    ],
                    "nan_count": 0,
                    "unique_count": 4
                  }
                },
                {
                  "dtype": "int64",
                  "name": "_deepnote_index_column"
                }
              ],
              "row_count": 1052,
              "rows": [
                {
                  "Unnamed: 0": 1120,
                  "_deepnote_index_column": 1120,
                  "acousticness": 0.0577,
                  "analysis_url": "https://api.spotify.com/v1/audio-analysis/2LxdNADWier3MKTei8FbOY",
                  "danceability": 0.686,
                  "duration_ms": 157206,
                  "energy": 0.892,
                  "id": "2LxdNADWier3MKTei8FbOY",
                  "instrumentalness": 0.00000711,
                  "key": 10,
                  "liveness": 0.0838,
                  "loudness": -3.186,
                  "mode": 0,
                  "mood": "energizer",
                  "release_date": "2022-05-06",
                  "speechiness": 0.0498,
                  "tempo": 126.03,
                  "time_signature": 4,
                  "track_href": "https://api.spotify.com/v1/tracks/2LxdNADWier3MKTei8FbOY",
                  "type": "audio_features",
                  "uri": "spotify:track:2LxdNADWier3MKTei8FbOY",
                  "valence": 0.752
                },
                {
                  "Unnamed: 0": 952,
                  "_deepnote_index_column": 952,
                  "acousticness": 0.0118,
                  "analysis_url": "https://api.spotify.com/v1/audio-analysis/1WbQ96o7shECYjvEsRhvUV",
                  "danceability": 0.671,
                  "duration_ms": 196576,
                  "energy": 0.996,
                  "id": "1WbQ96o7shECYjvEsRhvUV",
                  "instrumentalness": 0.00121,
                  "key": 8,
                  "liveness": 0.323,
                  "loudness": -0.672,
                  "mode": 1,
                  "mood": "energizer",
                  "release_date": "2023-03-09",
                  "speechiness": 0.229,
                  "tempo": 160.02,
                  "time_signature": 4,
                  "track_href": "https://api.spotify.com/v1/tracks/1WbQ96o7shECYjvEsRhvUV",
                  "type": "audio_features",
                  "uri": "spotify:track:1WbQ96o7shECYjvEsRhvUV",
                  "valence": 0.161
                },
                {
                  "Unnamed: 0": 951,
                  "_deepnote_index_column": 951,
                  "acousticness": 0.0179,
                  "analysis_url": "https://api.spotify.com/v1/audio-analysis/54WsAt5kYg8GPi9s85yPuQ",
                  "danceability": 0.368,
                  "duration_ms": 320148,
                  "energy": 0.984,
                  "id": "54WsAt5kYg8GPi9s85yPuQ",
                  "instrumentalness": 0.0154,
                  "key": 1,
                  "liveness": 0.266,
                  "loudness": -2.744,
                  "mode": 1,
                  "mood": "energizer",
                  "release_date": "2023-09-07",
                  "speechiness": 0.405,
                  "tempo": 160.05,
                  "time_signature": 4,
                  "track_href": "https://api.spotify.com/v1/tracks/54WsAt5kYg8GPi9s85yPuQ",
                  "type": "audio_features",
                  "uri": "spotify:track:54WsAt5kYg8GPi9s85yPuQ",
                  "valence": 0.108
                },
                {
                  "Unnamed: 0": 950,
                  "_deepnote_index_column": 950,
                  "acousticness": 0.149,
                  "analysis_url": "https://api.spotify.com/v1/audio-analysis/1f1oSxTFtI9WN7X6GvzMtF",
                  "danceability": 0.584,
                  "duration_ms": 191413,
                  "energy": 0.991,
                  "id": "1f1oSxTFtI9WN7X6GvzMtF",
                  "instrumentalness": 0.000263,
                  "key": 8,
                  "liveness": 0.398,
                  "loudness": -5.074,
                  "mode": 0,
                  "mood": "energizer",
                  "release_date": "2022-04-14",
                  "speechiness": 0.105,
                  "tempo": 154.992,
                  "time_signature": 4,
                  "track_href": "https://api.spotify.com/v1/tracks/1f1oSxTFtI9WN7X6GvzMtF",
                  "type": "audio_features",
                  "uri": "spotify:track:1f1oSxTFtI9WN7X6GvzMtF",
                  "valence": 0.753
                },
                {
                  "Unnamed: 0": 949,
                  "_deepnote_index_column": 949,
                  "acousticness": 0.0242,
                  "analysis_url": "https://api.spotify.com/v1/audio-analysis/5YQoeliHU9Iz2La6pgsL9X",
                  "danceability": 0.486,
                  "duration_ms": 151125,
                  "energy": 0.956,
                  "id": "5YQoeliHU9Iz2La6pgsL9X",
                  "instrumentalness": 0.00000744,
                  "key": 9,
                  "liveness": 0.193,
                  "loudness": -2.381,
                  "mode": 0,
                  "mood": "energizer",
                  "release_date": "2023-03-03",
                  "speechiness": 0.0651,
                  "tempo": 160.002,
                  "time_signature": 4,
                  "track_href": "https://api.spotify.com/v1/tracks/5YQoeliHU9Iz2La6pgsL9X",
                  "type": "audio_features",
                  "uri": "spotify:track:5YQoeliHU9Iz2La6pgsL9X",
                  "valence": 0.383
                },
                {
                  "Unnamed: 0": 948,
                  "_deepnote_index_column": 948,
                  "acousticness": 0.0069,
                  "analysis_url": "https://api.spotify.com/v1/audio-analysis/6V074QUpLYTJCaCJMfvX6q",
                  "danceability": 0.508,
                  "duration_ms": 150375,
                  "energy": 0.841,
                  "id": "6V074QUpLYTJCaCJMfvX6q",
                  "instrumentalness": 0.00000123,
                  "key": 6,
                  "liveness": 0.12,
                  "loudness": -4.122,
                  "mode": 1,
                  "mood": "energizer",
                  "release_date": "2022-07-15",
                  "speechiness": 0.0288,
                  "tempo": 160.119,
                  "time_signature": 4,
                  "track_href": "https://api.spotify.com/v1/tracks/6V074QUpLYTJCaCJMfvX6q",
                  "type": "audio_features",
                  "uri": "spotify:track:6V074QUpLYTJCaCJMfvX6q",
                  "valence": 0.259
                },
                {
                  "Unnamed: 0": 947,
                  "_deepnote_index_column": 947,
                  "acousticness": 0.00805,
                  "analysis_url": "https://api.spotify.com/v1/audio-analysis/00NbtCjGk8CqdB8ukjxCT4",
                  "danceability": 0.644,
                  "duration_ms": 152000,
                  "energy": 0.943,
                  "id": "00NbtCjGk8CqdB8ukjxCT4",
                  "instrumentalness": 0.0933,
                  "key": 1,
                  "liveness": 0.143,
                  "loudness": -2.176,
                  "mode": 0,
                  "mood": "energizer",
                  "release_date": "2022-12-30",
                  "speechiness": 0.067,
                  "tempo": 149.951,
                  "time_signature": 4,
                  "track_href": "https://api.spotify.com/v1/tracks/00NbtCjGk8CqdB8ukjxCT4",
                  "type": "audio_features",
                  "uri": "spotify:track:00NbtCjGk8CqdB8ukjxCT4",
                  "valence": 0.478
                },
                {
                  "Unnamed: 0": 946,
                  "_deepnote_index_column": 946,
                  "acousticness": 0.0657,
                  "analysis_url": "https://api.spotify.com/v1/audio-analysis/3khsjS0d0qOwB3x8k5gVca",
                  "danceability": 0.585,
                  "duration_ms": 168800,
                  "energy": 0.884,
                  "id": "3khsjS0d0qOwB3x8k5gVca",
                  "instrumentalness": 0.0000934,
                  "key": 4,
                  "liveness": 0.64,
                  "loudness": -1.471,
                  "mode": 0,
                  "mood": "energizer",
                  "release_date": "2023-12-22",
                  "speechiness": 0.0525,
                  "tempo": 150.079,
                  "time_signature": 4,
                  "track_href": "https://api.spotify.com/v1/tracks/3khsjS0d0qOwB3x8k5gVca",
                  "type": "audio_features",
                  "uri": "spotify:track:3khsjS0d0qOwB3x8k5gVca",
                  "valence": 0.312
                },
                {
                  "Unnamed: 0": 945,
                  "_deepnote_index_column": 945,
                  "acousticness": 0.113,
                  "analysis_url": "https://api.spotify.com/v1/audio-analysis/0ln00F04EahMrWIb1Qijqo",
                  "danceability": 0.396,
                  "duration_ms": 170000,
                  "energy": 0.927,
                  "id": "0ln00F04EahMrWIb1Qijqo",
                  "instrumentalness": 0.00000718,
                  "key": 9,
                  "liveness": 0.192,
                  "loudness": -2.948,
                  "mode": 1,
                  "mood": "energizer",
                  "release_date": "2022-05-25",
                  "speechiness": 0.129,
                  "tempo": 174.166,
                  "time_signature": 4,
                  "track_href": "https://api.spotify.com/v1/tracks/0ln00F04EahMrWIb1Qijqo",
                  "type": "audio_features",
                  "uri": "spotify:track:0ln00F04EahMrWIb1Qijqo",
                  "valence": 0.364
                },
                {
                  "Unnamed: 0": 944,
                  "_deepnote_index_column": 944,
                  "acousticness": 0.141,
                  "analysis_url": "https://api.spotify.com/v1/audio-analysis/6H4mOpaopoXbLkf12GEhe4",
                  "danceability": 0.577,
                  "duration_ms": 206438,
                  "energy": 0.909,
                  "id": "6H4mOpaopoXbLkf12GEhe4",
                  "instrumentalness": 0,
                  "key": 6,
                  "liveness": 0.957,
                  "loudness": -3.746,
                  "mode": 1,
                  "mood": "energizer",
                  "release_date": "2022-12-08",
                  "speechiness": 0.279,
                  "tempo": 159.898,
                  "time_signature": 4,
                  "track_href": "https://api.spotify.com/v1/tracks/6H4mOpaopoXbLkf12GEhe4",
                  "type": "audio_features",
                  "uri": "spotify:track:6H4mOpaopoXbLkf12GEhe4",
                  "valence": 0.929
                }
              ]
            },
            "text/html": [
              "<div>\n",
              "<style scoped>\n",
              "    .dataframe tbody tr th:only-of-type {\n",
              "        vertical-align: middle;\n",
              "    }\n",
              "\n",
              "    .dataframe tbody tr th {\n",
              "        vertical-align: top;\n",
              "    }\n",
              "\n",
              "    .dataframe thead th {\n",
              "        text-align: right;\n",
              "    }\n",
              "</style>\n",
              "<table border=\"1\" class=\"dataframe\">\n",
              "  <thead>\n",
              "    <tr style=\"text-align: right;\">\n",
              "      <th></th>\n",
              "      <th>Unnamed: 0</th>\n",
              "      <th>danceability</th>\n",
              "      <th>energy</th>\n",
              "      <th>key</th>\n",
              "      <th>loudness</th>\n",
              "      <th>mode</th>\n",
              "      <th>speechiness</th>\n",
              "      <th>acousticness</th>\n",
              "      <th>instrumentalness</th>\n",
              "      <th>liveness</th>\n",
              "      <th>...</th>\n",
              "      <th>tempo</th>\n",
              "      <th>type</th>\n",
              "      <th>id</th>\n",
              "      <th>uri</th>\n",
              "      <th>track_href</th>\n",
              "      <th>analysis_url</th>\n",
              "      <th>duration_ms</th>\n",
              "      <th>time_signature</th>\n",
              "      <th>release_date</th>\n",
              "      <th>mood</th>\n",
              "    </tr>\n",
              "  </thead>\n",
              "  <tbody>\n",
              "    <tr>\n",
              "      <th>0</th>\n",
              "      <td>0</td>\n",
              "      <td>0.357</td>\n",
              "      <td>0.425</td>\n",
              "      <td>5</td>\n",
              "      <td>-7.301</td>\n",
              "      <td>1</td>\n",
              "      <td>0.0333</td>\n",
              "      <td>0.5840</td>\n",
              "      <td>0.000000</td>\n",
              "      <td>0.3220</td>\n",
              "      <td>...</td>\n",
              "      <td>102.078</td>\n",
              "      <td>audio_features</td>\n",
              "      <td>4xqrdfXkTW4T0RauPLv3WA</td>\n",
              "      <td>spotify:track:4xqrdfXkTW4T0RauPLv3WA</td>\n",
              "      <td>https://api.spotify.com/v1/tracks/4xqrdfXkTW4T...</td>\n",
              "      <td>https://api.spotify.com/v1/audio-analysis/4xqr...</td>\n",
              "      <td>198040</td>\n",
              "      <td>3</td>\n",
              "      <td>2020-03-20</td>\n",
              "      <td>sad</td>\n",
              "    </tr>\n",
              "    <tr>\n",
              "      <th>1</th>\n",
              "      <td>1</td>\n",
              "      <td>0.557</td>\n",
              "      <td>0.442</td>\n",
              "      <td>5</td>\n",
              "      <td>-7.224</td>\n",
              "      <td>1</td>\n",
              "      <td>0.0243</td>\n",
              "      <td>0.7310</td>\n",
              "      <td>0.000015</td>\n",
              "      <td>0.1100</td>\n",
              "      <td>...</td>\n",
              "      <td>146.277</td>\n",
              "      <td>audio_features</td>\n",
              "      <td>75JFxkI2RXiU7L9VXzMkle</td>\n",
              "      <td>spotify:track:75JFxkI2RXiU7L9VXzMkle</td>\n",
              "      <td>https://api.spotify.com/v1/tracks/75JFxkI2RXiU...</td>\n",
              "      <td>https://api.spotify.com/v1/audio-analysis/75JF...</td>\n",
              "      <td>309600</td>\n",
              "      <td>4</td>\n",
              "      <td>2002-08-08</td>\n",
              "      <td>sad</td>\n",
              "    </tr>\n",
              "    <tr>\n",
              "      <th>2</th>\n",
              "      <td>2</td>\n",
              "      <td>0.652</td>\n",
              "      <td>0.557</td>\n",
              "      <td>1</td>\n",
              "      <td>-5.714</td>\n",
              "      <td>0</td>\n",
              "      <td>0.0318</td>\n",
              "      <td>0.7400</td>\n",
              "      <td>0.000000</td>\n",
              "      <td>0.1240</td>\n",
              "      <td>...</td>\n",
              "      <td>150.073</td>\n",
              "      <td>audio_features</td>\n",
              "      <td>2qxmye6gAegTMjLKEBoR3d</td>\n",
              "      <td>spotify:track:2qxmye6gAegTMjLKEBoR3d</td>\n",
              "      <td>https://api.spotify.com/v1/tracks/2qxmye6gAegT...</td>\n",
              "      <td>https://api.spotify.com/v1/audio-analysis/2qxm...</td>\n",
              "      <td>169354</td>\n",
              "      <td>4</td>\n",
              "      <td>2018-11-16</td>\n",
              "      <td>sad</td>\n",
              "    </tr>\n",
              "    <tr>\n",
              "      <th>3</th>\n",
              "      <td>3</td>\n",
              "      <td>0.681</td>\n",
              "      <td>0.372</td>\n",
              "      <td>5</td>\n",
              "      <td>-8.237</td>\n",
              "      <td>1</td>\n",
              "      <td>0.0432</td>\n",
              "      <td>0.6400</td>\n",
              "      <td>0.000000</td>\n",
              "      <td>0.1690</td>\n",
              "      <td>...</td>\n",
              "      <td>91.873</td>\n",
              "      <td>audio_features</td>\n",
              "      <td>1mXVgsBdtIVeCLJnSnmtdV</td>\n",
              "      <td>spotify:track:1mXVgsBdtIVeCLJnSnmtdV</td>\n",
              "      <td>https://api.spotify.com/v1/tracks/1mXVgsBdtIVe...</td>\n",
              "      <td>https://api.spotify.com/v1/audio-analysis/1mXV...</td>\n",
              "      <td>201000</td>\n",
              "      <td>4</td>\n",
              "      <td>2017-11-03</td>\n",
              "      <td>sad</td>\n",
              "    </tr>\n",
              "    <tr>\n",
              "      <th>4</th>\n",
              "      <td>4</td>\n",
              "      <td>0.367</td>\n",
              "      <td>0.111</td>\n",
              "      <td>4</td>\n",
              "      <td>-14.084</td>\n",
              "      <td>1</td>\n",
              "      <td>0.0972</td>\n",
              "      <td>0.9780</td>\n",
              "      <td>0.000040</td>\n",
              "      <td>0.0897</td>\n",
              "      <td>...</td>\n",
              "      <td>82.642</td>\n",
              "      <td>audio_features</td>\n",
              "      <td>43zdsphuZLzwA9k4DJhU0I</td>\n",
              "      <td>spotify:track:43zdsphuZLzwA9k4DJhU0I</td>\n",
              "      <td>https://api.spotify.com/v1/tracks/43zdsphuZLzw...</td>\n",
              "      <td>https://api.spotify.com/v1/audio-analysis/43zd...</td>\n",
              "      <td>196077</td>\n",
              "      <td>4</td>\n",
              "      <td>2019-03-29</td>\n",
              "      <td>sad</td>\n",
              "    </tr>\n",
              "    <tr>\n",
              "      <th>...</th>\n",
              "      <td>...</td>\n",
              "      <td>...</td>\n",
              "      <td>...</td>\n",
              "      <td>...</td>\n",
              "      <td>...</td>\n",
              "      <td>...</td>\n",
              "      <td>...</td>\n",
              "      <td>...</td>\n",
              "      <td>...</td>\n",
              "      <td>...</td>\n",
              "      <td>...</td>\n",
              "      <td>...</td>\n",
              "      <td>...</td>\n",
              "      <td>...</td>\n",
              "      <td>...</td>\n",
              "      <td>...</td>\n",
              "      <td>...</td>\n",
              "      <td>...</td>\n",
              "      <td>...</td>\n",
              "      <td>...</td>\n",
              "      <td>...</td>\n",
              "    </tr>\n",
              "    <tr>\n",
              "      <th>1116</th>\n",
              "      <td>1116</td>\n",
              "      <td>0.716</td>\n",
              "      <td>0.748</td>\n",
              "      <td>8</td>\n",
              "      <td>-6.060</td>\n",
              "      <td>1</td>\n",
              "      <td>0.0356</td>\n",
              "      <td>0.2350</td>\n",
              "      <td>0.849000</td>\n",
              "      <td>0.1140</td>\n",
              "      <td>...</td>\n",
              "      <td>119.918</td>\n",
              "      <td>audio_features</td>\n",
              "      <td>01kfSdF9zfcDLri5sSWEoL</td>\n",
              "      <td>spotify:track:01kfSdF9zfcDLri5sSWEoL</td>\n",
              "      <td>https://api.spotify.com/v1/tracks/01kfSdF9zfcD...</td>\n",
              "      <td>https://api.spotify.com/v1/audio-analysis/01kf...</td>\n",
              "      <td>169245</td>\n",
              "      <td>4</td>\n",
              "      <td>2022-03-18</td>\n",
              "      <td>energizer</td>\n",
              "    </tr>\n",
              "    <tr>\n",
              "      <th>1117</th>\n",
              "      <td>1117</td>\n",
              "      <td>0.778</td>\n",
              "      <td>0.786</td>\n",
              "      <td>3</td>\n",
              "      <td>-4.440</td>\n",
              "      <td>0</td>\n",
              "      <td>0.1150</td>\n",
              "      <td>0.0189</td>\n",
              "      <td>0.000047</td>\n",
              "      <td>0.0678</td>\n",
              "      <td>...</td>\n",
              "      <td>128.007</td>\n",
              "      <td>audio_features</td>\n",
              "      <td>7FvXYkiDWiLgXA9JHUf7Ni</td>\n",
              "      <td>spotify:track:7FvXYkiDWiLgXA9JHUf7Ni</td>\n",
              "      <td>https://api.spotify.com/v1/tracks/7FvXYkiDWiLg...</td>\n",
              "      <td>https://api.spotify.com/v1/audio-analysis/7FvX...</td>\n",
              "      <td>126562</td>\n",
              "      <td>4</td>\n",
              "      <td>2023-03-31</td>\n",
              "      <td>energizer</td>\n",
              "    </tr>\n",
              "    <tr>\n",
              "      <th>1118</th>\n",
              "      <td>1118</td>\n",
              "      <td>0.848</td>\n",
              "      <td>0.821</td>\n",
              "      <td>2</td>\n",
              "      <td>-5.408</td>\n",
              "      <td>0</td>\n",
              "      <td>0.0527</td>\n",
              "      <td>0.0169</td>\n",
              "      <td>0.000403</td>\n",
              "      <td>0.0962</td>\n",
              "      <td>...</td>\n",
              "      <td>125.051</td>\n",
              "      <td>audio_features</td>\n",
              "      <td>6GomT970rCOkKAyyrwJeZi</td>\n",
              "      <td>spotify:track:6GomT970rCOkKAyyrwJeZi</td>\n",
              "      <td>https://api.spotify.com/v1/tracks/6GomT970rCOk...</td>\n",
              "      <td>https://api.spotify.com/v1/audio-analysis/6Gom...</td>\n",
              "      <td>157445</td>\n",
              "      <td>4</td>\n",
              "      <td>2021-10-29</td>\n",
              "      <td>energizer</td>\n",
              "    </tr>\n",
              "    <tr>\n",
              "      <th>1119</th>\n",
              "      <td>1119</td>\n",
              "      <td>0.653</td>\n",
              "      <td>0.973</td>\n",
              "      <td>11</td>\n",
              "      <td>-3.894</td>\n",
              "      <td>1</td>\n",
              "      <td>0.0414</td>\n",
              "      <td>0.0338</td>\n",
              "      <td>0.006860</td>\n",
              "      <td>0.2990</td>\n",
              "      <td>...</td>\n",
              "      <td>128.024</td>\n",
              "      <td>audio_features</td>\n",
              "      <td>7wy8gxfen0STJ2jQMYQBAA</td>\n",
              "      <td>spotify:track:7wy8gxfen0STJ2jQMYQBAA</td>\n",
              "      <td>https://api.spotify.com/v1/tracks/7wy8gxfen0ST...</td>\n",
              "      <td>https://api.spotify.com/v1/audio-analysis/7wy8...</td>\n",
              "      <td>157573</td>\n",
              "      <td>4</td>\n",
              "      <td>2023-03-24</td>\n",
              "      <td>energizer</td>\n",
              "    </tr>\n",
              "    <tr>\n",
              "      <th>1120</th>\n",
              "      <td>1120</td>\n",
              "      <td>0.686</td>\n",
              "      <td>0.892</td>\n",
              "      <td>10</td>\n",
              "      <td>-3.186</td>\n",
              "      <td>0</td>\n",
              "      <td>0.0498</td>\n",
              "      <td>0.0577</td>\n",
              "      <td>0.000007</td>\n",
              "      <td>0.0838</td>\n",
              "      <td>...</td>\n",
              "      <td>126.030</td>\n",
              "      <td>audio_features</td>\n",
              "      <td>2LxdNADWier3MKTei8FbOY</td>\n",
              "      <td>spotify:track:2LxdNADWier3MKTei8FbOY</td>\n",
              "      <td>https://api.spotify.com/v1/tracks/2LxdNADWier3...</td>\n",
              "      <td>https://api.spotify.com/v1/audio-analysis/2Lxd...</td>\n",
              "      <td>157206</td>\n",
              "      <td>4</td>\n",
              "      <td>2022-05-06</td>\n",
              "      <td>energizer</td>\n",
              "    </tr>\n",
              "  </tbody>\n",
              "</table>\n",
              "<p>1052 rows × 21 columns</p>\n",
              "</div>"
            ],
            "text/plain": [
              "      Unnamed: 0  danceability  energy  key  loudness  mode  speechiness  \\\n",
              "0              0         0.357   0.425    5    -7.301     1       0.0333   \n",
              "1              1         0.557   0.442    5    -7.224     1       0.0243   \n",
              "2              2         0.652   0.557    1    -5.714     0       0.0318   \n",
              "3              3         0.681   0.372    5    -8.237     1       0.0432   \n",
              "4              4         0.367   0.111    4   -14.084     1       0.0972   \n",
              "...          ...           ...     ...  ...       ...   ...          ...   \n",
              "1116        1116         0.716   0.748    8    -6.060     1       0.0356   \n",
              "1117        1117         0.778   0.786    3    -4.440     0       0.1150   \n",
              "1118        1118         0.848   0.821    2    -5.408     0       0.0527   \n",
              "1119        1119         0.653   0.973   11    -3.894     1       0.0414   \n",
              "1120        1120         0.686   0.892   10    -3.186     0       0.0498   \n",
              "\n",
              "      acousticness  instrumentalness  liveness  ...    tempo            type  \\\n",
              "0           0.5840          0.000000    0.3220  ...  102.078  audio_features   \n",
              "1           0.7310          0.000015    0.1100  ...  146.277  audio_features   \n",
              "2           0.7400          0.000000    0.1240  ...  150.073  audio_features   \n",
              "3           0.6400          0.000000    0.1690  ...   91.873  audio_features   \n",
              "4           0.9780          0.000040    0.0897  ...   82.642  audio_features   \n",
              "...            ...               ...       ...  ...      ...             ...   \n",
              "1116        0.2350          0.849000    0.1140  ...  119.918  audio_features   \n",
              "1117        0.0189          0.000047    0.0678  ...  128.007  audio_features   \n",
              "1118        0.0169          0.000403    0.0962  ...  125.051  audio_features   \n",
              "1119        0.0338          0.006860    0.2990  ...  128.024  audio_features   \n",
              "1120        0.0577          0.000007    0.0838  ...  126.030  audio_features   \n",
              "\n",
              "                          id                                   uri  \\\n",
              "0     4xqrdfXkTW4T0RauPLv3WA  spotify:track:4xqrdfXkTW4T0RauPLv3WA   \n",
              "1     75JFxkI2RXiU7L9VXzMkle  spotify:track:75JFxkI2RXiU7L9VXzMkle   \n",
              "2     2qxmye6gAegTMjLKEBoR3d  spotify:track:2qxmye6gAegTMjLKEBoR3d   \n",
              "3     1mXVgsBdtIVeCLJnSnmtdV  spotify:track:1mXVgsBdtIVeCLJnSnmtdV   \n",
              "4     43zdsphuZLzwA9k4DJhU0I  spotify:track:43zdsphuZLzwA9k4DJhU0I   \n",
              "...                      ...                                   ...   \n",
              "1116  01kfSdF9zfcDLri5sSWEoL  spotify:track:01kfSdF9zfcDLri5sSWEoL   \n",
              "1117  7FvXYkiDWiLgXA9JHUf7Ni  spotify:track:7FvXYkiDWiLgXA9JHUf7Ni   \n",
              "1118  6GomT970rCOkKAyyrwJeZi  spotify:track:6GomT970rCOkKAyyrwJeZi   \n",
              "1119  7wy8gxfen0STJ2jQMYQBAA  spotify:track:7wy8gxfen0STJ2jQMYQBAA   \n",
              "1120  2LxdNADWier3MKTei8FbOY  spotify:track:2LxdNADWier3MKTei8FbOY   \n",
              "\n",
              "                                             track_href  \\\n",
              "0     https://api.spotify.com/v1/tracks/4xqrdfXkTW4T...   \n",
              "1     https://api.spotify.com/v1/tracks/75JFxkI2RXiU...   \n",
              "2     https://api.spotify.com/v1/tracks/2qxmye6gAegT...   \n",
              "3     https://api.spotify.com/v1/tracks/1mXVgsBdtIVe...   \n",
              "4     https://api.spotify.com/v1/tracks/43zdsphuZLzw...   \n",
              "...                                                 ...   \n",
              "1116  https://api.spotify.com/v1/tracks/01kfSdF9zfcD...   \n",
              "1117  https://api.spotify.com/v1/tracks/7FvXYkiDWiLg...   \n",
              "1118  https://api.spotify.com/v1/tracks/6GomT970rCOk...   \n",
              "1119  https://api.spotify.com/v1/tracks/7wy8gxfen0ST...   \n",
              "1120  https://api.spotify.com/v1/tracks/2LxdNADWier3...   \n",
              "\n",
              "                                           analysis_url duration_ms  \\\n",
              "0     https://api.spotify.com/v1/audio-analysis/4xqr...      198040   \n",
              "1     https://api.spotify.com/v1/audio-analysis/75JF...      309600   \n",
              "2     https://api.spotify.com/v1/audio-analysis/2qxm...      169354   \n",
              "3     https://api.spotify.com/v1/audio-analysis/1mXV...      201000   \n",
              "4     https://api.spotify.com/v1/audio-analysis/43zd...      196077   \n",
              "...                                                 ...         ...   \n",
              "1116  https://api.spotify.com/v1/audio-analysis/01kf...      169245   \n",
              "1117  https://api.spotify.com/v1/audio-analysis/7FvX...      126562   \n",
              "1118  https://api.spotify.com/v1/audio-analysis/6Gom...      157445   \n",
              "1119  https://api.spotify.com/v1/audio-analysis/7wy8...      157573   \n",
              "1120  https://api.spotify.com/v1/audio-analysis/2Lxd...      157206   \n",
              "\n",
              "      time_signature  release_date       mood  \n",
              "0                  3    2020-03-20        sad  \n",
              "1                  4    2002-08-08        sad  \n",
              "2                  4    2018-11-16        sad  \n",
              "3                  4    2017-11-03        sad  \n",
              "4                  4    2019-03-29        sad  \n",
              "...              ...           ...        ...  \n",
              "1116               4    2022-03-18  energizer  \n",
              "1117               4    2023-03-31  energizer  \n",
              "1118               4    2021-10-29  energizer  \n",
              "1119               4    2023-03-24  energizer  \n",
              "1120               4    2022-05-06  energizer  \n",
              "\n",
              "[1052 rows x 21 columns]"
            ]
          },
          "execution_count": 7,
          "metadata": {},
          "output_type": "execute_result"
        }
      ],
      "source": [
        "data"
      ]
    },
    {
      "cell_type": "markdown",
      "metadata": {
        "cell_id": "c15cea637843418793c53c0a98486d2a",
        "deepnote_cell_type": "markdown",
        "id": "qR6B1VMbaGNN"
      },
      "source": [
        "### Técnicas de \"Featuring Engineering\""
      ]
    },
    {
      "cell_type": "markdown",
      "metadata": {
        "cell_id": "7c1a5eeff123432e934e8184414c896e",
        "deepnote_cell_type": "markdown",
        "id": "nthdj9NZaGNN"
      },
      "source": [
        "#### Eliminación de columnas innecesarias para el modelo."
      ]
    },
    {
      "cell_type": "markdown",
      "metadata": {
        "cell_id": "7cf92dd84fc347108750a08c9ef3ef13",
        "deepnote_cell_type": "markdown",
        "id": "i81XYA2faGNN"
      },
      "source": [
        "Hemos decidido eliminar una serie de columnas que no guardan mucha correlación con el entrenamiento del modelo en absoluto, o no son relevantes.\n",
        "\n",
        "Éstas son:\n",
        "`Unnamed:0`,`key`,`duration_ms`,`analysis_url`,`mode`,`track_href`,`time_signature`,`key`,`time_signature`,`liveness`,`uri`,`type`."
      ]
    },
    {
      "cell_type": "code",
      "execution_count": null,
      "metadata": {
        "cell_id": "6c8745590e0f4404ac9d902ee94da9c9",
        "deepnote_cell_type": "code",
        "deepnote_to_be_reexecuted": false,
        "execution_millis": 370,
        "execution_start": 1708275135759,
        "id": "IS5GNscGaGNN",
        "outputId": "3785e692-c619-4f5e-bc64-92c81833801b",
        "source_hash": null
      },
      "outputs": [
        {
          "name": "stderr",
          "output_type": "stream",
          "text": [
            "/shared-libs/python3.11/py/lib/python3.11/site-packages/pandas/core/frame.py:4308: SettingWithCopyWarning: \n",
            "A value is trying to be set on a copy of a slice from a DataFrame\n",
            "\n",
            "See the caveats in the documentation: https://pandas.pydata.org/pandas-docs/stable/user_guide/indexing.html#returning-a-view-versus-a-copy\n",
            "  return super().drop(\n"
          ]
        }
      ],
      "source": [
        "data.drop(columns = ['Unnamed: 0','key','duration_ms','analysis_url','mode','track_href','time_signature','key','time_signature','liveness','uri','type'], inplace=True)"
      ]
    },
    {
      "cell_type": "markdown",
      "metadata": {
        "cell_id": "fad7df287336426f8ab2bcb27e12d93e",
        "deepnote_cell_type": "markdown",
        "id": "-hKZMOdDaGNN"
      },
      "source": [
        "#### Distinción de columnas y cambios en el nombre"
      ]
    },
    {
      "cell_type": "markdown",
      "metadata": {
        "cell_id": "46f93c80c9564e86ab2549bfb9d5030e",
        "deepnote_cell_type": "markdown",
        "id": "7p2hhv2PaGNN"
      },
      "source": [
        "Por decisión general del grupo, se ha decidido **separar** la columna **mood** en otra más donde se diferencie enetre **relax y enérgico**.\n",
        "\n",
        "A continuación, vamos a establecer una serie de **parámetros** que **facilitarán** al modelo su **entrenamiento** y además permitirán **distinguir** aún más su **finalidad**.\n",
        "\n",
        "- En primer lugar, crearemos una separación entre `mood` que sólo será `sad` o `happy`. Una canción se considerará feliz cuando supera el 0.6 de `valencia` que es el campo que indica que la letra de una canción es feliz del 0 al 1.\n",
        "\n",
        "- En segundo lugar, crearemos la columna `motivation` que contará con los valores restantes del `mood` anteriormente mencionado, englobando tanto `energizing` como `relaxing`. El valor que los distingue en este caso es la columna `energy` donde las canciones que no superen el valor 0.4 de energía se considerarán `relaxing` y las que superan el 0.6 se considerarán `energizing`.\n",
        "\n",
        "Por último, cambiaremos los valores también a 0 o 1 dependiendo de los 2 campos anteriores. De éste modo, lograremos entrenar el modelo de forma eficaz.\n",
        "\n",
        "Para ello hemos creado las siguientes funciones:"
      ]
    },
    {
      "cell_type": "code",
      "execution_count": null,
      "metadata": {
        "cell_id": "80ae5ccbba1f45e68345e81c83bdcd6b",
        "deepnote_cell_type": "code",
        "deepnote_to_be_reexecuted": false,
        "execution_millis": 362,
        "execution_start": 1708275135768,
        "id": "q2Fpgfd7aGNO",
        "source_hash": null
      },
      "outputs": [],
      "source": [
        "def determinar_mood(valence):\n",
        "    if valence < 0.4:\n",
        "        return 0\n",
        "    elif valence > 0.6:\n",
        "        return 1\n",
        "    else:\n",
        "        return None\n",
        "\n",
        "def determinar_motivation(energy):\n",
        "    if energy < 0.4:\n",
        "        return 0\n",
        "    elif energy > 0.6:\n",
        "        return 1\n",
        "    else:\n",
        "        return None"
      ]
    },
    {
      "cell_type": "markdown",
      "metadata": {
        "cell_id": "dc361cac0412413abb247070e7cd2bea",
        "deepnote_cell_type": "markdown",
        "id": "GcrSx9QmaGNO"
      },
      "source": [
        "Aplicamos las funciones a las columnas del DataFrame"
      ]
    },
    {
      "cell_type": "code",
      "execution_count": null,
      "metadata": {
        "cell_id": "8354b29430854e4593ce8502478bc343",
        "deepnote_cell_type": "code",
        "deepnote_to_be_reexecuted": false,
        "execution_millis": 362,
        "execution_start": 1708275135768,
        "id": "_EFCbrpiaGNO",
        "outputId": "b4f60c33-68ca-4764-b301-9d5435f01be3",
        "source_hash": null
      },
      "outputs": [
        {
          "name": "stderr",
          "output_type": "stream",
          "text": [
            "/tmp/ipykernel_109/1649202492.py:1: SettingWithCopyWarning: \n",
            "A value is trying to be set on a copy of a slice from a DataFrame.\n",
            "Try using .loc[row_indexer,col_indexer] = value instead\n",
            "\n",
            "See the caveats in the documentation: https://pandas.pydata.org/pandas-docs/stable/user_guide/indexing.html#returning-a-view-versus-a-copy\n",
            "  data['mood'] = data['valence'].apply(determinar_mood)\n",
            "/tmp/ipykernel_109/1649202492.py:2: SettingWithCopyWarning: \n",
            "A value is trying to be set on a copy of a slice from a DataFrame.\n",
            "Try using .loc[row_indexer,col_indexer] = value instead\n",
            "\n",
            "See the caveats in the documentation: https://pandas.pydata.org/pandas-docs/stable/user_guide/indexing.html#returning-a-view-versus-a-copy\n",
            "  data['motivation'] = data['energy'].apply(determinar_motivation)\n"
          ]
        }
      ],
      "source": [
        "data['mood'] = data['valence'].apply(determinar_mood)\n",
        "data['motivation'] = data['energy'].apply(determinar_motivation)"
      ]
    },
    {
      "cell_type": "code",
      "execution_count": null,
      "metadata": {
        "cell_id": "6ea7c77fa69f42d7a11e43e5e40cda5e",
        "deepnote_cell_type": "code",
        "deepnote_table_loading": false,
        "deepnote_table_state": {
          "filters": [],
          "pageIndex": 0,
          "pageSize": 10,
          "sortBy": [
            {
              "id": "motivation",
              "type": "desc"
            }
          ]
        },
        "deepnote_to_be_reexecuted": false,
        "execution_millis": 340,
        "execution_start": 1708275135790,
        "id": "huaATuouaGNO",
        "outputId": "e9958d65-23d5-4b32-f3f0-9131f1ffd733",
        "source_hash": null
      },
      "outputs": [
        {
          "data": {
            "application/vnd.deepnote.dataframe.v3+json": {
              "column_count": 12,
              "columns": [
                {
                  "dtype": "float64",
                  "name": "danceability",
                  "stats": {
                    "histogram": [
                      {
                        "bin_end": 0.2529,
                        "bin_start": 0.175,
                        "count": 15
                      },
                      {
                        "bin_end": 0.3308,
                        "bin_start": 0.2529,
                        "count": 28
                      },
                      {
                        "bin_end": 0.40869999999999995,
                        "bin_start": 0.3308,
                        "count": 77
                      },
                      {
                        "bin_end": 0.4866,
                        "bin_start": 0.40869999999999995,
                        "count": 109
                      },
                      {
                        "bin_end": 0.5645,
                        "bin_start": 0.4866,
                        "count": 177
                      },
                      {
                        "bin_end": 0.6424,
                        "bin_start": 0.5645,
                        "count": 201
                      },
                      {
                        "bin_end": 0.7202999999999999,
                        "bin_start": 0.6424,
                        "count": 213
                      },
                      {
                        "bin_end": 0.7982,
                        "bin_start": 0.7202999999999999,
                        "count": 142
                      },
                      {
                        "bin_end": 0.8760999999999999,
                        "bin_start": 0.7982,
                        "count": 74
                      },
                      {
                        "bin_end": 0.954,
                        "bin_start": 0.8760999999999999,
                        "count": 16
                      }
                    ],
                    "max": "0.954",
                    "min": "0.175",
                    "nan_count": 0,
                    "unique_count": 491
                  }
                },
                {
                  "dtype": "float64",
                  "name": "energy",
                  "stats": {
                    "histogram": [
                      {
                        "bin_end": 0.12022,
                        "bin_start": 0.0228,
                        "count": 31
                      },
                      {
                        "bin_end": 0.21764,
                        "bin_start": 0.12022,
                        "count": 80
                      },
                      {
                        "bin_end": 0.31505999999999995,
                        "bin_start": 0.21764,
                        "count": 97
                      },
                      {
                        "bin_end": 0.41247999999999996,
                        "bin_start": 0.31505999999999995,
                        "count": 118
                      },
                      {
                        "bin_end": 0.5099,
                        "bin_start": 0.41247999999999996,
                        "count": 104
                      },
                      {
                        "bin_end": 0.60732,
                        "bin_start": 0.5099,
                        "count": 87
                      },
                      {
                        "bin_end": 0.70474,
                        "bin_start": 0.60732,
                        "count": 104
                      },
                      {
                        "bin_end": 0.80216,
                        "bin_start": 0.70474,
                        "count": 121
                      },
                      {
                        "bin_end": 0.8995799999999999,
                        "bin_start": 0.80216,
                        "count": 167
                      },
                      {
                        "bin_end": 0.997,
                        "bin_start": 0.8995799999999999,
                        "count": 143
                      }
                    ],
                    "max": "0.997",
                    "min": "0.0228",
                    "nan_count": 0,
                    "unique_count": 604
                  }
                },
                {
                  "dtype": "float64",
                  "name": "loudness",
                  "stats": {
                    "histogram": [
                      {
                        "bin_end": -24.39,
                        "bin_start": -27.043,
                        "count": 2
                      },
                      {
                        "bin_end": -21.737000000000002,
                        "bin_start": -24.39,
                        "count": 7
                      },
                      {
                        "bin_end": -19.084,
                        "bin_start": -21.737000000000002,
                        "count": 3
                      },
                      {
                        "bin_end": -16.431,
                        "bin_start": -19.084,
                        "count": 18
                      },
                      {
                        "bin_end": -13.778000000000002,
                        "bin_start": -16.431,
                        "count": 39
                      },
                      {
                        "bin_end": -11.125000000000002,
                        "bin_start": -13.778000000000002,
                        "count": 99
                      },
                      {
                        "bin_end": -8.472000000000001,
                        "bin_start": -11.125000000000002,
                        "count": 187
                      },
                      {
                        "bin_end": -5.819000000000003,
                        "bin_start": -8.472000000000001,
                        "count": 282
                      },
                      {
                        "bin_end": -3.166000000000004,
                        "bin_start": -5.819000000000003,
                        "count": 350
                      },
                      {
                        "bin_end": -0.513,
                        "bin_start": -3.166000000000004,
                        "count": 65
                      }
                    ],
                    "max": "-0.513",
                    "min": "-27.043",
                    "nan_count": 0,
                    "unique_count": 994
                  }
                },
                {
                  "dtype": "float64",
                  "name": "speechiness",
                  "stats": {
                    "histogram": [
                      {
                        "bin_end": 0.08169,
                        "bin_start": 0.0241,
                        "count": 807
                      },
                      {
                        "bin_end": 0.13928,
                        "bin_start": 0.08169,
                        "count": 116
                      },
                      {
                        "bin_end": 0.19687,
                        "bin_start": 0.13928,
                        "count": 53
                      },
                      {
                        "bin_end": 0.25445999999999996,
                        "bin_start": 0.19687,
                        "count": 25
                      },
                      {
                        "bin_end": 0.31205,
                        "bin_start": 0.25445999999999996,
                        "count": 18
                      },
                      {
                        "bin_end": 0.36963999999999997,
                        "bin_start": 0.31205,
                        "count": 17
                      },
                      {
                        "bin_end": 0.42723,
                        "bin_start": 0.36963999999999997,
                        "count": 9
                      },
                      {
                        "bin_end": 0.48482,
                        "bin_start": 0.42723,
                        "count": 3
                      },
                      {
                        "bin_end": 0.54241,
                        "bin_start": 0.48482,
                        "count": 2
                      },
                      {
                        "bin_end": 0.6,
                        "bin_start": 0.54241,
                        "count": 2
                      }
                    ],
                    "max": "0.6",
                    "min": "0.0241",
                    "nan_count": 0,
                    "unique_count": 546
                  }
                },
                {
                  "dtype": "float64",
                  "name": "acousticness",
                  "stats": {
                    "histogram": [
                      {
                        "bin_end": 0.0990017,
                        "bin_start": 0.000113,
                        "count": 371
                      },
                      {
                        "bin_end": 0.1978904,
                        "bin_start": 0.0990017,
                        "count": 101
                      },
                      {
                        "bin_end": 0.29677909999999996,
                        "bin_start": 0.1978904,
                        "count": 65
                      },
                      {
                        "bin_end": 0.39566779999999996,
                        "bin_start": 0.29677909999999996,
                        "count": 57
                      },
                      {
                        "bin_end": 0.49455649999999995,
                        "bin_start": 0.39566779999999996,
                        "count": 43
                      },
                      {
                        "bin_end": 0.5934452,
                        "bin_start": 0.49455649999999995,
                        "count": 53
                      },
                      {
                        "bin_end": 0.6923339,
                        "bin_start": 0.5934452,
                        "count": 56
                      },
                      {
                        "bin_end": 0.7912226,
                        "bin_start": 0.6923339,
                        "count": 74
                      },
                      {
                        "bin_end": 0.8901113,
                        "bin_start": 0.7912226,
                        "count": 113
                      },
                      {
                        "bin_end": 0.989,
                        "bin_start": 0.8901113,
                        "count": 119
                      }
                    ],
                    "max": "0.989",
                    "min": "0.000113",
                    "nan_count": 0,
                    "unique_count": 780
                  }
                },
                {
                  "dtype": "float64",
                  "name": "instrumentalness",
                  "stats": {
                    "histogram": [
                      {
                        "bin_end": 0.097,
                        "bin_start": 0,
                        "count": 923
                      },
                      {
                        "bin_end": 0.194,
                        "bin_start": 0.097,
                        "count": 33
                      },
                      {
                        "bin_end": 0.29100000000000004,
                        "bin_start": 0.194,
                        "count": 15
                      },
                      {
                        "bin_end": 0.388,
                        "bin_start": 0.29100000000000004,
                        "count": 8
                      },
                      {
                        "bin_end": 0.485,
                        "bin_start": 0.388,
                        "count": 12
                      },
                      {
                        "bin_end": 0.5820000000000001,
                        "bin_start": 0.485,
                        "count": 11
                      },
                      {
                        "bin_end": 0.679,
                        "bin_start": 0.5820000000000001,
                        "count": 11
                      },
                      {
                        "bin_end": 0.776,
                        "bin_start": 0.679,
                        "count": 17
                      },
                      {
                        "bin_end": 0.873,
                        "bin_start": 0.776,
                        "count": 11
                      },
                      {
                        "bin_end": 0.97,
                        "bin_start": 0.873,
                        "count": 11
                      }
                    ],
                    "max": "0.97",
                    "min": "0.0",
                    "nan_count": 0,
                    "unique_count": 577
                  }
                },
                {
                  "dtype": "float64",
                  "name": "valence",
                  "stats": {
                    "histogram": [
                      {
                        "bin_end": 0.12642,
                        "bin_start": 0.0318,
                        "count": 84
                      },
                      {
                        "bin_end": 0.22104,
                        "bin_start": 0.12642,
                        "count": 146
                      },
                      {
                        "bin_end": 0.31566,
                        "bin_start": 0.22104,
                        "count": 134
                      },
                      {
                        "bin_end": 0.41028,
                        "bin_start": 0.31566,
                        "count": 165
                      },
                      {
                        "bin_end": 0.5049,
                        "bin_start": 0.41028,
                        "count": 116
                      },
                      {
                        "bin_end": 0.59952,
                        "bin_start": 0.5049,
                        "count": 111
                      },
                      {
                        "bin_end": 0.69414,
                        "bin_start": 0.59952,
                        "count": 85
                      },
                      {
                        "bin_end": 0.78876,
                        "bin_start": 0.69414,
                        "count": 95
                      },
                      {
                        "bin_end": 0.88338,
                        "bin_start": 0.78876,
                        "count": 65
                      },
                      {
                        "bin_end": 0.978,
                        "bin_start": 0.88338,
                        "count": 51
                      }
                    ],
                    "max": "0.978",
                    "min": "0.0318",
                    "nan_count": 0,
                    "unique_count": 635
                  }
                },
                {
                  "dtype": "float64",
                  "name": "tempo",
                  "stats": {
                    "histogram": [
                      {
                        "bin_end": 61.791799999999995,
                        "bin_start": 45.306,
                        "count": 2
                      },
                      {
                        "bin_end": 78.2776,
                        "bin_start": 61.791799999999995,
                        "count": 51
                      },
                      {
                        "bin_end": 94.7634,
                        "bin_start": 78.2776,
                        "count": 147
                      },
                      {
                        "bin_end": 111.2492,
                        "bin_start": 94.7634,
                        "count": 192
                      },
                      {
                        "bin_end": 127.735,
                        "bin_start": 111.2492,
                        "count": 239
                      },
                      {
                        "bin_end": 144.2208,
                        "bin_start": 127.735,
                        "count": 185
                      },
                      {
                        "bin_end": 160.7066,
                        "bin_start": 144.2208,
                        "count": 148
                      },
                      {
                        "bin_end": 177.19240000000002,
                        "bin_start": 160.7066,
                        "count": 57
                      },
                      {
                        "bin_end": 193.6782,
                        "bin_start": 177.19240000000002,
                        "count": 22
                      },
                      {
                        "bin_end": 210.164,
                        "bin_start": 193.6782,
                        "count": 9
                      }
                    ],
                    "max": "210.164",
                    "min": "45.306",
                    "nan_count": 0,
                    "unique_count": 1017
                  }
                },
                {
                  "dtype": "object",
                  "name": "id",
                  "stats": {
                    "categories": [
                      {
                        "count": 1,
                        "name": "2LxdNADWier3MKTei8FbOY"
                      },
                      {
                        "count": 1,
                        "name": "3T07pNAEVr9adeIG9i1ex4"
                      },
                      {
                        "count": 1050,
                        "name": "1050 others"
                      }
                    ],
                    "nan_count": 0,
                    "unique_count": 1052
                  }
                },
                {
                  "dtype": "object",
                  "name": "release_date",
                  "stats": {
                    "categories": [
                      {
                        "count": 12,
                        "name": "2024-01-26"
                      },
                      {
                        "count": 9,
                        "name": "2023-04-21"
                      },
                      {
                        "count": 1031,
                        "name": "684 others"
                      }
                    ],
                    "nan_count": 0,
                    "unique_count": 686
                  }
                },
                {
                  "dtype": "float64",
                  "name": "mood",
                  "stats": {
                    "histogram": [
                      {
                        "bin_end": 0.1,
                        "bin_start": 0,
                        "count": 511
                      },
                      {
                        "bin_end": 0.2,
                        "bin_start": 0.1,
                        "count": 0
                      },
                      {
                        "bin_end": 0.30000000000000004,
                        "bin_start": 0.2,
                        "count": 0
                      },
                      {
                        "bin_end": 0.4,
                        "bin_start": 0.30000000000000004,
                        "count": 0
                      },
                      {
                        "bin_end": 0.5,
                        "bin_start": 0.4,
                        "count": 0
                      },
                      {
                        "bin_end": 0.6000000000000001,
                        "bin_start": 0.5,
                        "count": 0
                      },
                      {
                        "bin_end": 0.7000000000000001,
                        "bin_start": 0.6000000000000001,
                        "count": 0
                      },
                      {
                        "bin_end": 0.8,
                        "bin_start": 0.7000000000000001,
                        "count": 0
                      },
                      {
                        "bin_end": 0.9,
                        "bin_start": 0.8,
                        "count": 0
                      },
                      {
                        "bin_end": 1,
                        "bin_start": 0.9,
                        "count": 294
                      }
                    ],
                    "max": "1.0",
                    "min": "0.0",
                    "nan_count": 247,
                    "unique_count": 2
                  }
                },
                {
                  "dtype": "float64",
                  "name": "motivation",
                  "stats": {
                    "histogram": [
                      {
                        "bin_end": 0.1,
                        "bin_start": 0,
                        "count": 304
                      },
                      {
                        "bin_end": 0.2,
                        "bin_start": 0.1,
                        "count": 0
                      },
                      {
                        "bin_end": 0.30000000000000004,
                        "bin_start": 0.2,
                        "count": 0
                      },
                      {
                        "bin_end": 0.4,
                        "bin_start": 0.30000000000000004,
                        "count": 0
                      },
                      {
                        "bin_end": 0.5,
                        "bin_start": 0.4,
                        "count": 0
                      },
                      {
                        "bin_end": 0.6000000000000001,
                        "bin_start": 0.5,
                        "count": 0
                      },
                      {
                        "bin_end": 0.7000000000000001,
                        "bin_start": 0.6000000000000001,
                        "count": 0
                      },
                      {
                        "bin_end": 0.8,
                        "bin_start": 0.7000000000000001,
                        "count": 0
                      },
                      {
                        "bin_end": 0.9,
                        "bin_start": 0.8,
                        "count": 0
                      },
                      {
                        "bin_end": 1,
                        "bin_start": 0.9,
                        "count": 540
                      }
                    ],
                    "max": "1.0",
                    "min": "0.0",
                    "nan_count": 208,
                    "unique_count": 2
                  }
                },
                {
                  "dtype": "int64",
                  "name": "_deepnote_index_column"
                }
              ],
              "row_count": 1052,
              "rows": [
                {
                  "_deepnote_index_column": 1120,
                  "acousticness": 0.0577,
                  "danceability": 0.686,
                  "energy": 0.892,
                  "id": "2LxdNADWier3MKTei8FbOY",
                  "instrumentalness": 0.00000711,
                  "loudness": -3.186,
                  "mood": 1,
                  "motivation": 1,
                  "release_date": "2022-05-06",
                  "speechiness": 0.0498,
                  "tempo": 126.03,
                  "valence": 0.752
                },
                {
                  "_deepnote_index_column": 493,
                  "acousticness": 0.342,
                  "danceability": 0.619,
                  "energy": 0.876,
                  "id": "3T07pNAEVr9adeIG9i1ex4",
                  "instrumentalness": 0,
                  "loudness": -6.253,
                  "mood": 1,
                  "motivation": 1,
                  "release_date": "2001-10-31",
                  "speechiness": 0.0538,
                  "tempo": 100.962,
                  "valence": 0.772
                },
                {
                  "_deepnote_index_column": 519,
                  "acousticness": 0.0071,
                  "danceability": 0.45,
                  "energy": 0.878,
                  "id": "0XFQb7pNfT90A7fRxjMWgz",
                  "instrumentalness": 0,
                  "loudness": -4.592,
                  "mood": 1,
                  "motivation": 1,
                  "release_date": "2020-04-16",
                  "speechiness": 0.0827,
                  "tempo": 199.844,
                  "valence": 0.744
                },
                {
                  "_deepnote_index_column": 965,
                  "acousticness": 0.00289,
                  "danceability": 0.403,
                  "energy": 0.818,
                  "id": "1jurU7dHfTOOZEf6fADV8v",
                  "instrumentalness": 0.00000241,
                  "loudness": -6.674,
                  "mood": 0,
                  "motivation": 1,
                  "release_date": "2023-01-19",
                  "speechiness": 0.0552,
                  "tempo": 154.888,
                  "valence": 0.289
                },
                {
                  "_deepnote_index_column": 517,
                  "acousticness": 0.161,
                  "danceability": 0.591,
                  "energy": 0.785,
                  "id": "3eSJmGWqoBRx5wbFCtvPtz",
                  "instrumentalness": 0,
                  "loudness": -7.768,
                  "mood": 1,
                  "motivation": 1,
                  "release_date": "2020-05-18",
                  "speechiness": 0.161,
                  "tempo": 106.002,
                  "valence": 0.785
                },
                {
                  "_deepnote_index_column": 515,
                  "acousticness": 0.14,
                  "danceability": 0.781,
                  "energy": 0.797,
                  "id": "6cRvHL1jwsAktcEcukPYmp",
                  "instrumentalness": 0.0000869,
                  "loudness": -5.815,
                  "mood": 1,
                  "motivation": 1,
                  "release_date": "2020-05-23",
                  "speechiness": 0.0286,
                  "tempo": 129.963,
                  "valence": 0.848
                },
                {
                  "_deepnote_index_column": 966,
                  "acousticness": 0.0272,
                  "danceability": 0.552,
                  "energy": 0.942,
                  "id": "6xjHeCdwsBoUYrEN2kJ998",
                  "instrumentalness": 0.00805,
                  "loudness": -4.098,
                  "mood": 0,
                  "motivation": 1,
                  "release_date": "2022-07-01",
                  "speechiness": 0.0589,
                  "tempo": 150.038,
                  "valence": 0.0607
                },
                {
                  "_deepnote_index_column": 967,
                  "acousticness": 0.0306,
                  "danceability": 0.634,
                  "energy": 0.91,
                  "id": "6vFEXiW7QPKGRardogdK6f",
                  "instrumentalness": 0.00105,
                  "loudness": -3.029,
                  "mood": 1,
                  "motivation": 1,
                  "release_date": "2022-12-02",
                  "speechiness": 0.195,
                  "tempo": 159.978,
                  "valence": 0.659
                },
                {
                  "_deepnote_index_column": 510,
                  "acousticness": 0.00293,
                  "danceability": 0.668,
                  "energy": 0.678,
                  "id": "7DD1ojeTUwnW65g5QuZw7X",
                  "instrumentalness": 0,
                  "loudness": -10.317,
                  "mood": 1,
                  "motivation": 1,
                  "release_date": "1981",
                  "speechiness": 0.056,
                  "tempo": 120.029,
                  "valence": 0.657
                },
                {
                  "_deepnote_index_column": 506,
                  "acousticness": 0.542,
                  "danceability": 0.2,
                  "energy": 0.628,
                  "id": "7e3mCGbRFSsYmnGuQf9rMk",
                  "instrumentalness": 0,
                  "loudness": -5.263,
                  "mood": 0,
                  "motivation": 1,
                  "release_date": "1996-08-20",
                  "speechiness": 0.034,
                  "tempo": 167.385,
                  "valence": 0.132
                }
              ]
            },
            "text/html": [
              "<div>\n",
              "<style scoped>\n",
              "    .dataframe tbody tr th:only-of-type {\n",
              "        vertical-align: middle;\n",
              "    }\n",
              "\n",
              "    .dataframe tbody tr th {\n",
              "        vertical-align: top;\n",
              "    }\n",
              "\n",
              "    .dataframe thead th {\n",
              "        text-align: right;\n",
              "    }\n",
              "</style>\n",
              "<table border=\"1\" class=\"dataframe\">\n",
              "  <thead>\n",
              "    <tr style=\"text-align: right;\">\n",
              "      <th></th>\n",
              "      <th>danceability</th>\n",
              "      <th>energy</th>\n",
              "      <th>loudness</th>\n",
              "      <th>speechiness</th>\n",
              "      <th>acousticness</th>\n",
              "      <th>instrumentalness</th>\n",
              "      <th>valence</th>\n",
              "      <th>tempo</th>\n",
              "      <th>id</th>\n",
              "      <th>release_date</th>\n",
              "      <th>mood</th>\n",
              "      <th>motivation</th>\n",
              "    </tr>\n",
              "  </thead>\n",
              "  <tbody>\n",
              "    <tr>\n",
              "      <th>0</th>\n",
              "      <td>0.357</td>\n",
              "      <td>0.425</td>\n",
              "      <td>-7.301</td>\n",
              "      <td>0.0333</td>\n",
              "      <td>0.5840</td>\n",
              "      <td>0.000000</td>\n",
              "      <td>0.270</td>\n",
              "      <td>102.078</td>\n",
              "      <td>4xqrdfXkTW4T0RauPLv3WA</td>\n",
              "      <td>2020-03-20</td>\n",
              "      <td>0.0</td>\n",
              "      <td>NaN</td>\n",
              "    </tr>\n",
              "    <tr>\n",
              "      <th>1</th>\n",
              "      <td>0.557</td>\n",
              "      <td>0.442</td>\n",
              "      <td>-7.224</td>\n",
              "      <td>0.0243</td>\n",
              "      <td>0.7310</td>\n",
              "      <td>0.000015</td>\n",
              "      <td>0.213</td>\n",
              "      <td>146.277</td>\n",
              "      <td>75JFxkI2RXiU7L9VXzMkle</td>\n",
              "      <td>2002-08-08</td>\n",
              "      <td>0.0</td>\n",
              "      <td>NaN</td>\n",
              "    </tr>\n",
              "    <tr>\n",
              "      <th>2</th>\n",
              "      <td>0.652</td>\n",
              "      <td>0.557</td>\n",
              "      <td>-5.714</td>\n",
              "      <td>0.0318</td>\n",
              "      <td>0.7400</td>\n",
              "      <td>0.000000</td>\n",
              "      <td>0.483</td>\n",
              "      <td>150.073</td>\n",
              "      <td>2qxmye6gAegTMjLKEBoR3d</td>\n",
              "      <td>2018-11-16</td>\n",
              "      <td>NaN</td>\n",
              "      <td>NaN</td>\n",
              "    </tr>\n",
              "    <tr>\n",
              "      <th>3</th>\n",
              "      <td>0.681</td>\n",
              "      <td>0.372</td>\n",
              "      <td>-8.237</td>\n",
              "      <td>0.0432</td>\n",
              "      <td>0.6400</td>\n",
              "      <td>0.000000</td>\n",
              "      <td>0.476</td>\n",
              "      <td>91.873</td>\n",
              "      <td>1mXVgsBdtIVeCLJnSnmtdV</td>\n",
              "      <td>2017-11-03</td>\n",
              "      <td>NaN</td>\n",
              "      <td>0.0</td>\n",
              "    </tr>\n",
              "    <tr>\n",
              "      <th>4</th>\n",
              "      <td>0.367</td>\n",
              "      <td>0.111</td>\n",
              "      <td>-14.084</td>\n",
              "      <td>0.0972</td>\n",
              "      <td>0.9780</td>\n",
              "      <td>0.000040</td>\n",
              "      <td>0.198</td>\n",
              "      <td>82.642</td>\n",
              "      <td>43zdsphuZLzwA9k4DJhU0I</td>\n",
              "      <td>2019-03-29</td>\n",
              "      <td>0.0</td>\n",
              "      <td>0.0</td>\n",
              "    </tr>\n",
              "    <tr>\n",
              "      <th>...</th>\n",
              "      <td>...</td>\n",
              "      <td>...</td>\n",
              "      <td>...</td>\n",
              "      <td>...</td>\n",
              "      <td>...</td>\n",
              "      <td>...</td>\n",
              "      <td>...</td>\n",
              "      <td>...</td>\n",
              "      <td>...</td>\n",
              "      <td>...</td>\n",
              "      <td>...</td>\n",
              "      <td>...</td>\n",
              "    </tr>\n",
              "    <tr>\n",
              "      <th>1116</th>\n",
              "      <td>0.716</td>\n",
              "      <td>0.748</td>\n",
              "      <td>-6.060</td>\n",
              "      <td>0.0356</td>\n",
              "      <td>0.2350</td>\n",
              "      <td>0.849000</td>\n",
              "      <td>0.338</td>\n",
              "      <td>119.918</td>\n",
              "      <td>01kfSdF9zfcDLri5sSWEoL</td>\n",
              "      <td>2022-03-18</td>\n",
              "      <td>0.0</td>\n",
              "      <td>1.0</td>\n",
              "    </tr>\n",
              "    <tr>\n",
              "      <th>1117</th>\n",
              "      <td>0.778</td>\n",
              "      <td>0.786</td>\n",
              "      <td>-4.440</td>\n",
              "      <td>0.1150</td>\n",
              "      <td>0.0189</td>\n",
              "      <td>0.000047</td>\n",
              "      <td>0.562</td>\n",
              "      <td>128.007</td>\n",
              "      <td>7FvXYkiDWiLgXA9JHUf7Ni</td>\n",
              "      <td>2023-03-31</td>\n",
              "      <td>NaN</td>\n",
              "      <td>1.0</td>\n",
              "    </tr>\n",
              "    <tr>\n",
              "      <th>1118</th>\n",
              "      <td>0.848</td>\n",
              "      <td>0.821</td>\n",
              "      <td>-5.408</td>\n",
              "      <td>0.0527</td>\n",
              "      <td>0.0169</td>\n",
              "      <td>0.000403</td>\n",
              "      <td>0.249</td>\n",
              "      <td>125.051</td>\n",
              "      <td>6GomT970rCOkKAyyrwJeZi</td>\n",
              "      <td>2021-10-29</td>\n",
              "      <td>0.0</td>\n",
              "      <td>1.0</td>\n",
              "    </tr>\n",
              "    <tr>\n",
              "      <th>1119</th>\n",
              "      <td>0.653</td>\n",
              "      <td>0.973</td>\n",
              "      <td>-3.894</td>\n",
              "      <td>0.0414</td>\n",
              "      <td>0.0338</td>\n",
              "      <td>0.006860</td>\n",
              "      <td>0.219</td>\n",
              "      <td>128.024</td>\n",
              "      <td>7wy8gxfen0STJ2jQMYQBAA</td>\n",
              "      <td>2023-03-24</td>\n",
              "      <td>0.0</td>\n",
              "      <td>1.0</td>\n",
              "    </tr>\n",
              "    <tr>\n",
              "      <th>1120</th>\n",
              "      <td>0.686</td>\n",
              "      <td>0.892</td>\n",
              "      <td>-3.186</td>\n",
              "      <td>0.0498</td>\n",
              "      <td>0.0577</td>\n",
              "      <td>0.000007</td>\n",
              "      <td>0.752</td>\n",
              "      <td>126.030</td>\n",
              "      <td>2LxdNADWier3MKTei8FbOY</td>\n",
              "      <td>2022-05-06</td>\n",
              "      <td>1.0</td>\n",
              "      <td>1.0</td>\n",
              "    </tr>\n",
              "  </tbody>\n",
              "</table>\n",
              "<p>1052 rows × 12 columns</p>\n",
              "</div>"
            ],
            "text/plain": [
              "      danceability  energy  loudness  speechiness  acousticness  \\\n",
              "0            0.357   0.425    -7.301       0.0333        0.5840   \n",
              "1            0.557   0.442    -7.224       0.0243        0.7310   \n",
              "2            0.652   0.557    -5.714       0.0318        0.7400   \n",
              "3            0.681   0.372    -8.237       0.0432        0.6400   \n",
              "4            0.367   0.111   -14.084       0.0972        0.9780   \n",
              "...            ...     ...       ...          ...           ...   \n",
              "1116         0.716   0.748    -6.060       0.0356        0.2350   \n",
              "1117         0.778   0.786    -4.440       0.1150        0.0189   \n",
              "1118         0.848   0.821    -5.408       0.0527        0.0169   \n",
              "1119         0.653   0.973    -3.894       0.0414        0.0338   \n",
              "1120         0.686   0.892    -3.186       0.0498        0.0577   \n",
              "\n",
              "      instrumentalness  valence    tempo                      id release_date  \\\n",
              "0             0.000000    0.270  102.078  4xqrdfXkTW4T0RauPLv3WA   2020-03-20   \n",
              "1             0.000015    0.213  146.277  75JFxkI2RXiU7L9VXzMkle   2002-08-08   \n",
              "2             0.000000    0.483  150.073  2qxmye6gAegTMjLKEBoR3d   2018-11-16   \n",
              "3             0.000000    0.476   91.873  1mXVgsBdtIVeCLJnSnmtdV   2017-11-03   \n",
              "4             0.000040    0.198   82.642  43zdsphuZLzwA9k4DJhU0I   2019-03-29   \n",
              "...                ...      ...      ...                     ...          ...   \n",
              "1116          0.849000    0.338  119.918  01kfSdF9zfcDLri5sSWEoL   2022-03-18   \n",
              "1117          0.000047    0.562  128.007  7FvXYkiDWiLgXA9JHUf7Ni   2023-03-31   \n",
              "1118          0.000403    0.249  125.051  6GomT970rCOkKAyyrwJeZi   2021-10-29   \n",
              "1119          0.006860    0.219  128.024  7wy8gxfen0STJ2jQMYQBAA   2023-03-24   \n",
              "1120          0.000007    0.752  126.030  2LxdNADWier3MKTei8FbOY   2022-05-06   \n",
              "\n",
              "      mood  motivation  \n",
              "0      0.0         NaN  \n",
              "1      0.0         NaN  \n",
              "2      NaN         NaN  \n",
              "3      NaN         0.0  \n",
              "4      0.0         0.0  \n",
              "...    ...         ...  \n",
              "1116   0.0         1.0  \n",
              "1117   NaN         1.0  \n",
              "1118   0.0         1.0  \n",
              "1119   0.0         1.0  \n",
              "1120   1.0         1.0  \n",
              "\n",
              "[1052 rows x 12 columns]"
            ]
          },
          "execution_count": 13,
          "metadata": {},
          "output_type": "execute_result"
        }
      ],
      "source": [
        "data"
      ]
    },
    {
      "cell_type": "markdown",
      "metadata": {
        "cell_id": "9ff1735cac874b4286b69dfd907c258d",
        "deepnote_cell_type": "markdown",
        "id": "zHOqHUIEaGNO"
      },
      "source": [
        "Para continuar, vamos a hacer una clasificación de las canciones por décadas en lugar de por años, para ello, hemos creado la siguiente **expresión regular** capaz de hacerlo."
      ]
    },
    {
      "cell_type": "code",
      "execution_count": null,
      "metadata": {
        "cell_id": "38095a4674734037a698308bfd2ee3eb",
        "deepnote_cell_type": "code",
        "deepnote_table_loading": false,
        "deepnote_table_state": {
          "filters": [],
          "pageIndex": 0,
          "pageSize": 10,
          "sortBy": []
        },
        "deepnote_to_be_reexecuted": false,
        "execution_millis": 269,
        "execution_start": 1708275135861,
        "id": "R2u8Tn5paGNO",
        "outputId": "9295e337-9f5b-4c34-9ffb-9ad6b2ef51e9",
        "source_hash": null
      },
      "outputs": [
        {
          "name": "stderr",
          "output_type": "stream",
          "text": [
            "/tmp/ipykernel_109/2881882289.py:2: SettingWithCopyWarning: \n",
            "A value is trying to be set on a copy of a slice from a DataFrame.\n",
            "Try using .loc[row_indexer,col_indexer] = value instead\n",
            "\n",
            "See the caveats in the documentation: https://pandas.pydata.org/pandas-docs/stable/user_guide/indexing.html#returning-a-view-versus-a-copy\n",
            "  data['release_decade'] = data['release_date'].str.extract(r'(\\d{4})').astype(int) // 10 * 10\n",
            "/tmp/ipykernel_109/2881882289.py:3: SettingWithCopyWarning: \n",
            "A value is trying to be set on a copy of a slice from a DataFrame.\n",
            "Try using .loc[row_indexer,col_indexer] = value instead\n",
            "\n",
            "See the caveats in the documentation: https://pandas.pydata.org/pandas-docs/stable/user_guide/indexing.html#returning-a-view-versus-a-copy\n",
            "  data['release_decade'] = data['release_decade'].astype(str) + 's'\n"
          ]
        },
        {
          "data": {
            "application/vnd.deepnote.dataframe.v3+json": {
              "column_count": 13,
              "columns": [
                {
                  "dtype": "float64",
                  "name": "danceability",
                  "stats": {
                    "histogram": [
                      {
                        "bin_end": 0.2529,
                        "bin_start": 0.175,
                        "count": 15
                      },
                      {
                        "bin_end": 0.3308,
                        "bin_start": 0.2529,
                        "count": 28
                      },
                      {
                        "bin_end": 0.40869999999999995,
                        "bin_start": 0.3308,
                        "count": 77
                      },
                      {
                        "bin_end": 0.4866,
                        "bin_start": 0.40869999999999995,
                        "count": 109
                      },
                      {
                        "bin_end": 0.5645,
                        "bin_start": 0.4866,
                        "count": 177
                      },
                      {
                        "bin_end": 0.6424,
                        "bin_start": 0.5645,
                        "count": 201
                      },
                      {
                        "bin_end": 0.7202999999999999,
                        "bin_start": 0.6424,
                        "count": 213
                      },
                      {
                        "bin_end": 0.7982,
                        "bin_start": 0.7202999999999999,
                        "count": 142
                      },
                      {
                        "bin_end": 0.8760999999999999,
                        "bin_start": 0.7982,
                        "count": 74
                      },
                      {
                        "bin_end": 0.954,
                        "bin_start": 0.8760999999999999,
                        "count": 16
                      }
                    ],
                    "max": "0.954",
                    "min": "0.175",
                    "nan_count": 0,
                    "unique_count": 491
                  }
                },
                {
                  "dtype": "float64",
                  "name": "energy",
                  "stats": {
                    "histogram": [
                      {
                        "bin_end": 0.12022,
                        "bin_start": 0.0228,
                        "count": 31
                      },
                      {
                        "bin_end": 0.21764,
                        "bin_start": 0.12022,
                        "count": 80
                      },
                      {
                        "bin_end": 0.31505999999999995,
                        "bin_start": 0.21764,
                        "count": 97
                      },
                      {
                        "bin_end": 0.41247999999999996,
                        "bin_start": 0.31505999999999995,
                        "count": 118
                      },
                      {
                        "bin_end": 0.5099,
                        "bin_start": 0.41247999999999996,
                        "count": 104
                      },
                      {
                        "bin_end": 0.60732,
                        "bin_start": 0.5099,
                        "count": 87
                      },
                      {
                        "bin_end": 0.70474,
                        "bin_start": 0.60732,
                        "count": 104
                      },
                      {
                        "bin_end": 0.80216,
                        "bin_start": 0.70474,
                        "count": 121
                      },
                      {
                        "bin_end": 0.8995799999999999,
                        "bin_start": 0.80216,
                        "count": 167
                      },
                      {
                        "bin_end": 0.997,
                        "bin_start": 0.8995799999999999,
                        "count": 143
                      }
                    ],
                    "max": "0.997",
                    "min": "0.0228",
                    "nan_count": 0,
                    "unique_count": 604
                  }
                },
                {
                  "dtype": "float64",
                  "name": "loudness",
                  "stats": {
                    "histogram": [
                      {
                        "bin_end": -24.39,
                        "bin_start": -27.043,
                        "count": 2
                      },
                      {
                        "bin_end": -21.737000000000002,
                        "bin_start": -24.39,
                        "count": 7
                      },
                      {
                        "bin_end": -19.084,
                        "bin_start": -21.737000000000002,
                        "count": 3
                      },
                      {
                        "bin_end": -16.431,
                        "bin_start": -19.084,
                        "count": 18
                      },
                      {
                        "bin_end": -13.778000000000002,
                        "bin_start": -16.431,
                        "count": 39
                      },
                      {
                        "bin_end": -11.125000000000002,
                        "bin_start": -13.778000000000002,
                        "count": 99
                      },
                      {
                        "bin_end": -8.472000000000001,
                        "bin_start": -11.125000000000002,
                        "count": 187
                      },
                      {
                        "bin_end": -5.819000000000003,
                        "bin_start": -8.472000000000001,
                        "count": 282
                      },
                      {
                        "bin_end": -3.166000000000004,
                        "bin_start": -5.819000000000003,
                        "count": 350
                      },
                      {
                        "bin_end": -0.513,
                        "bin_start": -3.166000000000004,
                        "count": 65
                      }
                    ],
                    "max": "-0.513",
                    "min": "-27.043",
                    "nan_count": 0,
                    "unique_count": 994
                  }
                },
                {
                  "dtype": "float64",
                  "name": "speechiness",
                  "stats": {
                    "histogram": [
                      {
                        "bin_end": 0.08169,
                        "bin_start": 0.0241,
                        "count": 807
                      },
                      {
                        "bin_end": 0.13928,
                        "bin_start": 0.08169,
                        "count": 116
                      },
                      {
                        "bin_end": 0.19687,
                        "bin_start": 0.13928,
                        "count": 53
                      },
                      {
                        "bin_end": 0.25445999999999996,
                        "bin_start": 0.19687,
                        "count": 25
                      },
                      {
                        "bin_end": 0.31205,
                        "bin_start": 0.25445999999999996,
                        "count": 18
                      },
                      {
                        "bin_end": 0.36963999999999997,
                        "bin_start": 0.31205,
                        "count": 17
                      },
                      {
                        "bin_end": 0.42723,
                        "bin_start": 0.36963999999999997,
                        "count": 9
                      },
                      {
                        "bin_end": 0.48482,
                        "bin_start": 0.42723,
                        "count": 3
                      },
                      {
                        "bin_end": 0.54241,
                        "bin_start": 0.48482,
                        "count": 2
                      },
                      {
                        "bin_end": 0.6,
                        "bin_start": 0.54241,
                        "count": 2
                      }
                    ],
                    "max": "0.6",
                    "min": "0.0241",
                    "nan_count": 0,
                    "unique_count": 546
                  }
                },
                {
                  "dtype": "float64",
                  "name": "acousticness",
                  "stats": {
                    "histogram": [
                      {
                        "bin_end": 0.0990017,
                        "bin_start": 0.000113,
                        "count": 371
                      },
                      {
                        "bin_end": 0.1978904,
                        "bin_start": 0.0990017,
                        "count": 101
                      },
                      {
                        "bin_end": 0.29677909999999996,
                        "bin_start": 0.1978904,
                        "count": 65
                      },
                      {
                        "bin_end": 0.39566779999999996,
                        "bin_start": 0.29677909999999996,
                        "count": 57
                      },
                      {
                        "bin_end": 0.49455649999999995,
                        "bin_start": 0.39566779999999996,
                        "count": 43
                      },
                      {
                        "bin_end": 0.5934452,
                        "bin_start": 0.49455649999999995,
                        "count": 53
                      },
                      {
                        "bin_end": 0.6923339,
                        "bin_start": 0.5934452,
                        "count": 56
                      },
                      {
                        "bin_end": 0.7912226,
                        "bin_start": 0.6923339,
                        "count": 74
                      },
                      {
                        "bin_end": 0.8901113,
                        "bin_start": 0.7912226,
                        "count": 113
                      },
                      {
                        "bin_end": 0.989,
                        "bin_start": 0.8901113,
                        "count": 119
                      }
                    ],
                    "max": "0.989",
                    "min": "0.000113",
                    "nan_count": 0,
                    "unique_count": 780
                  }
                },
                {
                  "dtype": "float64",
                  "name": "instrumentalness",
                  "stats": {
                    "histogram": [
                      {
                        "bin_end": 0.097,
                        "bin_start": 0,
                        "count": 923
                      },
                      {
                        "bin_end": 0.194,
                        "bin_start": 0.097,
                        "count": 33
                      },
                      {
                        "bin_end": 0.29100000000000004,
                        "bin_start": 0.194,
                        "count": 15
                      },
                      {
                        "bin_end": 0.388,
                        "bin_start": 0.29100000000000004,
                        "count": 8
                      },
                      {
                        "bin_end": 0.485,
                        "bin_start": 0.388,
                        "count": 12
                      },
                      {
                        "bin_end": 0.5820000000000001,
                        "bin_start": 0.485,
                        "count": 11
                      },
                      {
                        "bin_end": 0.679,
                        "bin_start": 0.5820000000000001,
                        "count": 11
                      },
                      {
                        "bin_end": 0.776,
                        "bin_start": 0.679,
                        "count": 17
                      },
                      {
                        "bin_end": 0.873,
                        "bin_start": 0.776,
                        "count": 11
                      },
                      {
                        "bin_end": 0.97,
                        "bin_start": 0.873,
                        "count": 11
                      }
                    ],
                    "max": "0.97",
                    "min": "0.0",
                    "nan_count": 0,
                    "unique_count": 577
                  }
                },
                {
                  "dtype": "float64",
                  "name": "valence",
                  "stats": {
                    "histogram": [
                      {
                        "bin_end": 0.12642,
                        "bin_start": 0.0318,
                        "count": 84
                      },
                      {
                        "bin_end": 0.22104,
                        "bin_start": 0.12642,
                        "count": 146
                      },
                      {
                        "bin_end": 0.31566,
                        "bin_start": 0.22104,
                        "count": 134
                      },
                      {
                        "bin_end": 0.41028,
                        "bin_start": 0.31566,
                        "count": 165
                      },
                      {
                        "bin_end": 0.5049,
                        "bin_start": 0.41028,
                        "count": 116
                      },
                      {
                        "bin_end": 0.59952,
                        "bin_start": 0.5049,
                        "count": 111
                      },
                      {
                        "bin_end": 0.69414,
                        "bin_start": 0.59952,
                        "count": 85
                      },
                      {
                        "bin_end": 0.78876,
                        "bin_start": 0.69414,
                        "count": 95
                      },
                      {
                        "bin_end": 0.88338,
                        "bin_start": 0.78876,
                        "count": 65
                      },
                      {
                        "bin_end": 0.978,
                        "bin_start": 0.88338,
                        "count": 51
                      }
                    ],
                    "max": "0.978",
                    "min": "0.0318",
                    "nan_count": 0,
                    "unique_count": 635
                  }
                },
                {
                  "dtype": "float64",
                  "name": "tempo",
                  "stats": {
                    "histogram": [
                      {
                        "bin_end": 61.791799999999995,
                        "bin_start": 45.306,
                        "count": 2
                      },
                      {
                        "bin_end": 78.2776,
                        "bin_start": 61.791799999999995,
                        "count": 51
                      },
                      {
                        "bin_end": 94.7634,
                        "bin_start": 78.2776,
                        "count": 147
                      },
                      {
                        "bin_end": 111.2492,
                        "bin_start": 94.7634,
                        "count": 192
                      },
                      {
                        "bin_end": 127.735,
                        "bin_start": 111.2492,
                        "count": 239
                      },
                      {
                        "bin_end": 144.2208,
                        "bin_start": 127.735,
                        "count": 185
                      },
                      {
                        "bin_end": 160.7066,
                        "bin_start": 144.2208,
                        "count": 148
                      },
                      {
                        "bin_end": 177.19240000000002,
                        "bin_start": 160.7066,
                        "count": 57
                      },
                      {
                        "bin_end": 193.6782,
                        "bin_start": 177.19240000000002,
                        "count": 22
                      },
                      {
                        "bin_end": 210.164,
                        "bin_start": 193.6782,
                        "count": 9
                      }
                    ],
                    "max": "210.164",
                    "min": "45.306",
                    "nan_count": 0,
                    "unique_count": 1017
                  }
                },
                {
                  "dtype": "object",
                  "name": "id",
                  "stats": {
                    "categories": [
                      {
                        "count": 1,
                        "name": "4xqrdfXkTW4T0RauPLv3WA"
                      },
                      {
                        "count": 1,
                        "name": "75JFxkI2RXiU7L9VXzMkle"
                      },
                      {
                        "count": 1050,
                        "name": "1050 others"
                      }
                    ],
                    "nan_count": 0,
                    "unique_count": 1052
                  }
                },
                {
                  "dtype": "object",
                  "name": "release_date",
                  "stats": {
                    "categories": [
                      {
                        "count": 12,
                        "name": "2024-01-26"
                      },
                      {
                        "count": 9,
                        "name": "2023-04-21"
                      },
                      {
                        "count": 1031,
                        "name": "684 others"
                      }
                    ],
                    "nan_count": 0,
                    "unique_count": 686
                  }
                },
                {
                  "dtype": "float64",
                  "name": "mood",
                  "stats": {
                    "histogram": [
                      {
                        "bin_end": 0.1,
                        "bin_start": 0,
                        "count": 511
                      },
                      {
                        "bin_end": 0.2,
                        "bin_start": 0.1,
                        "count": 0
                      },
                      {
                        "bin_end": 0.30000000000000004,
                        "bin_start": 0.2,
                        "count": 0
                      },
                      {
                        "bin_end": 0.4,
                        "bin_start": 0.30000000000000004,
                        "count": 0
                      },
                      {
                        "bin_end": 0.5,
                        "bin_start": 0.4,
                        "count": 0
                      },
                      {
                        "bin_end": 0.6000000000000001,
                        "bin_start": 0.5,
                        "count": 0
                      },
                      {
                        "bin_end": 0.7000000000000001,
                        "bin_start": 0.6000000000000001,
                        "count": 0
                      },
                      {
                        "bin_end": 0.8,
                        "bin_start": 0.7000000000000001,
                        "count": 0
                      },
                      {
                        "bin_end": 0.9,
                        "bin_start": 0.8,
                        "count": 0
                      },
                      {
                        "bin_end": 1,
                        "bin_start": 0.9,
                        "count": 294
                      }
                    ],
                    "max": "1.0",
                    "min": "0.0",
                    "nan_count": 247,
                    "unique_count": 2
                  }
                },
                {
                  "dtype": "float64",
                  "name": "motivation",
                  "stats": {
                    "histogram": [
                      {
                        "bin_end": 0.1,
                        "bin_start": 0,
                        "count": 304
                      },
                      {
                        "bin_end": 0.2,
                        "bin_start": 0.1,
                        "count": 0
                      },
                      {
                        "bin_end": 0.30000000000000004,
                        "bin_start": 0.2,
                        "count": 0
                      },
                      {
                        "bin_end": 0.4,
                        "bin_start": 0.30000000000000004,
                        "count": 0
                      },
                      {
                        "bin_end": 0.5,
                        "bin_start": 0.4,
                        "count": 0
                      },
                      {
                        "bin_end": 0.6000000000000001,
                        "bin_start": 0.5,
                        "count": 0
                      },
                      {
                        "bin_end": 0.7000000000000001,
                        "bin_start": 0.6000000000000001,
                        "count": 0
                      },
                      {
                        "bin_end": 0.8,
                        "bin_start": 0.7000000000000001,
                        "count": 0
                      },
                      {
                        "bin_end": 0.9,
                        "bin_start": 0.8,
                        "count": 0
                      },
                      {
                        "bin_end": 1,
                        "bin_start": 0.9,
                        "count": 540
                      }
                    ],
                    "max": "1.0",
                    "min": "0.0",
                    "nan_count": 208,
                    "unique_count": 2
                  }
                },
                {
                  "dtype": "object",
                  "name": "release_decade",
                  "stats": {
                    "categories": [
                      {
                        "count": 555,
                        "name": "2020s"
                      },
                      {
                        "count": 371,
                        "name": "2010s"
                      },
                      {
                        "count": 126,
                        "name": "6 others"
                      }
                    ],
                    "nan_count": 0,
                    "unique_count": 8
                  }
                },
                {
                  "dtype": "int64",
                  "name": "_deepnote_index_column"
                }
              ],
              "row_count": 1052,
              "rows": [
                {
                  "_deepnote_index_column": 0,
                  "acousticness": 0.584,
                  "danceability": 0.357,
                  "energy": 0.425,
                  "id": "4xqrdfXkTW4T0RauPLv3WA",
                  "instrumentalness": 0,
                  "loudness": -7.301,
                  "mood": 0,
                  "motivation": "nan",
                  "release_date": "2020-03-20",
                  "release_decade": "2020s",
                  "speechiness": 0.0333,
                  "tempo": 102.078,
                  "valence": 0.27
                },
                {
                  "_deepnote_index_column": 1,
                  "acousticness": 0.731,
                  "danceability": 0.557,
                  "energy": 0.442,
                  "id": "75JFxkI2RXiU7L9VXzMkle",
                  "instrumentalness": 0.0000146,
                  "loudness": -7.224,
                  "mood": 0,
                  "motivation": "nan",
                  "release_date": "2002-08-08",
                  "release_decade": "2000s",
                  "speechiness": 0.0243,
                  "tempo": 146.277,
                  "valence": 0.213
                },
                {
                  "_deepnote_index_column": 2,
                  "acousticness": 0.74,
                  "danceability": 0.652,
                  "energy": 0.557,
                  "id": "2qxmye6gAegTMjLKEBoR3d",
                  "instrumentalness": 0,
                  "loudness": -5.714,
                  "mood": "nan",
                  "motivation": "nan",
                  "release_date": "2018-11-16",
                  "release_decade": "2010s",
                  "speechiness": 0.0318,
                  "tempo": 150.073,
                  "valence": 0.483
                },
                {
                  "_deepnote_index_column": 3,
                  "acousticness": 0.64,
                  "danceability": 0.681,
                  "energy": 0.372,
                  "id": "1mXVgsBdtIVeCLJnSnmtdV",
                  "instrumentalness": 0,
                  "loudness": -8.237,
                  "mood": "nan",
                  "motivation": 0,
                  "release_date": "2017-11-03",
                  "release_decade": "2010s",
                  "speechiness": 0.0432,
                  "tempo": 91.873,
                  "valence": 0.476
                },
                {
                  "_deepnote_index_column": 4,
                  "acousticness": 0.978,
                  "danceability": 0.367,
                  "energy": 0.111,
                  "id": "43zdsphuZLzwA9k4DJhU0I",
                  "instrumentalness": 0.0000397,
                  "loudness": -14.084,
                  "mood": 0,
                  "motivation": 0,
                  "release_date": "2019-03-29",
                  "release_decade": "2010s",
                  "speechiness": 0.0972,
                  "tempo": 82.642,
                  "valence": 0.198
                },
                {
                  "_deepnote_index_column": 5,
                  "acousticness": 0.695,
                  "danceability": 0.445,
                  "energy": 0.537,
                  "id": "3JvKfv6T31zO0ini8iNItO",
                  "instrumentalness": 0.0000165,
                  "loudness": -8.532,
                  "mood": 0,
                  "motivation": "nan",
                  "release_date": "2013-06-24",
                  "release_decade": "2010s",
                  "speechiness": 0.04,
                  "tempo": 122.769,
                  "valence": 0.131
                },
                {
                  "_deepnote_index_column": 6,
                  "acousticness": 0.866,
                  "danceability": 0.369,
                  "energy": 0.272,
                  "id": "5JCoSi02qi3jJeHdZXMmR8",
                  "instrumentalness": 0,
                  "loudness": -10.497,
                  "mood": 0,
                  "motivation": 0,
                  "release_date": "2021-05-21",
                  "release_decade": "2020s",
                  "speechiness": 0.0364,
                  "tempo": 172.929,
                  "valence": 0.218
                },
                {
                  "_deepnote_index_column": 7,
                  "acousticness": 0.827,
                  "danceability": 0.537,
                  "energy": 0.421,
                  "id": "2HafqoJbgXdtjwCOvNEF14",
                  "instrumentalness": 0,
                  "loudness": -8.72,
                  "mood": "nan",
                  "motivation": "nan",
                  "release_date": "2022-09-23",
                  "release_decade": "2020s",
                  "speechiness": 0.0285,
                  "tempo": 98.224,
                  "valence": 0.524
                },
                {
                  "_deepnote_index_column": 8,
                  "acousticness": 0.607,
                  "danceability": 0.614,
                  "energy": 0.379,
                  "id": "1HNkqx9Ahdgi1Ixy2xkKkL",
                  "instrumentalness": 0.000464,
                  "loudness": -10.48,
                  "mood": 0,
                  "motivation": 0,
                  "release_date": "2014-06-21",
                  "release_decade": "2010s",
                  "speechiness": 0.0476,
                  "tempo": 107.989,
                  "valence": 0.201
                },
                {
                  "_deepnote_index_column": 9,
                  "acousticness": 0.392,
                  "danceability": 0.278,
                  "energy": 0.572,
                  "id": "2oKjjRzItVu8JZScrpzFTx",
                  "instrumentalness": 0,
                  "loudness": -8.295,
                  "mood": 0,
                  "motivation": "nan",
                  "release_date": "2017-09-08",
                  "release_decade": "2010s",
                  "speechiness": 0.0407,
                  "tempo": 95.351,
                  "valence": 0.311
                }
              ]
            },
            "text/html": [
              "<div>\n",
              "<style scoped>\n",
              "    .dataframe tbody tr th:only-of-type {\n",
              "        vertical-align: middle;\n",
              "    }\n",
              "\n",
              "    .dataframe tbody tr th {\n",
              "        vertical-align: top;\n",
              "    }\n",
              "\n",
              "    .dataframe thead th {\n",
              "        text-align: right;\n",
              "    }\n",
              "</style>\n",
              "<table border=\"1\" class=\"dataframe\">\n",
              "  <thead>\n",
              "    <tr style=\"text-align: right;\">\n",
              "      <th></th>\n",
              "      <th>danceability</th>\n",
              "      <th>energy</th>\n",
              "      <th>loudness</th>\n",
              "      <th>speechiness</th>\n",
              "      <th>acousticness</th>\n",
              "      <th>instrumentalness</th>\n",
              "      <th>valence</th>\n",
              "      <th>tempo</th>\n",
              "      <th>id</th>\n",
              "      <th>release_date</th>\n",
              "      <th>mood</th>\n",
              "      <th>motivation</th>\n",
              "      <th>release_decade</th>\n",
              "    </tr>\n",
              "  </thead>\n",
              "  <tbody>\n",
              "    <tr>\n",
              "      <th>0</th>\n",
              "      <td>0.357</td>\n",
              "      <td>0.425</td>\n",
              "      <td>-7.301</td>\n",
              "      <td>0.0333</td>\n",
              "      <td>0.5840</td>\n",
              "      <td>0.000000</td>\n",
              "      <td>0.270</td>\n",
              "      <td>102.078</td>\n",
              "      <td>4xqrdfXkTW4T0RauPLv3WA</td>\n",
              "      <td>2020-03-20</td>\n",
              "      <td>0.0</td>\n",
              "      <td>NaN</td>\n",
              "      <td>2020s</td>\n",
              "    </tr>\n",
              "    <tr>\n",
              "      <th>1</th>\n",
              "      <td>0.557</td>\n",
              "      <td>0.442</td>\n",
              "      <td>-7.224</td>\n",
              "      <td>0.0243</td>\n",
              "      <td>0.7310</td>\n",
              "      <td>0.000015</td>\n",
              "      <td>0.213</td>\n",
              "      <td>146.277</td>\n",
              "      <td>75JFxkI2RXiU7L9VXzMkle</td>\n",
              "      <td>2002-08-08</td>\n",
              "      <td>0.0</td>\n",
              "      <td>NaN</td>\n",
              "      <td>2000s</td>\n",
              "    </tr>\n",
              "    <tr>\n",
              "      <th>2</th>\n",
              "      <td>0.652</td>\n",
              "      <td>0.557</td>\n",
              "      <td>-5.714</td>\n",
              "      <td>0.0318</td>\n",
              "      <td>0.7400</td>\n",
              "      <td>0.000000</td>\n",
              "      <td>0.483</td>\n",
              "      <td>150.073</td>\n",
              "      <td>2qxmye6gAegTMjLKEBoR3d</td>\n",
              "      <td>2018-11-16</td>\n",
              "      <td>NaN</td>\n",
              "      <td>NaN</td>\n",
              "      <td>2010s</td>\n",
              "    </tr>\n",
              "    <tr>\n",
              "      <th>3</th>\n",
              "      <td>0.681</td>\n",
              "      <td>0.372</td>\n",
              "      <td>-8.237</td>\n",
              "      <td>0.0432</td>\n",
              "      <td>0.6400</td>\n",
              "      <td>0.000000</td>\n",
              "      <td>0.476</td>\n",
              "      <td>91.873</td>\n",
              "      <td>1mXVgsBdtIVeCLJnSnmtdV</td>\n",
              "      <td>2017-11-03</td>\n",
              "      <td>NaN</td>\n",
              "      <td>0.0</td>\n",
              "      <td>2010s</td>\n",
              "    </tr>\n",
              "    <tr>\n",
              "      <th>4</th>\n",
              "      <td>0.367</td>\n",
              "      <td>0.111</td>\n",
              "      <td>-14.084</td>\n",
              "      <td>0.0972</td>\n",
              "      <td>0.9780</td>\n",
              "      <td>0.000040</td>\n",
              "      <td>0.198</td>\n",
              "      <td>82.642</td>\n",
              "      <td>43zdsphuZLzwA9k4DJhU0I</td>\n",
              "      <td>2019-03-29</td>\n",
              "      <td>0.0</td>\n",
              "      <td>0.0</td>\n",
              "      <td>2010s</td>\n",
              "    </tr>\n",
              "    <tr>\n",
              "      <th>...</th>\n",
              "      <td>...</td>\n",
              "      <td>...</td>\n",
              "      <td>...</td>\n",
              "      <td>...</td>\n",
              "      <td>...</td>\n",
              "      <td>...</td>\n",
              "      <td>...</td>\n",
              "      <td>...</td>\n",
              "      <td>...</td>\n",
              "      <td>...</td>\n",
              "      <td>...</td>\n",
              "      <td>...</td>\n",
              "      <td>...</td>\n",
              "    </tr>\n",
              "    <tr>\n",
              "      <th>1116</th>\n",
              "      <td>0.716</td>\n",
              "      <td>0.748</td>\n",
              "      <td>-6.060</td>\n",
              "      <td>0.0356</td>\n",
              "      <td>0.2350</td>\n",
              "      <td>0.849000</td>\n",
              "      <td>0.338</td>\n",
              "      <td>119.918</td>\n",
              "      <td>01kfSdF9zfcDLri5sSWEoL</td>\n",
              "      <td>2022-03-18</td>\n",
              "      <td>0.0</td>\n",
              "      <td>1.0</td>\n",
              "      <td>2020s</td>\n",
              "    </tr>\n",
              "    <tr>\n",
              "      <th>1117</th>\n",
              "      <td>0.778</td>\n",
              "      <td>0.786</td>\n",
              "      <td>-4.440</td>\n",
              "      <td>0.1150</td>\n",
              "      <td>0.0189</td>\n",
              "      <td>0.000047</td>\n",
              "      <td>0.562</td>\n",
              "      <td>128.007</td>\n",
              "      <td>7FvXYkiDWiLgXA9JHUf7Ni</td>\n",
              "      <td>2023-03-31</td>\n",
              "      <td>NaN</td>\n",
              "      <td>1.0</td>\n",
              "      <td>2020s</td>\n",
              "    </tr>\n",
              "    <tr>\n",
              "      <th>1118</th>\n",
              "      <td>0.848</td>\n",
              "      <td>0.821</td>\n",
              "      <td>-5.408</td>\n",
              "      <td>0.0527</td>\n",
              "      <td>0.0169</td>\n",
              "      <td>0.000403</td>\n",
              "      <td>0.249</td>\n",
              "      <td>125.051</td>\n",
              "      <td>6GomT970rCOkKAyyrwJeZi</td>\n",
              "      <td>2021-10-29</td>\n",
              "      <td>0.0</td>\n",
              "      <td>1.0</td>\n",
              "      <td>2020s</td>\n",
              "    </tr>\n",
              "    <tr>\n",
              "      <th>1119</th>\n",
              "      <td>0.653</td>\n",
              "      <td>0.973</td>\n",
              "      <td>-3.894</td>\n",
              "      <td>0.0414</td>\n",
              "      <td>0.0338</td>\n",
              "      <td>0.006860</td>\n",
              "      <td>0.219</td>\n",
              "      <td>128.024</td>\n",
              "      <td>7wy8gxfen0STJ2jQMYQBAA</td>\n",
              "      <td>2023-03-24</td>\n",
              "      <td>0.0</td>\n",
              "      <td>1.0</td>\n",
              "      <td>2020s</td>\n",
              "    </tr>\n",
              "    <tr>\n",
              "      <th>1120</th>\n",
              "      <td>0.686</td>\n",
              "      <td>0.892</td>\n",
              "      <td>-3.186</td>\n",
              "      <td>0.0498</td>\n",
              "      <td>0.0577</td>\n",
              "      <td>0.000007</td>\n",
              "      <td>0.752</td>\n",
              "      <td>126.030</td>\n",
              "      <td>2LxdNADWier3MKTei8FbOY</td>\n",
              "      <td>2022-05-06</td>\n",
              "      <td>1.0</td>\n",
              "      <td>1.0</td>\n",
              "      <td>2020s</td>\n",
              "    </tr>\n",
              "  </tbody>\n",
              "</table>\n",
              "<p>1052 rows × 13 columns</p>\n",
              "</div>"
            ],
            "text/plain": [
              "      danceability  energy  loudness  speechiness  acousticness  \\\n",
              "0            0.357   0.425    -7.301       0.0333        0.5840   \n",
              "1            0.557   0.442    -7.224       0.0243        0.7310   \n",
              "2            0.652   0.557    -5.714       0.0318        0.7400   \n",
              "3            0.681   0.372    -8.237       0.0432        0.6400   \n",
              "4            0.367   0.111   -14.084       0.0972        0.9780   \n",
              "...            ...     ...       ...          ...           ...   \n",
              "1116         0.716   0.748    -6.060       0.0356        0.2350   \n",
              "1117         0.778   0.786    -4.440       0.1150        0.0189   \n",
              "1118         0.848   0.821    -5.408       0.0527        0.0169   \n",
              "1119         0.653   0.973    -3.894       0.0414        0.0338   \n",
              "1120         0.686   0.892    -3.186       0.0498        0.0577   \n",
              "\n",
              "      instrumentalness  valence    tempo                      id release_date  \\\n",
              "0             0.000000    0.270  102.078  4xqrdfXkTW4T0RauPLv3WA   2020-03-20   \n",
              "1             0.000015    0.213  146.277  75JFxkI2RXiU7L9VXzMkle   2002-08-08   \n",
              "2             0.000000    0.483  150.073  2qxmye6gAegTMjLKEBoR3d   2018-11-16   \n",
              "3             0.000000    0.476   91.873  1mXVgsBdtIVeCLJnSnmtdV   2017-11-03   \n",
              "4             0.000040    0.198   82.642  43zdsphuZLzwA9k4DJhU0I   2019-03-29   \n",
              "...                ...      ...      ...                     ...          ...   \n",
              "1116          0.849000    0.338  119.918  01kfSdF9zfcDLri5sSWEoL   2022-03-18   \n",
              "1117          0.000047    0.562  128.007  7FvXYkiDWiLgXA9JHUf7Ni   2023-03-31   \n",
              "1118          0.000403    0.249  125.051  6GomT970rCOkKAyyrwJeZi   2021-10-29   \n",
              "1119          0.006860    0.219  128.024  7wy8gxfen0STJ2jQMYQBAA   2023-03-24   \n",
              "1120          0.000007    0.752  126.030  2LxdNADWier3MKTei8FbOY   2022-05-06   \n",
              "\n",
              "      mood  motivation release_decade  \n",
              "0      0.0         NaN          2020s  \n",
              "1      0.0         NaN          2000s  \n",
              "2      NaN         NaN          2010s  \n",
              "3      NaN         0.0          2010s  \n",
              "4      0.0         0.0          2010s  \n",
              "...    ...         ...            ...  \n",
              "1116   0.0         1.0          2020s  \n",
              "1117   NaN         1.0          2020s  \n",
              "1118   0.0         1.0          2020s  \n",
              "1119   0.0         1.0          2020s  \n",
              "1120   1.0         1.0          2020s  \n",
              "\n",
              "[1052 rows x 13 columns]"
            ]
          },
          "execution_count": 14,
          "metadata": {},
          "output_type": "execute_result"
        }
      ],
      "source": [
        "data['release_decade'] = data['release_date'].str.extract(r'(\\d{4})').astype(int) // 10 * 10\n",
        "data['release_decade'] = data['release_decade'].astype(str) + 's'\n",
        "data"
      ]
    },
    {
      "cell_type": "markdown",
      "metadata": {
        "cell_id": "5243f68abe2e4b02a27562451472b3b2",
        "deepnote_cell_type": "markdown",
        "id": "n7Ttc_0KaGNO"
      },
      "source": [
        "#### Eliminación de datos outliers"
      ]
    },
    {
      "cell_type": "markdown",
      "metadata": {
        "cell_id": "5029d9f2a2b54107aa29e76001bcf107",
        "deepnote_cell_type": "markdown",
        "id": "_2z8hav_aGNO"
      },
      "source": [
        "Observamos los posibles valores para `release_decade` puesto que pueden haber canciones que sean de años que pueden ser considerados outliers.\n",
        "\n",
        "Vamos a tomar como referencia las **canciones a partir de la década de los 80** en adelante."
      ]
    },
    {
      "cell_type": "code",
      "execution_count": null,
      "metadata": {
        "cell_id": "ef2c812a9178430cb553087a4ecb8a78",
        "deepnote_cell_type": "code",
        "deepnote_to_be_reexecuted": false,
        "execution_millis": 652,
        "execution_start": 1708275135922,
        "id": "414qIYhSaGNP",
        "outputId": "99135d6e-36ca-43e7-9ec3-435d00df0162",
        "source_hash": null
      },
      "outputs": [
        {
          "data": {
            "text/plain": [
              "array(['2020s', '2000s', '2010s', '1990s', '1980s', '1970s', '1940s',\n",
              "       '1960s'], dtype=object)"
            ]
          },
          "execution_count": 15,
          "metadata": {},
          "output_type": "execute_result"
        }
      ],
      "source": [
        "data['release_decade'].unique()"
      ]
    },
    {
      "cell_type": "code",
      "execution_count": null,
      "metadata": {
        "cell_id": "d6de66e65d2d4caaa6f586d87d297769",
        "deepnote_cell_type": "code",
        "deepnote_to_be_reexecuted": false,
        "execution_millis": 638,
        "execution_start": 1708275135936,
        "id": "cjOq-VDKaGNP",
        "outputId": "862d996d-ae4f-43b1-9392-34ba0aef93b2",
        "source_hash": null
      },
      "outputs": [
        {
          "name": "stderr",
          "output_type": "stream",
          "text": [
            "/shared-libs/python3.11/py/lib/python3.11/site-packages/pandas/core/frame.py:4308: SettingWithCopyWarning: \n",
            "A value is trying to be set on a copy of a slice from a DataFrame\n",
            "\n",
            "See the caveats in the documentation: https://pandas.pydata.org/pandas-docs/stable/user_guide/indexing.html#returning-a-view-versus-a-copy\n",
            "  return super().drop(\n"
          ]
        }
      ],
      "source": [
        "data.drop(data[data['release_decade'].isin(['1940s', '1960s', '1970s'])].index, inplace=True)"
      ]
    },
    {
      "cell_type": "markdown",
      "metadata": {
        "cell_id": "42ce138402764b7f9dad39644e986f6f",
        "deepnote_cell_type": "markdown",
        "id": "J4ctwyg9aGNP"
      },
      "source": [
        "Eliminamos la columna `release-date` puesto que ya ha sido simplificada"
      ]
    },
    {
      "cell_type": "code",
      "execution_count": null,
      "metadata": {
        "cell_id": "8fc87210e33743048a0252faaf0638db",
        "deepnote_cell_type": "code",
        "deepnote_to_be_reexecuted": false,
        "execution_millis": 629,
        "execution_start": 1708275135946,
        "id": "Ujj13GuJaGNP",
        "source_hash": null
      },
      "outputs": [],
      "source": [
        "data.drop('release_date', axis=1, inplace=True)"
      ]
    },
    {
      "cell_type": "code",
      "execution_count": null,
      "metadata": {
        "cell_id": "1ed18c8ca5374edc9c227bcd86820c2f",
        "deepnote_cell_type": "code",
        "deepnote_table_loading": false,
        "deepnote_table_state": {
          "filters": [],
          "pageIndex": 0,
          "pageSize": 10,
          "sortBy": [
            {
              "id": "release_date",
              "type": "asc"
            }
          ]
        },
        "deepnote_to_be_reexecuted": false,
        "execution_millis": 615,
        "execution_start": 1708275135960,
        "id": "gplDDFOsaGNQ",
        "outputId": "3015fce2-c8ae-44ab-cf2f-d5888dfe60c2",
        "source_hash": null
      },
      "outputs": [
        {
          "data": {
            "application/vnd.deepnote.dataframe.v3+json": {
              "column_count": 12,
              "columns": [
                {
                  "dtype": "float64",
                  "name": "danceability",
                  "stats": {
                    "histogram": [
                      {
                        "bin_end": 0.2529,
                        "bin_start": 0.175,
                        "count": 15
                      },
                      {
                        "bin_end": 0.3308,
                        "bin_start": 0.2529,
                        "count": 28
                      },
                      {
                        "bin_end": 0.40869999999999995,
                        "bin_start": 0.3308,
                        "count": 77
                      },
                      {
                        "bin_end": 0.4866,
                        "bin_start": 0.40869999999999995,
                        "count": 108
                      },
                      {
                        "bin_end": 0.5645,
                        "bin_start": 0.4866,
                        "count": 174
                      },
                      {
                        "bin_end": 0.6424,
                        "bin_start": 0.5645,
                        "count": 198
                      },
                      {
                        "bin_end": 0.7202999999999999,
                        "bin_start": 0.6424,
                        "count": 210
                      },
                      {
                        "bin_end": 0.7982,
                        "bin_start": 0.7202999999999999,
                        "count": 142
                      },
                      {
                        "bin_end": 0.8760999999999999,
                        "bin_start": 0.7982,
                        "count": 74
                      },
                      {
                        "bin_end": 0.954,
                        "bin_start": 0.8760999999999999,
                        "count": 16
                      }
                    ],
                    "max": "0.954",
                    "min": "0.175",
                    "nan_count": 0,
                    "unique_count": 490
                  }
                },
                {
                  "dtype": "float64",
                  "name": "energy",
                  "stats": {
                    "histogram": [
                      {
                        "bin_end": 0.12022,
                        "bin_start": 0.0228,
                        "count": 31
                      },
                      {
                        "bin_end": 0.21764,
                        "bin_start": 0.12022,
                        "count": 79
                      },
                      {
                        "bin_end": 0.31505999999999995,
                        "bin_start": 0.21764,
                        "count": 96
                      },
                      {
                        "bin_end": 0.41247999999999996,
                        "bin_start": 0.31505999999999995,
                        "count": 117
                      },
                      {
                        "bin_end": 0.5099,
                        "bin_start": 0.41247999999999996,
                        "count": 102
                      },
                      {
                        "bin_end": 0.60732,
                        "bin_start": 0.5099,
                        "count": 87
                      },
                      {
                        "bin_end": 0.70474,
                        "bin_start": 0.60732,
                        "count": 103
                      },
                      {
                        "bin_end": 0.80216,
                        "bin_start": 0.70474,
                        "count": 121
                      },
                      {
                        "bin_end": 0.8995799999999999,
                        "bin_start": 0.80216,
                        "count": 163
                      },
                      {
                        "bin_end": 0.997,
                        "bin_start": 0.8995799999999999,
                        "count": 143
                      }
                    ],
                    "max": "0.997",
                    "min": "0.0228",
                    "nan_count": 0,
                    "unique_count": 603
                  }
                },
                {
                  "dtype": "float64",
                  "name": "loudness",
                  "stats": {
                    "histogram": [
                      {
                        "bin_end": -24.39,
                        "bin_start": -27.043,
                        "count": 2
                      },
                      {
                        "bin_end": -21.737000000000002,
                        "bin_start": -24.39,
                        "count": 7
                      },
                      {
                        "bin_end": -19.084,
                        "bin_start": -21.737000000000002,
                        "count": 3
                      },
                      {
                        "bin_end": -16.431,
                        "bin_start": -19.084,
                        "count": 17
                      },
                      {
                        "bin_end": -13.778000000000002,
                        "bin_start": -16.431,
                        "count": 38
                      },
                      {
                        "bin_end": -11.125000000000002,
                        "bin_start": -13.778000000000002,
                        "count": 97
                      },
                      {
                        "bin_end": -8.472000000000001,
                        "bin_start": -11.125000000000002,
                        "count": 186
                      },
                      {
                        "bin_end": -5.819000000000003,
                        "bin_start": -8.472000000000001,
                        "count": 279
                      },
                      {
                        "bin_end": -3.166000000000004,
                        "bin_start": -5.819000000000003,
                        "count": 348
                      },
                      {
                        "bin_end": -0.513,
                        "bin_start": -3.166000000000004,
                        "count": 65
                      }
                    ],
                    "max": "-0.513",
                    "min": "-27.043",
                    "nan_count": 0,
                    "unique_count": 984
                  }
                },
                {
                  "dtype": "float64",
                  "name": "speechiness",
                  "stats": {
                    "histogram": [
                      {
                        "bin_end": 0.08169,
                        "bin_start": 0.0241,
                        "count": 800
                      },
                      {
                        "bin_end": 0.13928,
                        "bin_start": 0.08169,
                        "count": 114
                      },
                      {
                        "bin_end": 0.19687,
                        "bin_start": 0.13928,
                        "count": 52
                      },
                      {
                        "bin_end": 0.25445999999999996,
                        "bin_start": 0.19687,
                        "count": 25
                      },
                      {
                        "bin_end": 0.31205,
                        "bin_start": 0.25445999999999996,
                        "count": 18
                      },
                      {
                        "bin_end": 0.36963999999999997,
                        "bin_start": 0.31205,
                        "count": 17
                      },
                      {
                        "bin_end": 0.42723,
                        "bin_start": 0.36963999999999997,
                        "count": 9
                      },
                      {
                        "bin_end": 0.48482,
                        "bin_start": 0.42723,
                        "count": 3
                      },
                      {
                        "bin_end": 0.54241,
                        "bin_start": 0.48482,
                        "count": 2
                      },
                      {
                        "bin_end": 0.6,
                        "bin_start": 0.54241,
                        "count": 2
                      }
                    ],
                    "max": "0.6",
                    "min": "0.0241",
                    "nan_count": 0,
                    "unique_count": 545
                  }
                },
                {
                  "dtype": "float64",
                  "name": "acousticness",
                  "stats": {
                    "histogram": [
                      {
                        "bin_end": 0.0990017,
                        "bin_start": 0.000113,
                        "count": 369
                      },
                      {
                        "bin_end": 0.1978904,
                        "bin_start": 0.0990017,
                        "count": 101
                      },
                      {
                        "bin_end": 0.29677909999999996,
                        "bin_start": 0.1978904,
                        "count": 64
                      },
                      {
                        "bin_end": 0.39566779999999996,
                        "bin_start": 0.29677909999999996,
                        "count": 57
                      },
                      {
                        "bin_end": 0.49455649999999995,
                        "bin_start": 0.39566779999999996,
                        "count": 40
                      },
                      {
                        "bin_end": 0.5934452,
                        "bin_start": 0.49455649999999995,
                        "count": 52
                      },
                      {
                        "bin_end": 0.6923339,
                        "bin_start": 0.5934452,
                        "count": 56
                      },
                      {
                        "bin_end": 0.7912226,
                        "bin_start": 0.6923339,
                        "count": 73
                      },
                      {
                        "bin_end": 0.8901113,
                        "bin_start": 0.7912226,
                        "count": 111
                      },
                      {
                        "bin_end": 0.989,
                        "bin_start": 0.8901113,
                        "count": 119
                      }
                    ],
                    "max": "0.989",
                    "min": "0.000113",
                    "nan_count": 0,
                    "unique_count": 773
                  }
                },
                {
                  "dtype": "float64",
                  "name": "instrumentalness",
                  "stats": {
                    "histogram": [
                      {
                        "bin_end": 0.097,
                        "bin_start": 0,
                        "count": 915
                      },
                      {
                        "bin_end": 0.194,
                        "bin_start": 0.097,
                        "count": 32
                      },
                      {
                        "bin_end": 0.29100000000000004,
                        "bin_start": 0.194,
                        "count": 15
                      },
                      {
                        "bin_end": 0.388,
                        "bin_start": 0.29100000000000004,
                        "count": 8
                      },
                      {
                        "bin_end": 0.485,
                        "bin_start": 0.388,
                        "count": 12
                      },
                      {
                        "bin_end": 0.5820000000000001,
                        "bin_start": 0.485,
                        "count": 11
                      },
                      {
                        "bin_end": 0.679,
                        "bin_start": 0.5820000000000001,
                        "count": 11
                      },
                      {
                        "bin_end": 0.776,
                        "bin_start": 0.679,
                        "count": 16
                      },
                      {
                        "bin_end": 0.873,
                        "bin_start": 0.776,
                        "count": 11
                      },
                      {
                        "bin_end": 0.97,
                        "bin_start": 0.873,
                        "count": 11
                      }
                    ],
                    "max": "0.97",
                    "min": "0.0",
                    "nan_count": 0,
                    "unique_count": 571
                  }
                },
                {
                  "dtype": "float64",
                  "name": "valence",
                  "stats": {
                    "histogram": [
                      {
                        "bin_end": 0.12642,
                        "bin_start": 0.0318,
                        "count": 84
                      },
                      {
                        "bin_end": 0.22104,
                        "bin_start": 0.12642,
                        "count": 146
                      },
                      {
                        "bin_end": 0.31566,
                        "bin_start": 0.22104,
                        "count": 134
                      },
                      {
                        "bin_end": 0.41028,
                        "bin_start": 0.31566,
                        "count": 163
                      },
                      {
                        "bin_end": 0.5049,
                        "bin_start": 0.41028,
                        "count": 115
                      },
                      {
                        "bin_end": 0.59952,
                        "bin_start": 0.5049,
                        "count": 110
                      },
                      {
                        "bin_end": 0.69414,
                        "bin_start": 0.59952,
                        "count": 84
                      },
                      {
                        "bin_end": 0.78876,
                        "bin_start": 0.69414,
                        "count": 93
                      },
                      {
                        "bin_end": 0.88338,
                        "bin_start": 0.78876,
                        "count": 64
                      },
                      {
                        "bin_end": 0.978,
                        "bin_start": 0.88338,
                        "count": 49
                      }
                    ],
                    "max": "0.978",
                    "min": "0.0318",
                    "nan_count": 0,
                    "unique_count": 632
                  }
                },
                {
                  "dtype": "float64",
                  "name": "tempo",
                  "stats": {
                    "histogram": [
                      {
                        "bin_end": 61.791799999999995,
                        "bin_start": 45.306,
                        "count": 2
                      },
                      {
                        "bin_end": 78.2776,
                        "bin_start": 61.791799999999995,
                        "count": 50
                      },
                      {
                        "bin_end": 94.7634,
                        "bin_start": 78.2776,
                        "count": 143
                      },
                      {
                        "bin_end": 111.2492,
                        "bin_start": 94.7634,
                        "count": 191
                      },
                      {
                        "bin_end": 127.735,
                        "bin_start": 111.2492,
                        "count": 237
                      },
                      {
                        "bin_end": 144.2208,
                        "bin_start": 127.735,
                        "count": 185
                      },
                      {
                        "bin_end": 160.7066,
                        "bin_start": 144.2208,
                        "count": 147
                      },
                      {
                        "bin_end": 177.19240000000002,
                        "bin_start": 160.7066,
                        "count": 57
                      },
                      {
                        "bin_end": 193.6782,
                        "bin_start": 177.19240000000002,
                        "count": 21
                      },
                      {
                        "bin_end": 210.164,
                        "bin_start": 193.6782,
                        "count": 9
                      }
                    ],
                    "max": "210.164",
                    "min": "45.306",
                    "nan_count": 0,
                    "unique_count": 1007
                  }
                },
                {
                  "dtype": "object",
                  "name": "id",
                  "stats": {
                    "categories": [
                      {
                        "count": 1,
                        "name": "4xqrdfXkTW4T0RauPLv3WA"
                      },
                      {
                        "count": 1,
                        "name": "75JFxkI2RXiU7L9VXzMkle"
                      },
                      {
                        "count": 1040,
                        "name": "1040 others"
                      }
                    ],
                    "nan_count": 0,
                    "unique_count": 1042
                  }
                },
                {
                  "dtype": "float64",
                  "name": "mood",
                  "stats": {
                    "histogram": [
                      {
                        "bin_end": 0.1,
                        "bin_start": 0,
                        "count": 510
                      },
                      {
                        "bin_end": 0.2,
                        "bin_start": 0.1,
                        "count": 0
                      },
                      {
                        "bin_end": 0.30000000000000004,
                        "bin_start": 0.2,
                        "count": 0
                      },
                      {
                        "bin_end": 0.4,
                        "bin_start": 0.30000000000000004,
                        "count": 0
                      },
                      {
                        "bin_end": 0.5,
                        "bin_start": 0.4,
                        "count": 0
                      },
                      {
                        "bin_end": 0.6000000000000001,
                        "bin_start": 0.5,
                        "count": 0
                      },
                      {
                        "bin_end": 0.7000000000000001,
                        "bin_start": 0.6000000000000001,
                        "count": 0
                      },
                      {
                        "bin_end": 0.8,
                        "bin_start": 0.7000000000000001,
                        "count": 0
                      },
                      {
                        "bin_end": 0.9,
                        "bin_start": 0.8,
                        "count": 0
                      },
                      {
                        "bin_end": 1,
                        "bin_start": 0.9,
                        "count": 288
                      }
                    ],
                    "max": "1.0",
                    "min": "0.0",
                    "nan_count": 244,
                    "unique_count": 2
                  }
                },
                {
                  "dtype": "float64",
                  "name": "motivation",
                  "stats": {
                    "histogram": [
                      {
                        "bin_end": 0.1,
                        "bin_start": 0,
                        "count": 301
                      },
                      {
                        "bin_end": 0.2,
                        "bin_start": 0.1,
                        "count": 0
                      },
                      {
                        "bin_end": 0.30000000000000004,
                        "bin_start": 0.2,
                        "count": 0
                      },
                      {
                        "bin_end": 0.4,
                        "bin_start": 0.30000000000000004,
                        "count": 0
                      },
                      {
                        "bin_end": 0.5,
                        "bin_start": 0.4,
                        "count": 0
                      },
                      {
                        "bin_end": 0.6000000000000001,
                        "bin_start": 0.5,
                        "count": 0
                      },
                      {
                        "bin_end": 0.7000000000000001,
                        "bin_start": 0.6000000000000001,
                        "count": 0
                      },
                      {
                        "bin_end": 0.8,
                        "bin_start": 0.7000000000000001,
                        "count": 0
                      },
                      {
                        "bin_end": 0.9,
                        "bin_start": 0.8,
                        "count": 0
                      },
                      {
                        "bin_end": 1,
                        "bin_start": 0.9,
                        "count": 535
                      }
                    ],
                    "max": "1.0",
                    "min": "0.0",
                    "nan_count": 206,
                    "unique_count": 2
                  }
                },
                {
                  "dtype": "object",
                  "name": "release_decade",
                  "stats": {
                    "categories": [
                      {
                        "count": 555,
                        "name": "2020s"
                      },
                      {
                        "count": 371,
                        "name": "2010s"
                      },
                      {
                        "count": 116,
                        "name": "3 others"
                      }
                    ],
                    "nan_count": 0,
                    "unique_count": 5
                  }
                },
                {
                  "dtype": "int64",
                  "name": "_deepnote_index_column"
                }
              ],
              "row_count": 1042,
              "rows": [
                {
                  "_deepnote_index_column": 0,
                  "acousticness": 0.584,
                  "danceability": 0.357,
                  "energy": 0.425,
                  "id": "4xqrdfXkTW4T0RauPLv3WA",
                  "instrumentalness": 0,
                  "loudness": -7.301,
                  "mood": 0,
                  "motivation": "nan",
                  "release_decade": "2020s",
                  "speechiness": 0.0333,
                  "tempo": 102.078,
                  "valence": 0.27
                },
                {
                  "_deepnote_index_column": 1,
                  "acousticness": 0.731,
                  "danceability": 0.557,
                  "energy": 0.442,
                  "id": "75JFxkI2RXiU7L9VXzMkle",
                  "instrumentalness": 0.0000146,
                  "loudness": -7.224,
                  "mood": 0,
                  "motivation": "nan",
                  "release_decade": "2000s",
                  "speechiness": 0.0243,
                  "tempo": 146.277,
                  "valence": 0.213
                },
                {
                  "_deepnote_index_column": 2,
                  "acousticness": 0.74,
                  "danceability": 0.652,
                  "energy": 0.557,
                  "id": "2qxmye6gAegTMjLKEBoR3d",
                  "instrumentalness": 0,
                  "loudness": -5.714,
                  "mood": "nan",
                  "motivation": "nan",
                  "release_decade": "2010s",
                  "speechiness": 0.0318,
                  "tempo": 150.073,
                  "valence": 0.483
                },
                {
                  "_deepnote_index_column": 3,
                  "acousticness": 0.64,
                  "danceability": 0.681,
                  "energy": 0.372,
                  "id": "1mXVgsBdtIVeCLJnSnmtdV",
                  "instrumentalness": 0,
                  "loudness": -8.237,
                  "mood": "nan",
                  "motivation": 0,
                  "release_decade": "2010s",
                  "speechiness": 0.0432,
                  "tempo": 91.873,
                  "valence": 0.476
                },
                {
                  "_deepnote_index_column": 4,
                  "acousticness": 0.978,
                  "danceability": 0.367,
                  "energy": 0.111,
                  "id": "43zdsphuZLzwA9k4DJhU0I",
                  "instrumentalness": 0.0000397,
                  "loudness": -14.084,
                  "mood": 0,
                  "motivation": 0,
                  "release_decade": "2010s",
                  "speechiness": 0.0972,
                  "tempo": 82.642,
                  "valence": 0.198
                },
                {
                  "_deepnote_index_column": 5,
                  "acousticness": 0.695,
                  "danceability": 0.445,
                  "energy": 0.537,
                  "id": "3JvKfv6T31zO0ini8iNItO",
                  "instrumentalness": 0.0000165,
                  "loudness": -8.532,
                  "mood": 0,
                  "motivation": "nan",
                  "release_decade": "2010s",
                  "speechiness": 0.04,
                  "tempo": 122.769,
                  "valence": 0.131
                },
                {
                  "_deepnote_index_column": 6,
                  "acousticness": 0.866,
                  "danceability": 0.369,
                  "energy": 0.272,
                  "id": "5JCoSi02qi3jJeHdZXMmR8",
                  "instrumentalness": 0,
                  "loudness": -10.497,
                  "mood": 0,
                  "motivation": 0,
                  "release_decade": "2020s",
                  "speechiness": 0.0364,
                  "tempo": 172.929,
                  "valence": 0.218
                },
                {
                  "_deepnote_index_column": 7,
                  "acousticness": 0.827,
                  "danceability": 0.537,
                  "energy": 0.421,
                  "id": "2HafqoJbgXdtjwCOvNEF14",
                  "instrumentalness": 0,
                  "loudness": -8.72,
                  "mood": "nan",
                  "motivation": "nan",
                  "release_decade": "2020s",
                  "speechiness": 0.0285,
                  "tempo": 98.224,
                  "valence": 0.524
                },
                {
                  "_deepnote_index_column": 8,
                  "acousticness": 0.607,
                  "danceability": 0.614,
                  "energy": 0.379,
                  "id": "1HNkqx9Ahdgi1Ixy2xkKkL",
                  "instrumentalness": 0.000464,
                  "loudness": -10.48,
                  "mood": 0,
                  "motivation": 0,
                  "release_decade": "2010s",
                  "speechiness": 0.0476,
                  "tempo": 107.989,
                  "valence": 0.201
                },
                {
                  "_deepnote_index_column": 9,
                  "acousticness": 0.392,
                  "danceability": 0.278,
                  "energy": 0.572,
                  "id": "2oKjjRzItVu8JZScrpzFTx",
                  "instrumentalness": 0,
                  "loudness": -8.295,
                  "mood": 0,
                  "motivation": "nan",
                  "release_decade": "2010s",
                  "speechiness": 0.0407,
                  "tempo": 95.351,
                  "valence": 0.311
                }
              ]
            },
            "text/html": [
              "<div>\n",
              "<style scoped>\n",
              "    .dataframe tbody tr th:only-of-type {\n",
              "        vertical-align: middle;\n",
              "    }\n",
              "\n",
              "    .dataframe tbody tr th {\n",
              "        vertical-align: top;\n",
              "    }\n",
              "\n",
              "    .dataframe thead th {\n",
              "        text-align: right;\n",
              "    }\n",
              "</style>\n",
              "<table border=\"1\" class=\"dataframe\">\n",
              "  <thead>\n",
              "    <tr style=\"text-align: right;\">\n",
              "      <th></th>\n",
              "      <th>danceability</th>\n",
              "      <th>energy</th>\n",
              "      <th>loudness</th>\n",
              "      <th>speechiness</th>\n",
              "      <th>acousticness</th>\n",
              "      <th>instrumentalness</th>\n",
              "      <th>valence</th>\n",
              "      <th>tempo</th>\n",
              "      <th>id</th>\n",
              "      <th>mood</th>\n",
              "      <th>motivation</th>\n",
              "      <th>release_decade</th>\n",
              "    </tr>\n",
              "  </thead>\n",
              "  <tbody>\n",
              "    <tr>\n",
              "      <th>0</th>\n",
              "      <td>0.357</td>\n",
              "      <td>0.425</td>\n",
              "      <td>-7.301</td>\n",
              "      <td>0.0333</td>\n",
              "      <td>0.5840</td>\n",
              "      <td>0.000000</td>\n",
              "      <td>0.270</td>\n",
              "      <td>102.078</td>\n",
              "      <td>4xqrdfXkTW4T0RauPLv3WA</td>\n",
              "      <td>0.0</td>\n",
              "      <td>NaN</td>\n",
              "      <td>2020s</td>\n",
              "    </tr>\n",
              "    <tr>\n",
              "      <th>1</th>\n",
              "      <td>0.557</td>\n",
              "      <td>0.442</td>\n",
              "      <td>-7.224</td>\n",
              "      <td>0.0243</td>\n",
              "      <td>0.7310</td>\n",
              "      <td>0.000015</td>\n",
              "      <td>0.213</td>\n",
              "      <td>146.277</td>\n",
              "      <td>75JFxkI2RXiU7L9VXzMkle</td>\n",
              "      <td>0.0</td>\n",
              "      <td>NaN</td>\n",
              "      <td>2000s</td>\n",
              "    </tr>\n",
              "    <tr>\n",
              "      <th>2</th>\n",
              "      <td>0.652</td>\n",
              "      <td>0.557</td>\n",
              "      <td>-5.714</td>\n",
              "      <td>0.0318</td>\n",
              "      <td>0.7400</td>\n",
              "      <td>0.000000</td>\n",
              "      <td>0.483</td>\n",
              "      <td>150.073</td>\n",
              "      <td>2qxmye6gAegTMjLKEBoR3d</td>\n",
              "      <td>NaN</td>\n",
              "      <td>NaN</td>\n",
              "      <td>2010s</td>\n",
              "    </tr>\n",
              "    <tr>\n",
              "      <th>3</th>\n",
              "      <td>0.681</td>\n",
              "      <td>0.372</td>\n",
              "      <td>-8.237</td>\n",
              "      <td>0.0432</td>\n",
              "      <td>0.6400</td>\n",
              "      <td>0.000000</td>\n",
              "      <td>0.476</td>\n",
              "      <td>91.873</td>\n",
              "      <td>1mXVgsBdtIVeCLJnSnmtdV</td>\n",
              "      <td>NaN</td>\n",
              "      <td>0.0</td>\n",
              "      <td>2010s</td>\n",
              "    </tr>\n",
              "    <tr>\n",
              "      <th>4</th>\n",
              "      <td>0.367</td>\n",
              "      <td>0.111</td>\n",
              "      <td>-14.084</td>\n",
              "      <td>0.0972</td>\n",
              "      <td>0.9780</td>\n",
              "      <td>0.000040</td>\n",
              "      <td>0.198</td>\n",
              "      <td>82.642</td>\n",
              "      <td>43zdsphuZLzwA9k4DJhU0I</td>\n",
              "      <td>0.0</td>\n",
              "      <td>0.0</td>\n",
              "      <td>2010s</td>\n",
              "    </tr>\n",
              "    <tr>\n",
              "      <th>...</th>\n",
              "      <td>...</td>\n",
              "      <td>...</td>\n",
              "      <td>...</td>\n",
              "      <td>...</td>\n",
              "      <td>...</td>\n",
              "      <td>...</td>\n",
              "      <td>...</td>\n",
              "      <td>...</td>\n",
              "      <td>...</td>\n",
              "      <td>...</td>\n",
              "      <td>...</td>\n",
              "      <td>...</td>\n",
              "    </tr>\n",
              "    <tr>\n",
              "      <th>1116</th>\n",
              "      <td>0.716</td>\n",
              "      <td>0.748</td>\n",
              "      <td>-6.060</td>\n",
              "      <td>0.0356</td>\n",
              "      <td>0.2350</td>\n",
              "      <td>0.849000</td>\n",
              "      <td>0.338</td>\n",
              "      <td>119.918</td>\n",
              "      <td>01kfSdF9zfcDLri5sSWEoL</td>\n",
              "      <td>0.0</td>\n",
              "      <td>1.0</td>\n",
              "      <td>2020s</td>\n",
              "    </tr>\n",
              "    <tr>\n",
              "      <th>1117</th>\n",
              "      <td>0.778</td>\n",
              "      <td>0.786</td>\n",
              "      <td>-4.440</td>\n",
              "      <td>0.1150</td>\n",
              "      <td>0.0189</td>\n",
              "      <td>0.000047</td>\n",
              "      <td>0.562</td>\n",
              "      <td>128.007</td>\n",
              "      <td>7FvXYkiDWiLgXA9JHUf7Ni</td>\n",
              "      <td>NaN</td>\n",
              "      <td>1.0</td>\n",
              "      <td>2020s</td>\n",
              "    </tr>\n",
              "    <tr>\n",
              "      <th>1118</th>\n",
              "      <td>0.848</td>\n",
              "      <td>0.821</td>\n",
              "      <td>-5.408</td>\n",
              "      <td>0.0527</td>\n",
              "      <td>0.0169</td>\n",
              "      <td>0.000403</td>\n",
              "      <td>0.249</td>\n",
              "      <td>125.051</td>\n",
              "      <td>6GomT970rCOkKAyyrwJeZi</td>\n",
              "      <td>0.0</td>\n",
              "      <td>1.0</td>\n",
              "      <td>2020s</td>\n",
              "    </tr>\n",
              "    <tr>\n",
              "      <th>1119</th>\n",
              "      <td>0.653</td>\n",
              "      <td>0.973</td>\n",
              "      <td>-3.894</td>\n",
              "      <td>0.0414</td>\n",
              "      <td>0.0338</td>\n",
              "      <td>0.006860</td>\n",
              "      <td>0.219</td>\n",
              "      <td>128.024</td>\n",
              "      <td>7wy8gxfen0STJ2jQMYQBAA</td>\n",
              "      <td>0.0</td>\n",
              "      <td>1.0</td>\n",
              "      <td>2020s</td>\n",
              "    </tr>\n",
              "    <tr>\n",
              "      <th>1120</th>\n",
              "      <td>0.686</td>\n",
              "      <td>0.892</td>\n",
              "      <td>-3.186</td>\n",
              "      <td>0.0498</td>\n",
              "      <td>0.0577</td>\n",
              "      <td>0.000007</td>\n",
              "      <td>0.752</td>\n",
              "      <td>126.030</td>\n",
              "      <td>2LxdNADWier3MKTei8FbOY</td>\n",
              "      <td>1.0</td>\n",
              "      <td>1.0</td>\n",
              "      <td>2020s</td>\n",
              "    </tr>\n",
              "  </tbody>\n",
              "</table>\n",
              "<p>1042 rows × 12 columns</p>\n",
              "</div>"
            ],
            "text/plain": [
              "      danceability  energy  loudness  speechiness  acousticness  \\\n",
              "0            0.357   0.425    -7.301       0.0333        0.5840   \n",
              "1            0.557   0.442    -7.224       0.0243        0.7310   \n",
              "2            0.652   0.557    -5.714       0.0318        0.7400   \n",
              "3            0.681   0.372    -8.237       0.0432        0.6400   \n",
              "4            0.367   0.111   -14.084       0.0972        0.9780   \n",
              "...            ...     ...       ...          ...           ...   \n",
              "1116         0.716   0.748    -6.060       0.0356        0.2350   \n",
              "1117         0.778   0.786    -4.440       0.1150        0.0189   \n",
              "1118         0.848   0.821    -5.408       0.0527        0.0169   \n",
              "1119         0.653   0.973    -3.894       0.0414        0.0338   \n",
              "1120         0.686   0.892    -3.186       0.0498        0.0577   \n",
              "\n",
              "      instrumentalness  valence    tempo                      id  mood  \\\n",
              "0             0.000000    0.270  102.078  4xqrdfXkTW4T0RauPLv3WA   0.0   \n",
              "1             0.000015    0.213  146.277  75JFxkI2RXiU7L9VXzMkle   0.0   \n",
              "2             0.000000    0.483  150.073  2qxmye6gAegTMjLKEBoR3d   NaN   \n",
              "3             0.000000    0.476   91.873  1mXVgsBdtIVeCLJnSnmtdV   NaN   \n",
              "4             0.000040    0.198   82.642  43zdsphuZLzwA9k4DJhU0I   0.0   \n",
              "...                ...      ...      ...                     ...   ...   \n",
              "1116          0.849000    0.338  119.918  01kfSdF9zfcDLri5sSWEoL   0.0   \n",
              "1117          0.000047    0.562  128.007  7FvXYkiDWiLgXA9JHUf7Ni   NaN   \n",
              "1118          0.000403    0.249  125.051  6GomT970rCOkKAyyrwJeZi   0.0   \n",
              "1119          0.006860    0.219  128.024  7wy8gxfen0STJ2jQMYQBAA   0.0   \n",
              "1120          0.000007    0.752  126.030  2LxdNADWier3MKTei8FbOY   1.0   \n",
              "\n",
              "      motivation release_decade  \n",
              "0            NaN          2020s  \n",
              "1            NaN          2000s  \n",
              "2            NaN          2010s  \n",
              "3            0.0          2010s  \n",
              "4            0.0          2010s  \n",
              "...          ...            ...  \n",
              "1116         1.0          2020s  \n",
              "1117         1.0          2020s  \n",
              "1118         1.0          2020s  \n",
              "1119         1.0          2020s  \n",
              "1120         1.0          2020s  \n",
              "\n",
              "[1042 rows x 12 columns]"
            ]
          },
          "execution_count": 18,
          "metadata": {},
          "output_type": "execute_result"
        }
      ],
      "source": [
        "data"
      ]
    },
    {
      "cell_type": "markdown",
      "metadata": {
        "cell_id": "34c5e847940f4ea08d5ee3fec49ed524",
        "deepnote_cell_type": "markdown",
        "id": "qa7OF03PaGNQ"
      },
      "source": [
        "#### Eliminación de datos vacíos/nulos"
      ]
    },
    {
      "cell_type": "markdown",
      "metadata": {
        "cell_id": "9103af0c8a064148a3a116d922909a1a",
        "deepnote_cell_type": "markdown",
        "id": "i5_dFhKGaGNQ"
      },
      "source": [
        "Vamos a **eliminar** aquellas columnas que tengan valores `None` puesto que van a generar confusión a posteriori al modelo."
      ]
    },
    {
      "cell_type": "markdown",
      "metadata": {
        "cell_id": "d53343e7b618431ba8091402b90b8f59",
        "deepnote_cell_type": "markdown",
        "id": "23E29l2uaGNQ"
      },
      "source": [
        "Eliminamos los datos etiquetados como `None`"
      ]
    },
    {
      "cell_type": "code",
      "execution_count": null,
      "metadata": {
        "cell_id": "4ea62b4f14994031a6a19884c9a7439c",
        "deepnote_app_block_visible": false,
        "deepnote_cell_type": "code",
        "deepnote_to_be_reexecuted": false,
        "execution_millis": 549,
        "execution_start": 1708275136026,
        "id": "8aa5wwlBaGNQ",
        "source_hash": null
      },
      "outputs": [],
      "source": [
        "data = data.dropna()"
      ]
    },
    {
      "cell_type": "code",
      "execution_count": null,
      "metadata": {
        "cell_id": "96c16dbc9d5f4b13ad5b88fc85ad107e",
        "deepnote_cell_type": "code",
        "deepnote_to_be_reexecuted": false,
        "execution_millis": 522,
        "execution_start": 1708275136053,
        "id": "vFoiDLT7aGNQ",
        "outputId": "462cc4d6-ca52-46ec-adaa-b276ace8a73d",
        "source_hash": null
      },
      "outputs": [
        {
          "data": {
            "application/vnd.deepnote.dataframe.v3+json": {
              "column_count": 12,
              "columns": [
                {
                  "dtype": "float64",
                  "name": "danceability",
                  "stats": {
                    "histogram": [
                      {
                        "bin_end": 0.2516,
                        "bin_start": 0.175,
                        "count": 9
                      },
                      {
                        "bin_end": 0.3282,
                        "bin_start": 0.2516,
                        "count": 21
                      },
                      {
                        "bin_end": 0.4048,
                        "bin_start": 0.3282,
                        "count": 50
                      },
                      {
                        "bin_end": 0.4814,
                        "bin_start": 0.4048,
                        "count": 70
                      },
                      {
                        "bin_end": 0.558,
                        "bin_start": 0.4814,
                        "count": 99
                      },
                      {
                        "bin_end": 0.6346,
                        "bin_start": 0.558,
                        "count": 106
                      },
                      {
                        "bin_end": 0.7112,
                        "bin_start": 0.6346,
                        "count": 133
                      },
                      {
                        "bin_end": 0.7878000000000001,
                        "bin_start": 0.7112,
                        "count": 80
                      },
                      {
                        "bin_end": 0.8644000000000001,
                        "bin_start": 0.7878000000000001,
                        "count": 53
                      },
                      {
                        "bin_end": 0.941,
                        "bin_start": 0.8644000000000001,
                        "count": 14
                      }
                    ],
                    "max": "0.941",
                    "min": "0.175",
                    "nan_count": 0,
                    "unique_count": 382
                  }
                },
                {
                  "dtype": "float64",
                  "name": "energy",
                  "stats": {
                    "histogram": [
                      {
                        "bin_end": 0.1357,
                        "bin_start": 0.04,
                        "count": 37
                      },
                      {
                        "bin_end": 0.2314,
                        "bin_start": 0.1357,
                        "count": 65
                      },
                      {
                        "bin_end": 0.32709999999999995,
                        "bin_start": 0.2314,
                        "count": 77
                      },
                      {
                        "bin_end": 0.42279999999999995,
                        "bin_start": 0.32709999999999995,
                        "count": 64
                      },
                      {
                        "bin_end": 0.5185,
                        "bin_start": 0.42279999999999995,
                        "count": 0
                      },
                      {
                        "bin_end": 0.6142,
                        "bin_start": 0.5185,
                        "count": 10
                      },
                      {
                        "bin_end": 0.7099,
                        "bin_start": 0.6142,
                        "count": 66
                      },
                      {
                        "bin_end": 0.8056,
                        "bin_start": 0.7099,
                        "count": 84
                      },
                      {
                        "bin_end": 0.9013,
                        "bin_start": 0.8056,
                        "count": 125
                      },
                      {
                        "bin_end": 0.997,
                        "bin_start": 0.9013,
                        "count": 107
                      }
                    ],
                    "max": "0.997",
                    "min": "0.04",
                    "nan_count": 0,
                    "unique_count": 399
                  }
                },
                {
                  "dtype": "float64",
                  "name": "loudness",
                  "stats": {
                    "histogram": [
                      {
                        "bin_end": -24.4059,
                        "bin_start": -27.043,
                        "count": 2
                      },
                      {
                        "bin_end": -21.7688,
                        "bin_start": -24.4059,
                        "count": 6
                      },
                      {
                        "bin_end": -19.131700000000002,
                        "bin_start": -21.7688,
                        "count": 2
                      },
                      {
                        "bin_end": -16.4946,
                        "bin_start": -19.131700000000002,
                        "count": 14
                      },
                      {
                        "bin_end": -13.8575,
                        "bin_start": -16.4946,
                        "count": 32
                      },
                      {
                        "bin_end": -11.220400000000001,
                        "bin_start": -13.8575,
                        "count": 72
                      },
                      {
                        "bin_end": -8.583300000000001,
                        "bin_start": -11.220400000000001,
                        "count": 80
                      },
                      {
                        "bin_end": -5.946200000000001,
                        "bin_start": -8.583300000000001,
                        "count": 140
                      },
                      {
                        "bin_end": -3.309100000000001,
                        "bin_start": -5.946200000000001,
                        "count": 229
                      },
                      {
                        "bin_end": -0.672,
                        "bin_start": -3.309100000000001,
                        "count": 58
                      }
                    ],
                    "max": "-0.672",
                    "min": "-27.043",
                    "nan_count": 0,
                    "unique_count": 608
                  }
                },
                {
                  "dtype": "float64",
                  "name": "speechiness",
                  "stats": {
                    "histogram": [
                      {
                        "bin_end": 0.08285999999999999,
                        "bin_start": 0.0254,
                        "count": 490
                      },
                      {
                        "bin_end": 0.14032,
                        "bin_start": 0.08285999999999999,
                        "count": 66
                      },
                      {
                        "bin_end": 0.19777999999999998,
                        "bin_start": 0.14032,
                        "count": 31
                      },
                      {
                        "bin_end": 0.25523999999999997,
                        "bin_start": 0.19777999999999998,
                        "count": 16
                      },
                      {
                        "bin_end": 0.3127,
                        "bin_start": 0.25523999999999997,
                        "count": 13
                      },
                      {
                        "bin_end": 0.37015999999999993,
                        "bin_start": 0.3127,
                        "count": 11
                      },
                      {
                        "bin_end": 0.42761999999999994,
                        "bin_start": 0.37015999999999993,
                        "count": 5
                      },
                      {
                        "bin_end": 0.48507999999999996,
                        "bin_start": 0.42761999999999994,
                        "count": 1
                      },
                      {
                        "bin_end": 0.5425399999999999,
                        "bin_start": 0.48507999999999996,
                        "count": 0
                      },
                      {
                        "bin_end": 0.6,
                        "bin_start": 0.5425399999999999,
                        "count": 2
                      }
                    ],
                    "max": "0.6",
                    "min": "0.0254",
                    "nan_count": 0,
                    "unique_count": 416
                  }
                },
                {
                  "dtype": "float64",
                  "name": "acousticness",
                  "stats": {
                    "histogram": [
                      {
                        "bin_end": 0.09901159999999999,
                        "bin_start": 0.000124,
                        "count": 246
                      },
                      {
                        "bin_end": 0.1978992,
                        "bin_start": 0.09901159999999999,
                        "count": 58
                      },
                      {
                        "bin_end": 0.2967868,
                        "bin_start": 0.1978992,
                        "count": 39
                      },
                      {
                        "bin_end": 0.3956744,
                        "bin_start": 0.2967868,
                        "count": 22
                      },
                      {
                        "bin_end": 0.49456199999999995,
                        "bin_start": 0.3956744,
                        "count": 28
                      },
                      {
                        "bin_end": 0.5934496,
                        "bin_start": 0.49456199999999995,
                        "count": 18
                      },
                      {
                        "bin_end": 0.6923372,
                        "bin_start": 0.5934496,
                        "count": 24
                      },
                      {
                        "bin_end": 0.7912248,
                        "bin_start": 0.6923372,
                        "count": 31
                      },
                      {
                        "bin_end": 0.8901123999999999,
                        "bin_start": 0.7912248,
                        "count": 73
                      },
                      {
                        "bin_end": 0.989,
                        "bin_start": 0.8901123999999999,
                        "count": 96
                      }
                    ],
                    "max": "0.989",
                    "min": "0.000124",
                    "nan_count": 0,
                    "unique_count": 518
                  }
                },
                {
                  "dtype": "float64",
                  "name": "instrumentalness",
                  "stats": {
                    "histogram": [
                      {
                        "bin_end": 0.09330000000000001,
                        "bin_start": 0,
                        "count": 554
                      },
                      {
                        "bin_end": 0.18660000000000002,
                        "bin_start": 0.09330000000000001,
                        "count": 17
                      },
                      {
                        "bin_end": 0.27990000000000004,
                        "bin_start": 0.18660000000000002,
                        "count": 8
                      },
                      {
                        "bin_end": 0.37320000000000003,
                        "bin_start": 0.27990000000000004,
                        "count": 5
                      },
                      {
                        "bin_end": 0.4665,
                        "bin_start": 0.37320000000000003,
                        "count": 6
                      },
                      {
                        "bin_end": 0.5598000000000001,
                        "bin_start": 0.4665,
                        "count": 8
                      },
                      {
                        "bin_end": 0.6531,
                        "bin_start": 0.5598000000000001,
                        "count": 6
                      },
                      {
                        "bin_end": 0.7464000000000001,
                        "bin_start": 0.6531,
                        "count": 6
                      },
                      {
                        "bin_end": 0.8397000000000001,
                        "bin_start": 0.7464000000000001,
                        "count": 12
                      },
                      {
                        "bin_end": 0.933,
                        "bin_start": 0.8397000000000001,
                        "count": 13
                      }
                    ],
                    "max": "0.933",
                    "min": "0.0",
                    "nan_count": 0,
                    "unique_count": 367
                  }
                },
                {
                  "dtype": "float64",
                  "name": "valence",
                  "stats": {
                    "histogram": [
                      {
                        "bin_end": 0.12642,
                        "bin_start": 0.0318,
                        "count": 69
                      },
                      {
                        "bin_end": 0.22104,
                        "bin_start": 0.12642,
                        "count": 117
                      },
                      {
                        "bin_end": 0.31566,
                        "bin_start": 0.22104,
                        "count": 102
                      },
                      {
                        "bin_end": 0.41028,
                        "bin_start": 0.31566,
                        "count": 109
                      },
                      {
                        "bin_end": 0.5049,
                        "bin_start": 0.41028,
                        "count": 0
                      },
                      {
                        "bin_end": 0.59952,
                        "bin_start": 0.5049,
                        "count": 0
                      },
                      {
                        "bin_end": 0.69414,
                        "bin_start": 0.59952,
                        "count": 63
                      },
                      {
                        "bin_end": 0.78876,
                        "bin_start": 0.69414,
                        "count": 75
                      },
                      {
                        "bin_end": 0.88338,
                        "bin_start": 0.78876,
                        "count": 58
                      },
                      {
                        "bin_end": 0.978,
                        "bin_start": 0.88338,
                        "count": 42
                      }
                    ],
                    "max": "0.978",
                    "min": "0.0318",
                    "nan_count": 0,
                    "unique_count": 425
                  }
                },
                {
                  "dtype": "float64",
                  "name": "tempo",
                  "stats": {
                    "histogram": [
                      {
                        "bin_end": 61.791799999999995,
                        "bin_start": 45.306,
                        "count": 1
                      },
                      {
                        "bin_end": 78.2776,
                        "bin_start": 61.791799999999995,
                        "count": 36
                      },
                      {
                        "bin_end": 94.7634,
                        "bin_start": 78.2776,
                        "count": 80
                      },
                      {
                        "bin_end": 111.2492,
                        "bin_start": 94.7634,
                        "count": 113
                      },
                      {
                        "bin_end": 127.735,
                        "bin_start": 111.2492,
                        "count": 147
                      },
                      {
                        "bin_end": 144.2208,
                        "bin_start": 127.735,
                        "count": 109
                      },
                      {
                        "bin_end": 160.7066,
                        "bin_start": 144.2208,
                        "count": 97
                      },
                      {
                        "bin_end": 177.19240000000002,
                        "bin_start": 160.7066,
                        "count": 36
                      },
                      {
                        "bin_end": 193.6782,
                        "bin_start": 177.19240000000002,
                        "count": 11
                      },
                      {
                        "bin_end": 210.164,
                        "bin_start": 193.6782,
                        "count": 5
                      }
                    ],
                    "max": "210.164",
                    "min": "45.306",
                    "nan_count": 0,
                    "unique_count": 617
                  }
                },
                {
                  "dtype": "object",
                  "name": "id",
                  "stats": {
                    "categories": [
                      {
                        "count": 1,
                        "name": "43zdsphuZLzwA9k4DJhU0I"
                      },
                      {
                        "count": 1,
                        "name": "5JCoSi02qi3jJeHdZXMmR8"
                      },
                      {
                        "count": 633,
                        "name": "633 others"
                      }
                    ],
                    "nan_count": 0,
                    "unique_count": 635
                  }
                },
                {
                  "dtype": "float64",
                  "name": "mood",
                  "stats": {
                    "histogram": [
                      {
                        "bin_end": 0.1,
                        "bin_start": 0,
                        "count": 397
                      },
                      {
                        "bin_end": 0.2,
                        "bin_start": 0.1,
                        "count": 0
                      },
                      {
                        "bin_end": 0.30000000000000004,
                        "bin_start": 0.2,
                        "count": 0
                      },
                      {
                        "bin_end": 0.4,
                        "bin_start": 0.30000000000000004,
                        "count": 0
                      },
                      {
                        "bin_end": 0.5,
                        "bin_start": 0.4,
                        "count": 0
                      },
                      {
                        "bin_end": 0.6000000000000001,
                        "bin_start": 0.5,
                        "count": 0
                      },
                      {
                        "bin_end": 0.7000000000000001,
                        "bin_start": 0.6000000000000001,
                        "count": 0
                      },
                      {
                        "bin_end": 0.8,
                        "bin_start": 0.7000000000000001,
                        "count": 0
                      },
                      {
                        "bin_end": 0.9,
                        "bin_start": 0.8,
                        "count": 0
                      },
                      {
                        "bin_end": 1,
                        "bin_start": 0.9,
                        "count": 238
                      }
                    ],
                    "max": "1.0",
                    "min": "0.0",
                    "nan_count": 0,
                    "unique_count": 2
                  }
                },
                {
                  "dtype": "float64",
                  "name": "motivation",
                  "stats": {
                    "histogram": [
                      {
                        "bin_end": 0.1,
                        "bin_start": 0,
                        "count": 243
                      },
                      {
                        "bin_end": 0.2,
                        "bin_start": 0.1,
                        "count": 0
                      },
                      {
                        "bin_end": 0.30000000000000004,
                        "bin_start": 0.2,
                        "count": 0
                      },
                      {
                        "bin_end": 0.4,
                        "bin_start": 0.30000000000000004,
                        "count": 0
                      },
                      {
                        "bin_end": 0.5,
                        "bin_start": 0.4,
                        "count": 0
                      },
                      {
                        "bin_end": 0.6000000000000001,
                        "bin_start": 0.5,
                        "count": 0
                      },
                      {
                        "bin_end": 0.7000000000000001,
                        "bin_start": 0.6000000000000001,
                        "count": 0
                      },
                      {
                        "bin_end": 0.8,
                        "bin_start": 0.7000000000000001,
                        "count": 0
                      },
                      {
                        "bin_end": 0.9,
                        "bin_start": 0.8,
                        "count": 0
                      },
                      {
                        "bin_end": 1,
                        "bin_start": 0.9,
                        "count": 392
                      }
                    ],
                    "max": "1.0",
                    "min": "0.0",
                    "nan_count": 0,
                    "unique_count": 2
                  }
                },
                {
                  "dtype": "object",
                  "name": "release_decade",
                  "stats": {
                    "categories": [
                      {
                        "count": 347,
                        "name": "2020s"
                      },
                      {
                        "count": 211,
                        "name": "2010s"
                      },
                      {
                        "count": 77,
                        "name": "3 others"
                      }
                    ],
                    "nan_count": 0,
                    "unique_count": 5
                  }
                },
                {
                  "dtype": "int64",
                  "name": "_deepnote_index_column"
                }
              ],
              "row_count": 635,
              "rows": [
                {
                  "_deepnote_index_column": 4,
                  "acousticness": 0.978,
                  "danceability": 0.367,
                  "energy": 0.111,
                  "id": "43zdsphuZLzwA9k4DJhU0I",
                  "instrumentalness": 0.0000397,
                  "loudness": -14.084,
                  "mood": 0,
                  "motivation": 0,
                  "release_decade": "2010s",
                  "speechiness": 0.0972,
                  "tempo": 82.642,
                  "valence": 0.198
                },
                {
                  "_deepnote_index_column": 6,
                  "acousticness": 0.866,
                  "danceability": 0.369,
                  "energy": 0.272,
                  "id": "5JCoSi02qi3jJeHdZXMmR8",
                  "instrumentalness": 0,
                  "loudness": -10.497,
                  "mood": 0,
                  "motivation": 0,
                  "release_decade": "2020s",
                  "speechiness": 0.0364,
                  "tempo": 172.929,
                  "valence": 0.218
                },
                {
                  "_deepnote_index_column": 8,
                  "acousticness": 0.607,
                  "danceability": 0.614,
                  "energy": 0.379,
                  "id": "1HNkqx9Ahdgi1Ixy2xkKkL",
                  "instrumentalness": 0.000464,
                  "loudness": -10.48,
                  "mood": 0,
                  "motivation": 0,
                  "release_decade": "2010s",
                  "speechiness": 0.0476,
                  "tempo": 107.989,
                  "valence": 0.201
                },
                {
                  "_deepnote_index_column": 10,
                  "acousticness": 0.839,
                  "danceability": 0.567,
                  "energy": 0.267,
                  "id": "1ZMiCix7XSAbfAJlEZWMCp",
                  "instrumentalness": 0.00000146,
                  "loudness": -6.502,
                  "mood": 0,
                  "motivation": 0,
                  "release_decade": "2010s",
                  "speechiness": 0.0299,
                  "tempo": 110.011,
                  "valence": 0.0592
                },
                {
                  "_deepnote_index_column": 11,
                  "acousticness": 0.934,
                  "danceability": 0.351,
                  "energy": 0.296,
                  "id": "0u2P5u6lvoDfwTYjAADbn4",
                  "instrumentalness": 0,
                  "loudness": -10.109,
                  "mood": 0,
                  "motivation": 0,
                  "release_decade": "2010s",
                  "speechiness": 0.0333,
                  "tempo": 115.284,
                  "valence": 0.12
                },
                {
                  "_deepnote_index_column": 12,
                  "acousticness": 0.985,
                  "danceability": 0.675,
                  "energy": 0.16,
                  "id": "2TzkIzgzIHhewMxyh1u4hh",
                  "instrumentalness": 0.00688,
                  "loudness": -11.667,
                  "mood": 0,
                  "motivation": 0,
                  "release_decade": "2010s",
                  "speechiness": 0.0586,
                  "tempo": 69.754,
                  "valence": 0.247
                },
                {
                  "_deepnote_index_column": 13,
                  "acousticness": 0.759,
                  "danceability": 0.784,
                  "energy": 0.689,
                  "id": "0z5yLgBmAtaylDYrgwzlpH",
                  "instrumentalness": 0.00536,
                  "loudness": -8.216,
                  "mood": 0,
                  "motivation": 1,
                  "release_decade": "2020s",
                  "speechiness": 0.0385,
                  "tempo": 124.025,
                  "valence": 0.332
                },
                {
                  "_deepnote_index_column": 18,
                  "acousticness": 0.946,
                  "danceability": 0.83,
                  "energy": 0.159,
                  "id": "0akyEssGRVHstqCSWXusJL",
                  "instrumentalness": 0.0000202,
                  "loudness": -14.461,
                  "mood": 0,
                  "motivation": 0,
                  "release_decade": "2010s",
                  "speechiness": 0.0383,
                  "tempo": 104.95,
                  "valence": 0.189
                },
                {
                  "_deepnote_index_column": 19,
                  "acousticness": 0.922,
                  "danceability": 0.544,
                  "energy": 0.216,
                  "id": "7dT9D6117e5DbhnKxDLNW9",
                  "instrumentalness": 0.311,
                  "loudness": -17.237,
                  "mood": 0,
                  "motivation": 0,
                  "release_decade": "2010s",
                  "speechiness": 0.0402,
                  "tempo": 75.004,
                  "valence": 0.145
                },
                {
                  "_deepnote_index_column": 20,
                  "acousticness": 0.798,
                  "danceability": 0.66,
                  "energy": 0.379,
                  "id": "4l0RmWt52FxpVxMNni6i63",
                  "instrumentalness": 0,
                  "loudness": -9.357,
                  "mood": 0,
                  "motivation": 0,
                  "release_decade": "2020s",
                  "speechiness": 0.0543,
                  "tempo": 124.027,
                  "valence": 0.0762
                }
              ]
            },
            "text/html": [
              "<div>\n",
              "<style scoped>\n",
              "    .dataframe tbody tr th:only-of-type {\n",
              "        vertical-align: middle;\n",
              "    }\n",
              "\n",
              "    .dataframe tbody tr th {\n",
              "        vertical-align: top;\n",
              "    }\n",
              "\n",
              "    .dataframe thead th {\n",
              "        text-align: right;\n",
              "    }\n",
              "</style>\n",
              "<table border=\"1\" class=\"dataframe\">\n",
              "  <thead>\n",
              "    <tr style=\"text-align: right;\">\n",
              "      <th></th>\n",
              "      <th>danceability</th>\n",
              "      <th>energy</th>\n",
              "      <th>loudness</th>\n",
              "      <th>speechiness</th>\n",
              "      <th>acousticness</th>\n",
              "      <th>instrumentalness</th>\n",
              "      <th>valence</th>\n",
              "      <th>tempo</th>\n",
              "      <th>id</th>\n",
              "      <th>mood</th>\n",
              "      <th>motivation</th>\n",
              "      <th>release_decade</th>\n",
              "    </tr>\n",
              "  </thead>\n",
              "  <tbody>\n",
              "    <tr>\n",
              "      <th>4</th>\n",
              "      <td>0.367</td>\n",
              "      <td>0.111</td>\n",
              "      <td>-14.084</td>\n",
              "      <td>0.0972</td>\n",
              "      <td>0.9780</td>\n",
              "      <td>0.000040</td>\n",
              "      <td>0.1980</td>\n",
              "      <td>82.642</td>\n",
              "      <td>43zdsphuZLzwA9k4DJhU0I</td>\n",
              "      <td>0.0</td>\n",
              "      <td>0.0</td>\n",
              "      <td>2010s</td>\n",
              "    </tr>\n",
              "    <tr>\n",
              "      <th>6</th>\n",
              "      <td>0.369</td>\n",
              "      <td>0.272</td>\n",
              "      <td>-10.497</td>\n",
              "      <td>0.0364</td>\n",
              "      <td>0.8660</td>\n",
              "      <td>0.000000</td>\n",
              "      <td>0.2180</td>\n",
              "      <td>172.929</td>\n",
              "      <td>5JCoSi02qi3jJeHdZXMmR8</td>\n",
              "      <td>0.0</td>\n",
              "      <td>0.0</td>\n",
              "      <td>2020s</td>\n",
              "    </tr>\n",
              "    <tr>\n",
              "      <th>8</th>\n",
              "      <td>0.614</td>\n",
              "      <td>0.379</td>\n",
              "      <td>-10.480</td>\n",
              "      <td>0.0476</td>\n",
              "      <td>0.6070</td>\n",
              "      <td>0.000464</td>\n",
              "      <td>0.2010</td>\n",
              "      <td>107.989</td>\n",
              "      <td>1HNkqx9Ahdgi1Ixy2xkKkL</td>\n",
              "      <td>0.0</td>\n",
              "      <td>0.0</td>\n",
              "      <td>2010s</td>\n",
              "    </tr>\n",
              "    <tr>\n",
              "      <th>10</th>\n",
              "      <td>0.567</td>\n",
              "      <td>0.267</td>\n",
              "      <td>-6.502</td>\n",
              "      <td>0.0299</td>\n",
              "      <td>0.8390</td>\n",
              "      <td>0.000001</td>\n",
              "      <td>0.0592</td>\n",
              "      <td>110.011</td>\n",
              "      <td>1ZMiCix7XSAbfAJlEZWMCp</td>\n",
              "      <td>0.0</td>\n",
              "      <td>0.0</td>\n",
              "      <td>2010s</td>\n",
              "    </tr>\n",
              "    <tr>\n",
              "      <th>11</th>\n",
              "      <td>0.351</td>\n",
              "      <td>0.296</td>\n",
              "      <td>-10.109</td>\n",
              "      <td>0.0333</td>\n",
              "      <td>0.9340</td>\n",
              "      <td>0.000000</td>\n",
              "      <td>0.1200</td>\n",
              "      <td>115.284</td>\n",
              "      <td>0u2P5u6lvoDfwTYjAADbn4</td>\n",
              "      <td>0.0</td>\n",
              "      <td>0.0</td>\n",
              "      <td>2010s</td>\n",
              "    </tr>\n",
              "    <tr>\n",
              "      <th>...</th>\n",
              "      <td>...</td>\n",
              "      <td>...</td>\n",
              "      <td>...</td>\n",
              "      <td>...</td>\n",
              "      <td>...</td>\n",
              "      <td>...</td>\n",
              "      <td>...</td>\n",
              "      <td>...</td>\n",
              "      <td>...</td>\n",
              "      <td>...</td>\n",
              "      <td>...</td>\n",
              "      <td>...</td>\n",
              "    </tr>\n",
              "    <tr>\n",
              "      <th>1113</th>\n",
              "      <td>0.835</td>\n",
              "      <td>0.903</td>\n",
              "      <td>-3.230</td>\n",
              "      <td>0.2280</td>\n",
              "      <td>0.0153</td>\n",
              "      <td>0.000124</td>\n",
              "      <td>0.7330</td>\n",
              "      <td>128.010</td>\n",
              "      <td>3tSYFt9i23oFzyX6tg5IOg</td>\n",
              "      <td>1.0</td>\n",
              "      <td>1.0</td>\n",
              "      <td>2020s</td>\n",
              "    </tr>\n",
              "    <tr>\n",
              "      <th>1116</th>\n",
              "      <td>0.716</td>\n",
              "      <td>0.748</td>\n",
              "      <td>-6.060</td>\n",
              "      <td>0.0356</td>\n",
              "      <td>0.2350</td>\n",
              "      <td>0.849000</td>\n",
              "      <td>0.3380</td>\n",
              "      <td>119.918</td>\n",
              "      <td>01kfSdF9zfcDLri5sSWEoL</td>\n",
              "      <td>0.0</td>\n",
              "      <td>1.0</td>\n",
              "      <td>2020s</td>\n",
              "    </tr>\n",
              "    <tr>\n",
              "      <th>1118</th>\n",
              "      <td>0.848</td>\n",
              "      <td>0.821</td>\n",
              "      <td>-5.408</td>\n",
              "      <td>0.0527</td>\n",
              "      <td>0.0169</td>\n",
              "      <td>0.000403</td>\n",
              "      <td>0.2490</td>\n",
              "      <td>125.051</td>\n",
              "      <td>6GomT970rCOkKAyyrwJeZi</td>\n",
              "      <td>0.0</td>\n",
              "      <td>1.0</td>\n",
              "      <td>2020s</td>\n",
              "    </tr>\n",
              "    <tr>\n",
              "      <th>1119</th>\n",
              "      <td>0.653</td>\n",
              "      <td>0.973</td>\n",
              "      <td>-3.894</td>\n",
              "      <td>0.0414</td>\n",
              "      <td>0.0338</td>\n",
              "      <td>0.006860</td>\n",
              "      <td>0.2190</td>\n",
              "      <td>128.024</td>\n",
              "      <td>7wy8gxfen0STJ2jQMYQBAA</td>\n",
              "      <td>0.0</td>\n",
              "      <td>1.0</td>\n",
              "      <td>2020s</td>\n",
              "    </tr>\n",
              "    <tr>\n",
              "      <th>1120</th>\n",
              "      <td>0.686</td>\n",
              "      <td>0.892</td>\n",
              "      <td>-3.186</td>\n",
              "      <td>0.0498</td>\n",
              "      <td>0.0577</td>\n",
              "      <td>0.000007</td>\n",
              "      <td>0.7520</td>\n",
              "      <td>126.030</td>\n",
              "      <td>2LxdNADWier3MKTei8FbOY</td>\n",
              "      <td>1.0</td>\n",
              "      <td>1.0</td>\n",
              "      <td>2020s</td>\n",
              "    </tr>\n",
              "  </tbody>\n",
              "</table>\n",
              "<p>635 rows × 12 columns</p>\n",
              "</div>"
            ],
            "text/plain": [
              "      danceability  energy  loudness  speechiness  acousticness  \\\n",
              "4            0.367   0.111   -14.084       0.0972        0.9780   \n",
              "6            0.369   0.272   -10.497       0.0364        0.8660   \n",
              "8            0.614   0.379   -10.480       0.0476        0.6070   \n",
              "10           0.567   0.267    -6.502       0.0299        0.8390   \n",
              "11           0.351   0.296   -10.109       0.0333        0.9340   \n",
              "...            ...     ...       ...          ...           ...   \n",
              "1113         0.835   0.903    -3.230       0.2280        0.0153   \n",
              "1116         0.716   0.748    -6.060       0.0356        0.2350   \n",
              "1118         0.848   0.821    -5.408       0.0527        0.0169   \n",
              "1119         0.653   0.973    -3.894       0.0414        0.0338   \n",
              "1120         0.686   0.892    -3.186       0.0498        0.0577   \n",
              "\n",
              "      instrumentalness  valence    tempo                      id  mood  \\\n",
              "4             0.000040   0.1980   82.642  43zdsphuZLzwA9k4DJhU0I   0.0   \n",
              "6             0.000000   0.2180  172.929  5JCoSi02qi3jJeHdZXMmR8   0.0   \n",
              "8             0.000464   0.2010  107.989  1HNkqx9Ahdgi1Ixy2xkKkL   0.0   \n",
              "10            0.000001   0.0592  110.011  1ZMiCix7XSAbfAJlEZWMCp   0.0   \n",
              "11            0.000000   0.1200  115.284  0u2P5u6lvoDfwTYjAADbn4   0.0   \n",
              "...                ...      ...      ...                     ...   ...   \n",
              "1113          0.000124   0.7330  128.010  3tSYFt9i23oFzyX6tg5IOg   1.0   \n",
              "1116          0.849000   0.3380  119.918  01kfSdF9zfcDLri5sSWEoL   0.0   \n",
              "1118          0.000403   0.2490  125.051  6GomT970rCOkKAyyrwJeZi   0.0   \n",
              "1119          0.006860   0.2190  128.024  7wy8gxfen0STJ2jQMYQBAA   0.0   \n",
              "1120          0.000007   0.7520  126.030  2LxdNADWier3MKTei8FbOY   1.0   \n",
              "\n",
              "      motivation release_decade  \n",
              "4            0.0          2010s  \n",
              "6            0.0          2020s  \n",
              "8            0.0          2010s  \n",
              "10           0.0          2010s  \n",
              "11           0.0          2010s  \n",
              "...          ...            ...  \n",
              "1113         1.0          2020s  \n",
              "1116         1.0          2020s  \n",
              "1118         1.0          2020s  \n",
              "1119         1.0          2020s  \n",
              "1120         1.0          2020s  \n",
              "\n",
              "[635 rows x 12 columns]"
            ]
          },
          "execution_count": 20,
          "metadata": {},
          "output_type": "execute_result"
        }
      ],
      "source": [
        "data"
      ]
    },
    {
      "cell_type": "markdown",
      "metadata": {
        "cell_id": "7bd4ee8db2b249cd94d52d51615900cf",
        "deepnote_cell_type": "markdown",
        "id": "x_kKT5y5aGNQ"
      },
      "source": [
        "Como podemos ver, hemos perdido un total de 407 filas, sin embargo, las 635 filas con las que contamos serán mucho más precisas para entrenar el modelo a posteriori con nuevos datos."
      ]
    },
    {
      "cell_type": "markdown",
      "metadata": {
        "cell_id": "910e341af7a24258ab04adee57a79362",
        "deepnote_cell_type": "text-cell-h3",
        "formattedRanges": [],
        "id": "GAkm2PgDaGNQ"
      },
      "source": [
        "### Muestra de correlaciones tras el tratamiento de datos"
      ]
    },
    {
      "cell_type": "markdown",
      "metadata": {
        "cell_id": "05fbb8289c9d4d08b0f9ef851460e4a4",
        "deepnote_app_block_visible": false,
        "deepnote_cell_type": "markdown",
        "id": "CPmaVNktaGNQ"
      },
      "source": [
        "Vamos a observar cómo han quedado las correlaciones"
      ]
    },
    {
      "cell_type": "code",
      "execution_count": null,
      "metadata": {
        "cell_id": "a992a890f33c4fcda0a9feb453bb58bd",
        "deepnote_cell_type": "code",
        "deepnote_to_be_reexecuted": false,
        "execution_millis": 468,
        "execution_start": 1708275136107,
        "id": "oRBVHRARaGNQ",
        "source_hash": null
      },
      "outputs": [],
      "source": [
        "processed_data_corr = data.corr()"
      ]
    },
    {
      "cell_type": "markdown",
      "metadata": {
        "cell_id": "f6f0d297e17b47c58b89a00cf17845e5",
        "deepnote_cell_type": "markdown",
        "id": "_jWPVVoQaGNR"
      },
      "source": [
        "Observamos la nueva gráfica con las correlaciones"
      ]
    },
    {
      "cell_type": "code",
      "execution_count": null,
      "metadata": {
        "cell_id": "6487bdd6d5e3485aa1ba41f60c08efbc",
        "deepnote_cell_type": "code",
        "deepnote_to_be_reexecuted": false,
        "execution_millis": 455,
        "execution_start": 1708275136127,
        "id": "Fxt7OscMaGNR",
        "outputId": "db58bde6-ff0c-4c75-fef1-6db900a97947",
        "source_hash": null
      },
      "outputs": [
        {
          "data": {
            "image/png": "[encoded data removed]",
            "text/plain": [
              "<Figure size 1200x800 with 2 Axes>"
            ]
          },
          "metadata": {
            "image/png": {
              "height": 788,
              "width": 894
            }
          },
          "output_type": "display_data"
        }
      ],
      "source": [
        "# Máscara para pasar los datos a valores de 0 a 1\n",
        "mask = np.triu(np.ones_like(processed_data_corr, dtype=bool), k=1)\n",
        "\n",
        "# Paleta de colores\n",
        "cmap = sns.diverging_palette(100, 7, s=75, l=40, n=5, center=\"light\", as_cmap=True)\n",
        "\n",
        "#Gráfica\n",
        "plt.figure(figsize=(12,8))\n",
        "sns.heatmap(processed_data_corr, mask=mask, center=0, annot=True, fmt='.2f', square=True, cmap=cmap)\n",
        "plt.title('Matriz de correlación')\n",
        "plt.show()"
      ]
    },
    {
      "cell_type": "markdown",
      "metadata": {
        "cell_id": "8dc4df4baf4440d09dd0249d40a89b67",
        "deepnote_cell_type": "markdown",
        "id": "gdQweAJTaGNR"
      },
      "source": [
        "Como podemos observar, han aparecido nuevas correlaciones que aportarán mucha precisión al modelo.\n",
        "\n",
        "- **motivation + energy** (94%): Con estos valores tenemos claro que existe **mucha complicidad** con los valores, cuando una canción tiene un **mayor índice de energía** existe **mayor posibilidad** de que esa canción se considere **enérgica o motivadora**, éste dato es **fundamental** puesto que elegirá cuando una **canción es enérgica o** por lo contrario, es más **relajada**.\n",
        "\n",
        "- **motivation + loudness** (78%): Con estos valores tenemos claro que existe **buena complicidad** con los valores, cuando una canción tiene un **mayor volumen** existe **mayor posibilidad** de que esa canción se considere **enérgica o motivadora**, éste dato es **fundamental** puesto que elegirá cuando una **canción es enérgica o** por lo contrario, es más **relajada**.\n",
        "\n",
        "- **mood + valence** (93%): Con estos valores tenemos claro que existe **bastante complicidad** con los valores, cuando una canción tiene una **letra más positiva** existe **mayor posibilidad** de que esa canción se considere **happy (feliz)**, éste dato es **fundamental** puesto que elegirá cuando una **canción es feliz o** por lo contrario, es más **triste**."
      ]
    },
    {
      "cell_type": "markdown",
      "metadata": {
        "id": "rsjaokPWb6OO"
      },
      "source": [
        "Todo está listo para el entrenamiento del modelo"
      ]
    }
  ],
  "metadata": {
    "colab": {
      "provenance": []
    },
    "deepnote_execution_queue": [],
    "deepnote_notebook_id": "38c3ca54bc97471bb388e489d5d637be",
    "deepnote_persisted_session": {
      "createdAt": "2024-02-18T17:17:34.094Z"
    },
    "language_info": {
      "name": "python"
    }
  },
  "nbformat": 4,
  "nbformat_minor": 0
}
