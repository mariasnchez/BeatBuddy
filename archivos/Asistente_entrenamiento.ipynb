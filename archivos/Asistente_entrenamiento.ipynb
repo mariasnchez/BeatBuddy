{
  "cells": [
    {
      "cell_type": "markdown",
      "metadata": {
        "cell_id": "445458a5e6a844b8955da03de0e0ed76",
        "deepnote_cell_type": "markdown",
        "id": "YORenNr7dm5b"
      },
      "source": [
        "# Asistente musical\n",
        "## Entrenamiento del modelo "
      ]
    },
    {
      "cell_type": "markdown",
      "metadata": {
        "cell_id": "a502a42a690d42ab86f416b2ed7dc934",
        "deepnote_cell_type": "text-cell-h3",
        "formattedRanges": [],
        "id": "y5HHj7kodm5b"
      },
      "source": [
        "### Entrenamiento para el target `mood`"
      ]
    },
    {
      "cell_type": "markdown",
      "metadata": {
        "cell_id": "73fa30d53bb34734ad7b3de20d6bc2a8",
        "deepnote_cell_type": "markdown",
        "id": "QBvIuQvidm5b"
      },
      "source": [
        "#### Support Vector Machines (SVClassifier)\n",
        "\n",
        "Primera prueba de entrenamiento del modelo con SVClassifier"
      ]
    },
    {
      "cell_type": "code",
      "execution_count": null,
      "metadata": {
        "cell_id": "ca891ccbf5e440ec80a548a2ae33f42d",
        "deepnote_cell_type": "code",
        "deepnote_to_be_reexecuted": false,
        "execution_millis": 298,
        "execution_start": 1708297378878,
        "id": "LUnaobpfdm5b",
        "outputId": "e3c5d9c0-5be3-4d1e-8f11-a83d81e779bb",
        "source_hash": "e2c62413"
      },
      "outputs": [
        {
          "name": "stdout",
          "output_type": "stream",
          "text": [
            "Precisión: 0.5786163522012578\n",
            "              precision    recall  f1-score   support\n",
            "\n",
            "         0.0       0.58      1.00      0.73        92\n",
            "         1.0       0.00      0.00      0.00        67\n",
            "\n",
            "    accuracy                           0.58       159\n",
            "   macro avg       0.29      0.50      0.37       159\n",
            "weighted avg       0.33      0.58      0.42       159\n",
            "\n",
            "/shared-libs/python3.11/py/lib/python3.11/site-packages/sklearn/metrics/_classification.py:1469: UndefinedMetricWarning: Precision and F-score are ill-defined and being set to 0.0 in labels with no predicted samples. Use `zero_division` parameter to control this behavior.\n",
            "  _warn_prf(average, modifier, msg_start, len(result))\n",
            "/shared-libs/python3.11/py/lib/python3.11/site-packages/sklearn/metrics/_classification.py:1469: UndefinedMetricWarning: Precision and F-score are ill-defined and being set to 0.0 in labels with no predicted samples. Use `zero_division` parameter to control this behavior.\n",
            "  _warn_prf(average, modifier, msg_start, len(result))\n",
            "/shared-libs/python3.11/py/lib/python3.11/site-packages/sklearn/metrics/_classification.py:1469: UndefinedMetricWarning: Precision and F-score are ill-defined and being set to 0.0 in labels with no predicted samples. Use `zero_division` parameter to control this behavior.\n",
            "  _warn_prf(average, modifier, msg_start, len(result))\n"
          ]
        }
      ],
      "source": [
        "from sklearn.svm import SVC\n",
        "from sklearn.model_selection import train_test_split\n",
        "from sklearn.metrics import accuracy_score\n",
        "from sklearn.metrics import classification_report\n",
        "\n",
        "X_train, X_test, y_train, y_test = train_test_split(data.drop(['mood','motivation','release_decade','id'], axis=1), data['mood'], test_size=0.25, random_state=42)\n",
        "\n",
        "# Creamos un modelo SVC con el kernel elegido\n",
        "svc_model = SVC()\n",
        "\n",
        "# Entrenamos el modelo\n",
        "svc_model.fit(X_train, y_train)\n",
        "\n",
        "# Predecimos las etiquetas para el conjunto de datos de prueba\n",
        "y_pred = svc_model.predict(X_test)\n",
        "accuracy = accuracy_score(y_test, y_pred)\n",
        "\n",
        "# Imprimimos la precisión\n",
        "print(\"Precisión:\", accuracy)\n",
        "# Imprimimos el informe de clasificación\n",
        "print(classification_report(y_test, y_pred))"
      ]
    },
    {
      "cell_type": "markdown",
      "metadata": {
        "cell_id": "d380f8c403df4326befce2db54d5f101",
        "deepnote_cell_type": "markdown",
        "id": "Cmw4Na3ddm5c"
      },
      "source": [
        "Con un 58% no llegamos a dar una predicción decisiva con respecto a los \"moods\" de las canciones por lo que probaremos más modelos."
      ]
    },
    {
      "cell_type": "markdown",
      "metadata": {
        "cell_id": "69ec2c4e8eb943d88aa530022ba6b2bb",
        "deepnote_cell_type": "markdown",
        "id": "fsPumz5Fdm5c"
      },
      "source": [
        "#### Prueba con KneighborsClassifier\n",
        "Vamos a probar los resultados que nos dará KneighborsClassifier"
      ]
    },
    {
      "cell_type": "code",
      "execution_count": null,
      "metadata": {
        "cell_id": "0fcac83081f945d3b3876cfbdcca8177",
        "deepnote_cell_type": "code",
        "deepnote_to_be_reexecuted": false,
        "execution_millis": 129,
        "execution_start": 1708297379195,
        "id": "4nnlcHG4dm5c",
        "outputId": "ec8e8308-efa3-4273-8118-cf42f4088fb0",
        "source_hash": "c1731141"
      },
      "outputs": [
        {
          "name": "stdout",
          "output_type": "stream",
          "text": [
            "Precisión: 0.7924528301886793\n",
            "              precision    recall  f1-score   support\n",
            "\n",
            "         0.0       0.77      0.91      0.84        92\n",
            "         1.0       0.84      0.63      0.72        67\n",
            "\n",
            "    accuracy                           0.79       159\n",
            "   macro avg       0.81      0.77      0.78       159\n",
            "weighted avg       0.80      0.79      0.79       159\n",
            "\n"
          ]
        }
      ],
      "source": [
        "from sklearn.neighbors import KNeighborsClassifier\n",
        "\n",
        "X_train, X_test, y_train, y_test = train_test_split(data.drop(['mood','motivation','id','release_decade'], axis=1), data['mood'], test_size=0.25, random_state=42)\n",
        "\n",
        "# Creamos un modelo knc con el kernel elegido\n",
        "knc_model = KNeighborsClassifier()\n",
        "\n",
        "# Entrenamos el modelo\n",
        "knc_model.fit(X_train, y_train)\n",
        "\n",
        "# Predecimos las etiquetas para el conjunto de datos de prueba\n",
        "y_pred = knc_model.predict(X_test)\n",
        "accuracy = accuracy_score(y_test, y_pred)\n",
        "\n",
        "# Imprimimos la precisión\n",
        "print(\"Precisión:\", accuracy)\n",
        "# Imprimimos el informe de clasificación\n",
        "print(classification_report(y_test, y_pred))"
      ]
    },
    {
      "cell_type": "markdown",
      "metadata": {
        "cell_id": "0e9ed3e5d2b4419ca8fcbf3a9a6beb4c",
        "deepnote_cell_type": "markdown",
        "id": "TrF2u_7Gdm5c"
      },
      "source": [
        "Con este clasificador la cosa mejora, con un 79% ya se pueden empezar a dar mejoras con respecto a los resultados."
      ]
    },
    {
      "cell_type": "markdown",
      "metadata": {
        "cell_id": "61ad76108568471393fcd8c6509ba5f7",
        "deepnote_cell_type": "markdown",
        "id": "CwRVsCWYdm5c"
      },
      "source": [
        "#### Entrenamiento con Regresión Logística (Logistic Regression)"
      ]
    },
    {
      "cell_type": "code",
      "execution_count": null,
      "metadata": {
        "cell_id": "c03bb7ee0de5493b979d4de43edba235",
        "deepnote_cell_type": "code",
        "deepnote_to_be_reexecuted": false,
        "execution_millis": 63,
        "execution_start": 1708297379261,
        "id": "7vhHbopLdm5c",
        "outputId": "8cebf896-4a9b-4ba4-a395-eaaf732b56a4",
        "source_hash": "e155faf"
      },
      "outputs": [
        {
          "name": "stdout",
          "output_type": "stream",
          "text": [
            "Precisión: 0.9937106918238994\n",
            "              precision    recall  f1-score   support\n",
            "\n",
            "         0.0       0.99      1.00      0.99        92\n",
            "         1.0       1.00      0.99      0.99        67\n",
            "\n",
            "    accuracy                           0.99       159\n",
            "   macro avg       0.99      0.99      0.99       159\n",
            "weighted avg       0.99      0.99      0.99       159\n",
            "\n",
            "/shared-libs/python3.11/py/lib/python3.11/site-packages/sklearn/linear_model/_logistic.py:460: ConvergenceWarning: lbfgs failed to converge (status=1):\n",
            "STOP: TOTAL NO. of ITERATIONS REACHED LIMIT.\n",
            "\n",
            "Increase the number of iterations (max_iter) or scale the data as shown in:\n",
            "    https://scikit-learn.org/stable/modules/preprocessing.html\n",
            "Please also refer to the documentation for alternative solver options:\n",
            "    https://scikit-learn.org/stable/modules/linear_model.html#logistic-regression\n",
            "  n_iter_i = _check_optimize_result(\n"
          ]
        }
      ],
      "source": [
        "from sklearn.linear_model import LogisticRegression\n",
        "\n",
        "X_train, X_test, y_train, y_test = train_test_split(data.drop(['mood','motivation','id','release_decade'], axis=1), data['mood'], test_size=0.25, random_state=42)\n",
        "\n",
        "# Creamos un modelo lr con el kernel elegido\n",
        "lr_model = LogisticRegression()\n",
        "\n",
        "# Entrenamos el modelo\n",
        "lr_model.fit(X_train, y_train)\n",
        "\n",
        "# Predecimos las etiquetas para el conjunto de datos de prueba\n",
        "y_pred = lr_model.predict(X_test)\n",
        "accuracy = accuracy_score(y_test, y_pred)\n",
        "\n",
        "# Imprimimos la precisión\n",
        "print(\"Precisión:\", accuracy)\n",
        "# Imprimimos el informe de clasificación\n",
        "print(classification_report(y_test, y_pred))"
      ]
    },
    {
      "cell_type": "markdown",
      "metadata": {
        "cell_id": "cf4018b64578413c85ca598bd613d9ce",
        "deepnote_cell_type": "markdown",
        "id": "Bkma5y3Ldm5c"
      },
      "source": [
        "Finalmente, hemos encontrado un modelo que tiene **mayor precisión (98,75%)** con el que sí podrá sacar datos concluyentes con respecto a el ánimo de las canciones."
      ]
    },
    {
      "cell_type": "markdown",
      "metadata": {
        "cell_id": "a7f1e635c0494b3aad456f60075ff039",
        "deepnote_cell_type": "markdown",
        "id": "LBUBbL4odm5c"
      },
      "source": [
        "A continuación, vamos a exportar el modelo para que nos sirva para clasificar nuevas canciones que no estén etiquetadas."
      ]
    },
    {
      "cell_type": "code",
      "execution_count": null,
      "metadata": {
        "cell_id": "e01b4bf4195141b3aaca88d5ffe4cdda",
        "deepnote_cell_type": "code",
        "deepnote_to_be_reexecuted": false,
        "execution_millis": 156,
        "execution_start": 1708297379295,
        "id": "j939SAGldm5c",
        "outputId": "774fc642-d2af-4bd4-b997-87c0f60e4c52",
        "source_hash": "79ab36ef"
      },
      "outputs": [
        {
          "data": {
            "text/plain": [
              "['modelo_lr_mood.pkl']"
            ]
          },
          "execution_count": 26,
          "metadata": {},
          "output_type": "execute_result"
        }
      ],
      "source": [
        "import joblib\n",
        "\n",
        "path = 'modelo_lr_mood.pkl'\n",
        "\n",
        "joblib.dump(lr_model,path)"
      ]
    },
    {
      "cell_type": "markdown",
      "metadata": {
        "cell_id": "7301c809793543ad8a698c35bb9b9ce1",
        "deepnote_cell_type": "text-cell-h3",
        "formattedRanges": [],
        "id": "x5JeYHyBdm5d"
      },
      "source": [
        "### Entrenamiento para el target `motivation`"
      ]
    },
    {
      "cell_type": "markdown",
      "metadata": {
        "cell_id": "e642eaeb59a5432ab066a5f97c827a8a",
        "deepnote_cell_type": "markdown",
        "id": "8Yr9NrpSdm5d"
      },
      "source": [
        "#### Support Vector Machines (SVClassifier)\n",
        "\n",
        "En primera instancia, vamos a probar el entrenamiento con el modelo SVClassifier"
      ]
    },
    {
      "cell_type": "code",
      "execution_count": null,
      "metadata": {
        "cell_id": "2b53a1f1139e40ab9ff8b9f13e7ead38",
        "deepnote_cell_type": "code",
        "deepnote_to_be_reexecuted": false,
        "execution_millis": 1143,
        "execution_start": 1708297379452,
        "id": "MMJCVmnVdm5d",
        "outputId": "55e4dbbb-04bc-44c1-a5dd-a114500d99ba",
        "source_hash": "b9dc9eff"
      },
      "outputs": [
        {
          "name": "stdout",
          "output_type": "stream",
          "text": [
            "Precisión: 0.7924528301886793\n",
            "              precision    recall  f1-score   support\n",
            "\n",
            "         0.0       0.89      0.54      0.67        63\n",
            "         1.0       0.76      0.96      0.85        96\n",
            "\n",
            "    accuracy                           0.79       159\n",
            "   macro avg       0.83      0.75      0.76       159\n",
            "weighted avg       0.81      0.79      0.78       159\n",
            "\n"
          ]
        }
      ],
      "source": [
        "from sklearn.svm import SVC\n",
        "from sklearn.model_selection import train_test_split\n",
        "from sklearn.metrics import accuracy_score\n",
        "from sklearn.metrics import classification_report\n",
        "\n",
        "X_train, X_test, y_train, y_test = train_test_split(data.drop(['mood','motivation','id','release_decade'], axis=1), data['motivation'], test_size=0.25, random_state=42)\n",
        "\n",
        "# Creamos un modelo SVC con el kernel elegido\n",
        "svc_model = SVC()\n",
        "\n",
        "# Entrenamos el modelo\n",
        "svc_model.fit(X_train, y_train)\n",
        "\n",
        "# Predecimos las etiquetas para el conjunto de datos de prueba\n",
        "y_pred = svc_model.predict(X_test)\n",
        "accuracy = accuracy_score(y_test, y_pred)\n",
        "\n",
        "# Imprimimos la precisión\n",
        "print(\"Precisión:\", accuracy)\n",
        "# Imprimimos el informe de clasificación\n",
        "print(classification_report(y_test, y_pred))"
      ]
    },
    {
      "cell_type": "markdown",
      "metadata": {
        "cell_id": "f8224c742e754e568dd73d8f59bff90a",
        "deepnote_cell_type": "markdown",
        "id": "Kkg0bT9Mdm5d"
      },
      "source": [
        "Los datos predichos no son nada malos, pues en el primer entrenamiento hemos obtenido resultados de un 80% de precisión con respecto a la energía de las canciones."
      ]
    },
    {
      "cell_type": "markdown",
      "metadata": {
        "cell_id": "575937711b9746dba25daab4b919df0a",
        "deepnote_cell_type": "markdown",
        "id": "qASQVDzOdm5d"
      },
      "source": [
        "#### Entrenamiento con LinearSVC"
      ]
    },
    {
      "cell_type": "markdown",
      "metadata": {
        "cell_id": "40599f4b98314678b22e2d882ded6151",
        "deepnote_cell_type": "markdown",
        "id": "j1Dy6fKZdm5d"
      },
      "source": [
        "Como el entrenamiento con SVC ha sido bastante acertado, vamos a probar con una de sus variantes, LinearSVC"
      ]
    },
    {
      "cell_type": "code",
      "execution_count": null,
      "metadata": {
        "cell_id": "f935e132e52946c3884db31a26dcb52a",
        "deepnote_cell_type": "code",
        "deepnote_to_be_reexecuted": false,
        "execution_millis": 1599,
        "execution_start": 1708297379491,
        "id": "j2yRHerCdm5d",
        "outputId": "550d5a0d-2aee-48de-86e6-6e44ce1c2a79",
        "source_hash": "f9150a41"
      },
      "outputs": [
        {
          "name": "stderr",
          "output_type": "stream",
          "text": [
            "/shared-libs/python3.11/py/lib/python3.11/site-packages/sklearn/svm/_classes.py:32: FutureWarning: The default value of `dual` will change from `True` to `'auto'` in 1.5. Set the value of `dual` explicitly to suppress the warning.\n",
            "  warnings.warn(\n",
            "Precisión: 0.9811320754716981\n",
            "              precision    recall  f1-score   support\n",
            "\n",
            "         0.0       0.97      0.98      0.98        63\n",
            "         1.0       0.99      0.98      0.98        96\n",
            "\n",
            "    accuracy                           0.98       159\n",
            "   macro avg       0.98      0.98      0.98       159\n",
            "weighted avg       0.98      0.98      0.98       159\n",
            "\n",
            "/shared-libs/python3.11/py/lib/python3.11/site-packages/sklearn/svm/_base.py:1250: ConvergenceWarning: Liblinear failed to converge, increase the number of iterations.\n",
            "  warnings.warn(\n"
          ]
        }
      ],
      "source": [
        "from sklearn.svm import LinearSVC\n",
        "from sklearn.model_selection import train_test_split\n",
        "from sklearn.metrics import accuracy_score\n",
        "from sklearn.metrics import classification_report\n",
        "\n",
        "X_train, X_test, y_train, y_test = train_test_split(data.drop(['mood','motivation','id','release_decade'], axis=1), data['motivation'], test_size=0.25, random_state=42)\n",
        "\n",
        "# Creamos un modelo LinearSVC con el kernel elegido\n",
        "LinearSVC_model = LinearSVC()\n",
        "\n",
        "# Entrenamos el modelo\n",
        "LinearSVC_model.fit(X_train, y_train)\n",
        "\n",
        "# Predecimos las etiquetas para el conjunto de datos de prueba\n",
        "y_pred = LinearSVC_model.predict(X_test)\n",
        "accuracy = accuracy_score(y_test, y_pred)\n",
        "\n",
        "# Imprimimos la precisión\n",
        "print(\"Precisión:\", accuracy)\n",
        "# Imprimimos el informe de clasificación\n",
        "print(classification_report(y_test, y_pred))"
      ]
    },
    {
      "cell_type": "markdown",
      "metadata": {
        "cell_id": "0c744887e60a4757a7eee42c4cf50ce6",
        "deepnote_cell_type": "markdown",
        "id": "gh7DeHJydm5d"
      },
      "source": [
        "Con este modelo hemos obtenido un porcentaje excelente (**98%**)"
      ]
    },
    {
      "cell_type": "markdown",
      "metadata": {
        "cell_id": "3c4b9df253e4408a8265af5ea103c5a5",
        "deepnote_cell_type": "markdown",
        "id": "D6R2ou8Xdm5e"
      },
      "source": [
        "Vamos a guardar el modelo para que pueda clasificar canciones motivadoras o relajadas para usarlo a posteriori."
      ]
    },
    {
      "cell_type": "code",
      "execution_count": null,
      "metadata": {
        "cell_id": "66983a07cef040caad88d25ce0250c9e",
        "deepnote_cell_type": "code",
        "deepnote_to_be_reexecuted": false,
        "execution_millis": 1527,
        "execution_start": 1708297379563,
        "id": "SEbPQJiJdm5e",
        "outputId": "b55c3a78-43ac-45e1-81ed-30f142b80f32",
        "source_hash": "b5fa2e09"
      },
      "outputs": [
        {
          "data": {
            "text/plain": [
              "['modelo_linearSVC_motivation.pkl']"
            ]
          },
          "execution_count": 29,
          "metadata": {},
          "output_type": "execute_result"
        }
      ],
      "source": [
        "path = 'modelo_linearSVC_motivation.pkl'\n",
        "\n",
        "joblib.dump(LinearSVC_model,path)"
      ]
    },
    {
      "cell_type": "markdown",
      "metadata": {
        "id": "ckNtXXIXd3JD"
      },
      "source": [
        "### Resultados de los entrenamientos"
      ]
    },
    {
      "cell_type": "markdown",
      "metadata": {
        "cell_id": "2bdafcb787414ece87d46b0c44844c15",
        "deepnote_cell_type": "markdown",
        "id": "E_-AIsLgdm5e"
      },
      "source": [
        "Resultados de diferentes modelos para predecir la columna `mood`:\n",
        "\n",
        "Para la columna **mood** hemos empleado los entrenamientos de **SVC**, que nos ha proporcionado predicciones poco concluyentes (58%), **KNeighbors Classifier**, que ha mejorado los resultados de SVC pero no nos proporciona resultados fiables del todo (79%) y por último optamos por **Logistic Regression** que sí nos ha dado resultados bastante favorables en este caso, con un (99%)"
      ]
    },
    {
      "cell_type": "markdown",
      "metadata": {
        "cell_id": "5b8f68c4a7f54241b606c36ba5959005",
        "deepnote_cell_type": "markdown",
        "id": "AkE5VF_2dm5e"
      },
      "source": [
        "Resultados de diferentes modelos para predecir la columna `motivation`:\n",
        "\n",
        "Para la columna **motivation** hemos obtenido resultados bastante buenos con los algoritmos de **Linear SVC**(98%) y **SVC**(80%) quedándonos con el primero de ellos pues es el más cercano al 100% de precisión. También decir que probamos con NearestCentroid(68%) de Neighbors pero su resultado fue bastante mejorable."
      ]
    },
    {
      "cell_type": "markdown",
      "metadata": {
        "cell_id": "fa16afd591b346c2b0ae8fcb494a55ca",
        "deepnote_cell_type": "markdown",
        "id": "KMYXtPrIdm5e"
      },
      "source": [
        "### Etiquetamos nuevas canciones\n",
        "\n",
        "Para añadir datos más variados vamos a añadir 100 canciones más por década musical.\n",
        "\n",
        "- 1980s: https://open.spotify.com/playlist/37i9dQZF1DX4UtSsGT1Sbe\n",
        "- 1990s: https://open.spotify.com/playlist/37i9dQZF1DXbTxeAdrVG2l\n",
        "- 2000s: https://open.spotify.com/playlist/37i9dQZF1DX4o1oenSJRJd\n",
        "- 2010s: https://open.spotify.com/playlist/37i9dQZF1DX5Ejj0EkURtP\n",
        "- 2020s: https://open.spotify.com/playlist/37i9dQZF1DX2M1RktxUUHG"
      ]
    },
    {
      "cell_type": "markdown",
      "metadata": {
        "cell_id": "3fd947bbd28949758b877acbda9aa5b4",
        "deepnote_cell_type": "markdown",
        "id": "Kpc3hqhedm5e"
      },
      "source": [
        "Cargamos el nuevo dataset scrapeado con canciones desde los 80 hasta los 2020s."
      ]
    },
    {
      "cell_type": "code",
      "execution_count": null,
      "metadata": {
        "cell_id": "c63ec4ce159b4489b22579a428700b8d",
        "deepnote_cell_type": "code",
        "deepnote_to_be_reexecuted": false,
        "execution_millis": 521,
        "execution_start": 1708297380569,
        "id": "GJr7TSwYdm5f",
        "outputId": "f6a313ce-6af6-4d12-c7a3-9550887bd467",
        "source_hash": "bf358c22"
      },
      "outputs": [
        {
          "data": {
            "application/vnd.deepnote.dataframe.v3+json": {
              "column_count": 21,
              "columns": [
                {
                  "dtype": "int64",
                  "name": "Unnamed: 0",
                  "stats": {
                    "histogram": [
                      {
                        "bin_end": 49.9,
                        "bin_start": 0,
                        "count": 50
                      },
                      {
                        "bin_end": 99.8,
                        "bin_start": 49.9,
                        "count": 50
                      },
                      {
                        "bin_end": 149.7,
                        "bin_start": 99.8,
                        "count": 50
                      },
                      {
                        "bin_end": 199.6,
                        "bin_start": 149.7,
                        "count": 50
                      },
                      {
                        "bin_end": 249.5,
                        "bin_start": 199.6,
                        "count": 50
                      },
                      {
                        "bin_end": 299.4,
                        "bin_start": 249.5,
                        "count": 50
                      },
                      {
                        "bin_end": 349.3,
                        "bin_start": 299.4,
                        "count": 50
                      },
                      {
                        "bin_end": 399.2,
                        "bin_start": 349.3,
                        "count": 50
                      },
                      {
                        "bin_end": 449.09999999999997,
                        "bin_start": 399.2,
                        "count": 50
                      },
                      {
                        "bin_end": 499,
                        "bin_start": 449.09999999999997,
                        "count": 50
                      }
                    ],
                    "max": "499",
                    "min": "0",
                    "nan_count": 0,
                    "unique_count": 500
                  }
                },
                {
                  "dtype": "float64",
                  "name": "danceability",
                  "stats": {
                    "histogram": [
                      {
                        "bin_end": 0.2848,
                        "bin_start": 0.209,
                        "count": 7
                      },
                      {
                        "bin_end": 0.36060000000000003,
                        "bin_start": 0.2848,
                        "count": 17
                      },
                      {
                        "bin_end": 0.4364,
                        "bin_start": 0.36060000000000003,
                        "count": 29
                      },
                      {
                        "bin_end": 0.5122,
                        "bin_start": 0.4364,
                        "count": 54
                      },
                      {
                        "bin_end": 0.588,
                        "bin_start": 0.5122,
                        "count": 74
                      },
                      {
                        "bin_end": 0.6638000000000001,
                        "bin_start": 0.588,
                        "count": 85
                      },
                      {
                        "bin_end": 0.7396,
                        "bin_start": 0.6638000000000001,
                        "count": 98
                      },
                      {
                        "bin_end": 0.8154,
                        "bin_start": 0.7396,
                        "count": 78
                      },
                      {
                        "bin_end": 0.8912,
                        "bin_start": 0.8154,
                        "count": 34
                      },
                      {
                        "bin_end": 0.967,
                        "bin_start": 0.8912,
                        "count": 24
                      }
                    ],
                    "max": "0.967",
                    "min": "0.209",
                    "nan_count": 0,
                    "unique_count": 329
                  }
                },
                {
                  "dtype": "float64",
                  "name": "energy",
                  "stats": {
                    "histogram": [
                      {
                        "bin_end": 0.18069000000000002,
                        "bin_start": 0.0911,
                        "count": 2
                      },
                      {
                        "bin_end": 0.27028,
                        "bin_start": 0.18069000000000002,
                        "count": 6
                      },
                      {
                        "bin_end": 0.35987,
                        "bin_start": 0.27028,
                        "count": 19
                      },
                      {
                        "bin_end": 0.44946,
                        "bin_start": 0.35987,
                        "count": 35
                      },
                      {
                        "bin_end": 0.53905,
                        "bin_start": 0.44946,
                        "count": 56
                      },
                      {
                        "bin_end": 0.62864,
                        "bin_start": 0.53905,
                        "count": 79
                      },
                      {
                        "bin_end": 0.7182299999999999,
                        "bin_start": 0.62864,
                        "count": 84
                      },
                      {
                        "bin_end": 0.80782,
                        "bin_start": 0.7182299999999999,
                        "count": 84
                      },
                      {
                        "bin_end": 0.89741,
                        "bin_start": 0.80782,
                        "count": 79
                      },
                      {
                        "bin_end": 0.987,
                        "bin_start": 0.89741,
                        "count": 56
                      }
                    ],
                    "max": "0.987",
                    "min": "0.0911",
                    "nan_count": 0,
                    "unique_count": 340
                  }
                },
                {
                  "dtype": "int64",
                  "name": "key",
                  "stats": {
                    "histogram": [
                      {
                        "bin_end": 1.1,
                        "bin_start": 0,
                        "count": 114
                      },
                      {
                        "bin_end": 2.2,
                        "bin_start": 1.1,
                        "count": 45
                      },
                      {
                        "bin_end": 3.3000000000000003,
                        "bin_start": 2.2,
                        "count": 13
                      },
                      {
                        "bin_end": 4.4,
                        "bin_start": 3.3000000000000003,
                        "count": 43
                      },
                      {
                        "bin_end": 5.5,
                        "bin_start": 4.4,
                        "count": 52
                      },
                      {
                        "bin_end": 6.6000000000000005,
                        "bin_start": 5.5,
                        "count": 42
                      },
                      {
                        "bin_end": 7.700000000000001,
                        "bin_start": 6.6000000000000005,
                        "count": 40
                      },
                      {
                        "bin_end": 8.8,
                        "bin_start": 7.700000000000001,
                        "count": 33
                      },
                      {
                        "bin_end": 9.9,
                        "bin_start": 8.8,
                        "count": 36
                      },
                      {
                        "bin_end": 11,
                        "bin_start": 9.9,
                        "count": 82
                      }
                    ],
                    "max": "11",
                    "min": "0",
                    "nan_count": 0,
                    "unique_count": 12
                  }
                },
                {
                  "dtype": "float64",
                  "name": "loudness",
                  "stats": {
                    "histogram": [
                      {
                        "bin_end": -16.410899999999998,
                        "bin_start": -18.09,
                        "count": 6
                      },
                      {
                        "bin_end": -14.7318,
                        "bin_start": -16.410899999999998,
                        "count": 4
                      },
                      {
                        "bin_end": -13.0527,
                        "bin_start": -14.7318,
                        "count": 16
                      },
                      {
                        "bin_end": -11.3736,
                        "bin_start": -13.0527,
                        "count": 19
                      },
                      {
                        "bin_end": -9.6945,
                        "bin_start": -11.3736,
                        "count": 32
                      },
                      {
                        "bin_end": -8.0154,
                        "bin_start": -9.6945,
                        "count": 63
                      },
                      {
                        "bin_end": -6.3363,
                        "bin_start": -8.0154,
                        "count": 98
                      },
                      {
                        "bin_end": -4.6572,
                        "bin_start": -6.3363,
                        "count": 146
                      },
                      {
                        "bin_end": -2.9780999999999995,
                        "bin_start": -4.6572,
                        "count": 98
                      },
                      {
                        "bin_end": -1.299,
                        "bin_start": -2.9780999999999995,
                        "count": 18
                      }
                    ],
                    "max": "-1.299",
                    "min": "-18.09",
                    "nan_count": 0,
                    "unique_count": 478
                  }
                },
                {
                  "dtype": "int64",
                  "name": "mode",
                  "stats": {
                    "histogram": [
                      {
                        "bin_end": 0.1,
                        "bin_start": 0,
                        "count": 174
                      },
                      {
                        "bin_end": 0.2,
                        "bin_start": 0.1,
                        "count": 0
                      },
                      {
                        "bin_end": 0.30000000000000004,
                        "bin_start": 0.2,
                        "count": 0
                      },
                      {
                        "bin_end": 0.4,
                        "bin_start": 0.30000000000000004,
                        "count": 0
                      },
                      {
                        "bin_end": 0.5,
                        "bin_start": 0.4,
                        "count": 0
                      },
                      {
                        "bin_end": 0.6000000000000001,
                        "bin_start": 0.5,
                        "count": 0
                      },
                      {
                        "bin_end": 0.7000000000000001,
                        "bin_start": 0.6000000000000001,
                        "count": 0
                      },
                      {
                        "bin_end": 0.8,
                        "bin_start": 0.7000000000000001,
                        "count": 0
                      },
                      {
                        "bin_end": 0.9,
                        "bin_start": 0.8,
                        "count": 0
                      },
                      {
                        "bin_end": 1,
                        "bin_start": 0.9,
                        "count": 326
                      }
                    ],
                    "max": "1",
                    "min": "0",
                    "nan_count": 0,
                    "unique_count": 2
                  }
                },
                {
                  "dtype": "float64",
                  "name": "speechiness",
                  "stats": {
                    "histogram": [
                      {
                        "bin_end": 0.06883,
                        "bin_start": 0.0227,
                        "count": 354
                      },
                      {
                        "bin_end": 0.11495999999999999,
                        "bin_start": 0.06883,
                        "count": 68
                      },
                      {
                        "bin_end": 0.16108999999999998,
                        "bin_start": 0.11495999999999999,
                        "count": 28
                      },
                      {
                        "bin_end": 0.20722,
                        "bin_start": 0.16108999999999998,
                        "count": 10
                      },
                      {
                        "bin_end": 0.25335,
                        "bin_start": 0.20722,
                        "count": 10
                      },
                      {
                        "bin_end": 0.29947999999999997,
                        "bin_start": 0.25335,
                        "count": 11
                      },
                      {
                        "bin_end": 0.34561,
                        "bin_start": 0.29947999999999997,
                        "count": 8
                      },
                      {
                        "bin_end": 0.39174,
                        "bin_start": 0.34561,
                        "count": 6
                      },
                      {
                        "bin_end": 0.43787,
                        "bin_start": 0.39174,
                        "count": 2
                      },
                      {
                        "bin_end": 0.484,
                        "bin_start": 0.43787,
                        "count": 3
                      }
                    ],
                    "max": "0.484",
                    "min": "0.0227",
                    "nan_count": 0,
                    "unique_count": 353
                  }
                },
                {
                  "dtype": "float64",
                  "name": "acousticness",
                  "stats": {
                    "histogram": [
                      {
                        "bin_end": 0.09781646999999999,
                        "bin_start": 0.0000183,
                        "count": 243
                      },
                      {
                        "bin_end": 0.19561463999999998,
                        "bin_start": 0.09781646999999999,
                        "count": 81
                      },
                      {
                        "bin_end": 0.29341280999999997,
                        "bin_start": 0.19561463999999998,
                        "count": 58
                      },
                      {
                        "bin_end": 0.39121098,
                        "bin_start": 0.29341280999999997,
                        "count": 32
                      },
                      {
                        "bin_end": 0.48900915,
                        "bin_start": 0.39121098,
                        "count": 19
                      },
                      {
                        "bin_end": 0.5868073199999999,
                        "bin_start": 0.48900915,
                        "count": 19
                      },
                      {
                        "bin_end": 0.6846054899999999,
                        "bin_start": 0.5868073199999999,
                        "count": 19
                      },
                      {
                        "bin_end": 0.78240366,
                        "bin_start": 0.6846054899999999,
                        "count": 13
                      },
                      {
                        "bin_end": 0.88020183,
                        "bin_start": 0.78240366,
                        "count": 10
                      },
                      {
                        "bin_end": 0.978,
                        "bin_start": 0.88020183,
                        "count": 6
                      }
                    ],
                    "max": "0.978",
                    "min": "1.83e-05",
                    "nan_count": 0,
                    "unique_count": 423
                  }
                },
                {
                  "dtype": "float64",
                  "name": "instrumentalness",
                  "stats": {
                    "histogram": [
                      {
                        "bin_end": 0.0751,
                        "bin_start": 0,
                        "count": 470
                      },
                      {
                        "bin_end": 0.1502,
                        "bin_start": 0.0751,
                        "count": 16
                      },
                      {
                        "bin_end": 0.2253,
                        "bin_start": 0.1502,
                        "count": 5
                      },
                      {
                        "bin_end": 0.3004,
                        "bin_start": 0.2253,
                        "count": 1
                      },
                      {
                        "bin_end": 0.3755,
                        "bin_start": 0.3004,
                        "count": 1
                      },
                      {
                        "bin_end": 0.4506,
                        "bin_start": 0.3755,
                        "count": 0
                      },
                      {
                        "bin_end": 0.5257000000000001,
                        "bin_start": 0.4506,
                        "count": 2
                      },
                      {
                        "bin_end": 0.6008,
                        "bin_start": 0.5257000000000001,
                        "count": 2
                      },
                      {
                        "bin_end": 0.6759,
                        "bin_start": 0.6008,
                        "count": 1
                      },
                      {
                        "bin_end": 0.751,
                        "bin_start": 0.6759,
                        "count": 2
                      }
                    ],
                    "max": "0.751",
                    "min": "0.0",
                    "nan_count": 0,
                    "unique_count": 289
                  }
                },
                {
                  "dtype": "float64",
                  "name": "liveness",
                  "stats": {
                    "histogram": [
                      {
                        "bin_end": 0.09988,
                        "bin_start": 0.0232,
                        "count": 183
                      },
                      {
                        "bin_end": 0.17656,
                        "bin_start": 0.09988,
                        "count": 174
                      },
                      {
                        "bin_end": 0.25324,
                        "bin_start": 0.17656,
                        "count": 40
                      },
                      {
                        "bin_end": 0.32992,
                        "bin_start": 0.25324,
                        "count": 48
                      },
                      {
                        "bin_end": 0.40659999999999996,
                        "bin_start": 0.32992,
                        "count": 30
                      },
                      {
                        "bin_end": 0.48328,
                        "bin_start": 0.40659999999999996,
                        "count": 8
                      },
                      {
                        "bin_end": 0.55996,
                        "bin_start": 0.48328,
                        "count": 5
                      },
                      {
                        "bin_end": 0.63664,
                        "bin_start": 0.55996,
                        "count": 6
                      },
                      {
                        "bin_end": 0.71332,
                        "bin_start": 0.63664,
                        "count": 5
                      },
                      {
                        "bin_end": 0.79,
                        "bin_start": 0.71332,
                        "count": 1
                      }
                    ],
                    "max": "0.79",
                    "min": "0.0232",
                    "nan_count": 0,
                    "unique_count": 339
                  }
                },
                {
                  "dtype": "float64",
                  "name": "valence",
                  "stats": {
                    "histogram": [
                      {
                        "bin_end": 0.13218,
                        "bin_start": 0.0382,
                        "count": 21
                      },
                      {
                        "bin_end": 0.22615999999999997,
                        "bin_start": 0.13218,
                        "count": 43
                      },
                      {
                        "bin_end": 0.32014,
                        "bin_start": 0.22615999999999997,
                        "count": 41
                      },
                      {
                        "bin_end": 0.41412,
                        "bin_start": 0.32014,
                        "count": 47
                      },
                      {
                        "bin_end": 0.5081,
                        "bin_start": 0.41412,
                        "count": 59
                      },
                      {
                        "bin_end": 0.60208,
                        "bin_start": 0.5081,
                        "count": 59
                      },
                      {
                        "bin_end": 0.69606,
                        "bin_start": 0.60208,
                        "count": 56
                      },
                      {
                        "bin_end": 0.79004,
                        "bin_start": 0.69606,
                        "count": 61
                      },
                      {
                        "bin_end": 0.8840199999999999,
                        "bin_start": 0.79004,
                        "count": 54
                      },
                      {
                        "bin_end": 0.978,
                        "bin_start": 0.8840199999999999,
                        "count": 59
                      }
                    ],
                    "max": "0.978",
                    "min": "0.0382",
                    "nan_count": 0,
                    "unique_count": 367
                  }
                },
                {
                  "dtype": "float64",
                  "name": "tempo",
                  "stats": {
                    "histogram": [
                      {
                        "bin_end": 81.0785,
                        "bin_start": 67.531,
                        "count": 31
                      },
                      {
                        "bin_end": 94.626,
                        "bin_start": 81.0785,
                        "count": 64
                      },
                      {
                        "bin_end": 108.1735,
                        "bin_start": 94.626,
                        "count": 93
                      },
                      {
                        "bin_end": 121.721,
                        "bin_start": 108.1735,
                        "count": 101
                      },
                      {
                        "bin_end": 135.26850000000002,
                        "bin_start": 121.721,
                        "count": 98
                      },
                      {
                        "bin_end": 148.816,
                        "bin_start": 135.26850000000002,
                        "count": 45
                      },
                      {
                        "bin_end": 162.3635,
                        "bin_start": 148.816,
                        "count": 25
                      },
                      {
                        "bin_end": 175.911,
                        "bin_start": 162.3635,
                        "count": 31
                      },
                      {
                        "bin_end": 189.45850000000002,
                        "bin_start": 175.911,
                        "count": 10
                      },
                      {
                        "bin_end": 203.006,
                        "bin_start": 189.45850000000002,
                        "count": 2
                      }
                    ],
                    "max": "203.006",
                    "min": "67.531",
                    "nan_count": 0,
                    "unique_count": 493
                  }
                },
                {
                  "dtype": "object",
                  "name": "type",
                  "stats": {
                    "categories": [
                      {
                        "count": 500,
                        "name": "audio_features"
                      }
                    ],
                    "nan_count": 0,
                    "unique_count": 1
                  }
                },
                {
                  "dtype": "object",
                  "name": "id",
                  "stats": {
                    "categories": [
                      {
                        "count": 2,
                        "name": "48UPSzbZjgc449aqz8bxox"
                      },
                      {
                        "count": 2,
                        "name": "3WkibOpDF7cQ5xntM1epyf"
                      },
                      {
                        "count": 496,
                        "name": "493 others"
                      }
                    ],
                    "nan_count": 0,
                    "unique_count": 495
                  }
                },
                {
                  "dtype": "object",
                  "name": "uri",
                  "stats": {
                    "categories": [
                      {
                        "count": 2,
                        "name": "spotify:track:48UPSzbZjgc449aqz8bxox"
                      },
                      {
                        "count": 2,
                        "name": "spotify:track:3WkibOpDF7cQ5xntM1epyf"
                      },
                      {
                        "count": 496,
                        "name": "493 others"
                      }
                    ],
                    "nan_count": 0,
                    "unique_count": 495
                  }
                },
                {
                  "dtype": "object",
                  "name": "track_href",
                  "stats": {
                    "categories": [
                      {
                        "count": 2,
                        "name": "https://api.spotify.com/v1/tracks/48UPSzbZjgc449aqz8bxox"
                      },
                      {
                        "count": 2,
                        "name": "https://api.spotify.com/v1/tracks/3WkibOpDF7cQ5xntM1epyf"
                      },
                      {
                        "count": 496,
                        "name": "493 others"
                      }
                    ],
                    "nan_count": 0,
                    "unique_count": 495
                  }
                },
                {
                  "dtype": "object",
                  "name": "analysis_url",
                  "stats": {
                    "categories": [
                      {
                        "count": 2,
                        "name": "https://api.spotify.com/v1/audio-analysis/48UPSzbZjgc449aqz8bxox"
                      },
                      {
                        "count": 2,
                        "name": "https://api.spotify.com/v1/audio-analysis/3WkibOpDF7cQ5xntM1epyf"
                      },
                      {
                        "count": 496,
                        "name": "493 others"
                      }
                    ],
                    "nan_count": 0,
                    "unique_count": 495
                  }
                },
                {
                  "dtype": "int64",
                  "name": "duration_ms",
                  "stats": {
                    "histogram": [
                      {
                        "bin_end": 141260.4,
                        "bin_start": 97393,
                        "count": 11
                      },
                      {
                        "bin_end": 185127.8,
                        "bin_start": 141260.4,
                        "count": 67
                      },
                      {
                        "bin_end": 228995.2,
                        "bin_start": 185127.8,
                        "count": 167
                      },
                      {
                        "bin_end": 272862.6,
                        "bin_start": 228995.2,
                        "count": 160
                      },
                      {
                        "bin_end": 316730,
                        "bin_start": 272862.6,
                        "count": 70
                      },
                      {
                        "bin_end": 360597.4,
                        "bin_start": 316730,
                        "count": 19
                      },
                      {
                        "bin_end": 404464.8,
                        "bin_start": 360597.4,
                        "count": 2
                      },
                      {
                        "bin_end": 448332.2,
                        "bin_start": 404464.8,
                        "count": 2
                      },
                      {
                        "bin_end": 492199.60000000003,
                        "bin_start": 448332.2,
                        "count": 0
                      },
                      {
                        "bin_end": 536067,
                        "bin_start": 492199.60000000003,
                        "count": 2
                      }
                    ],
                    "max": "536067",
                    "min": "97393",
                    "nan_count": 0,
                    "unique_count": 489
                  }
                },
                {
                  "dtype": "int64",
                  "name": "time_signature",
                  "stats": {
                    "histogram": [
                      {
                        "bin_end": 1.4,
                        "bin_start": 1,
                        "count": 1
                      },
                      {
                        "bin_end": 1.8,
                        "bin_start": 1.4,
                        "count": 0
                      },
                      {
                        "bin_end": 2.2,
                        "bin_start": 1.8,
                        "count": 0
                      },
                      {
                        "bin_end": 2.6,
                        "bin_start": 2.2,
                        "count": 0
                      },
                      {
                        "bin_end": 3,
                        "bin_start": 2.6,
                        "count": 0
                      },
                      {
                        "bin_end": 3.4000000000000004,
                        "bin_start": 3,
                        "count": 19
                      },
                      {
                        "bin_end": 3.8000000000000003,
                        "bin_start": 3.4000000000000004,
                        "count": 0
                      },
                      {
                        "bin_end": 4.2,
                        "bin_start": 3.8000000000000003,
                        "count": 476
                      },
                      {
                        "bin_end": 4.6,
                        "bin_start": 4.2,
                        "count": 0
                      },
                      {
                        "bin_end": 5,
                        "bin_start": 4.6,
                        "count": 4
                      }
                    ],
                    "max": "5",
                    "min": "1",
                    "nan_count": 0,
                    "unique_count": 4
                  }
                },
                {
                  "dtype": "object",
                  "name": "release_date",
                  "stats": {
                    "categories": [
                      {
                        "count": 100,
                        "name": "1980s"
                      },
                      {
                        "count": 100,
                        "name": "1990s"
                      },
                      {
                        "count": 300,
                        "name": "3 others"
                      }
                    ],
                    "nan_count": 0,
                    "unique_count": 5
                  }
                },
                {
                  "dtype": "object",
                  "name": "mood",
                  "stats": {
                    "categories": [
                      {
                        "count": 500,
                        "name": "for_prediction"
                      }
                    ],
                    "nan_count": 0,
                    "unique_count": 1
                  }
                },
                {
                  "dtype": "int64",
                  "name": "_deepnote_index_column"
                }
              ],
              "row_count": 500,
              "rows": [
                {
                  "Unnamed: 0": 0,
                  "_deepnote_index_column": 0,
                  "acousticness": 0.0236,
                  "analysis_url": "https://api.spotify.com/v1/audio-analysis/5ChkMS8OtdzJeqyybCc9R5",
                  "danceability": 0.92,
                  "duration_ms": 293827,
                  "energy": 0.654,
                  "id": "5ChkMS8OtdzJeqyybCc9R5",
                  "instrumentalness": 0.0153,
                  "key": 11,
                  "liveness": 0.036,
                  "loudness": -3.051,
                  "mode": 0,
                  "mood": "for_prediction",
                  "release_date": "1980s",
                  "speechiness": 0.0401,
                  "tempo": 117.046,
                  "time_signature": 4,
                  "track_href": "https://api.spotify.com/v1/tracks/5ChkMS8OtdzJeqyybCc9R5",
                  "type": "audio_features",
                  "uri": "spotify:track:5ChkMS8OtdzJeqyybCc9R5",
                  "valence": 0.847
                },
                {
                  "Unnamed: 0": 1,
                  "_deepnote_index_column": 1,
                  "acousticness": 0.313,
                  "analysis_url": "https://api.spotify.com/v1/audio-analysis/2M9ro2krNb7nr7HSprkEgo",
                  "danceability": 0.711,
                  "duration_ms": 296800,
                  "energy": 0.292,
                  "id": "2M9ro2krNb7nr7HSprkEgo",
                  "instrumentalness": 0,
                  "key": 4,
                  "liveness": 0.131,
                  "loudness": -15.523,
                  "mode": 0,
                  "mood": "for_prediction",
                  "release_date": "1980s",
                  "speechiness": 0.037,
                  "tempo": 103.951,
                  "time_signature": 4,
                  "track_href": "https://api.spotify.com/v1/tracks/2M9ro2krNb7nr7HSprkEgo",
                  "type": "audio_features",
                  "uri": "spotify:track:2M9ro2krNb7nr7HSprkEgo",
                  "valence": 0.194
                },
                {
                  "Unnamed: 0": 2,
                  "_deepnote_index_column": 2,
                  "acousticness": 0.347,
                  "analysis_url": "https://api.spotify.com/v1/audio-analysis/4RvWPyQ5RL0ao9LPZeSouE",
                  "danceability": 0.645,
                  "duration_ms": 251489,
                  "energy": 0.795,
                  "id": "4RvWPyQ5RL0ao9LPZeSouE",
                  "instrumentalness": 0.00389,
                  "key": 7,
                  "liveness": 0.104,
                  "loudness": -12.095,
                  "mode": 1,
                  "mood": "for_prediction",
                  "release_date": "1980s",
                  "speechiness": 0.0527,
                  "tempo": 112.067,
                  "time_signature": 4,
                  "track_href": "https://api.spotify.com/v1/tracks/4RvWPyQ5RL0ao9LPZeSouE",
                  "type": "audio_features",
                  "uri": "spotify:track:4RvWPyQ5RL0ao9LPZeSouE",
                  "valence": 0.535
                },
                {
                  "Unnamed: 0": 3,
                  "_deepnote_index_column": 3,
                  "acousticness": 0.243,
                  "analysis_url": "https://api.spotify.com/v1/audio-analysis/6mYrhCAGWzTdF8QnKuchXM",
                  "danceability": 0.658,
                  "duration_ms": 239827,
                  "energy": 0.575,
                  "id": "6mYrhCAGWzTdF8QnKuchXM",
                  "instrumentalness": 0,
                  "key": 11,
                  "liveness": 0.122,
                  "loudness": -10.365,
                  "mode": 1,
                  "mood": "for_prediction",
                  "release_date": "1980s",
                  "speechiness": 0.0267,
                  "tempo": 108.329,
                  "time_signature": 4,
                  "track_href": "https://api.spotify.com/v1/tracks/6mYrhCAGWzTdF8QnKuchXM",
                  "type": "audio_features",
                  "uri": "spotify:track:6mYrhCAGWzTdF8QnKuchXM",
                  "valence": 0.504
                },
                {
                  "Unnamed: 0": 4,
                  "_deepnote_index_column": 4,
                  "acousticness": 0.189,
                  "analysis_url": "https://api.spotify.com/v1/audio-analysis/3Z2tPWiNiIpg8UMMoowHIk",
                  "danceability": 0.528,
                  "duration_ms": 427333,
                  "energy": 0.447,
                  "id": "3Z2tPWiNiIpg8UMMoowHIk",
                  "instrumentalness": 0,
                  "key": 4,
                  "liveness": 0.0745,
                  "loudness": -15.255,
                  "mode": 1,
                  "mood": "for_prediction",
                  "release_date": "1980s",
                  "speechiness": 0.0435,
                  "tempo": 72.58,
                  "time_signature": 4,
                  "track_href": "https://api.spotify.com/v1/tracks/3Z2tPWiNiIpg8UMMoowHIk",
                  "type": "audio_features",
                  "uri": "spotify:track:3Z2tPWiNiIpg8UMMoowHIk",
                  "valence": 0.292
                },
                {
                  "Unnamed: 0": 5,
                  "_deepnote_index_column": 5,
                  "acousticness": 0.000202,
                  "analysis_url": "https://api.spotify.com/v1/audio-analysis/6ADSaE87h8Y3lccZlBJdXH",
                  "danceability": 0.54,
                  "duration_ms": 295516,
                  "energy": 0.429,
                  "id": "6ADSaE87h8Y3lccZlBJdXH",
                  "instrumentalness": 0.355,
                  "key": 2,
                  "liveness": 0.141,
                  "loudness": -11.822,
                  "mode": 1,
                  "mood": "for_prediction",
                  "release_date": "1980s",
                  "speechiness": 0.0285,
                  "tempo": 110.171,
                  "time_signature": 4,
                  "track_href": "https://api.spotify.com/v1/tracks/6ADSaE87h8Y3lccZlBJdXH",
                  "type": "audio_features",
                  "uri": "spotify:track:6ADSaE87h8Y3lccZlBJdXH",
                  "valence": 0.113
                },
                {
                  "Unnamed: 0": 6,
                  "_deepnote_index_column": 6,
                  "acousticness": 0.018,
                  "analysis_url": "https://api.spotify.com/v1/audio-analysis/2WfaOiMkCvy7F5fcp2zZ8L",
                  "danceability": 0.573,
                  "duration_ms": 225280,
                  "energy": 0.902,
                  "id": "2WfaOiMkCvy7F5fcp2zZ8L",
                  "instrumentalness": 0.00125,
                  "key": 6,
                  "liveness": 0.0928,
                  "loudness": -7.638,
                  "mode": 0,
                  "mood": "for_prediction",
                  "release_date": "1980s",
                  "speechiness": 0.054,
                  "tempo": 84.412,
                  "time_signature": 4,
                  "track_href": "https://api.spotify.com/v1/tracks/2WfaOiMkCvy7F5fcp2zZ8L",
                  "type": "audio_features",
                  "uri": "spotify:track:2WfaOiMkCvy7F5fcp2zZ8L",
                  "valence": 0.876
                },
                {
                  "Unnamed: 0": 7,
                  "_deepnote_index_column": 7,
                  "acousticness": 0.0289,
                  "analysis_url": "https://api.spotify.com/v1/audio-analysis/7fRvtXvJMpGfTLdF0M09a1",
                  "danceability": 0.72,
                  "duration_ms": 235093,
                  "energy": 0.967,
                  "id": "7fRvtXvJMpGfTLdF0M09a1",
                  "instrumentalness": 0.000345,
                  "key": 9,
                  "liveness": 0.142,
                  "loudness": -4.434,
                  "mode": 0,
                  "mood": "for_prediction",
                  "release_date": "1980s",
                  "speechiness": 0.0343,
                  "tempo": 129.766,
                  "time_signature": 4,
                  "track_href": "https://api.spotify.com/v1/tracks/7fRvtXvJMpGfTLdF0M09a1",
                  "type": "audio_features",
                  "uri": "spotify:track:7fRvtXvJMpGfTLdF0M09a1",
                  "valence": 0.977
                },
                {
                  "Unnamed: 0": 8,
                  "_deepnote_index_column": 8,
                  "acousticness": 0.125,
                  "analysis_url": "https://api.spotify.com/v1/audio-analysis/3nFJbZCHP4d9vduKjJLdBL",
                  "danceability": 0.734,
                  "duration_ms": 230467,
                  "energy": 0.586,
                  "id": "3nFJbZCHP4d9vduKjJLdBL",
                  "instrumentalness": 0,
                  "key": 2,
                  "liveness": 0.0367,
                  "loudness": -11.866,
                  "mode": 1,
                  "mood": "for_prediction",
                  "release_date": "1980s",
                  "speechiness": 0.129,
                  "tempo": 109.933,
                  "time_signature": 4,
                  "track_href": "https://api.spotify.com/v1/tracks/3nFJbZCHP4d9vduKjJLdBL",
                  "type": "audio_features",
                  "uri": "spotify:track:3nFJbZCHP4d9vduKjJLdBL",
                  "valence": 0.762
                },
                {
                  "Unnamed: 0": 9,
                  "_deepnote_index_column": 9,
                  "acousticness": 0.0901,
                  "analysis_url": "https://api.spotify.com/v1/audio-analysis/7snQQk1zcKl8gZ92AnueZW",
                  "danceability": 0.446,
                  "duration_ms": 356067,
                  "energy": 0.952,
                  "id": "7snQQk1zcKl8gZ92AnueZW",
                  "instrumentalness": 0.0857,
                  "key": 6,
                  "liveness": 0.112,
                  "loudness": -5.321,
                  "mode": 1,
                  "mood": "for_prediction",
                  "release_date": "1980s",
                  "speechiness": 0.0523,
                  "tempo": 125.303,
                  "time_signature": 4,
                  "track_href": "https://api.spotify.com/v1/tracks/7snQQk1zcKl8gZ92AnueZW",
                  "type": "audio_features",
                  "uri": "spotify:track:7snQQk1zcKl8gZ92AnueZW",
                  "valence": 0.624
                }
              ]
            },
            "text/html": [
              "<div>\n",
              "<style scoped>\n",
              "    .dataframe tbody tr th:only-of-type {\n",
              "        vertical-align: middle;\n",
              "    }\n",
              "\n",
              "    .dataframe tbody tr th {\n",
              "        vertical-align: top;\n",
              "    }\n",
              "\n",
              "    .dataframe thead th {\n",
              "        text-align: right;\n",
              "    }\n",
              "</style>\n",
              "<table border=\"1\" class=\"dataframe\">\n",
              "  <thead>\n",
              "    <tr style=\"text-align: right;\">\n",
              "      <th></th>\n",
              "      <th>Unnamed: 0</th>\n",
              "      <th>danceability</th>\n",
              "      <th>energy</th>\n",
              "      <th>key</th>\n",
              "      <th>loudness</th>\n",
              "      <th>mode</th>\n",
              "      <th>speechiness</th>\n",
              "      <th>acousticness</th>\n",
              "      <th>instrumentalness</th>\n",
              "      <th>liveness</th>\n",
              "      <th>...</th>\n",
              "      <th>tempo</th>\n",
              "      <th>type</th>\n",
              "      <th>id</th>\n",
              "      <th>uri</th>\n",
              "      <th>track_href</th>\n",
              "      <th>analysis_url</th>\n",
              "      <th>duration_ms</th>\n",
              "      <th>time_signature</th>\n",
              "      <th>release_date</th>\n",
              "      <th>mood</th>\n",
              "    </tr>\n",
              "  </thead>\n",
              "  <tbody>\n",
              "    <tr>\n",
              "      <th>0</th>\n",
              "      <td>0</td>\n",
              "      <td>0.920</td>\n",
              "      <td>0.654</td>\n",
              "      <td>11</td>\n",
              "      <td>-3.051</td>\n",
              "      <td>0</td>\n",
              "      <td>0.0401</td>\n",
              "      <td>0.02360</td>\n",
              "      <td>0.015300</td>\n",
              "      <td>0.0360</td>\n",
              "      <td>...</td>\n",
              "      <td>117.046</td>\n",
              "      <td>audio_features</td>\n",
              "      <td>5ChkMS8OtdzJeqyybCc9R5</td>\n",
              "      <td>spotify:track:5ChkMS8OtdzJeqyybCc9R5</td>\n",
              "      <td>https://api.spotify.com/v1/tracks/5ChkMS8OtdzJ...</td>\n",
              "      <td>https://api.spotify.com/v1/audio-analysis/5Chk...</td>\n",
              "      <td>293827</td>\n",
              "      <td>4</td>\n",
              "      <td>1980s</td>\n",
              "      <td>for_prediction</td>\n",
              "    </tr>\n",
              "    <tr>\n",
              "      <th>1</th>\n",
              "      <td>1</td>\n",
              "      <td>0.711</td>\n",
              "      <td>0.292</td>\n",
              "      <td>4</td>\n",
              "      <td>-15.523</td>\n",
              "      <td>0</td>\n",
              "      <td>0.0370</td>\n",
              "      <td>0.31300</td>\n",
              "      <td>0.000000</td>\n",
              "      <td>0.1310</td>\n",
              "      <td>...</td>\n",
              "      <td>103.951</td>\n",
              "      <td>audio_features</td>\n",
              "      <td>2M9ro2krNb7nr7HSprkEgo</td>\n",
              "      <td>spotify:track:2M9ro2krNb7nr7HSprkEgo</td>\n",
              "      <td>https://api.spotify.com/v1/tracks/2M9ro2krNb7n...</td>\n",
              "      <td>https://api.spotify.com/v1/audio-analysis/2M9r...</td>\n",
              "      <td>296800</td>\n",
              "      <td>4</td>\n",
              "      <td>1980s</td>\n",
              "      <td>for_prediction</td>\n",
              "    </tr>\n",
              "    <tr>\n",
              "      <th>2</th>\n",
              "      <td>2</td>\n",
              "      <td>0.645</td>\n",
              "      <td>0.795</td>\n",
              "      <td>7</td>\n",
              "      <td>-12.095</td>\n",
              "      <td>1</td>\n",
              "      <td>0.0527</td>\n",
              "      <td>0.34700</td>\n",
              "      <td>0.003890</td>\n",
              "      <td>0.1040</td>\n",
              "      <td>...</td>\n",
              "      <td>112.067</td>\n",
              "      <td>audio_features</td>\n",
              "      <td>4RvWPyQ5RL0ao9LPZeSouE</td>\n",
              "      <td>spotify:track:4RvWPyQ5RL0ao9LPZeSouE</td>\n",
              "      <td>https://api.spotify.com/v1/tracks/4RvWPyQ5RL0a...</td>\n",
              "      <td>https://api.spotify.com/v1/audio-analysis/4RvW...</td>\n",
              "      <td>251489</td>\n",
              "      <td>4</td>\n",
              "      <td>1980s</td>\n",
              "      <td>for_prediction</td>\n",
              "    </tr>\n",
              "    <tr>\n",
              "      <th>3</th>\n",
              "      <td>3</td>\n",
              "      <td>0.658</td>\n",
              "      <td>0.575</td>\n",
              "      <td>11</td>\n",
              "      <td>-10.365</td>\n",
              "      <td>1</td>\n",
              "      <td>0.0267</td>\n",
              "      <td>0.24300</td>\n",
              "      <td>0.000000</td>\n",
              "      <td>0.1220</td>\n",
              "      <td>...</td>\n",
              "      <td>108.329</td>\n",
              "      <td>audio_features</td>\n",
              "      <td>6mYrhCAGWzTdF8QnKuchXM</td>\n",
              "      <td>spotify:track:6mYrhCAGWzTdF8QnKuchXM</td>\n",
              "      <td>https://api.spotify.com/v1/tracks/6mYrhCAGWzTd...</td>\n",
              "      <td>https://api.spotify.com/v1/audio-analysis/6mYr...</td>\n",
              "      <td>239827</td>\n",
              "      <td>4</td>\n",
              "      <td>1980s</td>\n",
              "      <td>for_prediction</td>\n",
              "    </tr>\n",
              "    <tr>\n",
              "      <th>4</th>\n",
              "      <td>4</td>\n",
              "      <td>0.528</td>\n",
              "      <td>0.447</td>\n",
              "      <td>4</td>\n",
              "      <td>-15.255</td>\n",
              "      <td>1</td>\n",
              "      <td>0.0435</td>\n",
              "      <td>0.18900</td>\n",
              "      <td>0.000000</td>\n",
              "      <td>0.0745</td>\n",
              "      <td>...</td>\n",
              "      <td>72.580</td>\n",
              "      <td>audio_features</td>\n",
              "      <td>3Z2tPWiNiIpg8UMMoowHIk</td>\n",
              "      <td>spotify:track:3Z2tPWiNiIpg8UMMoowHIk</td>\n",
              "      <td>https://api.spotify.com/v1/tracks/3Z2tPWiNiIpg...</td>\n",
              "      <td>https://api.spotify.com/v1/audio-analysis/3Z2t...</td>\n",
              "      <td>427333</td>\n",
              "      <td>4</td>\n",
              "      <td>1980s</td>\n",
              "      <td>for_prediction</td>\n",
              "    </tr>\n",
              "    <tr>\n",
              "      <th>...</th>\n",
              "      <td>...</td>\n",
              "      <td>...</td>\n",
              "      <td>...</td>\n",
              "      <td>...</td>\n",
              "      <td>...</td>\n",
              "      <td>...</td>\n",
              "      <td>...</td>\n",
              "      <td>...</td>\n",
              "      <td>...</td>\n",
              "      <td>...</td>\n",
              "      <td>...</td>\n",
              "      <td>...</td>\n",
              "      <td>...</td>\n",
              "      <td>...</td>\n",
              "      <td>...</td>\n",
              "      <td>...</td>\n",
              "      <td>...</td>\n",
              "      <td>...</td>\n",
              "      <td>...</td>\n",
              "      <td>...</td>\n",
              "      <td>...</td>\n",
              "    </tr>\n",
              "    <tr>\n",
              "      <th>495</th>\n",
              "      <td>495</td>\n",
              "      <td>0.727</td>\n",
              "      <td>0.739</td>\n",
              "      <td>8</td>\n",
              "      <td>-3.805</td>\n",
              "      <td>1</td>\n",
              "      <td>0.0411</td>\n",
              "      <td>0.36500</td>\n",
              "      <td>0.001370</td>\n",
              "      <td>0.1610</td>\n",
              "      <td>...</td>\n",
              "      <td>93.005</td>\n",
              "      <td>audio_features</td>\n",
              "      <td>2Xr1dTzJee307rmrkt8c0g</td>\n",
              "      <td>spotify:track:2Xr1dTzJee307rmrkt8c0g</td>\n",
              "      <td>https://api.spotify.com/v1/tracks/2Xr1dTzJee30...</td>\n",
              "      <td>https://api.spotify.com/v1/audio-analysis/2Xr1...</td>\n",
              "      <td>145800</td>\n",
              "      <td>4</td>\n",
              "      <td>2020s</td>\n",
              "      <td>for_prediction</td>\n",
              "    </tr>\n",
              "    <tr>\n",
              "      <th>496</th>\n",
              "      <td>496</td>\n",
              "      <td>0.761</td>\n",
              "      <td>0.518</td>\n",
              "      <td>0</td>\n",
              "      <td>-8.871</td>\n",
              "      <td>1</td>\n",
              "      <td>0.1340</td>\n",
              "      <td>0.24400</td>\n",
              "      <td>0.000035</td>\n",
              "      <td>0.1070</td>\n",
              "      <td>...</td>\n",
              "      <td>133.976</td>\n",
              "      <td>audio_features</td>\n",
              "      <td>2SAqBLGA283SUiwJ3xOUVI</td>\n",
              "      <td>spotify:track:2SAqBLGA283SUiwJ3xOUVI</td>\n",
              "      <td>https://api.spotify.com/v1/tracks/2SAqBLGA283S...</td>\n",
              "      <td>https://api.spotify.com/v1/audio-analysis/2SAq...</td>\n",
              "      <td>261493</td>\n",
              "      <td>4</td>\n",
              "      <td>2020s</td>\n",
              "      <td>for_prediction</td>\n",
              "    </tr>\n",
              "    <tr>\n",
              "      <th>497</th>\n",
              "      <td>497</td>\n",
              "      <td>0.758</td>\n",
              "      <td>0.913</td>\n",
              "      <td>6</td>\n",
              "      <td>-2.926</td>\n",
              "      <td>0</td>\n",
              "      <td>0.1130</td>\n",
              "      <td>0.00364</td>\n",
              "      <td>0.000069</td>\n",
              "      <td>0.1930</td>\n",
              "      <td>...</td>\n",
              "      <td>128.040</td>\n",
              "      <td>audio_features</td>\n",
              "      <td>0b18g3G5spr4ZCkz7Y6Q0Q</td>\n",
              "      <td>spotify:track:0b18g3G5spr4ZCkz7Y6Q0Q</td>\n",
              "      <td>https://api.spotify.com/v1/tracks/0b18g3G5spr4...</td>\n",
              "      <td>https://api.spotify.com/v1/audio-analysis/0b18...</td>\n",
              "      <td>186210</td>\n",
              "      <td>4</td>\n",
              "      <td>2020s</td>\n",
              "      <td>for_prediction</td>\n",
              "    </tr>\n",
              "    <tr>\n",
              "      <th>498</th>\n",
              "      <td>498</td>\n",
              "      <td>0.472</td>\n",
              "      <td>0.518</td>\n",
              "      <td>8</td>\n",
              "      <td>-7.379</td>\n",
              "      <td>1</td>\n",
              "      <td>0.0510</td>\n",
              "      <td>0.38300</td>\n",
              "      <td>0.127000</td>\n",
              "      <td>0.2890</td>\n",
              "      <td>...</td>\n",
              "      <td>147.805</td>\n",
              "      <td>audio_features</td>\n",
              "      <td>26hOm7dTtBi0TdpDGl141t</td>\n",
              "      <td>spotify:track:26hOm7dTtBi0TdpDGl141t</td>\n",
              "      <td>https://api.spotify.com/v1/tracks/26hOm7dTtBi0...</td>\n",
              "      <td>https://api.spotify.com/v1/audio-analysis/26hO...</td>\n",
              "      <td>211667</td>\n",
              "      <td>4</td>\n",
              "      <td>2020s</td>\n",
              "      <td>for_prediction</td>\n",
              "    </tr>\n",
              "    <tr>\n",
              "      <th>499</th>\n",
              "      <td>499</td>\n",
              "      <td>0.731</td>\n",
              "      <td>0.573</td>\n",
              "      <td>4</td>\n",
              "      <td>-10.059</td>\n",
              "      <td>0</td>\n",
              "      <td>0.0544</td>\n",
              "      <td>0.40100</td>\n",
              "      <td>0.000052</td>\n",
              "      <td>0.1130</td>\n",
              "      <td>...</td>\n",
              "      <td>109.928</td>\n",
              "      <td>audio_features</td>\n",
              "      <td>47EiUVwUp4C9fGccaPuUCS</td>\n",
              "      <td>spotify:track:47EiUVwUp4C9fGccaPuUCS</td>\n",
              "      <td>https://api.spotify.com/v1/tracks/47EiUVwUp4C9...</td>\n",
              "      <td>https://api.spotify.com/v1/audio-analysis/47Ei...</td>\n",
              "      <td>205090</td>\n",
              "      <td>4</td>\n",
              "      <td>2020s</td>\n",
              "      <td>for_prediction</td>\n",
              "    </tr>\n",
              "  </tbody>\n",
              "</table>\n",
              "<p>500 rows × 21 columns</p>\n",
              "</div>"
            ],
            "text/plain": [
              "     Unnamed: 0  danceability  energy  key  loudness  mode  speechiness  \\\n",
              "0             0         0.920   0.654   11    -3.051     0       0.0401   \n",
              "1             1         0.711   0.292    4   -15.523     0       0.0370   \n",
              "2             2         0.645   0.795    7   -12.095     1       0.0527   \n",
              "3             3         0.658   0.575   11   -10.365     1       0.0267   \n",
              "4             4         0.528   0.447    4   -15.255     1       0.0435   \n",
              "..          ...           ...     ...  ...       ...   ...          ...   \n",
              "495         495         0.727   0.739    8    -3.805     1       0.0411   \n",
              "496         496         0.761   0.518    0    -8.871     1       0.1340   \n",
              "497         497         0.758   0.913    6    -2.926     0       0.1130   \n",
              "498         498         0.472   0.518    8    -7.379     1       0.0510   \n",
              "499         499         0.731   0.573    4   -10.059     0       0.0544   \n",
              "\n",
              "     acousticness  instrumentalness  liveness  ...    tempo            type  \\\n",
              "0         0.02360          0.015300    0.0360  ...  117.046  audio_features   \n",
              "1         0.31300          0.000000    0.1310  ...  103.951  audio_features   \n",
              "2         0.34700          0.003890    0.1040  ...  112.067  audio_features   \n",
              "3         0.24300          0.000000    0.1220  ...  108.329  audio_features   \n",
              "4         0.18900          0.000000    0.0745  ...   72.580  audio_features   \n",
              "..            ...               ...       ...  ...      ...             ...   \n",
              "495       0.36500          0.001370    0.1610  ...   93.005  audio_features   \n",
              "496       0.24400          0.000035    0.1070  ...  133.976  audio_features   \n",
              "497       0.00364          0.000069    0.1930  ...  128.040  audio_features   \n",
              "498       0.38300          0.127000    0.2890  ...  147.805  audio_features   \n",
              "499       0.40100          0.000052    0.1130  ...  109.928  audio_features   \n",
              "\n",
              "                         id                                   uri  \\\n",
              "0    5ChkMS8OtdzJeqyybCc9R5  spotify:track:5ChkMS8OtdzJeqyybCc9R5   \n",
              "1    2M9ro2krNb7nr7HSprkEgo  spotify:track:2M9ro2krNb7nr7HSprkEgo   \n",
              "2    4RvWPyQ5RL0ao9LPZeSouE  spotify:track:4RvWPyQ5RL0ao9LPZeSouE   \n",
              "3    6mYrhCAGWzTdF8QnKuchXM  spotify:track:6mYrhCAGWzTdF8QnKuchXM   \n",
              "4    3Z2tPWiNiIpg8UMMoowHIk  spotify:track:3Z2tPWiNiIpg8UMMoowHIk   \n",
              "..                      ...                                   ...   \n",
              "495  2Xr1dTzJee307rmrkt8c0g  spotify:track:2Xr1dTzJee307rmrkt8c0g   \n",
              "496  2SAqBLGA283SUiwJ3xOUVI  spotify:track:2SAqBLGA283SUiwJ3xOUVI   \n",
              "497  0b18g3G5spr4ZCkz7Y6Q0Q  spotify:track:0b18g3G5spr4ZCkz7Y6Q0Q   \n",
              "498  26hOm7dTtBi0TdpDGl141t  spotify:track:26hOm7dTtBi0TdpDGl141t   \n",
              "499  47EiUVwUp4C9fGccaPuUCS  spotify:track:47EiUVwUp4C9fGccaPuUCS   \n",
              "\n",
              "                                            track_href  \\\n",
              "0    https://api.spotify.com/v1/tracks/5ChkMS8OtdzJ...   \n",
              "1    https://api.spotify.com/v1/tracks/2M9ro2krNb7n...   \n",
              "2    https://api.spotify.com/v1/tracks/4RvWPyQ5RL0a...   \n",
              "3    https://api.spotify.com/v1/tracks/6mYrhCAGWzTd...   \n",
              "4    https://api.spotify.com/v1/tracks/3Z2tPWiNiIpg...   \n",
              "..                                                 ...   \n",
              "495  https://api.spotify.com/v1/tracks/2Xr1dTzJee30...   \n",
              "496  https://api.spotify.com/v1/tracks/2SAqBLGA283S...   \n",
              "497  https://api.spotify.com/v1/tracks/0b18g3G5spr4...   \n",
              "498  https://api.spotify.com/v1/tracks/26hOm7dTtBi0...   \n",
              "499  https://api.spotify.com/v1/tracks/47EiUVwUp4C9...   \n",
              "\n",
              "                                          analysis_url duration_ms  \\\n",
              "0    https://api.spotify.com/v1/audio-analysis/5Chk...      293827   \n",
              "1    https://api.spotify.com/v1/audio-analysis/2M9r...      296800   \n",
              "2    https://api.spotify.com/v1/audio-analysis/4RvW...      251489   \n",
              "3    https://api.spotify.com/v1/audio-analysis/6mYr...      239827   \n",
              "4    https://api.spotify.com/v1/audio-analysis/3Z2t...      427333   \n",
              "..                                                 ...         ...   \n",
              "495  https://api.spotify.com/v1/audio-analysis/2Xr1...      145800   \n",
              "496  https://api.spotify.com/v1/audio-analysis/2SAq...      261493   \n",
              "497  https://api.spotify.com/v1/audio-analysis/0b18...      186210   \n",
              "498  https://api.spotify.com/v1/audio-analysis/26hO...      211667   \n",
              "499  https://api.spotify.com/v1/audio-analysis/47Ei...      205090   \n",
              "\n",
              "     time_signature  release_date            mood  \n",
              "0                 4         1980s  for_prediction  \n",
              "1                 4         1980s  for_prediction  \n",
              "2                 4         1980s  for_prediction  \n",
              "3                 4         1980s  for_prediction  \n",
              "4                 4         1980s  for_prediction  \n",
              "..              ...           ...             ...  \n",
              "495               4         2020s  for_prediction  \n",
              "496               4         2020s  for_prediction  \n",
              "497               4         2020s  for_prediction  \n",
              "498               4         2020s  for_prediction  \n",
              "499               4         2020s  for_prediction  \n",
              "\n",
              "[500 rows x 21 columns]"
            ]
          },
          "execution_count": 31,
          "metadata": {},
          "output_type": "execute_result"
        }
      ],
      "source": [
        "new_data = pd.read_csv('/work/best_songs_1980s_2020s.csv')\n",
        "new_data"
      ]
    },
    {
      "cell_type": "markdown",
      "metadata": {
        "cell_id": "6d027c07f2d249789d149bb462ec7d7b",
        "deepnote_cell_type": "markdown",
        "id": "5PwsMkbedm5f"
      },
      "source": [
        "Actualizamos los valores de **fechas** sobre `date` a `decade`."
      ]
    },
    {
      "cell_type": "code",
      "execution_count": null,
      "metadata": {
        "cell_id": "3d8c5be828a64eb88485d5d526746e9c",
        "deepnote_cell_type": "code",
        "deepnote_to_be_reexecuted": false,
        "execution_millis": 522,
        "execution_start": 1708297380569,
        "id": "Kf8nD2gLdm5f",
        "outputId": "49e2e192-447d-4ecf-a4f6-f932d91be105",
        "source_hash": "6b6e6d4e"
      },
      "outputs": [
        {
          "data": {
            "application/vnd.deepnote.dataframe.v3+json": {
              "column_count": 22,
              "columns": [
                {
                  "dtype": "int64",
                  "name": "Unnamed: 0",
                  "stats": {
                    "histogram": [
                      {
                        "bin_end": 49.9,
                        "bin_start": 0,
                        "count": 50
                      },
                      {
                        "bin_end": 99.8,
                        "bin_start": 49.9,
                        "count": 50
                      },
                      {
                        "bin_end": 149.7,
                        "bin_start": 99.8,
                        "count": 50
                      },
                      {
                        "bin_end": 199.6,
                        "bin_start": 149.7,
                        "count": 50
                      },
                      {
                        "bin_end": 249.5,
                        "bin_start": 199.6,
                        "count": 50
                      },
                      {
                        "bin_end": 299.4,
                        "bin_start": 249.5,
                        "count": 50
                      },
                      {
                        "bin_end": 349.3,
                        "bin_start": 299.4,
                        "count": 50
                      },
                      {
                        "bin_end": 399.2,
                        "bin_start": 349.3,
                        "count": 50
                      },
                      {
                        "bin_end": 449.09999999999997,
                        "bin_start": 399.2,
                        "count": 50
                      },
                      {
                        "bin_end": 499,
                        "bin_start": 449.09999999999997,
                        "count": 50
                      }
                    ],
                    "max": "499",
                    "min": "0",
                    "nan_count": 0,
                    "unique_count": 500
                  }
                },
                {
                  "dtype": "float64",
                  "name": "danceability",
                  "stats": {
                    "histogram": [
                      {
                        "bin_end": 0.2848,
                        "bin_start": 0.209,
                        "count": 7
                      },
                      {
                        "bin_end": 0.36060000000000003,
                        "bin_start": 0.2848,
                        "count": 17
                      },
                      {
                        "bin_end": 0.4364,
                        "bin_start": 0.36060000000000003,
                        "count": 29
                      },
                      {
                        "bin_end": 0.5122,
                        "bin_start": 0.4364,
                        "count": 54
                      },
                      {
                        "bin_end": 0.588,
                        "bin_start": 0.5122,
                        "count": 74
                      },
                      {
                        "bin_end": 0.6638000000000001,
                        "bin_start": 0.588,
                        "count": 85
                      },
                      {
                        "bin_end": 0.7396,
                        "bin_start": 0.6638000000000001,
                        "count": 98
                      },
                      {
                        "bin_end": 0.8154,
                        "bin_start": 0.7396,
                        "count": 78
                      },
                      {
                        "bin_end": 0.8912,
                        "bin_start": 0.8154,
                        "count": 34
                      },
                      {
                        "bin_end": 0.967,
                        "bin_start": 0.8912,
                        "count": 24
                      }
                    ],
                    "max": "0.967",
                    "min": "0.209",
                    "nan_count": 0,
                    "unique_count": 329
                  }
                },
                {
                  "dtype": "float64",
                  "name": "energy",
                  "stats": {
                    "histogram": [
                      {
                        "bin_end": 0.18069000000000002,
                        "bin_start": 0.0911,
                        "count": 2
                      },
                      {
                        "bin_end": 0.27028,
                        "bin_start": 0.18069000000000002,
                        "count": 6
                      },
                      {
                        "bin_end": 0.35987,
                        "bin_start": 0.27028,
                        "count": 19
                      },
                      {
                        "bin_end": 0.44946,
                        "bin_start": 0.35987,
                        "count": 35
                      },
                      {
                        "bin_end": 0.53905,
                        "bin_start": 0.44946,
                        "count": 56
                      },
                      {
                        "bin_end": 0.62864,
                        "bin_start": 0.53905,
                        "count": 79
                      },
                      {
                        "bin_end": 0.7182299999999999,
                        "bin_start": 0.62864,
                        "count": 84
                      },
                      {
                        "bin_end": 0.80782,
                        "bin_start": 0.7182299999999999,
                        "count": 84
                      },
                      {
                        "bin_end": 0.89741,
                        "bin_start": 0.80782,
                        "count": 79
                      },
                      {
                        "bin_end": 0.987,
                        "bin_start": 0.89741,
                        "count": 56
                      }
                    ],
                    "max": "0.987",
                    "min": "0.0911",
                    "nan_count": 0,
                    "unique_count": 340
                  }
                },
                {
                  "dtype": "int64",
                  "name": "key",
                  "stats": {
                    "histogram": [
                      {
                        "bin_end": 1.1,
                        "bin_start": 0,
                        "count": 114
                      },
                      {
                        "bin_end": 2.2,
                        "bin_start": 1.1,
                        "count": 45
                      },
                      {
                        "bin_end": 3.3000000000000003,
                        "bin_start": 2.2,
                        "count": 13
                      },
                      {
                        "bin_end": 4.4,
                        "bin_start": 3.3000000000000003,
                        "count": 43
                      },
                      {
                        "bin_end": 5.5,
                        "bin_start": 4.4,
                        "count": 52
                      },
                      {
                        "bin_end": 6.6000000000000005,
                        "bin_start": 5.5,
                        "count": 42
                      },
                      {
                        "bin_end": 7.700000000000001,
                        "bin_start": 6.6000000000000005,
                        "count": 40
                      },
                      {
                        "bin_end": 8.8,
                        "bin_start": 7.700000000000001,
                        "count": 33
                      },
                      {
                        "bin_end": 9.9,
                        "bin_start": 8.8,
                        "count": 36
                      },
                      {
                        "bin_end": 11,
                        "bin_start": 9.9,
                        "count": 82
                      }
                    ],
                    "max": "11",
                    "min": "0",
                    "nan_count": 0,
                    "unique_count": 12
                  }
                },
                {
                  "dtype": "float64",
                  "name": "loudness",
                  "stats": {
                    "histogram": [
                      {
                        "bin_end": -16.410899999999998,
                        "bin_start": -18.09,
                        "count": 6
                      },
                      {
                        "bin_end": -14.7318,
                        "bin_start": -16.410899999999998,
                        "count": 4
                      },
                      {
                        "bin_end": -13.0527,
                        "bin_start": -14.7318,
                        "count": 16
                      },
                      {
                        "bin_end": -11.3736,
                        "bin_start": -13.0527,
                        "count": 19
                      },
                      {
                        "bin_end": -9.6945,
                        "bin_start": -11.3736,
                        "count": 32
                      },
                      {
                        "bin_end": -8.0154,
                        "bin_start": -9.6945,
                        "count": 63
                      },
                      {
                        "bin_end": -6.3363,
                        "bin_start": -8.0154,
                        "count": 98
                      },
                      {
                        "bin_end": -4.6572,
                        "bin_start": -6.3363,
                        "count": 146
                      },
                      {
                        "bin_end": -2.9780999999999995,
                        "bin_start": -4.6572,
                        "count": 98
                      },
                      {
                        "bin_end": -1.299,
                        "bin_start": -2.9780999999999995,
                        "count": 18
                      }
                    ],
                    "max": "-1.299",
                    "min": "-18.09",
                    "nan_count": 0,
                    "unique_count": 478
                  }
                },
                {
                  "dtype": "int64",
                  "name": "mode",
                  "stats": {
                    "histogram": [
                      {
                        "bin_end": 0.1,
                        "bin_start": 0,
                        "count": 174
                      },
                      {
                        "bin_end": 0.2,
                        "bin_start": 0.1,
                        "count": 0
                      },
                      {
                        "bin_end": 0.30000000000000004,
                        "bin_start": 0.2,
                        "count": 0
                      },
                      {
                        "bin_end": 0.4,
                        "bin_start": 0.30000000000000004,
                        "count": 0
                      },
                      {
                        "bin_end": 0.5,
                        "bin_start": 0.4,
                        "count": 0
                      },
                      {
                        "bin_end": 0.6000000000000001,
                        "bin_start": 0.5,
                        "count": 0
                      },
                      {
                        "bin_end": 0.7000000000000001,
                        "bin_start": 0.6000000000000001,
                        "count": 0
                      },
                      {
                        "bin_end": 0.8,
                        "bin_start": 0.7000000000000001,
                        "count": 0
                      },
                      {
                        "bin_end": 0.9,
                        "bin_start": 0.8,
                        "count": 0
                      },
                      {
                        "bin_end": 1,
                        "bin_start": 0.9,
                        "count": 326
                      }
                    ],
                    "max": "1",
                    "min": "0",
                    "nan_count": 0,
                    "unique_count": 2
                  }
                },
                {
                  "dtype": "float64",
                  "name": "speechiness",
                  "stats": {
                    "histogram": [
                      {
                        "bin_end": 0.06883,
                        "bin_start": 0.0227,
                        "count": 354
                      },
                      {
                        "bin_end": 0.11495999999999999,
                        "bin_start": 0.06883,
                        "count": 68
                      },
                      {
                        "bin_end": 0.16108999999999998,
                        "bin_start": 0.11495999999999999,
                        "count": 28
                      },
                      {
                        "bin_end": 0.20722,
                        "bin_start": 0.16108999999999998,
                        "count": 10
                      },
                      {
                        "bin_end": 0.25335,
                        "bin_start": 0.20722,
                        "count": 10
                      },
                      {
                        "bin_end": 0.29947999999999997,
                        "bin_start": 0.25335,
                        "count": 11
                      },
                      {
                        "bin_end": 0.34561,
                        "bin_start": 0.29947999999999997,
                        "count": 8
                      },
                      {
                        "bin_end": 0.39174,
                        "bin_start": 0.34561,
                        "count": 6
                      },
                      {
                        "bin_end": 0.43787,
                        "bin_start": 0.39174,
                        "count": 2
                      },
                      {
                        "bin_end": 0.484,
                        "bin_start": 0.43787,
                        "count": 3
                      }
                    ],
                    "max": "0.484",
                    "min": "0.0227",
                    "nan_count": 0,
                    "unique_count": 353
                  }
                },
                {
                  "dtype": "float64",
                  "name": "acousticness",
                  "stats": {
                    "histogram": [
                      {
                        "bin_end": 0.09781646999999999,
                        "bin_start": 0.0000183,
                        "count": 243
                      },
                      {
                        "bin_end": 0.19561463999999998,
                        "bin_start": 0.09781646999999999,
                        "count": 81
                      },
                      {
                        "bin_end": 0.29341280999999997,
                        "bin_start": 0.19561463999999998,
                        "count": 58
                      },
                      {
                        "bin_end": 0.39121098,
                        "bin_start": 0.29341280999999997,
                        "count": 32
                      },
                      {
                        "bin_end": 0.48900915,
                        "bin_start": 0.39121098,
                        "count": 19
                      },
                      {
                        "bin_end": 0.5868073199999999,
                        "bin_start": 0.48900915,
                        "count": 19
                      },
                      {
                        "bin_end": 0.6846054899999999,
                        "bin_start": 0.5868073199999999,
                        "count": 19
                      },
                      {
                        "bin_end": 0.78240366,
                        "bin_start": 0.6846054899999999,
                        "count": 13
                      },
                      {
                        "bin_end": 0.88020183,
                        "bin_start": 0.78240366,
                        "count": 10
                      },
                      {
                        "bin_end": 0.978,
                        "bin_start": 0.88020183,
                        "count": 6
                      }
                    ],
                    "max": "0.978",
                    "min": "1.83e-05",
                    "nan_count": 0,
                    "unique_count": 423
                  }
                },
                {
                  "dtype": "float64",
                  "name": "instrumentalness",
                  "stats": {
                    "histogram": [
                      {
                        "bin_end": 0.0751,
                        "bin_start": 0,
                        "count": 470
                      },
                      {
                        "bin_end": 0.1502,
                        "bin_start": 0.0751,
                        "count": 16
                      },
                      {
                        "bin_end": 0.2253,
                        "bin_start": 0.1502,
                        "count": 5
                      },
                      {
                        "bin_end": 0.3004,
                        "bin_start": 0.2253,
                        "count": 1
                      },
                      {
                        "bin_end": 0.3755,
                        "bin_start": 0.3004,
                        "count": 1
                      },
                      {
                        "bin_end": 0.4506,
                        "bin_start": 0.3755,
                        "count": 0
                      },
                      {
                        "bin_end": 0.5257000000000001,
                        "bin_start": 0.4506,
                        "count": 2
                      },
                      {
                        "bin_end": 0.6008,
                        "bin_start": 0.5257000000000001,
                        "count": 2
                      },
                      {
                        "bin_end": 0.6759,
                        "bin_start": 0.6008,
                        "count": 1
                      },
                      {
                        "bin_end": 0.751,
                        "bin_start": 0.6759,
                        "count": 2
                      }
                    ],
                    "max": "0.751",
                    "min": "0.0",
                    "nan_count": 0,
                    "unique_count": 289
                  }
                },
                {
                  "dtype": "float64",
                  "name": "liveness",
                  "stats": {
                    "histogram": [
                      {
                        "bin_end": 0.09988,
                        "bin_start": 0.0232,
                        "count": 183
                      },
                      {
                        "bin_end": 0.17656,
                        "bin_start": 0.09988,
                        "count": 174
                      },
                      {
                        "bin_end": 0.25324,
                        "bin_start": 0.17656,
                        "count": 40
                      },
                      {
                        "bin_end": 0.32992,
                        "bin_start": 0.25324,
                        "count": 48
                      },
                      {
                        "bin_end": 0.40659999999999996,
                        "bin_start": 0.32992,
                        "count": 30
                      },
                      {
                        "bin_end": 0.48328,
                        "bin_start": 0.40659999999999996,
                        "count": 8
                      },
                      {
                        "bin_end": 0.55996,
                        "bin_start": 0.48328,
                        "count": 5
                      },
                      {
                        "bin_end": 0.63664,
                        "bin_start": 0.55996,
                        "count": 6
                      },
                      {
                        "bin_end": 0.71332,
                        "bin_start": 0.63664,
                        "count": 5
                      },
                      {
                        "bin_end": 0.79,
                        "bin_start": 0.71332,
                        "count": 1
                      }
                    ],
                    "max": "0.79",
                    "min": "0.0232",
                    "nan_count": 0,
                    "unique_count": 339
                  }
                },
                {
                  "dtype": "float64",
                  "name": "valence",
                  "stats": {
                    "histogram": [
                      {
                        "bin_end": 0.13218,
                        "bin_start": 0.0382,
                        "count": 21
                      },
                      {
                        "bin_end": 0.22615999999999997,
                        "bin_start": 0.13218,
                        "count": 43
                      },
                      {
                        "bin_end": 0.32014,
                        "bin_start": 0.22615999999999997,
                        "count": 41
                      },
                      {
                        "bin_end": 0.41412,
                        "bin_start": 0.32014,
                        "count": 47
                      },
                      {
                        "bin_end": 0.5081,
                        "bin_start": 0.41412,
                        "count": 59
                      },
                      {
                        "bin_end": 0.60208,
                        "bin_start": 0.5081,
                        "count": 59
                      },
                      {
                        "bin_end": 0.69606,
                        "bin_start": 0.60208,
                        "count": 56
                      },
                      {
                        "bin_end": 0.79004,
                        "bin_start": 0.69606,
                        "count": 61
                      },
                      {
                        "bin_end": 0.8840199999999999,
                        "bin_start": 0.79004,
                        "count": 54
                      },
                      {
                        "bin_end": 0.978,
                        "bin_start": 0.8840199999999999,
                        "count": 59
                      }
                    ],
                    "max": "0.978",
                    "min": "0.0382",
                    "nan_count": 0,
                    "unique_count": 367
                  }
                },
                {
                  "dtype": "float64",
                  "name": "tempo",
                  "stats": {
                    "histogram": [
                      {
                        "bin_end": 81.0785,
                        "bin_start": 67.531,
                        "count": 31
                      },
                      {
                        "bin_end": 94.626,
                        "bin_start": 81.0785,
                        "count": 64
                      },
                      {
                        "bin_end": 108.1735,
                        "bin_start": 94.626,
                        "count": 93
                      },
                      {
                        "bin_end": 121.721,
                        "bin_start": 108.1735,
                        "count": 101
                      },
                      {
                        "bin_end": 135.26850000000002,
                        "bin_start": 121.721,
                        "count": 98
                      },
                      {
                        "bin_end": 148.816,
                        "bin_start": 135.26850000000002,
                        "count": 45
                      },
                      {
                        "bin_end": 162.3635,
                        "bin_start": 148.816,
                        "count": 25
                      },
                      {
                        "bin_end": 175.911,
                        "bin_start": 162.3635,
                        "count": 31
                      },
                      {
                        "bin_end": 189.45850000000002,
                        "bin_start": 175.911,
                        "count": 10
                      },
                      {
                        "bin_end": 203.006,
                        "bin_start": 189.45850000000002,
                        "count": 2
                      }
                    ],
                    "max": "203.006",
                    "min": "67.531",
                    "nan_count": 0,
                    "unique_count": 493
                  }
                },
                {
                  "dtype": "object",
                  "name": "type",
                  "stats": {
                    "categories": [
                      {
                        "count": 500,
                        "name": "audio_features"
                      }
                    ],
                    "nan_count": 0,
                    "unique_count": 1
                  }
                },
                {
                  "dtype": "object",
                  "name": "id",
                  "stats": {
                    "categories": [
                      {
                        "count": 2,
                        "name": "48UPSzbZjgc449aqz8bxox"
                      },
                      {
                        "count": 2,
                        "name": "3WkibOpDF7cQ5xntM1epyf"
                      },
                      {
                        "count": 496,
                        "name": "493 others"
                      }
                    ],
                    "nan_count": 0,
                    "unique_count": 495
                  }
                },
                {
                  "dtype": "object",
                  "name": "uri",
                  "stats": {
                    "categories": [
                      {
                        "count": 2,
                        "name": "spotify:track:48UPSzbZjgc449aqz8bxox"
                      },
                      {
                        "count": 2,
                        "name": "spotify:track:3WkibOpDF7cQ5xntM1epyf"
                      },
                      {
                        "count": 496,
                        "name": "493 others"
                      }
                    ],
                    "nan_count": 0,
                    "unique_count": 495
                  }
                },
                {
                  "dtype": "object",
                  "name": "track_href",
                  "stats": {
                    "categories": [
                      {
                        "count": 2,
                        "name": "https://api.spotify.com/v1/tracks/48UPSzbZjgc449aqz8bxox"
                      },
                      {
                        "count": 2,
                        "name": "https://api.spotify.com/v1/tracks/3WkibOpDF7cQ5xntM1epyf"
                      },
                      {
                        "count": 496,
                        "name": "493 others"
                      }
                    ],
                    "nan_count": 0,
                    "unique_count": 495
                  }
                },
                {
                  "dtype": "object",
                  "name": "analysis_url",
                  "stats": {
                    "categories": [
                      {
                        "count": 2,
                        "name": "https://api.spotify.com/v1/audio-analysis/48UPSzbZjgc449aqz8bxox"
                      },
                      {
                        "count": 2,
                        "name": "https://api.spotify.com/v1/audio-analysis/3WkibOpDF7cQ5xntM1epyf"
                      },
                      {
                        "count": 496,
                        "name": "493 others"
                      }
                    ],
                    "nan_count": 0,
                    "unique_count": 495
                  }
                },
                {
                  "dtype": "int64",
                  "name": "duration_ms",
                  "stats": {
                    "histogram": [
                      {
                        "bin_end": 141260.4,
                        "bin_start": 97393,
                        "count": 11
                      },
                      {
                        "bin_end": 185127.8,
                        "bin_start": 141260.4,
                        "count": 67
                      },
                      {
                        "bin_end": 228995.2,
                        "bin_start": 185127.8,
                        "count": 167
                      },
                      {
                        "bin_end": 272862.6,
                        "bin_start": 228995.2,
                        "count": 160
                      },
                      {
                        "bin_end": 316730,
                        "bin_start": 272862.6,
                        "count": 70
                      },
                      {
                        "bin_end": 360597.4,
                        "bin_start": 316730,
                        "count": 19
                      },
                      {
                        "bin_end": 404464.8,
                        "bin_start": 360597.4,
                        "count": 2
                      },
                      {
                        "bin_end": 448332.2,
                        "bin_start": 404464.8,
                        "count": 2
                      },
                      {
                        "bin_end": 492199.60000000003,
                        "bin_start": 448332.2,
                        "count": 0
                      },
                      {
                        "bin_end": 536067,
                        "bin_start": 492199.60000000003,
                        "count": 2
                      }
                    ],
                    "max": "536067",
                    "min": "97393",
                    "nan_count": 0,
                    "unique_count": 489
                  }
                },
                {
                  "dtype": "int64",
                  "name": "time_signature",
                  "stats": {
                    "histogram": [
                      {
                        "bin_end": 1.4,
                        "bin_start": 1,
                        "count": 1
                      },
                      {
                        "bin_end": 1.8,
                        "bin_start": 1.4,
                        "count": 0
                      },
                      {
                        "bin_end": 2.2,
                        "bin_start": 1.8,
                        "count": 0
                      },
                      {
                        "bin_end": 2.6,
                        "bin_start": 2.2,
                        "count": 0
                      },
                      {
                        "bin_end": 3,
                        "bin_start": 2.6,
                        "count": 0
                      },
                      {
                        "bin_end": 3.4000000000000004,
                        "bin_start": 3,
                        "count": 19
                      },
                      {
                        "bin_end": 3.8000000000000003,
                        "bin_start": 3.4000000000000004,
                        "count": 0
                      },
                      {
                        "bin_end": 4.2,
                        "bin_start": 3.8000000000000003,
                        "count": 476
                      },
                      {
                        "bin_end": 4.6,
                        "bin_start": 4.2,
                        "count": 0
                      },
                      {
                        "bin_end": 5,
                        "bin_start": 4.6,
                        "count": 4
                      }
                    ],
                    "max": "5",
                    "min": "1",
                    "nan_count": 0,
                    "unique_count": 4
                  }
                },
                {
                  "dtype": "object",
                  "name": "release_date",
                  "stats": {
                    "categories": [
                      {
                        "count": 100,
                        "name": "1980s"
                      },
                      {
                        "count": 100,
                        "name": "1990s"
                      },
                      {
                        "count": 300,
                        "name": "3 others"
                      }
                    ],
                    "nan_count": 0,
                    "unique_count": 5
                  }
                },
                {
                  "dtype": "object",
                  "name": "mood",
                  "stats": {
                    "categories": [
                      {
                        "count": 500,
                        "name": "for_prediction"
                      }
                    ],
                    "nan_count": 0,
                    "unique_count": 1
                  }
                },
                {
                  "dtype": "object",
                  "name": "release_decade",
                  "stats": {
                    "categories": [
                      {
                        "count": 100,
                        "name": "1980s"
                      },
                      {
                        "count": 100,
                        "name": "1990s"
                      },
                      {
                        "count": 300,
                        "name": "3 others"
                      }
                    ],
                    "nan_count": 0,
                    "unique_count": 5
                  }
                },
                {
                  "dtype": "int64",
                  "name": "_deepnote_index_column"
                }
              ],
              "row_count": 500,
              "rows": [
                {
                  "Unnamed: 0": 0,
                  "_deepnote_index_column": 0,
                  "acousticness": 0.0236,
                  "analysis_url": "https://api.spotify.com/v1/audio-analysis/5ChkMS8OtdzJeqyybCc9R5",
                  "danceability": 0.92,
                  "duration_ms": 293827,
                  "energy": 0.654,
                  "id": "5ChkMS8OtdzJeqyybCc9R5",
                  "instrumentalness": 0.0153,
                  "key": 11,
                  "liveness": 0.036,
                  "loudness": -3.051,
                  "mode": 0,
                  "mood": "for_prediction",
                  "release_date": "1980s",
                  "release_decade": "1980s",
                  "speechiness": 0.0401,
                  "tempo": 117.046,
                  "time_signature": 4,
                  "track_href": "https://api.spotify.com/v1/tracks/5ChkMS8OtdzJeqyybCc9R5",
                  "type": "audio_features",
                  "uri": "spotify:track:5ChkMS8OtdzJeqyybCc9R5",
                  "valence": 0.847
                },
                {
                  "Unnamed: 0": 1,
                  "_deepnote_index_column": 1,
                  "acousticness": 0.313,
                  "analysis_url": "https://api.spotify.com/v1/audio-analysis/2M9ro2krNb7nr7HSprkEgo",
                  "danceability": 0.711,
                  "duration_ms": 296800,
                  "energy": 0.292,
                  "id": "2M9ro2krNb7nr7HSprkEgo",
                  "instrumentalness": 0,
                  "key": 4,
                  "liveness": 0.131,
                  "loudness": -15.523,
                  "mode": 0,
                  "mood": "for_prediction",
                  "release_date": "1980s",
                  "release_decade": "1980s",
                  "speechiness": 0.037,
                  "tempo": 103.951,
                  "time_signature": 4,
                  "track_href": "https://api.spotify.com/v1/tracks/2M9ro2krNb7nr7HSprkEgo",
                  "type": "audio_features",
                  "uri": "spotify:track:2M9ro2krNb7nr7HSprkEgo",
                  "valence": 0.194
                },
                {
                  "Unnamed: 0": 2,
                  "_deepnote_index_column": 2,
                  "acousticness": 0.347,
                  "analysis_url": "https://api.spotify.com/v1/audio-analysis/4RvWPyQ5RL0ao9LPZeSouE",
                  "danceability": 0.645,
                  "duration_ms": 251489,
                  "energy": 0.795,
                  "id": "4RvWPyQ5RL0ao9LPZeSouE",
                  "instrumentalness": 0.00389,
                  "key": 7,
                  "liveness": 0.104,
                  "loudness": -12.095,
                  "mode": 1,
                  "mood": "for_prediction",
                  "release_date": "1980s",
                  "release_decade": "1980s",
                  "speechiness": 0.0527,
                  "tempo": 112.067,
                  "time_signature": 4,
                  "track_href": "https://api.spotify.com/v1/tracks/4RvWPyQ5RL0ao9LPZeSouE",
                  "type": "audio_features",
                  "uri": "spotify:track:4RvWPyQ5RL0ao9LPZeSouE",
                  "valence": 0.535
                },
                {
                  "Unnamed: 0": 3,
                  "_deepnote_index_column": 3,
                  "acousticness": 0.243,
                  "analysis_url": "https://api.spotify.com/v1/audio-analysis/6mYrhCAGWzTdF8QnKuchXM",
                  "danceability": 0.658,
                  "duration_ms": 239827,
                  "energy": 0.575,
                  "id": "6mYrhCAGWzTdF8QnKuchXM",
                  "instrumentalness": 0,
                  "key": 11,
                  "liveness": 0.122,
                  "loudness": -10.365,
                  "mode": 1,
                  "mood": "for_prediction",
                  "release_date": "1980s",
                  "release_decade": "1980s",
                  "speechiness": 0.0267,
                  "tempo": 108.329,
                  "time_signature": 4,
                  "track_href": "https://api.spotify.com/v1/tracks/6mYrhCAGWzTdF8QnKuchXM",
                  "type": "audio_features",
                  "uri": "spotify:track:6mYrhCAGWzTdF8QnKuchXM",
                  "valence": 0.504
                },
                {
                  "Unnamed: 0": 4,
                  "_deepnote_index_column": 4,
                  "acousticness": 0.189,
                  "analysis_url": "https://api.spotify.com/v1/audio-analysis/3Z2tPWiNiIpg8UMMoowHIk",
                  "danceability": 0.528,
                  "duration_ms": 427333,
                  "energy": 0.447,
                  "id": "3Z2tPWiNiIpg8UMMoowHIk",
                  "instrumentalness": 0,
                  "key": 4,
                  "liveness": 0.0745,
                  "loudness": -15.255,
                  "mode": 1,
                  "mood": "for_prediction",
                  "release_date": "1980s",
                  "release_decade": "1980s",
                  "speechiness": 0.0435,
                  "tempo": 72.58,
                  "time_signature": 4,
                  "track_href": "https://api.spotify.com/v1/tracks/3Z2tPWiNiIpg8UMMoowHIk",
                  "type": "audio_features",
                  "uri": "spotify:track:3Z2tPWiNiIpg8UMMoowHIk",
                  "valence": 0.292
                },
                {
                  "Unnamed: 0": 5,
                  "_deepnote_index_column": 5,
                  "acousticness": 0.000202,
                  "analysis_url": "https://api.spotify.com/v1/audio-analysis/6ADSaE87h8Y3lccZlBJdXH",
                  "danceability": 0.54,
                  "duration_ms": 295516,
                  "energy": 0.429,
                  "id": "6ADSaE87h8Y3lccZlBJdXH",
                  "instrumentalness": 0.355,
                  "key": 2,
                  "liveness": 0.141,
                  "loudness": -11.822,
                  "mode": 1,
                  "mood": "for_prediction",
                  "release_date": "1980s",
                  "release_decade": "1980s",
                  "speechiness": 0.0285,
                  "tempo": 110.171,
                  "time_signature": 4,
                  "track_href": "https://api.spotify.com/v1/tracks/6ADSaE87h8Y3lccZlBJdXH",
                  "type": "audio_features",
                  "uri": "spotify:track:6ADSaE87h8Y3lccZlBJdXH",
                  "valence": 0.113
                },
                {
                  "Unnamed: 0": 6,
                  "_deepnote_index_column": 6,
                  "acousticness": 0.018,
                  "analysis_url": "https://api.spotify.com/v1/audio-analysis/2WfaOiMkCvy7F5fcp2zZ8L",
                  "danceability": 0.573,
                  "duration_ms": 225280,
                  "energy": 0.902,
                  "id": "2WfaOiMkCvy7F5fcp2zZ8L",
                  "instrumentalness": 0.00125,
                  "key": 6,
                  "liveness": 0.0928,
                  "loudness": -7.638,
                  "mode": 0,
                  "mood": "for_prediction",
                  "release_date": "1980s",
                  "release_decade": "1980s",
                  "speechiness": 0.054,
                  "tempo": 84.412,
                  "time_signature": 4,
                  "track_href": "https://api.spotify.com/v1/tracks/2WfaOiMkCvy7F5fcp2zZ8L",
                  "type": "audio_features",
                  "uri": "spotify:track:2WfaOiMkCvy7F5fcp2zZ8L",
                  "valence": 0.876
                },
                {
                  "Unnamed: 0": 7,
                  "_deepnote_index_column": 7,
                  "acousticness": 0.0289,
                  "analysis_url": "https://api.spotify.com/v1/audio-analysis/7fRvtXvJMpGfTLdF0M09a1",
                  "danceability": 0.72,
                  "duration_ms": 235093,
                  "energy": 0.967,
                  "id": "7fRvtXvJMpGfTLdF0M09a1",
                  "instrumentalness": 0.000345,
                  "key": 9,
                  "liveness": 0.142,
                  "loudness": -4.434,
                  "mode": 0,
                  "mood": "for_prediction",
                  "release_date": "1980s",
                  "release_decade": "1980s",
                  "speechiness": 0.0343,
                  "tempo": 129.766,
                  "time_signature": 4,
                  "track_href": "https://api.spotify.com/v1/tracks/7fRvtXvJMpGfTLdF0M09a1",
                  "type": "audio_features",
                  "uri": "spotify:track:7fRvtXvJMpGfTLdF0M09a1",
                  "valence": 0.977
                },
                {
                  "Unnamed: 0": 8,
                  "_deepnote_index_column": 8,
                  "acousticness": 0.125,
                  "analysis_url": "https://api.spotify.com/v1/audio-analysis/3nFJbZCHP4d9vduKjJLdBL",
                  "danceability": 0.734,
                  "duration_ms": 230467,
                  "energy": 0.586,
                  "id": "3nFJbZCHP4d9vduKjJLdBL",
                  "instrumentalness": 0,
                  "key": 2,
                  "liveness": 0.0367,
                  "loudness": -11.866,
                  "mode": 1,
                  "mood": "for_prediction",
                  "release_date": "1980s",
                  "release_decade": "1980s",
                  "speechiness": 0.129,
                  "tempo": 109.933,
                  "time_signature": 4,
                  "track_href": "https://api.spotify.com/v1/tracks/3nFJbZCHP4d9vduKjJLdBL",
                  "type": "audio_features",
                  "uri": "spotify:track:3nFJbZCHP4d9vduKjJLdBL",
                  "valence": 0.762
                },
                {
                  "Unnamed: 0": 9,
                  "_deepnote_index_column": 9,
                  "acousticness": 0.0901,
                  "analysis_url": "https://api.spotify.com/v1/audio-analysis/7snQQk1zcKl8gZ92AnueZW",
                  "danceability": 0.446,
                  "duration_ms": 356067,
                  "energy": 0.952,
                  "id": "7snQQk1zcKl8gZ92AnueZW",
                  "instrumentalness": 0.0857,
                  "key": 6,
                  "liveness": 0.112,
                  "loudness": -5.321,
                  "mode": 1,
                  "mood": "for_prediction",
                  "release_date": "1980s",
                  "release_decade": "1980s",
                  "speechiness": 0.0523,
                  "tempo": 125.303,
                  "time_signature": 4,
                  "track_href": "https://api.spotify.com/v1/tracks/7snQQk1zcKl8gZ92AnueZW",
                  "type": "audio_features",
                  "uri": "spotify:track:7snQQk1zcKl8gZ92AnueZW",
                  "valence": 0.624
                }
              ]
            },
            "text/html": [
              "<div>\n",
              "<style scoped>\n",
              "    .dataframe tbody tr th:only-of-type {\n",
              "        vertical-align: middle;\n",
              "    }\n",
              "\n",
              "    .dataframe tbody tr th {\n",
              "        vertical-align: top;\n",
              "    }\n",
              "\n",
              "    .dataframe thead th {\n",
              "        text-align: right;\n",
              "    }\n",
              "</style>\n",
              "<table border=\"1\" class=\"dataframe\">\n",
              "  <thead>\n",
              "    <tr style=\"text-align: right;\">\n",
              "      <th></th>\n",
              "      <th>Unnamed: 0</th>\n",
              "      <th>danceability</th>\n",
              "      <th>energy</th>\n",
              "      <th>key</th>\n",
              "      <th>loudness</th>\n",
              "      <th>mode</th>\n",
              "      <th>speechiness</th>\n",
              "      <th>acousticness</th>\n",
              "      <th>instrumentalness</th>\n",
              "      <th>liveness</th>\n",
              "      <th>...</th>\n",
              "      <th>type</th>\n",
              "      <th>id</th>\n",
              "      <th>uri</th>\n",
              "      <th>track_href</th>\n",
              "      <th>analysis_url</th>\n",
              "      <th>duration_ms</th>\n",
              "      <th>time_signature</th>\n",
              "      <th>release_date</th>\n",
              "      <th>mood</th>\n",
              "      <th>release_decade</th>\n",
              "    </tr>\n",
              "  </thead>\n",
              "  <tbody>\n",
              "    <tr>\n",
              "      <th>0</th>\n",
              "      <td>0</td>\n",
              "      <td>0.920</td>\n",
              "      <td>0.654</td>\n",
              "      <td>11</td>\n",
              "      <td>-3.051</td>\n",
              "      <td>0</td>\n",
              "      <td>0.0401</td>\n",
              "      <td>0.02360</td>\n",
              "      <td>0.015300</td>\n",
              "      <td>0.0360</td>\n",
              "      <td>...</td>\n",
              "      <td>audio_features</td>\n",
              "      <td>5ChkMS8OtdzJeqyybCc9R5</td>\n",
              "      <td>spotify:track:5ChkMS8OtdzJeqyybCc9R5</td>\n",
              "      <td>https://api.spotify.com/v1/tracks/5ChkMS8OtdzJ...</td>\n",
              "      <td>https://api.spotify.com/v1/audio-analysis/5Chk...</td>\n",
              "      <td>293827</td>\n",
              "      <td>4</td>\n",
              "      <td>1980s</td>\n",
              "      <td>for_prediction</td>\n",
              "      <td>1980s</td>\n",
              "    </tr>\n",
              "    <tr>\n",
              "      <th>1</th>\n",
              "      <td>1</td>\n",
              "      <td>0.711</td>\n",
              "      <td>0.292</td>\n",
              "      <td>4</td>\n",
              "      <td>-15.523</td>\n",
              "      <td>0</td>\n",
              "      <td>0.0370</td>\n",
              "      <td>0.31300</td>\n",
              "      <td>0.000000</td>\n",
              "      <td>0.1310</td>\n",
              "      <td>...</td>\n",
              "      <td>audio_features</td>\n",
              "      <td>2M9ro2krNb7nr7HSprkEgo</td>\n",
              "      <td>spotify:track:2M9ro2krNb7nr7HSprkEgo</td>\n",
              "      <td>https://api.spotify.com/v1/tracks/2M9ro2krNb7n...</td>\n",
              "      <td>https://api.spotify.com/v1/audio-analysis/2M9r...</td>\n",
              "      <td>296800</td>\n",
              "      <td>4</td>\n",
              "      <td>1980s</td>\n",
              "      <td>for_prediction</td>\n",
              "      <td>1980s</td>\n",
              "    </tr>\n",
              "    <tr>\n",
              "      <th>2</th>\n",
              "      <td>2</td>\n",
              "      <td>0.645</td>\n",
              "      <td>0.795</td>\n",
              "      <td>7</td>\n",
              "      <td>-12.095</td>\n",
              "      <td>1</td>\n",
              "      <td>0.0527</td>\n",
              "      <td>0.34700</td>\n",
              "      <td>0.003890</td>\n",
              "      <td>0.1040</td>\n",
              "      <td>...</td>\n",
              "      <td>audio_features</td>\n",
              "      <td>4RvWPyQ5RL0ao9LPZeSouE</td>\n",
              "      <td>spotify:track:4RvWPyQ5RL0ao9LPZeSouE</td>\n",
              "      <td>https://api.spotify.com/v1/tracks/4RvWPyQ5RL0a...</td>\n",
              "      <td>https://api.spotify.com/v1/audio-analysis/4RvW...</td>\n",
              "      <td>251489</td>\n",
              "      <td>4</td>\n",
              "      <td>1980s</td>\n",
              "      <td>for_prediction</td>\n",
              "      <td>1980s</td>\n",
              "    </tr>\n",
              "    <tr>\n",
              "      <th>3</th>\n",
              "      <td>3</td>\n",
              "      <td>0.658</td>\n",
              "      <td>0.575</td>\n",
              "      <td>11</td>\n",
              "      <td>-10.365</td>\n",
              "      <td>1</td>\n",
              "      <td>0.0267</td>\n",
              "      <td>0.24300</td>\n",
              "      <td>0.000000</td>\n",
              "      <td>0.1220</td>\n",
              "      <td>...</td>\n",
              "      <td>audio_features</td>\n",
              "      <td>6mYrhCAGWzTdF8QnKuchXM</td>\n",
              "      <td>spotify:track:6mYrhCAGWzTdF8QnKuchXM</td>\n",
              "      <td>https://api.spotify.com/v1/tracks/6mYrhCAGWzTd...</td>\n",
              "      <td>https://api.spotify.com/v1/audio-analysis/6mYr...</td>\n",
              "      <td>239827</td>\n",
              "      <td>4</td>\n",
              "      <td>1980s</td>\n",
              "      <td>for_prediction</td>\n",
              "      <td>1980s</td>\n",
              "    </tr>\n",
              "    <tr>\n",
              "      <th>4</th>\n",
              "      <td>4</td>\n",
              "      <td>0.528</td>\n",
              "      <td>0.447</td>\n",
              "      <td>4</td>\n",
              "      <td>-15.255</td>\n",
              "      <td>1</td>\n",
              "      <td>0.0435</td>\n",
              "      <td>0.18900</td>\n",
              "      <td>0.000000</td>\n",
              "      <td>0.0745</td>\n",
              "      <td>...</td>\n",
              "      <td>audio_features</td>\n",
              "      <td>3Z2tPWiNiIpg8UMMoowHIk</td>\n",
              "      <td>spotify:track:3Z2tPWiNiIpg8UMMoowHIk</td>\n",
              "      <td>https://api.spotify.com/v1/tracks/3Z2tPWiNiIpg...</td>\n",
              "      <td>https://api.spotify.com/v1/audio-analysis/3Z2t...</td>\n",
              "      <td>427333</td>\n",
              "      <td>4</td>\n",
              "      <td>1980s</td>\n",
              "      <td>for_prediction</td>\n",
              "      <td>1980s</td>\n",
              "    </tr>\n",
              "    <tr>\n",
              "      <th>...</th>\n",
              "      <td>...</td>\n",
              "      <td>...</td>\n",
              "      <td>...</td>\n",
              "      <td>...</td>\n",
              "      <td>...</td>\n",
              "      <td>...</td>\n",
              "      <td>...</td>\n",
              "      <td>...</td>\n",
              "      <td>...</td>\n",
              "      <td>...</td>\n",
              "      <td>...</td>\n",
              "      <td>...</td>\n",
              "      <td>...</td>\n",
              "      <td>...</td>\n",
              "      <td>...</td>\n",
              "      <td>...</td>\n",
              "      <td>...</td>\n",
              "      <td>...</td>\n",
              "      <td>...</td>\n",
              "      <td>...</td>\n",
              "      <td>...</td>\n",
              "    </tr>\n",
              "    <tr>\n",
              "      <th>495</th>\n",
              "      <td>495</td>\n",
              "      <td>0.727</td>\n",
              "      <td>0.739</td>\n",
              "      <td>8</td>\n",
              "      <td>-3.805</td>\n",
              "      <td>1</td>\n",
              "      <td>0.0411</td>\n",
              "      <td>0.36500</td>\n",
              "      <td>0.001370</td>\n",
              "      <td>0.1610</td>\n",
              "      <td>...</td>\n",
              "      <td>audio_features</td>\n",
              "      <td>2Xr1dTzJee307rmrkt8c0g</td>\n",
              "      <td>spotify:track:2Xr1dTzJee307rmrkt8c0g</td>\n",
              "      <td>https://api.spotify.com/v1/tracks/2Xr1dTzJee30...</td>\n",
              "      <td>https://api.spotify.com/v1/audio-analysis/2Xr1...</td>\n",
              "      <td>145800</td>\n",
              "      <td>4</td>\n",
              "      <td>2020s</td>\n",
              "      <td>for_prediction</td>\n",
              "      <td>2020s</td>\n",
              "    </tr>\n",
              "    <tr>\n",
              "      <th>496</th>\n",
              "      <td>496</td>\n",
              "      <td>0.761</td>\n",
              "      <td>0.518</td>\n",
              "      <td>0</td>\n",
              "      <td>-8.871</td>\n",
              "      <td>1</td>\n",
              "      <td>0.1340</td>\n",
              "      <td>0.24400</td>\n",
              "      <td>0.000035</td>\n",
              "      <td>0.1070</td>\n",
              "      <td>...</td>\n",
              "      <td>audio_features</td>\n",
              "      <td>2SAqBLGA283SUiwJ3xOUVI</td>\n",
              "      <td>spotify:track:2SAqBLGA283SUiwJ3xOUVI</td>\n",
              "      <td>https://api.spotify.com/v1/tracks/2SAqBLGA283S...</td>\n",
              "      <td>https://api.spotify.com/v1/audio-analysis/2SAq...</td>\n",
              "      <td>261493</td>\n",
              "      <td>4</td>\n",
              "      <td>2020s</td>\n",
              "      <td>for_prediction</td>\n",
              "      <td>2020s</td>\n",
              "    </tr>\n",
              "    <tr>\n",
              "      <th>497</th>\n",
              "      <td>497</td>\n",
              "      <td>0.758</td>\n",
              "      <td>0.913</td>\n",
              "      <td>6</td>\n",
              "      <td>-2.926</td>\n",
              "      <td>0</td>\n",
              "      <td>0.1130</td>\n",
              "      <td>0.00364</td>\n",
              "      <td>0.000069</td>\n",
              "      <td>0.1930</td>\n",
              "      <td>...</td>\n",
              "      <td>audio_features</td>\n",
              "      <td>0b18g3G5spr4ZCkz7Y6Q0Q</td>\n",
              "      <td>spotify:track:0b18g3G5spr4ZCkz7Y6Q0Q</td>\n",
              "      <td>https://api.spotify.com/v1/tracks/0b18g3G5spr4...</td>\n",
              "      <td>https://api.spotify.com/v1/audio-analysis/0b18...</td>\n",
              "      <td>186210</td>\n",
              "      <td>4</td>\n",
              "      <td>2020s</td>\n",
              "      <td>for_prediction</td>\n",
              "      <td>2020s</td>\n",
              "    </tr>\n",
              "    <tr>\n",
              "      <th>498</th>\n",
              "      <td>498</td>\n",
              "      <td>0.472</td>\n",
              "      <td>0.518</td>\n",
              "      <td>8</td>\n",
              "      <td>-7.379</td>\n",
              "      <td>1</td>\n",
              "      <td>0.0510</td>\n",
              "      <td>0.38300</td>\n",
              "      <td>0.127000</td>\n",
              "      <td>0.2890</td>\n",
              "      <td>...</td>\n",
              "      <td>audio_features</td>\n",
              "      <td>26hOm7dTtBi0TdpDGl141t</td>\n",
              "      <td>spotify:track:26hOm7dTtBi0TdpDGl141t</td>\n",
              "      <td>https://api.spotify.com/v1/tracks/26hOm7dTtBi0...</td>\n",
              "      <td>https://api.spotify.com/v1/audio-analysis/26hO...</td>\n",
              "      <td>211667</td>\n",
              "      <td>4</td>\n",
              "      <td>2020s</td>\n",
              "      <td>for_prediction</td>\n",
              "      <td>2020s</td>\n",
              "    </tr>\n",
              "    <tr>\n",
              "      <th>499</th>\n",
              "      <td>499</td>\n",
              "      <td>0.731</td>\n",
              "      <td>0.573</td>\n",
              "      <td>4</td>\n",
              "      <td>-10.059</td>\n",
              "      <td>0</td>\n",
              "      <td>0.0544</td>\n",
              "      <td>0.40100</td>\n",
              "      <td>0.000052</td>\n",
              "      <td>0.1130</td>\n",
              "      <td>...</td>\n",
              "      <td>audio_features</td>\n",
              "      <td>47EiUVwUp4C9fGccaPuUCS</td>\n",
              "      <td>spotify:track:47EiUVwUp4C9fGccaPuUCS</td>\n",
              "      <td>https://api.spotify.com/v1/tracks/47EiUVwUp4C9...</td>\n",
              "      <td>https://api.spotify.com/v1/audio-analysis/47Ei...</td>\n",
              "      <td>205090</td>\n",
              "      <td>4</td>\n",
              "      <td>2020s</td>\n",
              "      <td>for_prediction</td>\n",
              "      <td>2020s</td>\n",
              "    </tr>\n",
              "  </tbody>\n",
              "</table>\n",
              "<p>500 rows × 22 columns</p>\n",
              "</div>"
            ],
            "text/plain": [
              "     Unnamed: 0  danceability  energy  key  loudness  mode  speechiness  \\\n",
              "0             0         0.920   0.654   11    -3.051     0       0.0401   \n",
              "1             1         0.711   0.292    4   -15.523     0       0.0370   \n",
              "2             2         0.645   0.795    7   -12.095     1       0.0527   \n",
              "3             3         0.658   0.575   11   -10.365     1       0.0267   \n",
              "4             4         0.528   0.447    4   -15.255     1       0.0435   \n",
              "..          ...           ...     ...  ...       ...   ...          ...   \n",
              "495         495         0.727   0.739    8    -3.805     1       0.0411   \n",
              "496         496         0.761   0.518    0    -8.871     1       0.1340   \n",
              "497         497         0.758   0.913    6    -2.926     0       0.1130   \n",
              "498         498         0.472   0.518    8    -7.379     1       0.0510   \n",
              "499         499         0.731   0.573    4   -10.059     0       0.0544   \n",
              "\n",
              "     acousticness  instrumentalness  liveness  ...            type  \\\n",
              "0         0.02360          0.015300    0.0360  ...  audio_features   \n",
              "1         0.31300          0.000000    0.1310  ...  audio_features   \n",
              "2         0.34700          0.003890    0.1040  ...  audio_features   \n",
              "3         0.24300          0.000000    0.1220  ...  audio_features   \n",
              "4         0.18900          0.000000    0.0745  ...  audio_features   \n",
              "..            ...               ...       ...  ...             ...   \n",
              "495       0.36500          0.001370    0.1610  ...  audio_features   \n",
              "496       0.24400          0.000035    0.1070  ...  audio_features   \n",
              "497       0.00364          0.000069    0.1930  ...  audio_features   \n",
              "498       0.38300          0.127000    0.2890  ...  audio_features   \n",
              "499       0.40100          0.000052    0.1130  ...  audio_features   \n",
              "\n",
              "                         id                                   uri  \\\n",
              "0    5ChkMS8OtdzJeqyybCc9R5  spotify:track:5ChkMS8OtdzJeqyybCc9R5   \n",
              "1    2M9ro2krNb7nr7HSprkEgo  spotify:track:2M9ro2krNb7nr7HSprkEgo   \n",
              "2    4RvWPyQ5RL0ao9LPZeSouE  spotify:track:4RvWPyQ5RL0ao9LPZeSouE   \n",
              "3    6mYrhCAGWzTdF8QnKuchXM  spotify:track:6mYrhCAGWzTdF8QnKuchXM   \n",
              "4    3Z2tPWiNiIpg8UMMoowHIk  spotify:track:3Z2tPWiNiIpg8UMMoowHIk   \n",
              "..                      ...                                   ...   \n",
              "495  2Xr1dTzJee307rmrkt8c0g  spotify:track:2Xr1dTzJee307rmrkt8c0g   \n",
              "496  2SAqBLGA283SUiwJ3xOUVI  spotify:track:2SAqBLGA283SUiwJ3xOUVI   \n",
              "497  0b18g3G5spr4ZCkz7Y6Q0Q  spotify:track:0b18g3G5spr4ZCkz7Y6Q0Q   \n",
              "498  26hOm7dTtBi0TdpDGl141t  spotify:track:26hOm7dTtBi0TdpDGl141t   \n",
              "499  47EiUVwUp4C9fGccaPuUCS  spotify:track:47EiUVwUp4C9fGccaPuUCS   \n",
              "\n",
              "                                            track_href  \\\n",
              "0    https://api.spotify.com/v1/tracks/5ChkMS8OtdzJ...   \n",
              "1    https://api.spotify.com/v1/tracks/2M9ro2krNb7n...   \n",
              "2    https://api.spotify.com/v1/tracks/4RvWPyQ5RL0a...   \n",
              "3    https://api.spotify.com/v1/tracks/6mYrhCAGWzTd...   \n",
              "4    https://api.spotify.com/v1/tracks/3Z2tPWiNiIpg...   \n",
              "..                                                 ...   \n",
              "495  https://api.spotify.com/v1/tracks/2Xr1dTzJee30...   \n",
              "496  https://api.spotify.com/v1/tracks/2SAqBLGA283S...   \n",
              "497  https://api.spotify.com/v1/tracks/0b18g3G5spr4...   \n",
              "498  https://api.spotify.com/v1/tracks/26hOm7dTtBi0...   \n",
              "499  https://api.spotify.com/v1/tracks/47EiUVwUp4C9...   \n",
              "\n",
              "                                          analysis_url duration_ms  \\\n",
              "0    https://api.spotify.com/v1/audio-analysis/5Chk...      293827   \n",
              "1    https://api.spotify.com/v1/audio-analysis/2M9r...      296800   \n",
              "2    https://api.spotify.com/v1/audio-analysis/4RvW...      251489   \n",
              "3    https://api.spotify.com/v1/audio-analysis/6mYr...      239827   \n",
              "4    https://api.spotify.com/v1/audio-analysis/3Z2t...      427333   \n",
              "..                                                 ...         ...   \n",
              "495  https://api.spotify.com/v1/audio-analysis/2Xr1...      145800   \n",
              "496  https://api.spotify.com/v1/audio-analysis/2SAq...      261493   \n",
              "497  https://api.spotify.com/v1/audio-analysis/0b18...      186210   \n",
              "498  https://api.spotify.com/v1/audio-analysis/26hO...      211667   \n",
              "499  https://api.spotify.com/v1/audio-analysis/47Ei...      205090   \n",
              "\n",
              "    time_signature  release_date            mood release_decade  \n",
              "0                4         1980s  for_prediction          1980s  \n",
              "1                4         1980s  for_prediction          1980s  \n",
              "2                4         1980s  for_prediction          1980s  \n",
              "3                4         1980s  for_prediction          1980s  \n",
              "4                4         1980s  for_prediction          1980s  \n",
              "..             ...           ...             ...            ...  \n",
              "495              4         2020s  for_prediction          2020s  \n",
              "496              4         2020s  for_prediction          2020s  \n",
              "497              4         2020s  for_prediction          2020s  \n",
              "498              4         2020s  for_prediction          2020s  \n",
              "499              4         2020s  for_prediction          2020s  \n",
              "\n",
              "[500 rows x 22 columns]"
            ]
          },
          "execution_count": 32,
          "metadata": {},
          "output_type": "execute_result"
        }
      ],
      "source": [
        "new_data['release_decade'] = new_data['release_date'].str.extract(r'(\\d{4})').astype(int) // 10 * 10\n",
        "new_data['release_decade'] = new_data['release_decade'].astype(str) + 's'\n",
        "new_data"
      ]
    },
    {
      "cell_type": "markdown",
      "metadata": {
        "cell_id": "0370fe6c70df47d289866fd92cffae05",
        "deepnote_cell_type": "markdown",
        "id": "Fce1bDcLdm5f"
      },
      "source": [
        "Eliminamos las columnas que contienen información que no es necesaria para el modelo o relevante para el trabajo."
      ]
    },
    {
      "cell_type": "code",
      "execution_count": null,
      "metadata": {
        "cell_id": "fd27b2394c654d5f9f80a20b52546151",
        "deepnote_cell_type": "code",
        "deepnote_to_be_reexecuted": false,
        "execution_millis": 521,
        "execution_start": 1708297380570,
        "id": "AAZtIxbvdm5f",
        "source_hash": "f77d8c9b"
      },
      "outputs": [],
      "source": [
        "new_data.drop(columns = ['Unnamed: 0','key','duration_ms','release_date','analysis_url','mode','track_href','time_signature','key','time_signature','liveness','uri','type'], inplace=True)"
      ]
    },
    {
      "cell_type": "code",
      "execution_count": null,
      "metadata": {
        "cell_id": "5c4a14083bb34bc9a318c7bba828e02a",
        "deepnote_cell_type": "code",
        "deepnote_table_loading": false,
        "deepnote_table_state": {
          "filters": [],
          "pageIndex": 0,
          "pageSize": 10,
          "sortBy": [
            {
              "id": "release_decade",
              "type": "asc"
            }
          ]
        },
        "deepnote_to_be_reexecuted": false,
        "execution_millis": 520,
        "execution_start": 1708297380571,
        "id": "Px4Vi2_kdm5f",
        "outputId": "2e4b871c-2825-47df-d956-e122ba5b0924",
        "source_hash": "176d6db8"
      },
      "outputs": [
        {
          "data": {
            "application/vnd.deepnote.dataframe.v3+json": {
              "column_count": 11,
              "columns": [
                {
                  "dtype": "float64",
                  "name": "danceability",
                  "stats": {
                    "histogram": [
                      {
                        "bin_end": 0.2848,
                        "bin_start": 0.209,
                        "count": 7
                      },
                      {
                        "bin_end": 0.36060000000000003,
                        "bin_start": 0.2848,
                        "count": 17
                      },
                      {
                        "bin_end": 0.4364,
                        "bin_start": 0.36060000000000003,
                        "count": 29
                      },
                      {
                        "bin_end": 0.5122,
                        "bin_start": 0.4364,
                        "count": 54
                      },
                      {
                        "bin_end": 0.588,
                        "bin_start": 0.5122,
                        "count": 74
                      },
                      {
                        "bin_end": 0.6638000000000001,
                        "bin_start": 0.588,
                        "count": 85
                      },
                      {
                        "bin_end": 0.7396,
                        "bin_start": 0.6638000000000001,
                        "count": 98
                      },
                      {
                        "bin_end": 0.8154,
                        "bin_start": 0.7396,
                        "count": 78
                      },
                      {
                        "bin_end": 0.8912,
                        "bin_start": 0.8154,
                        "count": 34
                      },
                      {
                        "bin_end": 0.967,
                        "bin_start": 0.8912,
                        "count": 24
                      }
                    ],
                    "max": "0.967",
                    "min": "0.209",
                    "nan_count": 0,
                    "unique_count": 329
                  }
                },
                {
                  "dtype": "float64",
                  "name": "energy",
                  "stats": {
                    "histogram": [
                      {
                        "bin_end": 0.18069000000000002,
                        "bin_start": 0.0911,
                        "count": 2
                      },
                      {
                        "bin_end": 0.27028,
                        "bin_start": 0.18069000000000002,
                        "count": 6
                      },
                      {
                        "bin_end": 0.35987,
                        "bin_start": 0.27028,
                        "count": 19
                      },
                      {
                        "bin_end": 0.44946,
                        "bin_start": 0.35987,
                        "count": 35
                      },
                      {
                        "bin_end": 0.53905,
                        "bin_start": 0.44946,
                        "count": 56
                      },
                      {
                        "bin_end": 0.62864,
                        "bin_start": 0.53905,
                        "count": 79
                      },
                      {
                        "bin_end": 0.7182299999999999,
                        "bin_start": 0.62864,
                        "count": 84
                      },
                      {
                        "bin_end": 0.80782,
                        "bin_start": 0.7182299999999999,
                        "count": 84
                      },
                      {
                        "bin_end": 0.89741,
                        "bin_start": 0.80782,
                        "count": 79
                      },
                      {
                        "bin_end": 0.987,
                        "bin_start": 0.89741,
                        "count": 56
                      }
                    ],
                    "max": "0.987",
                    "min": "0.0911",
                    "nan_count": 0,
                    "unique_count": 340
                  }
                },
                {
                  "dtype": "float64",
                  "name": "loudness",
                  "stats": {
                    "histogram": [
                      {
                        "bin_end": -16.410899999999998,
                        "bin_start": -18.09,
                        "count": 6
                      },
                      {
                        "bin_end": -14.7318,
                        "bin_start": -16.410899999999998,
                        "count": 4
                      },
                      {
                        "bin_end": -13.0527,
                        "bin_start": -14.7318,
                        "count": 16
                      },
                      {
                        "bin_end": -11.3736,
                        "bin_start": -13.0527,
                        "count": 19
                      },
                      {
                        "bin_end": -9.6945,
                        "bin_start": -11.3736,
                        "count": 32
                      },
                      {
                        "bin_end": -8.0154,
                        "bin_start": -9.6945,
                        "count": 63
                      },
                      {
                        "bin_end": -6.3363,
                        "bin_start": -8.0154,
                        "count": 98
                      },
                      {
                        "bin_end": -4.6572,
                        "bin_start": -6.3363,
                        "count": 146
                      },
                      {
                        "bin_end": -2.9780999999999995,
                        "bin_start": -4.6572,
                        "count": 98
                      },
                      {
                        "bin_end": -1.299,
                        "bin_start": -2.9780999999999995,
                        "count": 18
                      }
                    ],
                    "max": "-1.299",
                    "min": "-18.09",
                    "nan_count": 0,
                    "unique_count": 478
                  }
                },
                {
                  "dtype": "float64",
                  "name": "speechiness",
                  "stats": {
                    "histogram": [
                      {
                        "bin_end": 0.06883,
                        "bin_start": 0.0227,
                        "count": 354
                      },
                      {
                        "bin_end": 0.11495999999999999,
                        "bin_start": 0.06883,
                        "count": 68
                      },
                      {
                        "bin_end": 0.16108999999999998,
                        "bin_start": 0.11495999999999999,
                        "count": 28
                      },
                      {
                        "bin_end": 0.20722,
                        "bin_start": 0.16108999999999998,
                        "count": 10
                      },
                      {
                        "bin_end": 0.25335,
                        "bin_start": 0.20722,
                        "count": 10
                      },
                      {
                        "bin_end": 0.29947999999999997,
                        "bin_start": 0.25335,
                        "count": 11
                      },
                      {
                        "bin_end": 0.34561,
                        "bin_start": 0.29947999999999997,
                        "count": 8
                      },
                      {
                        "bin_end": 0.39174,
                        "bin_start": 0.34561,
                        "count": 6
                      },
                      {
                        "bin_end": 0.43787,
                        "bin_start": 0.39174,
                        "count": 2
                      },
                      {
                        "bin_end": 0.484,
                        "bin_start": 0.43787,
                        "count": 3
                      }
                    ],
                    "max": "0.484",
                    "min": "0.0227",
                    "nan_count": 0,
                    "unique_count": 353
                  }
                },
                {
                  "dtype": "float64",
                  "name": "acousticness",
                  "stats": {
                    "histogram": [
                      {
                        "bin_end": 0.09781646999999999,
                        "bin_start": 0.0000183,
                        "count": 243
                      },
                      {
                        "bin_end": 0.19561463999999998,
                        "bin_start": 0.09781646999999999,
                        "count": 81
                      },
                      {
                        "bin_end": 0.29341280999999997,
                        "bin_start": 0.19561463999999998,
                        "count": 58
                      },
                      {
                        "bin_end": 0.39121098,
                        "bin_start": 0.29341280999999997,
                        "count": 32
                      },
                      {
                        "bin_end": 0.48900915,
                        "bin_start": 0.39121098,
                        "count": 19
                      },
                      {
                        "bin_end": 0.5868073199999999,
                        "bin_start": 0.48900915,
                        "count": 19
                      },
                      {
                        "bin_end": 0.6846054899999999,
                        "bin_start": 0.5868073199999999,
                        "count": 19
                      },
                      {
                        "bin_end": 0.78240366,
                        "bin_start": 0.6846054899999999,
                        "count": 13
                      },
                      {
                        "bin_end": 0.88020183,
                        "bin_start": 0.78240366,
                        "count": 10
                      },
                      {
                        "bin_end": 0.978,
                        "bin_start": 0.88020183,
                        "count": 6
                      }
                    ],
                    "max": "0.978",
                    "min": "1.83e-05",
                    "nan_count": 0,
                    "unique_count": 423
                  }
                },
                {
                  "dtype": "float64",
                  "name": "instrumentalness",
                  "stats": {
                    "histogram": [
                      {
                        "bin_end": 0.0751,
                        "bin_start": 0,
                        "count": 470
                      },
                      {
                        "bin_end": 0.1502,
                        "bin_start": 0.0751,
                        "count": 16
                      },
                      {
                        "bin_end": 0.2253,
                        "bin_start": 0.1502,
                        "count": 5
                      },
                      {
                        "bin_end": 0.3004,
                        "bin_start": 0.2253,
                        "count": 1
                      },
                      {
                        "bin_end": 0.3755,
                        "bin_start": 0.3004,
                        "count": 1
                      },
                      {
                        "bin_end": 0.4506,
                        "bin_start": 0.3755,
                        "count": 0
                      },
                      {
                        "bin_end": 0.5257000000000001,
                        "bin_start": 0.4506,
                        "count": 2
                      },
                      {
                        "bin_end": 0.6008,
                        "bin_start": 0.5257000000000001,
                        "count": 2
                      },
                      {
                        "bin_end": 0.6759,
                        "bin_start": 0.6008,
                        "count": 1
                      },
                      {
                        "bin_end": 0.751,
                        "bin_start": 0.6759,
                        "count": 2
                      }
                    ],
                    "max": "0.751",
                    "min": "0.0",
                    "nan_count": 0,
                    "unique_count": 289
                  }
                },
                {
                  "dtype": "float64",
                  "name": "valence",
                  "stats": {
                    "histogram": [
                      {
                        "bin_end": 0.13218,
                        "bin_start": 0.0382,
                        "count": 21
                      },
                      {
                        "bin_end": 0.22615999999999997,
                        "bin_start": 0.13218,
                        "count": 43
                      },
                      {
                        "bin_end": 0.32014,
                        "bin_start": 0.22615999999999997,
                        "count": 41
                      },
                      {
                        "bin_end": 0.41412,
                        "bin_start": 0.32014,
                        "count": 47
                      },
                      {
                        "bin_end": 0.5081,
                        "bin_start": 0.41412,
                        "count": 59
                      },
                      {
                        "bin_end": 0.60208,
                        "bin_start": 0.5081,
                        "count": 59
                      },
                      {
                        "bin_end": 0.69606,
                        "bin_start": 0.60208,
                        "count": 56
                      },
                      {
                        "bin_end": 0.79004,
                        "bin_start": 0.69606,
                        "count": 61
                      },
                      {
                        "bin_end": 0.8840199999999999,
                        "bin_start": 0.79004,
                        "count": 54
                      },
                      {
                        "bin_end": 0.978,
                        "bin_start": 0.8840199999999999,
                        "count": 59
                      }
                    ],
                    "max": "0.978",
                    "min": "0.0382",
                    "nan_count": 0,
                    "unique_count": 367
                  }
                },
                {
                  "dtype": "float64",
                  "name": "tempo",
                  "stats": {
                    "histogram": [
                      {
                        "bin_end": 81.0785,
                        "bin_start": 67.531,
                        "count": 31
                      },
                      {
                        "bin_end": 94.626,
                        "bin_start": 81.0785,
                        "count": 64
                      },
                      {
                        "bin_end": 108.1735,
                        "bin_start": 94.626,
                        "count": 93
                      },
                      {
                        "bin_end": 121.721,
                        "bin_start": 108.1735,
                        "count": 101
                      },
                      {
                        "bin_end": 135.26850000000002,
                        "bin_start": 121.721,
                        "count": 98
                      },
                      {
                        "bin_end": 148.816,
                        "bin_start": 135.26850000000002,
                        "count": 45
                      },
                      {
                        "bin_end": 162.3635,
                        "bin_start": 148.816,
                        "count": 25
                      },
                      {
                        "bin_end": 175.911,
                        "bin_start": 162.3635,
                        "count": 31
                      },
                      {
                        "bin_end": 189.45850000000002,
                        "bin_start": 175.911,
                        "count": 10
                      },
                      {
                        "bin_end": 203.006,
                        "bin_start": 189.45850000000002,
                        "count": 2
                      }
                    ],
                    "max": "203.006",
                    "min": "67.531",
                    "nan_count": 0,
                    "unique_count": 493
                  }
                },
                {
                  "dtype": "object",
                  "name": "id",
                  "stats": {
                    "categories": [
                      {
                        "count": 2,
                        "name": "48UPSzbZjgc449aqz8bxox"
                      },
                      {
                        "count": 2,
                        "name": "3WkibOpDF7cQ5xntM1epyf"
                      },
                      {
                        "count": 496,
                        "name": "493 others"
                      }
                    ],
                    "nan_count": 0,
                    "unique_count": 495
                  }
                },
                {
                  "dtype": "object",
                  "name": "mood",
                  "stats": {
                    "categories": [
                      {
                        "count": 500,
                        "name": "for_prediction"
                      }
                    ],
                    "nan_count": 0,
                    "unique_count": 1
                  }
                },
                {
                  "dtype": "object",
                  "name": "release_decade",
                  "stats": {
                    "categories": [
                      {
                        "count": 100,
                        "name": "1980s"
                      },
                      {
                        "count": 100,
                        "name": "1990s"
                      },
                      {
                        "count": 300,
                        "name": "3 others"
                      }
                    ],
                    "nan_count": 0,
                    "unique_count": 5
                  }
                },
                {
                  "dtype": "int64",
                  "name": "_deepnote_index_column"
                }
              ],
              "row_count": 500,
              "rows": [
                {
                  "_deepnote_index_column": 0,
                  "acousticness": 0.0236,
                  "danceability": 0.92,
                  "energy": 0.654,
                  "id": "5ChkMS8OtdzJeqyybCc9R5",
                  "instrumentalness": 0.0153,
                  "loudness": -3.051,
                  "mood": "for_prediction",
                  "release_decade": "1980s",
                  "speechiness": 0.0401,
                  "tempo": 117.046,
                  "valence": 0.847
                },
                {
                  "_deepnote_index_column": 72,
                  "acousticness": 0.129,
                  "danceability": 0.739,
                  "energy": 0.459,
                  "id": "3ZZq9396zv8pcn5GYVhxUi",
                  "instrumentalness": 0.0194,
                  "loudness": -14.42,
                  "mood": "for_prediction",
                  "release_decade": "1980s",
                  "speechiness": 0.0294,
                  "tempo": 107.115,
                  "valence": 0.892
                },
                {
                  "_deepnote_index_column": 71,
                  "acousticness": 0.243,
                  "danceability": 0.748,
                  "energy": 0.551,
                  "id": "6RNDeRnWsRMjPdNVgupZCs",
                  "instrumentalness": 0.00000157,
                  "loudness": -9.054,
                  "mood": "for_prediction",
                  "release_decade": "1980s",
                  "speechiness": 0.0239,
                  "tempo": 113.535,
                  "valence": 0.65
                },
                {
                  "_deepnote_index_column": 70,
                  "acousticness": 0.0964,
                  "danceability": 0.768,
                  "energy": 0.829,
                  "id": "2olVm1lHicpveMAo4AUDRB",
                  "instrumentalness": 0.0000292,
                  "loudness": -5.109,
                  "mood": "for_prediction",
                  "release_decade": "1980s",
                  "speechiness": 0.0313,
                  "tempo": 118.773,
                  "valence": 0.962
                },
                {
                  "_deepnote_index_column": 69,
                  "acousticness": 0.0115,
                  "danceability": 0.653,
                  "energy": 0.73,
                  "id": "4JfuiOWlWCkjP6OKurHjSn",
                  "instrumentalness": 0.0000102,
                  "loudness": -10.613,
                  "mood": "for_prediction",
                  "release_decade": "1980s",
                  "speechiness": 0.0429,
                  "tempo": 108.709,
                  "valence": 0.894
                },
                {
                  "_deepnote_index_column": 68,
                  "acousticness": 0.121,
                  "danceability": 0.869,
                  "energy": 0.648,
                  "id": "3koCCeSaVUyrRo3N2gHrd8",
                  "instrumentalness": 0.0000217,
                  "loudness": -8.698,
                  "mood": "for_prediction",
                  "release_decade": "1980s",
                  "speechiness": 0.0633,
                  "tempo": 125.035,
                  "valence": 0.9
                },
                {
                  "_deepnote_index_column": 67,
                  "acousticness": 0.0148,
                  "danceability": 0.439,
                  "energy": 0.422,
                  "id": "7G7tgVYORlDuVprcYHuFJh",
                  "instrumentalness": 0.0000484,
                  "loudness": -17.227,
                  "mood": "for_prediction",
                  "release_decade": "1980s",
                  "speechiness": 0.0409,
                  "tempo": 81.833,
                  "valence": 0.551
                },
                {
                  "_deepnote_index_column": 66,
                  "acousticness": 0.501,
                  "danceability": 0.516,
                  "energy": 0.549,
                  "id": "4gvea7UlDkAvsJBPZAd4oB",
                  "instrumentalness": 0.00572,
                  "loudness": -13.741,
                  "mood": "for_prediction",
                  "release_decade": "1980s",
                  "speechiness": 0.0373,
                  "tempo": 176.941,
                  "valence": 0.907
                },
                {
                  "_deepnote_index_column": 65,
                  "acousticness": 0.052,
                  "danceability": 0.661,
                  "energy": 0.908,
                  "id": "6OnfBiiSc9RGKiBKKtZXgQ",
                  "instrumentalness": 0,
                  "loudness": -4.897,
                  "mood": "for_prediction",
                  "release_decade": "1980s",
                  "speechiness": 0.039,
                  "tempo": 144.091,
                  "valence": 0.656
                },
                {
                  "_deepnote_index_column": 64,
                  "acousticness": 0.168,
                  "danceability": 0.66,
                  "energy": 0.816,
                  "id": "3fH4KjXFYMmljxrcGrbPj9",
                  "instrumentalness": 0.0181,
                  "loudness": -6.61,
                  "mood": "for_prediction",
                  "release_decade": "1980s",
                  "speechiness": 0.0299,
                  "tempo": 111.346,
                  "valence": 0.678
                }
              ]
            },
            "text/html": [
              "<div>\n",
              "<style scoped>\n",
              "    .dataframe tbody tr th:only-of-type {\n",
              "        vertical-align: middle;\n",
              "    }\n",
              "\n",
              "    .dataframe tbody tr th {\n",
              "        vertical-align: top;\n",
              "    }\n",
              "\n",
              "    .dataframe thead th {\n",
              "        text-align: right;\n",
              "    }\n",
              "</style>\n",
              "<table border=\"1\" class=\"dataframe\">\n",
              "  <thead>\n",
              "    <tr style=\"text-align: right;\">\n",
              "      <th></th>\n",
              "      <th>danceability</th>\n",
              "      <th>energy</th>\n",
              "      <th>loudness</th>\n",
              "      <th>speechiness</th>\n",
              "      <th>acousticness</th>\n",
              "      <th>instrumentalness</th>\n",
              "      <th>valence</th>\n",
              "      <th>tempo</th>\n",
              "      <th>id</th>\n",
              "      <th>mood</th>\n",
              "      <th>release_decade</th>\n",
              "    </tr>\n",
              "  </thead>\n",
              "  <tbody>\n",
              "    <tr>\n",
              "      <th>0</th>\n",
              "      <td>0.920</td>\n",
              "      <td>0.654</td>\n",
              "      <td>-3.051</td>\n",
              "      <td>0.0401</td>\n",
              "      <td>0.02360</td>\n",
              "      <td>0.015300</td>\n",
              "      <td>0.847</td>\n",
              "      <td>117.046</td>\n",
              "      <td>5ChkMS8OtdzJeqyybCc9R5</td>\n",
              "      <td>for_prediction</td>\n",
              "      <td>1980s</td>\n",
              "    </tr>\n",
              "    <tr>\n",
              "      <th>1</th>\n",
              "      <td>0.711</td>\n",
              "      <td>0.292</td>\n",
              "      <td>-15.523</td>\n",
              "      <td>0.0370</td>\n",
              "      <td>0.31300</td>\n",
              "      <td>0.000000</td>\n",
              "      <td>0.194</td>\n",
              "      <td>103.951</td>\n",
              "      <td>2M9ro2krNb7nr7HSprkEgo</td>\n",
              "      <td>for_prediction</td>\n",
              "      <td>1980s</td>\n",
              "    </tr>\n",
              "    <tr>\n",
              "      <th>2</th>\n",
              "      <td>0.645</td>\n",
              "      <td>0.795</td>\n",
              "      <td>-12.095</td>\n",
              "      <td>0.0527</td>\n",
              "      <td>0.34700</td>\n",
              "      <td>0.003890</td>\n",
              "      <td>0.535</td>\n",
              "      <td>112.067</td>\n",
              "      <td>4RvWPyQ5RL0ao9LPZeSouE</td>\n",
              "      <td>for_prediction</td>\n",
              "      <td>1980s</td>\n",
              "    </tr>\n",
              "    <tr>\n",
              "      <th>3</th>\n",
              "      <td>0.658</td>\n",
              "      <td>0.575</td>\n",
              "      <td>-10.365</td>\n",
              "      <td>0.0267</td>\n",
              "      <td>0.24300</td>\n",
              "      <td>0.000000</td>\n",
              "      <td>0.504</td>\n",
              "      <td>108.329</td>\n",
              "      <td>6mYrhCAGWzTdF8QnKuchXM</td>\n",
              "      <td>for_prediction</td>\n",
              "      <td>1980s</td>\n",
              "    </tr>\n",
              "    <tr>\n",
              "      <th>4</th>\n",
              "      <td>0.528</td>\n",
              "      <td>0.447</td>\n",
              "      <td>-15.255</td>\n",
              "      <td>0.0435</td>\n",
              "      <td>0.18900</td>\n",
              "      <td>0.000000</td>\n",
              "      <td>0.292</td>\n",
              "      <td>72.580</td>\n",
              "      <td>3Z2tPWiNiIpg8UMMoowHIk</td>\n",
              "      <td>for_prediction</td>\n",
              "      <td>1980s</td>\n",
              "    </tr>\n",
              "    <tr>\n",
              "      <th>...</th>\n",
              "      <td>...</td>\n",
              "      <td>...</td>\n",
              "      <td>...</td>\n",
              "      <td>...</td>\n",
              "      <td>...</td>\n",
              "      <td>...</td>\n",
              "      <td>...</td>\n",
              "      <td>...</td>\n",
              "      <td>...</td>\n",
              "      <td>...</td>\n",
              "      <td>...</td>\n",
              "    </tr>\n",
              "    <tr>\n",
              "      <th>495</th>\n",
              "      <td>0.727</td>\n",
              "      <td>0.739</td>\n",
              "      <td>-3.805</td>\n",
              "      <td>0.0411</td>\n",
              "      <td>0.36500</td>\n",
              "      <td>0.001370</td>\n",
              "      <td>0.533</td>\n",
              "      <td>93.005</td>\n",
              "      <td>2Xr1dTzJee307rmrkt8c0g</td>\n",
              "      <td>for_prediction</td>\n",
              "      <td>2020s</td>\n",
              "    </tr>\n",
              "    <tr>\n",
              "      <th>496</th>\n",
              "      <td>0.761</td>\n",
              "      <td>0.518</td>\n",
              "      <td>-8.871</td>\n",
              "      <td>0.1340</td>\n",
              "      <td>0.24400</td>\n",
              "      <td>0.000035</td>\n",
              "      <td>0.522</td>\n",
              "      <td>133.976</td>\n",
              "      <td>2SAqBLGA283SUiwJ3xOUVI</td>\n",
              "      <td>for_prediction</td>\n",
              "      <td>2020s</td>\n",
              "    </tr>\n",
              "    <tr>\n",
              "      <th>497</th>\n",
              "      <td>0.758</td>\n",
              "      <td>0.913</td>\n",
              "      <td>-2.926</td>\n",
              "      <td>0.1130</td>\n",
              "      <td>0.00364</td>\n",
              "      <td>0.000069</td>\n",
              "      <td>0.658</td>\n",
              "      <td>128.040</td>\n",
              "      <td>0b18g3G5spr4ZCkz7Y6Q0Q</td>\n",
              "      <td>for_prediction</td>\n",
              "      <td>2020s</td>\n",
              "    </tr>\n",
              "    <tr>\n",
              "      <th>498</th>\n",
              "      <td>0.472</td>\n",
              "      <td>0.518</td>\n",
              "      <td>-7.379</td>\n",
              "      <td>0.0510</td>\n",
              "      <td>0.38300</td>\n",
              "      <td>0.127000</td>\n",
              "      <td>0.154</td>\n",
              "      <td>147.805</td>\n",
              "      <td>26hOm7dTtBi0TdpDGl141t</td>\n",
              "      <td>for_prediction</td>\n",
              "      <td>2020s</td>\n",
              "    </tr>\n",
              "    <tr>\n",
              "      <th>499</th>\n",
              "      <td>0.731</td>\n",
              "      <td>0.573</td>\n",
              "      <td>-10.059</td>\n",
              "      <td>0.0544</td>\n",
              "      <td>0.40100</td>\n",
              "      <td>0.000052</td>\n",
              "      <td>0.145</td>\n",
              "      <td>109.928</td>\n",
              "      <td>47EiUVwUp4C9fGccaPuUCS</td>\n",
              "      <td>for_prediction</td>\n",
              "      <td>2020s</td>\n",
              "    </tr>\n",
              "  </tbody>\n",
              "</table>\n",
              "<p>500 rows × 11 columns</p>\n",
              "</div>"
            ],
            "text/plain": [
              "     danceability  energy  loudness  speechiness  acousticness  \\\n",
              "0           0.920   0.654    -3.051       0.0401       0.02360   \n",
              "1           0.711   0.292   -15.523       0.0370       0.31300   \n",
              "2           0.645   0.795   -12.095       0.0527       0.34700   \n",
              "3           0.658   0.575   -10.365       0.0267       0.24300   \n",
              "4           0.528   0.447   -15.255       0.0435       0.18900   \n",
              "..            ...     ...       ...          ...           ...   \n",
              "495         0.727   0.739    -3.805       0.0411       0.36500   \n",
              "496         0.761   0.518    -8.871       0.1340       0.24400   \n",
              "497         0.758   0.913    -2.926       0.1130       0.00364   \n",
              "498         0.472   0.518    -7.379       0.0510       0.38300   \n",
              "499         0.731   0.573   -10.059       0.0544       0.40100   \n",
              "\n",
              "     instrumentalness  valence    tempo                      id  \\\n",
              "0            0.015300    0.847  117.046  5ChkMS8OtdzJeqyybCc9R5   \n",
              "1            0.000000    0.194  103.951  2M9ro2krNb7nr7HSprkEgo   \n",
              "2            0.003890    0.535  112.067  4RvWPyQ5RL0ao9LPZeSouE   \n",
              "3            0.000000    0.504  108.329  6mYrhCAGWzTdF8QnKuchXM   \n",
              "4            0.000000    0.292   72.580  3Z2tPWiNiIpg8UMMoowHIk   \n",
              "..                ...      ...      ...                     ...   \n",
              "495          0.001370    0.533   93.005  2Xr1dTzJee307rmrkt8c0g   \n",
              "496          0.000035    0.522  133.976  2SAqBLGA283SUiwJ3xOUVI   \n",
              "497          0.000069    0.658  128.040  0b18g3G5spr4ZCkz7Y6Q0Q   \n",
              "498          0.127000    0.154  147.805  26hOm7dTtBi0TdpDGl141t   \n",
              "499          0.000052    0.145  109.928  47EiUVwUp4C9fGccaPuUCS   \n",
              "\n",
              "               mood release_decade  \n",
              "0    for_prediction          1980s  \n",
              "1    for_prediction          1980s  \n",
              "2    for_prediction          1980s  \n",
              "3    for_prediction          1980s  \n",
              "4    for_prediction          1980s  \n",
              "..              ...            ...  \n",
              "495  for_prediction          2020s  \n",
              "496  for_prediction          2020s  \n",
              "497  for_prediction          2020s  \n",
              "498  for_prediction          2020s  \n",
              "499  for_prediction          2020s  \n",
              "\n",
              "[500 rows x 11 columns]"
            ]
          },
          "execution_count": 34,
          "metadata": {},
          "output_type": "execute_result"
        }
      ],
      "source": [
        "new_data"
      ]
    },
    {
      "cell_type": "markdown",
      "metadata": {
        "cell_id": "3ecdea6c53ec434883d9b0434a88ada7",
        "deepnote_cell_type": "markdown",
        "id": "L_-dEgEodm5f"
      },
      "source": [
        "Cargamos los modelos entrenados anteriormente con un 98%-99% para que se encargue de etiquetar las nuevas canciones en `mood` y `motivation`"
      ]
    },
    {
      "cell_type": "code",
      "execution_count": null,
      "metadata": {
        "cell_id": "4e227e9d71834040a3d096dcd8b18af9",
        "deepnote_cell_type": "code",
        "deepnote_to_be_reexecuted": false,
        "execution_millis": 520,
        "execution_start": 1708297380571,
        "id": "eisImSZmdm5f",
        "outputId": "de2d17d1-0460-40e3-d89c-f280ec331b21",
        "source_hash": "3af3226"
      },
      "outputs": [
        {
          "name": "stdout",
          "output_type": "stream",
          "text": [
            "     mood  motivation\n",
            "0     1.0         1.0\n",
            "1     0.0         0.0\n",
            "2     1.0         0.0\n",
            "3     0.0         0.0\n",
            "4     0.0         0.0\n",
            "..    ...         ...\n",
            "495   1.0         1.0\n",
            "496   0.0         1.0\n",
            "497   1.0         1.0\n",
            "498   0.0         1.0\n",
            "499   0.0         0.0\n",
            "\n",
            "[500 rows x 2 columns]\n"
          ]
        },
        {
          "data": {
            "application/vnd.deepnote.dataframe.v3+json": {
              "column_count": 12,
              "columns": [
                {
                  "dtype": "float64",
                  "name": "danceability",
                  "stats": {
                    "histogram": [
                      {
                        "bin_end": 0.2848,
                        "bin_start": 0.209,
                        "count": 7
                      },
                      {
                        "bin_end": 0.36060000000000003,
                        "bin_start": 0.2848,
                        "count": 17
                      },
                      {
                        "bin_end": 0.4364,
                        "bin_start": 0.36060000000000003,
                        "count": 29
                      },
                      {
                        "bin_end": 0.5122,
                        "bin_start": 0.4364,
                        "count": 54
                      },
                      {
                        "bin_end": 0.588,
                        "bin_start": 0.5122,
                        "count": 74
                      },
                      {
                        "bin_end": 0.6638000000000001,
                        "bin_start": 0.588,
                        "count": 85
                      },
                      {
                        "bin_end": 0.7396,
                        "bin_start": 0.6638000000000001,
                        "count": 98
                      },
                      {
                        "bin_end": 0.8154,
                        "bin_start": 0.7396,
                        "count": 78
                      },
                      {
                        "bin_end": 0.8912,
                        "bin_start": 0.8154,
                        "count": 34
                      },
                      {
                        "bin_end": 0.967,
                        "bin_start": 0.8912,
                        "count": 24
                      }
                    ],
                    "max": "0.967",
                    "min": "0.209",
                    "nan_count": 0,
                    "unique_count": 329
                  }
                },
                {
                  "dtype": "float64",
                  "name": "energy",
                  "stats": {
                    "histogram": [
                      {
                        "bin_end": 0.18069000000000002,
                        "bin_start": 0.0911,
                        "count": 2
                      },
                      {
                        "bin_end": 0.27028,
                        "bin_start": 0.18069000000000002,
                        "count": 6
                      },
                      {
                        "bin_end": 0.35987,
                        "bin_start": 0.27028,
                        "count": 19
                      },
                      {
                        "bin_end": 0.44946,
                        "bin_start": 0.35987,
                        "count": 35
                      },
                      {
                        "bin_end": 0.53905,
                        "bin_start": 0.44946,
                        "count": 56
                      },
                      {
                        "bin_end": 0.62864,
                        "bin_start": 0.53905,
                        "count": 79
                      },
                      {
                        "bin_end": 0.7182299999999999,
                        "bin_start": 0.62864,
                        "count": 84
                      },
                      {
                        "bin_end": 0.80782,
                        "bin_start": 0.7182299999999999,
                        "count": 84
                      },
                      {
                        "bin_end": 0.89741,
                        "bin_start": 0.80782,
                        "count": 79
                      },
                      {
                        "bin_end": 0.987,
                        "bin_start": 0.89741,
                        "count": 56
                      }
                    ],
                    "max": "0.987",
                    "min": "0.0911",
                    "nan_count": 0,
                    "unique_count": 340
                  }
                },
                {
                  "dtype": "float64",
                  "name": "loudness",
                  "stats": {
                    "histogram": [
                      {
                        "bin_end": -16.410899999999998,
                        "bin_start": -18.09,
                        "count": 6
                      },
                      {
                        "bin_end": -14.7318,
                        "bin_start": -16.410899999999998,
                        "count": 4
                      },
                      {
                        "bin_end": -13.0527,
                        "bin_start": -14.7318,
                        "count": 16
                      },
                      {
                        "bin_end": -11.3736,
                        "bin_start": -13.0527,
                        "count": 19
                      },
                      {
                        "bin_end": -9.6945,
                        "bin_start": -11.3736,
                        "count": 32
                      },
                      {
                        "bin_end": -8.0154,
                        "bin_start": -9.6945,
                        "count": 63
                      },
                      {
                        "bin_end": -6.3363,
                        "bin_start": -8.0154,
                        "count": 98
                      },
                      {
                        "bin_end": -4.6572,
                        "bin_start": -6.3363,
                        "count": 146
                      },
                      {
                        "bin_end": -2.9780999999999995,
                        "bin_start": -4.6572,
                        "count": 98
                      },
                      {
                        "bin_end": -1.299,
                        "bin_start": -2.9780999999999995,
                        "count": 18
                      }
                    ],
                    "max": "-1.299",
                    "min": "-18.09",
                    "nan_count": 0,
                    "unique_count": 478
                  }
                },
                {
                  "dtype": "float64",
                  "name": "speechiness",
                  "stats": {
                    "histogram": [
                      {
                        "bin_end": 0.06883,
                        "bin_start": 0.0227,
                        "count": 354
                      },
                      {
                        "bin_end": 0.11495999999999999,
                        "bin_start": 0.06883,
                        "count": 68
                      },
                      {
                        "bin_end": 0.16108999999999998,
                        "bin_start": 0.11495999999999999,
                        "count": 28
                      },
                      {
                        "bin_end": 0.20722,
                        "bin_start": 0.16108999999999998,
                        "count": 10
                      },
                      {
                        "bin_end": 0.25335,
                        "bin_start": 0.20722,
                        "count": 10
                      },
                      {
                        "bin_end": 0.29947999999999997,
                        "bin_start": 0.25335,
                        "count": 11
                      },
                      {
                        "bin_end": 0.34561,
                        "bin_start": 0.29947999999999997,
                        "count": 8
                      },
                      {
                        "bin_end": 0.39174,
                        "bin_start": 0.34561,
                        "count": 6
                      },
                      {
                        "bin_end": 0.43787,
                        "bin_start": 0.39174,
                        "count": 2
                      },
                      {
                        "bin_end": 0.484,
                        "bin_start": 0.43787,
                        "count": 3
                      }
                    ],
                    "max": "0.484",
                    "min": "0.0227",
                    "nan_count": 0,
                    "unique_count": 353
                  }
                },
                {
                  "dtype": "float64",
                  "name": "acousticness",
                  "stats": {
                    "histogram": [
                      {
                        "bin_end": 0.09781646999999999,
                        "bin_start": 0.0000183,
                        "count": 243
                      },
                      {
                        "bin_end": 0.19561463999999998,
                        "bin_start": 0.09781646999999999,
                        "count": 81
                      },
                      {
                        "bin_end": 0.29341280999999997,
                        "bin_start": 0.19561463999999998,
                        "count": 58
                      },
                      {
                        "bin_end": 0.39121098,
                        "bin_start": 0.29341280999999997,
                        "count": 32
                      },
                      {
                        "bin_end": 0.48900915,
                        "bin_start": 0.39121098,
                        "count": 19
                      },
                      {
                        "bin_end": 0.5868073199999999,
                        "bin_start": 0.48900915,
                        "count": 19
                      },
                      {
                        "bin_end": 0.6846054899999999,
                        "bin_start": 0.5868073199999999,
                        "count": 19
                      },
                      {
                        "bin_end": 0.78240366,
                        "bin_start": 0.6846054899999999,
                        "count": 13
                      },
                      {
                        "bin_end": 0.88020183,
                        "bin_start": 0.78240366,
                        "count": 10
                      },
                      {
                        "bin_end": 0.978,
                        "bin_start": 0.88020183,
                        "count": 6
                      }
                    ],
                    "max": "0.978",
                    "min": "1.83e-05",
                    "nan_count": 0,
                    "unique_count": 423
                  }
                },
                {
                  "dtype": "float64",
                  "name": "instrumentalness",
                  "stats": {
                    "histogram": [
                      {
                        "bin_end": 0.0751,
                        "bin_start": 0,
                        "count": 470
                      },
                      {
                        "bin_end": 0.1502,
                        "bin_start": 0.0751,
                        "count": 16
                      },
                      {
                        "bin_end": 0.2253,
                        "bin_start": 0.1502,
                        "count": 5
                      },
                      {
                        "bin_end": 0.3004,
                        "bin_start": 0.2253,
                        "count": 1
                      },
                      {
                        "bin_end": 0.3755,
                        "bin_start": 0.3004,
                        "count": 1
                      },
                      {
                        "bin_end": 0.4506,
                        "bin_start": 0.3755,
                        "count": 0
                      },
                      {
                        "bin_end": 0.5257000000000001,
                        "bin_start": 0.4506,
                        "count": 2
                      },
                      {
                        "bin_end": 0.6008,
                        "bin_start": 0.5257000000000001,
                        "count": 2
                      },
                      {
                        "bin_end": 0.6759,
                        "bin_start": 0.6008,
                        "count": 1
                      },
                      {
                        "bin_end": 0.751,
                        "bin_start": 0.6759,
                        "count": 2
                      }
                    ],
                    "max": "0.751",
                    "min": "0.0",
                    "nan_count": 0,
                    "unique_count": 289
                  }
                },
                {
                  "dtype": "float64",
                  "name": "valence",
                  "stats": {
                    "histogram": [
                      {
                        "bin_end": 0.13218,
                        "bin_start": 0.0382,
                        "count": 21
                      },
                      {
                        "bin_end": 0.22615999999999997,
                        "bin_start": 0.13218,
                        "count": 43
                      },
                      {
                        "bin_end": 0.32014,
                        "bin_start": 0.22615999999999997,
                        "count": 41
                      },
                      {
                        "bin_end": 0.41412,
                        "bin_start": 0.32014,
                        "count": 47
                      },
                      {
                        "bin_end": 0.5081,
                        "bin_start": 0.41412,
                        "count": 59
                      },
                      {
                        "bin_end": 0.60208,
                        "bin_start": 0.5081,
                        "count": 59
                      },
                      {
                        "bin_end": 0.69606,
                        "bin_start": 0.60208,
                        "count": 56
                      },
                      {
                        "bin_end": 0.79004,
                        "bin_start": 0.69606,
                        "count": 61
                      },
                      {
                        "bin_end": 0.8840199999999999,
                        "bin_start": 0.79004,
                        "count": 54
                      },
                      {
                        "bin_end": 0.978,
                        "bin_start": 0.8840199999999999,
                        "count": 59
                      }
                    ],
                    "max": "0.978",
                    "min": "0.0382",
                    "nan_count": 0,
                    "unique_count": 367
                  }
                },
                {
                  "dtype": "float64",
                  "name": "tempo",
                  "stats": {
                    "histogram": [
                      {
                        "bin_end": 81.0785,
                        "bin_start": 67.531,
                        "count": 31
                      },
                      {
                        "bin_end": 94.626,
                        "bin_start": 81.0785,
                        "count": 64
                      },
                      {
                        "bin_end": 108.1735,
                        "bin_start": 94.626,
                        "count": 93
                      },
                      {
                        "bin_end": 121.721,
                        "bin_start": 108.1735,
                        "count": 101
                      },
                      {
                        "bin_end": 135.26850000000002,
                        "bin_start": 121.721,
                        "count": 98
                      },
                      {
                        "bin_end": 148.816,
                        "bin_start": 135.26850000000002,
                        "count": 45
                      },
                      {
                        "bin_end": 162.3635,
                        "bin_start": 148.816,
                        "count": 25
                      },
                      {
                        "bin_end": 175.911,
                        "bin_start": 162.3635,
                        "count": 31
                      },
                      {
                        "bin_end": 189.45850000000002,
                        "bin_start": 175.911,
                        "count": 10
                      },
                      {
                        "bin_end": 203.006,
                        "bin_start": 189.45850000000002,
                        "count": 2
                      }
                    ],
                    "max": "203.006",
                    "min": "67.531",
                    "nan_count": 0,
                    "unique_count": 493
                  }
                },
                {
                  "dtype": "object",
                  "name": "id",
                  "stats": {
                    "categories": [
                      {
                        "count": 2,
                        "name": "48UPSzbZjgc449aqz8bxox"
                      },
                      {
                        "count": 2,
                        "name": "3WkibOpDF7cQ5xntM1epyf"
                      },
                      {
                        "count": 496,
                        "name": "493 others"
                      }
                    ],
                    "nan_count": 0,
                    "unique_count": 495
                  }
                },
                {
                  "dtype": "float64",
                  "name": "mood",
                  "stats": {
                    "histogram": [
                      {
                        "bin_end": 0.1,
                        "bin_start": 0,
                        "count": 222
                      },
                      {
                        "bin_end": 0.2,
                        "bin_start": 0.1,
                        "count": 0
                      },
                      {
                        "bin_end": 0.30000000000000004,
                        "bin_start": 0.2,
                        "count": 0
                      },
                      {
                        "bin_end": 0.4,
                        "bin_start": 0.30000000000000004,
                        "count": 0
                      },
                      {
                        "bin_end": 0.5,
                        "bin_start": 0.4,
                        "count": 0
                      },
                      {
                        "bin_end": 0.6000000000000001,
                        "bin_start": 0.5,
                        "count": 0
                      },
                      {
                        "bin_end": 0.7000000000000001,
                        "bin_start": 0.6000000000000001,
                        "count": 0
                      },
                      {
                        "bin_end": 0.8,
                        "bin_start": 0.7000000000000001,
                        "count": 0
                      },
                      {
                        "bin_end": 0.9,
                        "bin_start": 0.8,
                        "count": 0
                      },
                      {
                        "bin_end": 1,
                        "bin_start": 0.9,
                        "count": 278
                      }
                    ],
                    "max": "1.0",
                    "min": "0.0",
                    "nan_count": 0,
                    "unique_count": 2
                  }
                },
                {
                  "dtype": "object",
                  "name": "release_decade",
                  "stats": {
                    "categories": [
                      {
                        "count": 100,
                        "name": "1980s"
                      },
                      {
                        "count": 100,
                        "name": "1990s"
                      },
                      {
                        "count": 300,
                        "name": "3 others"
                      }
                    ],
                    "nan_count": 0,
                    "unique_count": 5
                  }
                },
                {
                  "dtype": "float64",
                  "name": "motivation",
                  "stats": {
                    "histogram": [
                      {
                        "bin_end": 0.1,
                        "bin_start": 0,
                        "count": 91
                      },
                      {
                        "bin_end": 0.2,
                        "bin_start": 0.1,
                        "count": 0
                      },
                      {
                        "bin_end": 0.30000000000000004,
                        "bin_start": 0.2,
                        "count": 0
                      },
                      {
                        "bin_end": 0.4,
                        "bin_start": 0.30000000000000004,
                        "count": 0
                      },
                      {
                        "bin_end": 0.5,
                        "bin_start": 0.4,
                        "count": 0
                      },
                      {
                        "bin_end": 0.6000000000000001,
                        "bin_start": 0.5,
                        "count": 0
                      },
                      {
                        "bin_end": 0.7000000000000001,
                        "bin_start": 0.6000000000000001,
                        "count": 0
                      },
                      {
                        "bin_end": 0.8,
                        "bin_start": 0.7000000000000001,
                        "count": 0
                      },
                      {
                        "bin_end": 0.9,
                        "bin_start": 0.8,
                        "count": 0
                      },
                      {
                        "bin_end": 1,
                        "bin_start": 0.9,
                        "count": 409
                      }
                    ],
                    "max": "1.0",
                    "min": "0.0",
                    "nan_count": 0,
                    "unique_count": 2
                  }
                },
                {
                  "dtype": "int64",
                  "name": "_deepnote_index_column"
                }
              ],
              "row_count": 500,
              "rows": [
                {
                  "_deepnote_index_column": 0,
                  "acousticness": 0.0236,
                  "danceability": 0.92,
                  "energy": 0.654,
                  "id": "5ChkMS8OtdzJeqyybCc9R5",
                  "instrumentalness": 0.0153,
                  "loudness": -3.051,
                  "mood": 1,
                  "motivation": 1,
                  "release_decade": "1980s",
                  "speechiness": 0.0401,
                  "tempo": 117.046,
                  "valence": 0.847
                },
                {
                  "_deepnote_index_column": 1,
                  "acousticness": 0.313,
                  "danceability": 0.711,
                  "energy": 0.292,
                  "id": "2M9ro2krNb7nr7HSprkEgo",
                  "instrumentalness": 0,
                  "loudness": -15.523,
                  "mood": 0,
                  "motivation": 0,
                  "release_decade": "1980s",
                  "speechiness": 0.037,
                  "tempo": 103.951,
                  "valence": 0.194
                },
                {
                  "_deepnote_index_column": 2,
                  "acousticness": 0.347,
                  "danceability": 0.645,
                  "energy": 0.795,
                  "id": "4RvWPyQ5RL0ao9LPZeSouE",
                  "instrumentalness": 0.00389,
                  "loudness": -12.095,
                  "mood": 1,
                  "motivation": 0,
                  "release_decade": "1980s",
                  "speechiness": 0.0527,
                  "tempo": 112.067,
                  "valence": 0.535
                },
                {
                  "_deepnote_index_column": 3,
                  "acousticness": 0.243,
                  "danceability": 0.658,
                  "energy": 0.575,
                  "id": "6mYrhCAGWzTdF8QnKuchXM",
                  "instrumentalness": 0,
                  "loudness": -10.365,
                  "mood": 0,
                  "motivation": 0,
                  "release_decade": "1980s",
                  "speechiness": 0.0267,
                  "tempo": 108.329,
                  "valence": 0.504
                },
                {
                  "_deepnote_index_column": 4,
                  "acousticness": 0.189,
                  "danceability": 0.528,
                  "energy": 0.447,
                  "id": "3Z2tPWiNiIpg8UMMoowHIk",
                  "instrumentalness": 0,
                  "loudness": -15.255,
                  "mood": 0,
                  "motivation": 0,
                  "release_decade": "1980s",
                  "speechiness": 0.0435,
                  "tempo": 72.58,
                  "valence": 0.292
                },
                {
                  "_deepnote_index_column": 5,
                  "acousticness": 0.000202,
                  "danceability": 0.54,
                  "energy": 0.429,
                  "id": "6ADSaE87h8Y3lccZlBJdXH",
                  "instrumentalness": 0.355,
                  "loudness": -11.822,
                  "mood": 0,
                  "motivation": 0,
                  "release_decade": "1980s",
                  "speechiness": 0.0285,
                  "tempo": 110.171,
                  "valence": 0.113
                },
                {
                  "_deepnote_index_column": 6,
                  "acousticness": 0.018,
                  "danceability": 0.573,
                  "energy": 0.902,
                  "id": "2WfaOiMkCvy7F5fcp2zZ8L",
                  "instrumentalness": 0.00125,
                  "loudness": -7.638,
                  "mood": 1,
                  "motivation": 1,
                  "release_decade": "1980s",
                  "speechiness": 0.054,
                  "tempo": 84.412,
                  "valence": 0.876
                },
                {
                  "_deepnote_index_column": 7,
                  "acousticness": 0.0289,
                  "danceability": 0.72,
                  "energy": 0.967,
                  "id": "7fRvtXvJMpGfTLdF0M09a1",
                  "instrumentalness": 0.000345,
                  "loudness": -4.434,
                  "mood": 1,
                  "motivation": 1,
                  "release_decade": "1980s",
                  "speechiness": 0.0343,
                  "tempo": 129.766,
                  "valence": 0.977
                },
                {
                  "_deepnote_index_column": 8,
                  "acousticness": 0.125,
                  "danceability": 0.734,
                  "energy": 0.586,
                  "id": "3nFJbZCHP4d9vduKjJLdBL",
                  "instrumentalness": 0,
                  "loudness": -11.866,
                  "mood": 1,
                  "motivation": 1,
                  "release_decade": "1980s",
                  "speechiness": 0.129,
                  "tempo": 109.933,
                  "valence": 0.762
                },
                {
                  "_deepnote_index_column": 9,
                  "acousticness": 0.0901,
                  "danceability": 0.446,
                  "energy": 0.952,
                  "id": "7snQQk1zcKl8gZ92AnueZW",
                  "instrumentalness": 0.0857,
                  "loudness": -5.321,
                  "mood": 1,
                  "motivation": 1,
                  "release_decade": "1980s",
                  "speechiness": 0.0523,
                  "tempo": 125.303,
                  "valence": 0.624
                }
              ]
            },
            "text/html": [
              "<div>\n",
              "<style scoped>\n",
              "    .dataframe tbody tr th:only-of-type {\n",
              "        vertical-align: middle;\n",
              "    }\n",
              "\n",
              "    .dataframe tbody tr th {\n",
              "        vertical-align: top;\n",
              "    }\n",
              "\n",
              "    .dataframe thead th {\n",
              "        text-align: right;\n",
              "    }\n",
              "</style>\n",
              "<table border=\"1\" class=\"dataframe\">\n",
              "  <thead>\n",
              "    <tr style=\"text-align: right;\">\n",
              "      <th></th>\n",
              "      <th>danceability</th>\n",
              "      <th>energy</th>\n",
              "      <th>loudness</th>\n",
              "      <th>speechiness</th>\n",
              "      <th>acousticness</th>\n",
              "      <th>instrumentalness</th>\n",
              "      <th>valence</th>\n",
              "      <th>tempo</th>\n",
              "      <th>id</th>\n",
              "      <th>mood</th>\n",
              "      <th>release_decade</th>\n",
              "      <th>motivation</th>\n",
              "    </tr>\n",
              "  </thead>\n",
              "  <tbody>\n",
              "    <tr>\n",
              "      <th>0</th>\n",
              "      <td>0.920</td>\n",
              "      <td>0.654</td>\n",
              "      <td>-3.051</td>\n",
              "      <td>0.0401</td>\n",
              "      <td>0.02360</td>\n",
              "      <td>0.015300</td>\n",
              "      <td>0.847</td>\n",
              "      <td>117.046</td>\n",
              "      <td>5ChkMS8OtdzJeqyybCc9R5</td>\n",
              "      <td>1.0</td>\n",
              "      <td>1980s</td>\n",
              "      <td>1.0</td>\n",
              "    </tr>\n",
              "    <tr>\n",
              "      <th>1</th>\n",
              "      <td>0.711</td>\n",
              "      <td>0.292</td>\n",
              "      <td>-15.523</td>\n",
              "      <td>0.0370</td>\n",
              "      <td>0.31300</td>\n",
              "      <td>0.000000</td>\n",
              "      <td>0.194</td>\n",
              "      <td>103.951</td>\n",
              "      <td>2M9ro2krNb7nr7HSprkEgo</td>\n",
              "      <td>0.0</td>\n",
              "      <td>1980s</td>\n",
              "      <td>0.0</td>\n",
              "    </tr>\n",
              "    <tr>\n",
              "      <th>2</th>\n",
              "      <td>0.645</td>\n",
              "      <td>0.795</td>\n",
              "      <td>-12.095</td>\n",
              "      <td>0.0527</td>\n",
              "      <td>0.34700</td>\n",
              "      <td>0.003890</td>\n",
              "      <td>0.535</td>\n",
              "      <td>112.067</td>\n",
              "      <td>4RvWPyQ5RL0ao9LPZeSouE</td>\n",
              "      <td>1.0</td>\n",
              "      <td>1980s</td>\n",
              "      <td>0.0</td>\n",
              "    </tr>\n",
              "    <tr>\n",
              "      <th>3</th>\n",
              "      <td>0.658</td>\n",
              "      <td>0.575</td>\n",
              "      <td>-10.365</td>\n",
              "      <td>0.0267</td>\n",
              "      <td>0.24300</td>\n",
              "      <td>0.000000</td>\n",
              "      <td>0.504</td>\n",
              "      <td>108.329</td>\n",
              "      <td>6mYrhCAGWzTdF8QnKuchXM</td>\n",
              "      <td>0.0</td>\n",
              "      <td>1980s</td>\n",
              "      <td>0.0</td>\n",
              "    </tr>\n",
              "    <tr>\n",
              "      <th>4</th>\n",
              "      <td>0.528</td>\n",
              "      <td>0.447</td>\n",
              "      <td>-15.255</td>\n",
              "      <td>0.0435</td>\n",
              "      <td>0.18900</td>\n",
              "      <td>0.000000</td>\n",
              "      <td>0.292</td>\n",
              "      <td>72.580</td>\n",
              "      <td>3Z2tPWiNiIpg8UMMoowHIk</td>\n",
              "      <td>0.0</td>\n",
              "      <td>1980s</td>\n",
              "      <td>0.0</td>\n",
              "    </tr>\n",
              "    <tr>\n",
              "      <th>...</th>\n",
              "      <td>...</td>\n",
              "      <td>...</td>\n",
              "      <td>...</td>\n",
              "      <td>...</td>\n",
              "      <td>...</td>\n",
              "      <td>...</td>\n",
              "      <td>...</td>\n",
              "      <td>...</td>\n",
              "      <td>...</td>\n",
              "      <td>...</td>\n",
              "      <td>...</td>\n",
              "      <td>...</td>\n",
              "    </tr>\n",
              "    <tr>\n",
              "      <th>495</th>\n",
              "      <td>0.727</td>\n",
              "      <td>0.739</td>\n",
              "      <td>-3.805</td>\n",
              "      <td>0.0411</td>\n",
              "      <td>0.36500</td>\n",
              "      <td>0.001370</td>\n",
              "      <td>0.533</td>\n",
              "      <td>93.005</td>\n",
              "      <td>2Xr1dTzJee307rmrkt8c0g</td>\n",
              "      <td>1.0</td>\n",
              "      <td>2020s</td>\n",
              "      <td>1.0</td>\n",
              "    </tr>\n",
              "    <tr>\n",
              "      <th>496</th>\n",
              "      <td>0.761</td>\n",
              "      <td>0.518</td>\n",
              "      <td>-8.871</td>\n",
              "      <td>0.1340</td>\n",
              "      <td>0.24400</td>\n",
              "      <td>0.000035</td>\n",
              "      <td>0.522</td>\n",
              "      <td>133.976</td>\n",
              "      <td>2SAqBLGA283SUiwJ3xOUVI</td>\n",
              "      <td>0.0</td>\n",
              "      <td>2020s</td>\n",
              "      <td>1.0</td>\n",
              "    </tr>\n",
              "    <tr>\n",
              "      <th>497</th>\n",
              "      <td>0.758</td>\n",
              "      <td>0.913</td>\n",
              "      <td>-2.926</td>\n",
              "      <td>0.1130</td>\n",
              "      <td>0.00364</td>\n",
              "      <td>0.000069</td>\n",
              "      <td>0.658</td>\n",
              "      <td>128.040</td>\n",
              "      <td>0b18g3G5spr4ZCkz7Y6Q0Q</td>\n",
              "      <td>1.0</td>\n",
              "      <td>2020s</td>\n",
              "      <td>1.0</td>\n",
              "    </tr>\n",
              "    <tr>\n",
              "      <th>498</th>\n",
              "      <td>0.472</td>\n",
              "      <td>0.518</td>\n",
              "      <td>-7.379</td>\n",
              "      <td>0.0510</td>\n",
              "      <td>0.38300</td>\n",
              "      <td>0.127000</td>\n",
              "      <td>0.154</td>\n",
              "      <td>147.805</td>\n",
              "      <td>26hOm7dTtBi0TdpDGl141t</td>\n",
              "      <td>0.0</td>\n",
              "      <td>2020s</td>\n",
              "      <td>1.0</td>\n",
              "    </tr>\n",
              "    <tr>\n",
              "      <th>499</th>\n",
              "      <td>0.731</td>\n",
              "      <td>0.573</td>\n",
              "      <td>-10.059</td>\n",
              "      <td>0.0544</td>\n",
              "      <td>0.40100</td>\n",
              "      <td>0.000052</td>\n",
              "      <td>0.145</td>\n",
              "      <td>109.928</td>\n",
              "      <td>47EiUVwUp4C9fGccaPuUCS</td>\n",
              "      <td>0.0</td>\n",
              "      <td>2020s</td>\n",
              "      <td>0.0</td>\n",
              "    </tr>\n",
              "  </tbody>\n",
              "</table>\n",
              "<p>500 rows × 12 columns</p>\n",
              "</div>"
            ],
            "text/plain": [
              "     danceability  energy  loudness  speechiness  acousticness  \\\n",
              "0           0.920   0.654    -3.051       0.0401       0.02360   \n",
              "1           0.711   0.292   -15.523       0.0370       0.31300   \n",
              "2           0.645   0.795   -12.095       0.0527       0.34700   \n",
              "3           0.658   0.575   -10.365       0.0267       0.24300   \n",
              "4           0.528   0.447   -15.255       0.0435       0.18900   \n",
              "..            ...     ...       ...          ...           ...   \n",
              "495         0.727   0.739    -3.805       0.0411       0.36500   \n",
              "496         0.761   0.518    -8.871       0.1340       0.24400   \n",
              "497         0.758   0.913    -2.926       0.1130       0.00364   \n",
              "498         0.472   0.518    -7.379       0.0510       0.38300   \n",
              "499         0.731   0.573   -10.059       0.0544       0.40100   \n",
              "\n",
              "     instrumentalness  valence    tempo                      id  mood  \\\n",
              "0            0.015300    0.847  117.046  5ChkMS8OtdzJeqyybCc9R5   1.0   \n",
              "1            0.000000    0.194  103.951  2M9ro2krNb7nr7HSprkEgo   0.0   \n",
              "2            0.003890    0.535  112.067  4RvWPyQ5RL0ao9LPZeSouE   1.0   \n",
              "3            0.000000    0.504  108.329  6mYrhCAGWzTdF8QnKuchXM   0.0   \n",
              "4            0.000000    0.292   72.580  3Z2tPWiNiIpg8UMMoowHIk   0.0   \n",
              "..                ...      ...      ...                     ...   ...   \n",
              "495          0.001370    0.533   93.005  2Xr1dTzJee307rmrkt8c0g   1.0   \n",
              "496          0.000035    0.522  133.976  2SAqBLGA283SUiwJ3xOUVI   0.0   \n",
              "497          0.000069    0.658  128.040  0b18g3G5spr4ZCkz7Y6Q0Q   1.0   \n",
              "498          0.127000    0.154  147.805  26hOm7dTtBi0TdpDGl141t   0.0   \n",
              "499          0.000052    0.145  109.928  47EiUVwUp4C9fGccaPuUCS   0.0   \n",
              "\n",
              "    release_decade  motivation  \n",
              "0            1980s         1.0  \n",
              "1            1980s         0.0  \n",
              "2            1980s         0.0  \n",
              "3            1980s         0.0  \n",
              "4            1980s         0.0  \n",
              "..             ...         ...  \n",
              "495          2020s         1.0  \n",
              "496          2020s         1.0  \n",
              "497          2020s         1.0  \n",
              "498          2020s         1.0  \n",
              "499          2020s         0.0  \n",
              "\n",
              "[500 rows x 12 columns]"
            ]
          },
          "execution_count": 35,
          "metadata": {},
          "output_type": "execute_result"
        }
      ],
      "source": [
        "from sklearn.linear_model import LogisticRegression\n",
        "from sklearn.svm import LinearSVC\n",
        "from sklearn.metrics import classification_report\n",
        "\n",
        "# Carga de los modelos\n",
        "lr_model = joblib.load('modelo_lr_mood.pkl')\n",
        "LinearSVC_model = joblib.load('modelo_linearSVC_motivation.pkl')\n",
        "\n",
        "# Separamos los datos\n",
        "X_new_data = new_data.drop(['mood', 'id', 'release_decade'], axis=1)\n",
        "\n",
        "# Nos quedamos las columnas necesarias de X_new_data\n",
        "X_new_data_subset = X_new_data[['danceability', 'energy', 'loudness', 'speechiness', 'acousticness',\n",
        "                                'instrumentalness', 'valence', 'tempo']]\n",
        "\n",
        "# Predecimos 'mood' con lr_model\n",
        "predicted_mood = lr_model.predict(X_new_data_subset)\n",
        "\n",
        "# Añadimos la columna predicha\n",
        "new_data['mood'] = predicted_mood\n",
        "\n",
        "# Predecimos la 'motivation' con LinearSVC_model\n",
        "predicted_motivation = LinearSVC_model.predict(X_new_data_subset)\n",
        "\n",
        "# Añadimos la columna predicha\n",
        "new_data['motivation'] = predicted_motivation\n",
        "\n",
        "# Imprimimos el DataFrame con las predicciones y visualizamos los datos\n",
        "print(new_data[['mood', 'motivation']])\n",
        "new_data"
      ]
    },
    {
      "cell_type": "markdown",
      "metadata": {
        "cell_id": "c12a11cbfa0c44c6a51a5b3eac883d25",
        "deepnote_cell_type": "markdown",
        "id": "3QKrj5xNdm5f"
      },
      "source": [
        "Unimos ambos DataFrames."
      ]
    },
    {
      "cell_type": "code",
      "execution_count": null,
      "metadata": {
        "cell_id": "db04c1a39d464ba6afd2c728a2c409ba",
        "deepnote_cell_type": "code",
        "deepnote_to_be_reexecuted": false,
        "execution_millis": 886,
        "execution_start": 1708297380672,
        "id": "SsNKBFuXdm5g",
        "outputId": "85fe4ab8-c4a8-4475-dffb-20c45325ac67",
        "source_hash": "7d74f78a"
      },
      "outputs": [
        {
          "data": {
            "application/vnd.deepnote.dataframe.v3+json": {
              "column_count": 12,
              "columns": [
                {
                  "dtype": "float64",
                  "name": "danceability",
                  "stats": {
                    "histogram": [
                      {
                        "bin_end": 0.2542,
                        "bin_start": 0.175,
                        "count": 12
                      },
                      {
                        "bin_end": 0.33340000000000003,
                        "bin_start": 0.2542,
                        "count": 37
                      },
                      {
                        "bin_end": 0.4126,
                        "bin_start": 0.33340000000000003,
                        "count": 78
                      },
                      {
                        "bin_end": 0.4918,
                        "bin_start": 0.4126,
                        "count": 121
                      },
                      {
                        "bin_end": 0.571,
                        "bin_start": 0.4918,
                        "count": 175
                      },
                      {
                        "bin_end": 0.6502000000000001,
                        "bin_start": 0.571,
                        "count": 206
                      },
                      {
                        "bin_end": 0.7294,
                        "bin_start": 0.6502000000000001,
                        "count": 227
                      },
                      {
                        "bin_end": 0.8086,
                        "bin_start": 0.7294,
                        "count": 171
                      },
                      {
                        "bin_end": 0.8878000000000001,
                        "bin_start": 0.8086,
                        "count": 77
                      },
                      {
                        "bin_end": 0.967,
                        "bin_start": 0.8878000000000001,
                        "count": 31
                      }
                    ],
                    "max": "0.967",
                    "min": "0.175",
                    "nan_count": 0,
                    "unique_count": 512
                  }
                },
                {
                  "dtype": "float64",
                  "name": "energy",
                  "stats": {
                    "histogram": [
                      {
                        "bin_end": 0.1357,
                        "bin_start": 0.04,
                        "count": 39
                      },
                      {
                        "bin_end": 0.2314,
                        "bin_start": 0.1357,
                        "count": 68
                      },
                      {
                        "bin_end": 0.32709999999999995,
                        "bin_start": 0.2314,
                        "count": 95
                      },
                      {
                        "bin_end": 0.42279999999999995,
                        "bin_start": 0.32709999999999995,
                        "count": 85
                      },
                      {
                        "bin_end": 0.5185,
                        "bin_start": 0.42279999999999995,
                        "count": 54
                      },
                      {
                        "bin_end": 0.6142,
                        "bin_start": 0.5185,
                        "count": 98
                      },
                      {
                        "bin_end": 0.7099,
                        "bin_start": 0.6142,
                        "count": 145
                      },
                      {
                        "bin_end": 0.8056,
                        "bin_start": 0.7099,
                        "count": 179
                      },
                      {
                        "bin_end": 0.9013,
                        "bin_start": 0.8056,
                        "count": 210
                      },
                      {
                        "bin_end": 0.997,
                        "bin_start": 0.9013,
                        "count": 162
                      }
                    ],
                    "max": "0.997",
                    "min": "0.04",
                    "nan_count": 0,
                    "unique_count": 580
                  }
                },
                {
                  "dtype": "float64",
                  "name": "loudness",
                  "stats": {
                    "histogram": [
                      {
                        "bin_end": -24.4059,
                        "bin_start": -27.043,
                        "count": 2
                      },
                      {
                        "bin_end": -21.7688,
                        "bin_start": -24.4059,
                        "count": 6
                      },
                      {
                        "bin_end": -19.131700000000002,
                        "bin_start": -21.7688,
                        "count": 2
                      },
                      {
                        "bin_end": -16.4946,
                        "bin_start": -19.131700000000002,
                        "count": 20
                      },
                      {
                        "bin_end": -13.8575,
                        "bin_start": -16.4946,
                        "count": 43
                      },
                      {
                        "bin_end": -11.220400000000001,
                        "bin_start": -13.8575,
                        "count": 100
                      },
                      {
                        "bin_end": -8.583300000000001,
                        "bin_start": -11.220400000000001,
                        "count": 151
                      },
                      {
                        "bin_end": -5.946200000000001,
                        "bin_start": -8.583300000000001,
                        "count": 291
                      },
                      {
                        "bin_end": -3.309100000000001,
                        "bin_start": -5.946200000000001,
                        "count": 430
                      },
                      {
                        "bin_end": -0.672,
                        "bin_start": -3.309100000000001,
                        "count": 90
                      }
                    ],
                    "max": "-0.672",
                    "min": "-27.043",
                    "nan_count": 0,
                    "unique_count": 1033
                  }
                },
                {
                  "dtype": "float64",
                  "name": "speechiness",
                  "stats": {
                    "histogram": [
                      {
                        "bin_end": 0.08042999999999999,
                        "bin_start": 0.0227,
                        "count": 859
                      },
                      {
                        "bin_end": 0.13815999999999998,
                        "bin_start": 0.08042999999999999,
                        "count": 132
                      },
                      {
                        "bin_end": 0.19588999999999995,
                        "bin_start": 0.13815999999999998,
                        "count": 53
                      },
                      {
                        "bin_end": 0.25361999999999996,
                        "bin_start": 0.19588999999999995,
                        "count": 28
                      },
                      {
                        "bin_end": 0.31134999999999996,
                        "bin_start": 0.25361999999999996,
                        "count": 28
                      },
                      {
                        "bin_end": 0.3690799999999999,
                        "bin_start": 0.31134999999999996,
                        "count": 20
                      },
                      {
                        "bin_end": 0.4268099999999999,
                        "bin_start": 0.3690799999999999,
                        "count": 9
                      },
                      {
                        "bin_end": 0.4845399999999999,
                        "bin_start": 0.4268099999999999,
                        "count": 4
                      },
                      {
                        "bin_end": 0.5422699999999999,
                        "bin_start": 0.4845399999999999,
                        "count": 0
                      },
                      {
                        "bin_end": 0.6,
                        "bin_start": 0.5422699999999999,
                        "count": 2
                      }
                    ],
                    "max": "0.6",
                    "min": "0.0227",
                    "nan_count": 0,
                    "unique_count": 565
                  }
                },
                {
                  "dtype": "float64",
                  "name": "acousticness",
                  "stats": {
                    "histogram": [
                      {
                        "bin_end": 0.09891646999999999,
                        "bin_start": 0.0000183,
                        "count": 490
                      },
                      {
                        "bin_end": 0.19781463999999999,
                        "bin_start": 0.09891646999999999,
                        "count": 138
                      },
                      {
                        "bin_end": 0.29671281,
                        "bin_start": 0.19781463999999999,
                        "count": 97
                      },
                      {
                        "bin_end": 0.39561098,
                        "bin_start": 0.29671281,
                        "count": 54
                      },
                      {
                        "bin_end": 0.49450915,
                        "bin_start": 0.39561098,
                        "count": 49
                      },
                      {
                        "bin_end": 0.59340732,
                        "bin_start": 0.49450915,
                        "count": 40
                      },
                      {
                        "bin_end": 0.69230549,
                        "bin_start": 0.59340732,
                        "count": 38
                      },
                      {
                        "bin_end": 0.79120366,
                        "bin_start": 0.69230549,
                        "count": 44
                      },
                      {
                        "bin_end": 0.89010183,
                        "bin_start": 0.79120366,
                        "count": 83
                      },
                      {
                        "bin_end": 0.989,
                        "bin_start": 0.89010183,
                        "count": 102
                      }
                    ],
                    "max": "0.989",
                    "min": "1.83e-05",
                    "nan_count": 0,
                    "unique_count": 814
                  }
                },
                {
                  "dtype": "float64",
                  "name": "instrumentalness",
                  "stats": {
                    "histogram": [
                      {
                        "bin_end": 0.09330000000000001,
                        "bin_start": 0,
                        "count": 1027
                      },
                      {
                        "bin_end": 0.18660000000000002,
                        "bin_start": 0.09330000000000001,
                        "count": 31
                      },
                      {
                        "bin_end": 0.27990000000000004,
                        "bin_start": 0.18660000000000002,
                        "count": 12
                      },
                      {
                        "bin_end": 0.37320000000000003,
                        "bin_start": 0.27990000000000004,
                        "count": 7
                      },
                      {
                        "bin_end": 0.4665,
                        "bin_start": 0.37320000000000003,
                        "count": 7
                      },
                      {
                        "bin_end": 0.5598000000000001,
                        "bin_start": 0.4665,
                        "count": 9
                      },
                      {
                        "bin_end": 0.6531,
                        "bin_start": 0.5598000000000001,
                        "count": 8
                      },
                      {
                        "bin_end": 0.7464000000000001,
                        "bin_start": 0.6531,
                        "count": 8
                      },
                      {
                        "bin_end": 0.8397000000000001,
                        "bin_start": 0.7464000000000001,
                        "count": 13
                      },
                      {
                        "bin_end": 0.933,
                        "bin_start": 0.8397000000000001,
                        "count": 13
                      }
                    ],
                    "max": "0.933",
                    "min": "0.0",
                    "nan_count": 0,
                    "unique_count": 608
                  }
                },
                {
                  "dtype": "float64",
                  "name": "valence",
                  "stats": {
                    "histogram": [
                      {
                        "bin_end": 0.12642,
                        "bin_start": 0.0318,
                        "count": 87
                      },
                      {
                        "bin_end": 0.22104,
                        "bin_start": 0.12642,
                        "count": 160
                      },
                      {
                        "bin_end": 0.31566,
                        "bin_start": 0.22104,
                        "count": 145
                      },
                      {
                        "bin_end": 0.41028,
                        "bin_start": 0.31566,
                        "count": 156
                      },
                      {
                        "bin_end": 0.5049,
                        "bin_start": 0.41028,
                        "count": 56
                      },
                      {
                        "bin_end": 0.59952,
                        "bin_start": 0.5049,
                        "count": 62
                      },
                      {
                        "bin_end": 0.69414,
                        "bin_start": 0.59952,
                        "count": 120
                      },
                      {
                        "bin_end": 0.78876,
                        "bin_start": 0.69414,
                        "count": 136
                      },
                      {
                        "bin_end": 0.88338,
                        "bin_start": 0.78876,
                        "count": 111
                      },
                      {
                        "bin_end": 0.978,
                        "bin_start": 0.88338,
                        "count": 102
                      }
                    ],
                    "max": "0.978",
                    "min": "0.0318",
                    "nan_count": 0,
                    "unique_count": 634
                  }
                },
                {
                  "dtype": "float64",
                  "name": "tempo",
                  "stats": {
                    "histogram": [
                      {
                        "bin_end": 61.791799999999995,
                        "bin_start": 45.306,
                        "count": 1
                      },
                      {
                        "bin_end": 78.2776,
                        "bin_start": 61.791799999999995,
                        "count": 53
                      },
                      {
                        "bin_end": 94.7634,
                        "bin_start": 78.2776,
                        "count": 160
                      },
                      {
                        "bin_end": 111.2492,
                        "bin_start": 94.7634,
                        "count": 225
                      },
                      {
                        "bin_end": 127.735,
                        "bin_start": 111.2492,
                        "count": 279
                      },
                      {
                        "bin_end": 144.2208,
                        "bin_start": 127.735,
                        "count": 187
                      },
                      {
                        "bin_end": 160.7066,
                        "bin_start": 144.2208,
                        "count": 133
                      },
                      {
                        "bin_end": 177.19240000000002,
                        "bin_start": 160.7066,
                        "count": 72
                      },
                      {
                        "bin_end": 193.6782,
                        "bin_start": 177.19240000000002,
                        "count": 19
                      },
                      {
                        "bin_end": 210.164,
                        "bin_start": 193.6782,
                        "count": 6
                      }
                    ],
                    "max": "210.164",
                    "min": "45.306",
                    "nan_count": 0,
                    "unique_count": 1069
                  }
                },
                {
                  "dtype": "object",
                  "name": "id",
                  "stats": {
                    "categories": [
                      {
                        "count": 2,
                        "name": "43zdsphuZLzwA9k4DJhU0I"
                      },
                      {
                        "count": 2,
                        "name": "1HNkqx9Ahdgi1Ixy2xkKkL"
                      },
                      {
                        "count": 1131,
                        "name": "1100 others"
                      }
                    ],
                    "nan_count": 0,
                    "unique_count": 1102
                  }
                },
                {
                  "dtype": "float64",
                  "name": "mood",
                  "stats": {
                    "histogram": [
                      {
                        "bin_end": 0.1,
                        "bin_start": 0,
                        "count": 619
                      },
                      {
                        "bin_end": 0.2,
                        "bin_start": 0.1,
                        "count": 0
                      },
                      {
                        "bin_end": 0.30000000000000004,
                        "bin_start": 0.2,
                        "count": 0
                      },
                      {
                        "bin_end": 0.4,
                        "bin_start": 0.30000000000000004,
                        "count": 0
                      },
                      {
                        "bin_end": 0.5,
                        "bin_start": 0.4,
                        "count": 0
                      },
                      {
                        "bin_end": 0.6000000000000001,
                        "bin_start": 0.5,
                        "count": 0
                      },
                      {
                        "bin_end": 0.7000000000000001,
                        "bin_start": 0.6000000000000001,
                        "count": 0
                      },
                      {
                        "bin_end": 0.8,
                        "bin_start": 0.7000000000000001,
                        "count": 0
                      },
                      {
                        "bin_end": 0.9,
                        "bin_start": 0.8,
                        "count": 0
                      },
                      {
                        "bin_end": 1,
                        "bin_start": 0.9,
                        "count": 516
                      }
                    ],
                    "max": "1.0",
                    "min": "0.0",
                    "nan_count": 0,
                    "unique_count": 2
                  }
                },
                {
                  "dtype": "float64",
                  "name": "motivation",
                  "stats": {
                    "histogram": [
                      {
                        "bin_end": 0.1,
                        "bin_start": 0,
                        "count": 334
                      },
                      {
                        "bin_end": 0.2,
                        "bin_start": 0.1,
                        "count": 0
                      },
                      {
                        "bin_end": 0.30000000000000004,
                        "bin_start": 0.2,
                        "count": 0
                      },
                      {
                        "bin_end": 0.4,
                        "bin_start": 0.30000000000000004,
                        "count": 0
                      },
                      {
                        "bin_end": 0.5,
                        "bin_start": 0.4,
                        "count": 0
                      },
                      {
                        "bin_end": 0.6000000000000001,
                        "bin_start": 0.5,
                        "count": 0
                      },
                      {
                        "bin_end": 0.7000000000000001,
                        "bin_start": 0.6000000000000001,
                        "count": 0
                      },
                      {
                        "bin_end": 0.8,
                        "bin_start": 0.7000000000000001,
                        "count": 0
                      },
                      {
                        "bin_end": 0.9,
                        "bin_start": 0.8,
                        "count": 0
                      },
                      {
                        "bin_end": 1,
                        "bin_start": 0.9,
                        "count": 801
                      }
                    ],
                    "max": "1.0",
                    "min": "0.0",
                    "nan_count": 0,
                    "unique_count": 2
                  }
                },
                {
                  "dtype": "object",
                  "name": "release_decade",
                  "stats": {
                    "categories": [
                      {
                        "count": 447,
                        "name": "2020s"
                      },
                      {
                        "count": 311,
                        "name": "2010s"
                      },
                      {
                        "count": 377,
                        "name": "3 others"
                      }
                    ],
                    "nan_count": 0,
                    "unique_count": 5
                  }
                },
                {
                  "dtype": "int64",
                  "name": "_deepnote_index_column"
                }
              ],
              "row_count": 1135,
              "rows": [
                {
                  "_deepnote_index_column": 0,
                  "acousticness": 0.978,
                  "danceability": 0.367,
                  "energy": 0.111,
                  "id": "43zdsphuZLzwA9k4DJhU0I",
                  "instrumentalness": 0.0000397,
                  "loudness": -14.084,
                  "mood": 0,
                  "motivation": 0,
                  "release_decade": "2010s",
                  "speechiness": 0.0972,
                  "tempo": 82.642,
                  "valence": 0.198
                },
                {
                  "_deepnote_index_column": 1,
                  "acousticness": 0.866,
                  "danceability": 0.369,
                  "energy": 0.272,
                  "id": "5JCoSi02qi3jJeHdZXMmR8",
                  "instrumentalness": 0,
                  "loudness": -10.497,
                  "mood": 0,
                  "motivation": 0,
                  "release_decade": "2020s",
                  "speechiness": 0.0364,
                  "tempo": 172.929,
                  "valence": 0.218
                },
                {
                  "_deepnote_index_column": 2,
                  "acousticness": 0.607,
                  "danceability": 0.614,
                  "energy": 0.379,
                  "id": "1HNkqx9Ahdgi1Ixy2xkKkL",
                  "instrumentalness": 0.000464,
                  "loudness": -10.48,
                  "mood": 0,
                  "motivation": 0,
                  "release_decade": "2010s",
                  "speechiness": 0.0476,
                  "tempo": 107.989,
                  "valence": 0.201
                },
                {
                  "_deepnote_index_column": 3,
                  "acousticness": 0.839,
                  "danceability": 0.567,
                  "energy": 0.267,
                  "id": "1ZMiCix7XSAbfAJlEZWMCp",
                  "instrumentalness": 0.00000146,
                  "loudness": -6.502,
                  "mood": 0,
                  "motivation": 0,
                  "release_decade": "2010s",
                  "speechiness": 0.0299,
                  "tempo": 110.011,
                  "valence": 0.0592
                },
                {
                  "_deepnote_index_column": 4,
                  "acousticness": 0.934,
                  "danceability": 0.351,
                  "energy": 0.296,
                  "id": "0u2P5u6lvoDfwTYjAADbn4",
                  "instrumentalness": 0,
                  "loudness": -10.109,
                  "mood": 0,
                  "motivation": 0,
                  "release_decade": "2010s",
                  "speechiness": 0.0333,
                  "tempo": 115.284,
                  "valence": 0.12
                },
                {
                  "_deepnote_index_column": 5,
                  "acousticness": 0.985,
                  "danceability": 0.675,
                  "energy": 0.16,
                  "id": "2TzkIzgzIHhewMxyh1u4hh",
                  "instrumentalness": 0.00688,
                  "loudness": -11.667,
                  "mood": 0,
                  "motivation": 0,
                  "release_decade": "2010s",
                  "speechiness": 0.0586,
                  "tempo": 69.754,
                  "valence": 0.247
                },
                {
                  "_deepnote_index_column": 6,
                  "acousticness": 0.759,
                  "danceability": 0.784,
                  "energy": 0.689,
                  "id": "0z5yLgBmAtaylDYrgwzlpH",
                  "instrumentalness": 0.00536,
                  "loudness": -8.216,
                  "mood": 0,
                  "motivation": 1,
                  "release_decade": "2020s",
                  "speechiness": 0.0385,
                  "tempo": 124.025,
                  "valence": 0.332
                },
                {
                  "_deepnote_index_column": 7,
                  "acousticness": 0.946,
                  "danceability": 0.83,
                  "energy": 0.159,
                  "id": "0akyEssGRVHstqCSWXusJL",
                  "instrumentalness": 0.0000202,
                  "loudness": -14.461,
                  "mood": 0,
                  "motivation": 0,
                  "release_decade": "2010s",
                  "speechiness": 0.0383,
                  "tempo": 104.95,
                  "valence": 0.189
                },
                {
                  "_deepnote_index_column": 8,
                  "acousticness": 0.922,
                  "danceability": 0.544,
                  "energy": 0.216,
                  "id": "7dT9D6117e5DbhnKxDLNW9",
                  "instrumentalness": 0.311,
                  "loudness": -17.237,
                  "mood": 0,
                  "motivation": 0,
                  "release_decade": "2010s",
                  "speechiness": 0.0402,
                  "tempo": 75.004,
                  "valence": 0.145
                },
                {
                  "_deepnote_index_column": 9,
                  "acousticness": 0.798,
                  "danceability": 0.66,
                  "energy": 0.379,
                  "id": "4l0RmWt52FxpVxMNni6i63",
                  "instrumentalness": 0,
                  "loudness": -9.357,
                  "mood": 0,
                  "motivation": 0,
                  "release_decade": "2020s",
                  "speechiness": 0.0543,
                  "tempo": 124.027,
                  "valence": 0.0762
                }
              ]
            },
            "text/html": [
              "<div>\n",
              "<style scoped>\n",
              "    .dataframe tbody tr th:only-of-type {\n",
              "        vertical-align: middle;\n",
              "    }\n",
              "\n",
              "    .dataframe tbody tr th {\n",
              "        vertical-align: top;\n",
              "    }\n",
              "\n",
              "    .dataframe thead th {\n",
              "        text-align: right;\n",
              "    }\n",
              "</style>\n",
              "<table border=\"1\" class=\"dataframe\">\n",
              "  <thead>\n",
              "    <tr style=\"text-align: right;\">\n",
              "      <th></th>\n",
              "      <th>danceability</th>\n",
              "      <th>energy</th>\n",
              "      <th>loudness</th>\n",
              "      <th>speechiness</th>\n",
              "      <th>acousticness</th>\n",
              "      <th>instrumentalness</th>\n",
              "      <th>valence</th>\n",
              "      <th>tempo</th>\n",
              "      <th>id</th>\n",
              "      <th>mood</th>\n",
              "      <th>motivation</th>\n",
              "      <th>release_decade</th>\n",
              "    </tr>\n",
              "  </thead>\n",
              "  <tbody>\n",
              "    <tr>\n",
              "      <th>0</th>\n",
              "      <td>0.367</td>\n",
              "      <td>0.111</td>\n",
              "      <td>-14.084</td>\n",
              "      <td>0.0972</td>\n",
              "      <td>0.97800</td>\n",
              "      <td>0.000040</td>\n",
              "      <td>0.1980</td>\n",
              "      <td>82.642</td>\n",
              "      <td>43zdsphuZLzwA9k4DJhU0I</td>\n",
              "      <td>0.0</td>\n",
              "      <td>0.0</td>\n",
              "      <td>2010s</td>\n",
              "    </tr>\n",
              "    <tr>\n",
              "      <th>1</th>\n",
              "      <td>0.369</td>\n",
              "      <td>0.272</td>\n",
              "      <td>-10.497</td>\n",
              "      <td>0.0364</td>\n",
              "      <td>0.86600</td>\n",
              "      <td>0.000000</td>\n",
              "      <td>0.2180</td>\n",
              "      <td>172.929</td>\n",
              "      <td>5JCoSi02qi3jJeHdZXMmR8</td>\n",
              "      <td>0.0</td>\n",
              "      <td>0.0</td>\n",
              "      <td>2020s</td>\n",
              "    </tr>\n",
              "    <tr>\n",
              "      <th>2</th>\n",
              "      <td>0.614</td>\n",
              "      <td>0.379</td>\n",
              "      <td>-10.480</td>\n",
              "      <td>0.0476</td>\n",
              "      <td>0.60700</td>\n",
              "      <td>0.000464</td>\n",
              "      <td>0.2010</td>\n",
              "      <td>107.989</td>\n",
              "      <td>1HNkqx9Ahdgi1Ixy2xkKkL</td>\n",
              "      <td>0.0</td>\n",
              "      <td>0.0</td>\n",
              "      <td>2010s</td>\n",
              "    </tr>\n",
              "    <tr>\n",
              "      <th>3</th>\n",
              "      <td>0.567</td>\n",
              "      <td>0.267</td>\n",
              "      <td>-6.502</td>\n",
              "      <td>0.0299</td>\n",
              "      <td>0.83900</td>\n",
              "      <td>0.000001</td>\n",
              "      <td>0.0592</td>\n",
              "      <td>110.011</td>\n",
              "      <td>1ZMiCix7XSAbfAJlEZWMCp</td>\n",
              "      <td>0.0</td>\n",
              "      <td>0.0</td>\n",
              "      <td>2010s</td>\n",
              "    </tr>\n",
              "    <tr>\n",
              "      <th>4</th>\n",
              "      <td>0.351</td>\n",
              "      <td>0.296</td>\n",
              "      <td>-10.109</td>\n",
              "      <td>0.0333</td>\n",
              "      <td>0.93400</td>\n",
              "      <td>0.000000</td>\n",
              "      <td>0.1200</td>\n",
              "      <td>115.284</td>\n",
              "      <td>0u2P5u6lvoDfwTYjAADbn4</td>\n",
              "      <td>0.0</td>\n",
              "      <td>0.0</td>\n",
              "      <td>2010s</td>\n",
              "    </tr>\n",
              "    <tr>\n",
              "      <th>...</th>\n",
              "      <td>...</td>\n",
              "      <td>...</td>\n",
              "      <td>...</td>\n",
              "      <td>...</td>\n",
              "      <td>...</td>\n",
              "      <td>...</td>\n",
              "      <td>...</td>\n",
              "      <td>...</td>\n",
              "      <td>...</td>\n",
              "      <td>...</td>\n",
              "      <td>...</td>\n",
              "      <td>...</td>\n",
              "    </tr>\n",
              "    <tr>\n",
              "      <th>1130</th>\n",
              "      <td>0.727</td>\n",
              "      <td>0.739</td>\n",
              "      <td>-3.805</td>\n",
              "      <td>0.0411</td>\n",
              "      <td>0.36500</td>\n",
              "      <td>0.001370</td>\n",
              "      <td>0.5330</td>\n",
              "      <td>93.005</td>\n",
              "      <td>2Xr1dTzJee307rmrkt8c0g</td>\n",
              "      <td>1.0</td>\n",
              "      <td>1.0</td>\n",
              "      <td>2020s</td>\n",
              "    </tr>\n",
              "    <tr>\n",
              "      <th>1131</th>\n",
              "      <td>0.761</td>\n",
              "      <td>0.518</td>\n",
              "      <td>-8.871</td>\n",
              "      <td>0.1340</td>\n",
              "      <td>0.24400</td>\n",
              "      <td>0.000035</td>\n",
              "      <td>0.5220</td>\n",
              "      <td>133.976</td>\n",
              "      <td>2SAqBLGA283SUiwJ3xOUVI</td>\n",
              "      <td>0.0</td>\n",
              "      <td>1.0</td>\n",
              "      <td>2020s</td>\n",
              "    </tr>\n",
              "    <tr>\n",
              "      <th>1132</th>\n",
              "      <td>0.758</td>\n",
              "      <td>0.913</td>\n",
              "      <td>-2.926</td>\n",
              "      <td>0.1130</td>\n",
              "      <td>0.00364</td>\n",
              "      <td>0.000069</td>\n",
              "      <td>0.6580</td>\n",
              "      <td>128.040</td>\n",
              "      <td>0b18g3G5spr4ZCkz7Y6Q0Q</td>\n",
              "      <td>1.0</td>\n",
              "      <td>1.0</td>\n",
              "      <td>2020s</td>\n",
              "    </tr>\n",
              "    <tr>\n",
              "      <th>1133</th>\n",
              "      <td>0.472</td>\n",
              "      <td>0.518</td>\n",
              "      <td>-7.379</td>\n",
              "      <td>0.0510</td>\n",
              "      <td>0.38300</td>\n",
              "      <td>0.127000</td>\n",
              "      <td>0.1540</td>\n",
              "      <td>147.805</td>\n",
              "      <td>26hOm7dTtBi0TdpDGl141t</td>\n",
              "      <td>0.0</td>\n",
              "      <td>1.0</td>\n",
              "      <td>2020s</td>\n",
              "    </tr>\n",
              "    <tr>\n",
              "      <th>1134</th>\n",
              "      <td>0.731</td>\n",
              "      <td>0.573</td>\n",
              "      <td>-10.059</td>\n",
              "      <td>0.0544</td>\n",
              "      <td>0.40100</td>\n",
              "      <td>0.000052</td>\n",
              "      <td>0.1450</td>\n",
              "      <td>109.928</td>\n",
              "      <td>47EiUVwUp4C9fGccaPuUCS</td>\n",
              "      <td>0.0</td>\n",
              "      <td>0.0</td>\n",
              "      <td>2020s</td>\n",
              "    </tr>\n",
              "  </tbody>\n",
              "</table>\n",
              "<p>1135 rows × 12 columns</p>\n",
              "</div>"
            ],
            "text/plain": [
              "      danceability  energy  loudness  speechiness  acousticness  \\\n",
              "0            0.367   0.111   -14.084       0.0972       0.97800   \n",
              "1            0.369   0.272   -10.497       0.0364       0.86600   \n",
              "2            0.614   0.379   -10.480       0.0476       0.60700   \n",
              "3            0.567   0.267    -6.502       0.0299       0.83900   \n",
              "4            0.351   0.296   -10.109       0.0333       0.93400   \n",
              "...            ...     ...       ...          ...           ...   \n",
              "1130         0.727   0.739    -3.805       0.0411       0.36500   \n",
              "1131         0.761   0.518    -8.871       0.1340       0.24400   \n",
              "1132         0.758   0.913    -2.926       0.1130       0.00364   \n",
              "1133         0.472   0.518    -7.379       0.0510       0.38300   \n",
              "1134         0.731   0.573   -10.059       0.0544       0.40100   \n",
              "\n",
              "      instrumentalness  valence    tempo                      id  mood  \\\n",
              "0             0.000040   0.1980   82.642  43zdsphuZLzwA9k4DJhU0I   0.0   \n",
              "1             0.000000   0.2180  172.929  5JCoSi02qi3jJeHdZXMmR8   0.0   \n",
              "2             0.000464   0.2010  107.989  1HNkqx9Ahdgi1Ixy2xkKkL   0.0   \n",
              "3             0.000001   0.0592  110.011  1ZMiCix7XSAbfAJlEZWMCp   0.0   \n",
              "4             0.000000   0.1200  115.284  0u2P5u6lvoDfwTYjAADbn4   0.0   \n",
              "...                ...      ...      ...                     ...   ...   \n",
              "1130          0.001370   0.5330   93.005  2Xr1dTzJee307rmrkt8c0g   1.0   \n",
              "1131          0.000035   0.5220  133.976  2SAqBLGA283SUiwJ3xOUVI   0.0   \n",
              "1132          0.000069   0.6580  128.040  0b18g3G5spr4ZCkz7Y6Q0Q   1.0   \n",
              "1133          0.127000   0.1540  147.805  26hOm7dTtBi0TdpDGl141t   0.0   \n",
              "1134          0.000052   0.1450  109.928  47EiUVwUp4C9fGccaPuUCS   0.0   \n",
              "\n",
              "      motivation release_decade  \n",
              "0            0.0          2010s  \n",
              "1            0.0          2020s  \n",
              "2            0.0          2010s  \n",
              "3            0.0          2010s  \n",
              "4            0.0          2010s  \n",
              "...          ...            ...  \n",
              "1130         1.0          2020s  \n",
              "1131         1.0          2020s  \n",
              "1132         1.0          2020s  \n",
              "1133         1.0          2020s  \n",
              "1134         0.0          2020s  \n",
              "\n",
              "[1135 rows x 12 columns]"
            ]
          },
          "execution_count": 36,
          "metadata": {},
          "output_type": "execute_result"
        }
      ],
      "source": [
        "concatenated_data = pd.concat([data, new_data], ignore_index=True)\n",
        "concatenated_data"
      ]
    },
    {
      "cell_type": "markdown",
      "metadata": {
        "cell_id": "75171800a14f4c13a2a11f11125d456f",
        "deepnote_cell_type": "markdown",
        "id": "Pzl4S8r5dm5g"
      },
      "source": [
        "Comprobamos que no existan filas duplicadas y eliminarlas en caso de que existan."
      ]
    },
    {
      "cell_type": "code",
      "execution_count": null,
      "metadata": {
        "cell_id": "483b6efadf2e467aba74c4a3ca109256",
        "deepnote_cell_type": "code",
        "deepnote_to_be_reexecuted": false,
        "execution_millis": 876,
        "execution_start": 1708297380683,
        "id": "kfkouAYgdm5g",
        "outputId": "eb4b401b-8324-4014-88a6-583cfacc97e2",
        "source_hash": "c8799014"
      },
      "outputs": [
        {
          "name": "stdout",
          "output_type": "stream",
          "text": [
            "Filas duplicadas en 'id':\n",
            "      danceability  energy  loudness  speechiness  acousticness  \\\n",
            "0            0.367   0.111   -14.084       0.0972       0.97800   \n",
            "2            0.614   0.379   -10.480       0.0476       0.60700   \n",
            "4            0.351   0.296   -10.109       0.0333       0.93400   \n",
            "9            0.660   0.379    -9.357       0.0543       0.79800   \n",
            "50           0.504   0.308   -14.958       0.0321       0.86800   \n",
            "...            ...     ...       ...          ...           ...   \n",
            "1107         0.746   0.765    -4.410       0.0993       0.01120   \n",
            "1108         0.440   0.317    -9.258       0.0531       0.89100   \n",
            "1110         0.847   0.690    -7.877       0.0493       0.01270   \n",
            "1124         0.898   0.732    -3.982       0.0427       0.62100   \n",
            "1132         0.758   0.913    -2.926       0.1130       0.00364   \n",
            "\n",
            "      instrumentalness  valence    tempo                      id  mood  \\\n",
            "0             0.000040   0.1980   82.642  43zdsphuZLzwA9k4DJhU0I   0.0   \n",
            "2             0.000464   0.2010  107.989  1HNkqx9Ahdgi1Ixy2xkKkL   0.0   \n",
            "4             0.000000   0.1200  115.284  0u2P5u6lvoDfwTYjAADbn4   0.0   \n",
            "9             0.000000   0.0762  124.027  4l0RmWt52FxpVxMNni6i63   0.0   \n",
            "50            0.135000   0.1210  113.950  3vkCueOmm7xQDoJ17W1Pm3   0.0   \n",
            "...                ...      ...      ...                     ...   ...   \n",
            "1107          0.000000   0.7370  114.044  5QDLhrAOJJdNAmCTJ8xMyW   1.0   \n",
            "1108          0.000005   0.2680  169.914  6xGruZOHLs39ZbVccQTuPZ   0.0   \n",
            "1110          0.000060   0.6920  125.004  4zN21mbAuaD0WqtmaTZZeP   1.0   \n",
            "1124          0.000013   0.9600  115.955  6maTPqynTmrkWIralgGaoP   1.0   \n",
            "1132          0.000069   0.6580  128.040  0b18g3G5spr4ZCkz7Y6Q0Q   1.0   \n",
            "\n",
            "      motivation release_decade  \n",
            "0            0.0          2010s  \n",
            "2            0.0          2010s  \n",
            "4            0.0          2010s  \n",
            "9            0.0          2020s  \n",
            "50           0.0          2020s  \n",
            "...          ...            ...  \n",
            "1107         1.0          2020s  \n",
            "1108         0.0          2020s  \n",
            "1110         1.0          2020s  \n",
            "1124         1.0          2020s  \n",
            "1132         1.0          2020s  \n",
            "\n",
            "[66 rows x 12 columns]\n"
          ]
        }
      ],
      "source": [
        "# Duplicados\n",
        "filas_duplicadas_id = concatenated_data[concatenated_data.duplicated(subset='id', keep=False)]\n",
        "print(\"Filas duplicadas en 'id':\")\n",
        "print(filas_duplicadas_id)"
      ]
    },
    {
      "cell_type": "markdown",
      "metadata": {
        "cell_id": "7d79a55a1b0b411cbd1efa321d31f728",
        "deepnote_cell_type": "markdown",
        "id": "Cu9kcYUbdm5g"
      },
      "source": [
        "Eliminamos los datos que aparecen duplicados."
      ]
    },
    {
      "cell_type": "code",
      "execution_count": null,
      "metadata": {
        "cell_id": "37a5f8ed0d484397a1098509253c2d7f",
        "deepnote_cell_type": "code",
        "deepnote_table_loading": false,
        "deepnote_table_state": {
          "filters": [],
          "pageIndex": 0,
          "pageSize": 10,
          "sortBy": []
        },
        "deepnote_to_be_reexecuted": false,
        "execution_millis": 858,
        "execution_start": 1708297380701,
        "id": "AqDUa658dm5g",
        "outputId": "62343637-4f32-4648-cda4-d1509a1ea417",
        "source_hash": "17996aa6"
      },
      "outputs": [
        {
          "data": {
            "application/vnd.deepnote.dataframe.v3+json": {
              "column_count": 12,
              "columns": [
                {
                  "dtype": "float64",
                  "name": "danceability",
                  "stats": {
                    "histogram": [
                      {
                        "bin_end": 0.2542,
                        "bin_start": 0.175,
                        "count": 12
                      },
                      {
                        "bin_end": 0.33340000000000003,
                        "bin_start": 0.2542,
                        "count": 37
                      },
                      {
                        "bin_end": 0.4126,
                        "bin_start": 0.33340000000000003,
                        "count": 75
                      },
                      {
                        "bin_end": 0.4918,
                        "bin_start": 0.4126,
                        "count": 116
                      },
                      {
                        "bin_end": 0.571,
                        "bin_start": 0.4918,
                        "count": 170
                      },
                      {
                        "bin_end": 0.6502000000000001,
                        "bin_start": 0.571,
                        "count": 203
                      },
                      {
                        "bin_end": 0.7294,
                        "bin_start": 0.6502000000000001,
                        "count": 221
                      },
                      {
                        "bin_end": 0.8086,
                        "bin_start": 0.7294,
                        "count": 164
                      },
                      {
                        "bin_end": 0.8878000000000001,
                        "bin_start": 0.8086,
                        "count": 74
                      },
                      {
                        "bin_end": 0.967,
                        "bin_start": 0.8878000000000001,
                        "count": 30
                      }
                    ],
                    "max": "0.967",
                    "min": "0.175",
                    "nan_count": 0,
                    "unique_count": 512
                  }
                },
                {
                  "dtype": "float64",
                  "name": "energy",
                  "stats": {
                    "histogram": [
                      {
                        "bin_end": 0.1357,
                        "bin_start": 0.04,
                        "count": 37
                      },
                      {
                        "bin_end": 0.2314,
                        "bin_start": 0.1357,
                        "count": 67
                      },
                      {
                        "bin_end": 0.32709999999999995,
                        "bin_start": 0.2314,
                        "count": 91
                      },
                      {
                        "bin_end": 0.42279999999999995,
                        "bin_start": 0.32709999999999995,
                        "count": 81
                      },
                      {
                        "bin_end": 0.5185,
                        "bin_start": 0.42279999999999995,
                        "count": 54
                      },
                      {
                        "bin_end": 0.6142,
                        "bin_start": 0.5185,
                        "count": 96
                      },
                      {
                        "bin_end": 0.7099,
                        "bin_start": 0.6142,
                        "count": 144
                      },
                      {
                        "bin_end": 0.8056,
                        "bin_start": 0.7099,
                        "count": 170
                      },
                      {
                        "bin_end": 0.9013,
                        "bin_start": 0.8056,
                        "count": 204
                      },
                      {
                        "bin_end": 0.997,
                        "bin_start": 0.9013,
                        "count": 158
                      }
                    ],
                    "max": "0.997",
                    "min": "0.04",
                    "nan_count": 0,
                    "unique_count": 580
                  }
                },
                {
                  "dtype": "float64",
                  "name": "loudness",
                  "stats": {
                    "histogram": [
                      {
                        "bin_end": -24.4059,
                        "bin_start": -27.043,
                        "count": 2
                      },
                      {
                        "bin_end": -21.7688,
                        "bin_start": -24.4059,
                        "count": 6
                      },
                      {
                        "bin_end": -19.131700000000002,
                        "bin_start": -21.7688,
                        "count": 2
                      },
                      {
                        "bin_end": -16.4946,
                        "bin_start": -19.131700000000002,
                        "count": 19
                      },
                      {
                        "bin_end": -13.8575,
                        "bin_start": -16.4946,
                        "count": 40
                      },
                      {
                        "bin_end": -11.220400000000001,
                        "bin_start": -13.8575,
                        "count": 97
                      },
                      {
                        "bin_end": -8.583300000000001,
                        "bin_start": -11.220400000000001,
                        "count": 147
                      },
                      {
                        "bin_end": -5.946200000000001,
                        "bin_start": -8.583300000000001,
                        "count": 288
                      },
                      {
                        "bin_end": -3.309100000000001,
                        "bin_start": -5.946200000000001,
                        "count": 415
                      },
                      {
                        "bin_end": -0.672,
                        "bin_start": -3.309100000000001,
                        "count": 86
                      }
                    ],
                    "max": "-0.672",
                    "min": "-27.043",
                    "nan_count": 0,
                    "unique_count": 1033
                  }
                },
                {
                  "dtype": "float64",
                  "name": "speechiness",
                  "stats": {
                    "histogram": [
                      {
                        "bin_end": 0.08042999999999999,
                        "bin_start": 0.0227,
                        "count": 833
                      },
                      {
                        "bin_end": 0.13815999999999998,
                        "bin_start": 0.08042999999999999,
                        "count": 126
                      },
                      {
                        "bin_end": 0.19588999999999995,
                        "bin_start": 0.13815999999999998,
                        "count": 52
                      },
                      {
                        "bin_end": 0.25361999999999996,
                        "bin_start": 0.19588999999999995,
                        "count": 28
                      },
                      {
                        "bin_end": 0.31134999999999996,
                        "bin_start": 0.25361999999999996,
                        "count": 28
                      },
                      {
                        "bin_end": 0.3690799999999999,
                        "bin_start": 0.31134999999999996,
                        "count": 20
                      },
                      {
                        "bin_end": 0.4268099999999999,
                        "bin_start": 0.3690799999999999,
                        "count": 9
                      },
                      {
                        "bin_end": 0.4845399999999999,
                        "bin_start": 0.4268099999999999,
                        "count": 4
                      },
                      {
                        "bin_end": 0.5422699999999999,
                        "bin_start": 0.4845399999999999,
                        "count": 0
                      },
                      {
                        "bin_end": 0.6,
                        "bin_start": 0.5422699999999999,
                        "count": 2
                      }
                    ],
                    "max": "0.6",
                    "min": "0.0227",
                    "nan_count": 0,
                    "unique_count": 565
                  }
                },
                {
                  "dtype": "float64",
                  "name": "acousticness",
                  "stats": {
                    "histogram": [
                      {
                        "bin_end": 0.09891646999999999,
                        "bin_start": 0.0000183,
                        "count": 473
                      },
                      {
                        "bin_end": 0.19781463999999999,
                        "bin_start": 0.09891646999999999,
                        "count": 135
                      },
                      {
                        "bin_end": 0.29671281,
                        "bin_start": 0.19781463999999999,
                        "count": 95
                      },
                      {
                        "bin_end": 0.39561098,
                        "bin_start": 0.29671281,
                        "count": 54
                      },
                      {
                        "bin_end": 0.49450915,
                        "bin_start": 0.39561098,
                        "count": 47
                      },
                      {
                        "bin_end": 0.59340732,
                        "bin_start": 0.49450915,
                        "count": 39
                      },
                      {
                        "bin_end": 0.69230549,
                        "bin_start": 0.59340732,
                        "count": 36
                      },
                      {
                        "bin_end": 0.79120366,
                        "bin_start": 0.69230549,
                        "count": 44
                      },
                      {
                        "bin_end": 0.89010183,
                        "bin_start": 0.79120366,
                        "count": 81
                      },
                      {
                        "bin_end": 0.989,
                        "bin_start": 0.89010183,
                        "count": 98
                      }
                    ],
                    "max": "0.989",
                    "min": "1.83e-05",
                    "nan_count": 0,
                    "unique_count": 814
                  }
                },
                {
                  "dtype": "float64",
                  "name": "instrumentalness",
                  "stats": {
                    "histogram": [
                      {
                        "bin_end": 0.09330000000000001,
                        "bin_start": 0,
                        "count": 997
                      },
                      {
                        "bin_end": 0.18660000000000002,
                        "bin_start": 0.09330000000000001,
                        "count": 29
                      },
                      {
                        "bin_end": 0.27990000000000004,
                        "bin_start": 0.18660000000000002,
                        "count": 11
                      },
                      {
                        "bin_end": 0.37320000000000003,
                        "bin_start": 0.27990000000000004,
                        "count": 7
                      },
                      {
                        "bin_end": 0.4665,
                        "bin_start": 0.37320000000000003,
                        "count": 7
                      },
                      {
                        "bin_end": 0.5598000000000001,
                        "bin_start": 0.4665,
                        "count": 9
                      },
                      {
                        "bin_end": 0.6531,
                        "bin_start": 0.5598000000000001,
                        "count": 8
                      },
                      {
                        "bin_end": 0.7464000000000001,
                        "bin_start": 0.6531,
                        "count": 8
                      },
                      {
                        "bin_end": 0.8397000000000001,
                        "bin_start": 0.7464000000000001,
                        "count": 13
                      },
                      {
                        "bin_end": 0.933,
                        "bin_start": 0.8397000000000001,
                        "count": 13
                      }
                    ],
                    "max": "0.933",
                    "min": "0.0",
                    "nan_count": 0,
                    "unique_count": 608
                  }
                },
                {
                  "dtype": "float64",
                  "name": "valence",
                  "stats": {
                    "histogram": [
                      {
                        "bin_end": 0.12642,
                        "bin_start": 0.0318,
                        "count": 84
                      },
                      {
                        "bin_end": 0.22104,
                        "bin_start": 0.12642,
                        "count": 155
                      },
                      {
                        "bin_end": 0.31566,
                        "bin_start": 0.22104,
                        "count": 141
                      },
                      {
                        "bin_end": 0.41028,
                        "bin_start": 0.31566,
                        "count": 153
                      },
                      {
                        "bin_end": 0.5049,
                        "bin_start": 0.41028,
                        "count": 56
                      },
                      {
                        "bin_end": 0.59952,
                        "bin_start": 0.5049,
                        "count": 62
                      },
                      {
                        "bin_end": 0.69414,
                        "bin_start": 0.59952,
                        "count": 115
                      },
                      {
                        "bin_end": 0.78876,
                        "bin_start": 0.69414,
                        "count": 132
                      },
                      {
                        "bin_end": 0.88338,
                        "bin_start": 0.78876,
                        "count": 108
                      },
                      {
                        "bin_end": 0.978,
                        "bin_start": 0.88338,
                        "count": 96
                      }
                    ],
                    "max": "0.978",
                    "min": "0.0318",
                    "nan_count": 0,
                    "unique_count": 634
                  }
                },
                {
                  "dtype": "float64",
                  "name": "tempo",
                  "stats": {
                    "histogram": [
                      {
                        "bin_end": 61.791799999999995,
                        "bin_start": 45.306,
                        "count": 1
                      },
                      {
                        "bin_end": 78.2776,
                        "bin_start": 61.791799999999995,
                        "count": 53
                      },
                      {
                        "bin_end": 94.7634,
                        "bin_start": 78.2776,
                        "count": 156
                      },
                      {
                        "bin_end": 111.2492,
                        "bin_start": 94.7634,
                        "count": 221
                      },
                      {
                        "bin_end": 127.735,
                        "bin_start": 111.2492,
                        "count": 269
                      },
                      {
                        "bin_end": 144.2208,
                        "bin_start": 127.735,
                        "count": 178
                      },
                      {
                        "bin_end": 160.7066,
                        "bin_start": 144.2208,
                        "count": 131
                      },
                      {
                        "bin_end": 177.19240000000002,
                        "bin_start": 160.7066,
                        "count": 69
                      },
                      {
                        "bin_end": 193.6782,
                        "bin_start": 177.19240000000002,
                        "count": 18
                      },
                      {
                        "bin_end": 210.164,
                        "bin_start": 193.6782,
                        "count": 6
                      }
                    ],
                    "max": "210.164",
                    "min": "45.306",
                    "nan_count": 0,
                    "unique_count": 1069
                  }
                },
                {
                  "dtype": "object",
                  "name": "id",
                  "stats": {
                    "categories": [
                      {
                        "count": 1,
                        "name": "43zdsphuZLzwA9k4DJhU0I"
                      },
                      {
                        "count": 1,
                        "name": "5JCoSi02qi3jJeHdZXMmR8"
                      },
                      {
                        "count": 1100,
                        "name": "1100 others"
                      }
                    ],
                    "nan_count": 0,
                    "unique_count": 1102
                  }
                },
                {
                  "dtype": "float64",
                  "name": "mood",
                  "stats": {
                    "histogram": [
                      {
                        "bin_end": 0.1,
                        "bin_start": 0,
                        "count": 604
                      },
                      {
                        "bin_end": 0.2,
                        "bin_start": 0.1,
                        "count": 0
                      },
                      {
                        "bin_end": 0.30000000000000004,
                        "bin_start": 0.2,
                        "count": 0
                      },
                      {
                        "bin_end": 0.4,
                        "bin_start": 0.30000000000000004,
                        "count": 0
                      },
                      {
                        "bin_end": 0.5,
                        "bin_start": 0.4,
                        "count": 0
                      },
                      {
                        "bin_end": 0.6000000000000001,
                        "bin_start": 0.5,
                        "count": 0
                      },
                      {
                        "bin_end": 0.7000000000000001,
                        "bin_start": 0.6000000000000001,
                        "count": 0
                      },
                      {
                        "bin_end": 0.8,
                        "bin_start": 0.7000000000000001,
                        "count": 0
                      },
                      {
                        "bin_end": 0.9,
                        "bin_start": 0.8,
                        "count": 0
                      },
                      {
                        "bin_end": 1,
                        "bin_start": 0.9,
                        "count": 498
                      }
                    ],
                    "max": "1.0",
                    "min": "0.0",
                    "nan_count": 0,
                    "unique_count": 2
                  }
                },
                {
                  "dtype": "float64",
                  "name": "motivation",
                  "stats": {
                    "histogram": [
                      {
                        "bin_end": 0.1,
                        "bin_start": 0,
                        "count": 323
                      },
                      {
                        "bin_end": 0.2,
                        "bin_start": 0.1,
                        "count": 0
                      },
                      {
                        "bin_end": 0.30000000000000004,
                        "bin_start": 0.2,
                        "count": 0
                      },
                      {
                        "bin_end": 0.4,
                        "bin_start": 0.30000000000000004,
                        "count": 0
                      },
                      {
                        "bin_end": 0.5,
                        "bin_start": 0.4,
                        "count": 0
                      },
                      {
                        "bin_end": 0.6000000000000001,
                        "bin_start": 0.5,
                        "count": 0
                      },
                      {
                        "bin_end": 0.7000000000000001,
                        "bin_start": 0.6000000000000001,
                        "count": 0
                      },
                      {
                        "bin_end": 0.8,
                        "bin_start": 0.7000000000000001,
                        "count": 0
                      },
                      {
                        "bin_end": 0.9,
                        "bin_start": 0.8,
                        "count": 0
                      },
                      {
                        "bin_end": 1,
                        "bin_start": 0.9,
                        "count": 779
                      }
                    ],
                    "max": "1.0",
                    "min": "0.0",
                    "nan_count": 0,
                    "unique_count": 2
                  }
                },
                {
                  "dtype": "object",
                  "name": "release_decade",
                  "stats": {
                    "categories": [
                      {
                        "count": 429,
                        "name": "2020s"
                      },
                      {
                        "count": 304,
                        "name": "2010s"
                      },
                      {
                        "count": 369,
                        "name": "3 others"
                      }
                    ],
                    "nan_count": 0,
                    "unique_count": 5
                  }
                },
                {
                  "dtype": "int64",
                  "name": "_deepnote_index_column"
                }
              ],
              "row_count": 1102,
              "rows": [
                {
                  "_deepnote_index_column": 0,
                  "acousticness": 0.978,
                  "danceability": 0.367,
                  "energy": 0.111,
                  "id": "43zdsphuZLzwA9k4DJhU0I",
                  "instrumentalness": 0.0000397,
                  "loudness": -14.084,
                  "mood": 0,
                  "motivation": 0,
                  "release_decade": "2010s",
                  "speechiness": 0.0972,
                  "tempo": 82.642,
                  "valence": 0.198
                },
                {
                  "_deepnote_index_column": 1,
                  "acousticness": 0.866,
                  "danceability": 0.369,
                  "energy": 0.272,
                  "id": "5JCoSi02qi3jJeHdZXMmR8",
                  "instrumentalness": 0,
                  "loudness": -10.497,
                  "mood": 0,
                  "motivation": 0,
                  "release_decade": "2020s",
                  "speechiness": 0.0364,
                  "tempo": 172.929,
                  "valence": 0.218
                },
                {
                  "_deepnote_index_column": 2,
                  "acousticness": 0.607,
                  "danceability": 0.614,
                  "energy": 0.379,
                  "id": "1HNkqx9Ahdgi1Ixy2xkKkL",
                  "instrumentalness": 0.000464,
                  "loudness": -10.48,
                  "mood": 0,
                  "motivation": 0,
                  "release_decade": "2010s",
                  "speechiness": 0.0476,
                  "tempo": 107.989,
                  "valence": 0.201
                },
                {
                  "_deepnote_index_column": 3,
                  "acousticness": 0.839,
                  "danceability": 0.567,
                  "energy": 0.267,
                  "id": "1ZMiCix7XSAbfAJlEZWMCp",
                  "instrumentalness": 0.00000146,
                  "loudness": -6.502,
                  "mood": 0,
                  "motivation": 0,
                  "release_decade": "2010s",
                  "speechiness": 0.0299,
                  "tempo": 110.011,
                  "valence": 0.0592
                },
                {
                  "_deepnote_index_column": 4,
                  "acousticness": 0.934,
                  "danceability": 0.351,
                  "energy": 0.296,
                  "id": "0u2P5u6lvoDfwTYjAADbn4",
                  "instrumentalness": 0,
                  "loudness": -10.109,
                  "mood": 0,
                  "motivation": 0,
                  "release_decade": "2010s",
                  "speechiness": 0.0333,
                  "tempo": 115.284,
                  "valence": 0.12
                },
                {
                  "_deepnote_index_column": 5,
                  "acousticness": 0.985,
                  "danceability": 0.675,
                  "energy": 0.16,
                  "id": "2TzkIzgzIHhewMxyh1u4hh",
                  "instrumentalness": 0.00688,
                  "loudness": -11.667,
                  "mood": 0,
                  "motivation": 0,
                  "release_decade": "2010s",
                  "speechiness": 0.0586,
                  "tempo": 69.754,
                  "valence": 0.247
                },
                {
                  "_deepnote_index_column": 6,
                  "acousticness": 0.759,
                  "danceability": 0.784,
                  "energy": 0.689,
                  "id": "0z5yLgBmAtaylDYrgwzlpH",
                  "instrumentalness": 0.00536,
                  "loudness": -8.216,
                  "mood": 0,
                  "motivation": 1,
                  "release_decade": "2020s",
                  "speechiness": 0.0385,
                  "tempo": 124.025,
                  "valence": 0.332
                },
                {
                  "_deepnote_index_column": 7,
                  "acousticness": 0.946,
                  "danceability": 0.83,
                  "energy": 0.159,
                  "id": "0akyEssGRVHstqCSWXusJL",
                  "instrumentalness": 0.0000202,
                  "loudness": -14.461,
                  "mood": 0,
                  "motivation": 0,
                  "release_decade": "2010s",
                  "speechiness": 0.0383,
                  "tempo": 104.95,
                  "valence": 0.189
                },
                {
                  "_deepnote_index_column": 8,
                  "acousticness": 0.922,
                  "danceability": 0.544,
                  "energy": 0.216,
                  "id": "7dT9D6117e5DbhnKxDLNW9",
                  "instrumentalness": 0.311,
                  "loudness": -17.237,
                  "mood": 0,
                  "motivation": 0,
                  "release_decade": "2010s",
                  "speechiness": 0.0402,
                  "tempo": 75.004,
                  "valence": 0.145
                },
                {
                  "_deepnote_index_column": 9,
                  "acousticness": 0.798,
                  "danceability": 0.66,
                  "energy": 0.379,
                  "id": "4l0RmWt52FxpVxMNni6i63",
                  "instrumentalness": 0,
                  "loudness": -9.357,
                  "mood": 0,
                  "motivation": 0,
                  "release_decade": "2020s",
                  "speechiness": 0.0543,
                  "tempo": 124.027,
                  "valence": 0.0762
                }
              ]
            },
            "text/html": [
              "<div>\n",
              "<style scoped>\n",
              "    .dataframe tbody tr th:only-of-type {\n",
              "        vertical-align: middle;\n",
              "    }\n",
              "\n",
              "    .dataframe tbody tr th {\n",
              "        vertical-align: top;\n",
              "    }\n",
              "\n",
              "    .dataframe thead th {\n",
              "        text-align: right;\n",
              "    }\n",
              "</style>\n",
              "<table border=\"1\" class=\"dataframe\">\n",
              "  <thead>\n",
              "    <tr style=\"text-align: right;\">\n",
              "      <th></th>\n",
              "      <th>danceability</th>\n",
              "      <th>energy</th>\n",
              "      <th>loudness</th>\n",
              "      <th>speechiness</th>\n",
              "      <th>acousticness</th>\n",
              "      <th>instrumentalness</th>\n",
              "      <th>valence</th>\n",
              "      <th>tempo</th>\n",
              "      <th>id</th>\n",
              "      <th>mood</th>\n",
              "      <th>motivation</th>\n",
              "      <th>release_decade</th>\n",
              "    </tr>\n",
              "  </thead>\n",
              "  <tbody>\n",
              "    <tr>\n",
              "      <th>0</th>\n",
              "      <td>0.367</td>\n",
              "      <td>0.111</td>\n",
              "      <td>-14.084</td>\n",
              "      <td>0.0972</td>\n",
              "      <td>0.9780</td>\n",
              "      <td>0.000040</td>\n",
              "      <td>0.1980</td>\n",
              "      <td>82.642</td>\n",
              "      <td>43zdsphuZLzwA9k4DJhU0I</td>\n",
              "      <td>0.0</td>\n",
              "      <td>0.0</td>\n",
              "      <td>2010s</td>\n",
              "    </tr>\n",
              "    <tr>\n",
              "      <th>1</th>\n",
              "      <td>0.369</td>\n",
              "      <td>0.272</td>\n",
              "      <td>-10.497</td>\n",
              "      <td>0.0364</td>\n",
              "      <td>0.8660</td>\n",
              "      <td>0.000000</td>\n",
              "      <td>0.2180</td>\n",
              "      <td>172.929</td>\n",
              "      <td>5JCoSi02qi3jJeHdZXMmR8</td>\n",
              "      <td>0.0</td>\n",
              "      <td>0.0</td>\n",
              "      <td>2020s</td>\n",
              "    </tr>\n",
              "    <tr>\n",
              "      <th>2</th>\n",
              "      <td>0.614</td>\n",
              "      <td>0.379</td>\n",
              "      <td>-10.480</td>\n",
              "      <td>0.0476</td>\n",
              "      <td>0.6070</td>\n",
              "      <td>0.000464</td>\n",
              "      <td>0.2010</td>\n",
              "      <td>107.989</td>\n",
              "      <td>1HNkqx9Ahdgi1Ixy2xkKkL</td>\n",
              "      <td>0.0</td>\n",
              "      <td>0.0</td>\n",
              "      <td>2010s</td>\n",
              "    </tr>\n",
              "    <tr>\n",
              "      <th>3</th>\n",
              "      <td>0.567</td>\n",
              "      <td>0.267</td>\n",
              "      <td>-6.502</td>\n",
              "      <td>0.0299</td>\n",
              "      <td>0.8390</td>\n",
              "      <td>0.000001</td>\n",
              "      <td>0.0592</td>\n",
              "      <td>110.011</td>\n",
              "      <td>1ZMiCix7XSAbfAJlEZWMCp</td>\n",
              "      <td>0.0</td>\n",
              "      <td>0.0</td>\n",
              "      <td>2010s</td>\n",
              "    </tr>\n",
              "    <tr>\n",
              "      <th>4</th>\n",
              "      <td>0.351</td>\n",
              "      <td>0.296</td>\n",
              "      <td>-10.109</td>\n",
              "      <td>0.0333</td>\n",
              "      <td>0.9340</td>\n",
              "      <td>0.000000</td>\n",
              "      <td>0.1200</td>\n",
              "      <td>115.284</td>\n",
              "      <td>0u2P5u6lvoDfwTYjAADbn4</td>\n",
              "      <td>0.0</td>\n",
              "      <td>0.0</td>\n",
              "      <td>2010s</td>\n",
              "    </tr>\n",
              "    <tr>\n",
              "      <th>...</th>\n",
              "      <td>...</td>\n",
              "      <td>...</td>\n",
              "      <td>...</td>\n",
              "      <td>...</td>\n",
              "      <td>...</td>\n",
              "      <td>...</td>\n",
              "      <td>...</td>\n",
              "      <td>...</td>\n",
              "      <td>...</td>\n",
              "      <td>...</td>\n",
              "      <td>...</td>\n",
              "      <td>...</td>\n",
              "    </tr>\n",
              "    <tr>\n",
              "      <th>1129</th>\n",
              "      <td>0.935</td>\n",
              "      <td>0.454</td>\n",
              "      <td>-7.509</td>\n",
              "      <td>0.3750</td>\n",
              "      <td>0.0194</td>\n",
              "      <td>0.000000</td>\n",
              "      <td>0.3570</td>\n",
              "      <td>133.073</td>\n",
              "      <td>4Oun2ylbjFKMPTiaSbbCih</td>\n",
              "      <td>0.0</td>\n",
              "      <td>1.0</td>\n",
              "      <td>2020s</td>\n",
              "    </tr>\n",
              "    <tr>\n",
              "      <th>1130</th>\n",
              "      <td>0.727</td>\n",
              "      <td>0.739</td>\n",
              "      <td>-3.805</td>\n",
              "      <td>0.0411</td>\n",
              "      <td>0.3650</td>\n",
              "      <td>0.001370</td>\n",
              "      <td>0.5330</td>\n",
              "      <td>93.005</td>\n",
              "      <td>2Xr1dTzJee307rmrkt8c0g</td>\n",
              "      <td>1.0</td>\n",
              "      <td>1.0</td>\n",
              "      <td>2020s</td>\n",
              "    </tr>\n",
              "    <tr>\n",
              "      <th>1131</th>\n",
              "      <td>0.761</td>\n",
              "      <td>0.518</td>\n",
              "      <td>-8.871</td>\n",
              "      <td>0.1340</td>\n",
              "      <td>0.2440</td>\n",
              "      <td>0.000035</td>\n",
              "      <td>0.5220</td>\n",
              "      <td>133.976</td>\n",
              "      <td>2SAqBLGA283SUiwJ3xOUVI</td>\n",
              "      <td>0.0</td>\n",
              "      <td>1.0</td>\n",
              "      <td>2020s</td>\n",
              "    </tr>\n",
              "    <tr>\n",
              "      <th>1133</th>\n",
              "      <td>0.472</td>\n",
              "      <td>0.518</td>\n",
              "      <td>-7.379</td>\n",
              "      <td>0.0510</td>\n",
              "      <td>0.3830</td>\n",
              "      <td>0.127000</td>\n",
              "      <td>0.1540</td>\n",
              "      <td>147.805</td>\n",
              "      <td>26hOm7dTtBi0TdpDGl141t</td>\n",
              "      <td>0.0</td>\n",
              "      <td>1.0</td>\n",
              "      <td>2020s</td>\n",
              "    </tr>\n",
              "    <tr>\n",
              "      <th>1134</th>\n",
              "      <td>0.731</td>\n",
              "      <td>0.573</td>\n",
              "      <td>-10.059</td>\n",
              "      <td>0.0544</td>\n",
              "      <td>0.4010</td>\n",
              "      <td>0.000052</td>\n",
              "      <td>0.1450</td>\n",
              "      <td>109.928</td>\n",
              "      <td>47EiUVwUp4C9fGccaPuUCS</td>\n",
              "      <td>0.0</td>\n",
              "      <td>0.0</td>\n",
              "      <td>2020s</td>\n",
              "    </tr>\n",
              "  </tbody>\n",
              "</table>\n",
              "<p>1102 rows × 12 columns</p>\n",
              "</div>"
            ],
            "text/plain": [
              "      danceability  energy  loudness  speechiness  acousticness  \\\n",
              "0            0.367   0.111   -14.084       0.0972        0.9780   \n",
              "1            0.369   0.272   -10.497       0.0364        0.8660   \n",
              "2            0.614   0.379   -10.480       0.0476        0.6070   \n",
              "3            0.567   0.267    -6.502       0.0299        0.8390   \n",
              "4            0.351   0.296   -10.109       0.0333        0.9340   \n",
              "...            ...     ...       ...          ...           ...   \n",
              "1129         0.935   0.454    -7.509       0.3750        0.0194   \n",
              "1130         0.727   0.739    -3.805       0.0411        0.3650   \n",
              "1131         0.761   0.518    -8.871       0.1340        0.2440   \n",
              "1133         0.472   0.518    -7.379       0.0510        0.3830   \n",
              "1134         0.731   0.573   -10.059       0.0544        0.4010   \n",
              "\n",
              "      instrumentalness  valence    tempo                      id  mood  \\\n",
              "0             0.000040   0.1980   82.642  43zdsphuZLzwA9k4DJhU0I   0.0   \n",
              "1             0.000000   0.2180  172.929  5JCoSi02qi3jJeHdZXMmR8   0.0   \n",
              "2             0.000464   0.2010  107.989  1HNkqx9Ahdgi1Ixy2xkKkL   0.0   \n",
              "3             0.000001   0.0592  110.011  1ZMiCix7XSAbfAJlEZWMCp   0.0   \n",
              "4             0.000000   0.1200  115.284  0u2P5u6lvoDfwTYjAADbn4   0.0   \n",
              "...                ...      ...      ...                     ...   ...   \n",
              "1129          0.000000   0.3570  133.073  4Oun2ylbjFKMPTiaSbbCih   0.0   \n",
              "1130          0.001370   0.5330   93.005  2Xr1dTzJee307rmrkt8c0g   1.0   \n",
              "1131          0.000035   0.5220  133.976  2SAqBLGA283SUiwJ3xOUVI   0.0   \n",
              "1133          0.127000   0.1540  147.805  26hOm7dTtBi0TdpDGl141t   0.0   \n",
              "1134          0.000052   0.1450  109.928  47EiUVwUp4C9fGccaPuUCS   0.0   \n",
              "\n",
              "      motivation release_decade  \n",
              "0            0.0          2010s  \n",
              "1            0.0          2020s  \n",
              "2            0.0          2010s  \n",
              "3            0.0          2010s  \n",
              "4            0.0          2010s  \n",
              "...          ...            ...  \n",
              "1129         1.0          2020s  \n",
              "1130         1.0          2020s  \n",
              "1131         1.0          2020s  \n",
              "1133         1.0          2020s  \n",
              "1134         0.0          2020s  \n",
              "\n",
              "[1102 rows x 12 columns]"
            ]
          },
          "execution_count": 38,
          "metadata": {},
          "output_type": "execute_result"
        }
      ],
      "source": [
        "concatenated_data = concatenated_data.drop_duplicates(subset='id', keep='first')\n",
        "concatenated_data"
      ]
    },
    {
      "cell_type": "markdown",
      "metadata": {
        "cell_id": "fadd09f164694a0990c13e022977b563",
        "deepnote_cell_type": "markdown",
        "id": "Xt37Wkuqdm5g"
      },
      "source": [
        "Comprobamos que no existan valores nulos."
      ]
    },
    {
      "cell_type": "code",
      "execution_count": null,
      "metadata": {
        "cell_id": "79e575d520c44b5698c99f616539c2c4",
        "deepnote_cell_type": "code",
        "deepnote_to_be_reexecuted": false,
        "execution_millis": 832,
        "execution_start": 1708297380727,
        "id": "cXSJZKhmdm5g",
        "outputId": "5bf3b8bf-03fd-4b54-df07-3005fe2c80a3",
        "source_hash": "a6d89c90"
      },
      "outputs": [
        {
          "data": {
            "text/plain": [
              "danceability        False\n",
              "energy              False\n",
              "loudness            False\n",
              "speechiness         False\n",
              "acousticness        False\n",
              "instrumentalness    False\n",
              "valence             False\n",
              "tempo               False\n",
              "id                  False\n",
              "mood                False\n",
              "motivation          False\n",
              "release_decade      False\n",
              "dtype: bool"
            ]
          },
          "execution_count": 39,
          "metadata": {},
          "output_type": "execute_result"
        }
      ],
      "source": [
        "concatenated_data.isnull().any()"
      ]
    },
    {
      "cell_type": "markdown",
      "metadata": {
        "cell_id": "665e6237580e405c90117a822ebb67d9",
        "deepnote_cell_type": "markdown",
        "id": "hRwuvREGdm5g"
      },
      "source": [
        "Finalmente, exportamos el csv con las canciones etiquetadas para la posterior recomendación en Streamlit."
      ]
    },
    {
      "cell_type": "code",
      "execution_count": null,
      "metadata": {
        "cell_id": "ff8ec39b102347a2beaa18e4ff138a27",
        "deepnote_cell_type": "code",
        "deepnote_to_be_reexecuted": false,
        "execution_millis": 813,
        "execution_start": 1708297380746,
        "id": "oOAF6XkXdm5g",
        "source_hash": "4329677e"
      },
      "outputs": [],
      "source": [
        "concatenated_data.to_csv('processed_songs_full.csv', index=False)"
      ]
    }
  ],
  "metadata": {
    "colab": {
      "provenance": []
    },
    "deepnote_execution_queue": [],
    "deepnote_notebook_id": "38c3ca54bc97471bb388e489d5d637be",
    "deepnote_persisted_session": {
      "createdAt": "2024-02-18T17:17:34.094Z"
    },
    "language_info": {
      "name": "python"
    }
  },
  "nbformat": 4,
  "nbformat_minor": 0
}
